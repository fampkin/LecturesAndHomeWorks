{
 "cells": [
  {
   "cell_type": "code",
   "execution_count": 1,
   "metadata": {},
   "outputs": [],
   "source": [
    "from sympy import *\n",
    "init_printing()"
   ]
  },
  {
   "cell_type": "code",
   "execution_count": 2,
   "metadata": {},
   "outputs": [
    {
     "data": {
      "text/latex": [
       "$\\displaystyle \\left[\\begin{matrix}0 & 1 & 2 & 3\\\\5 & 4 & 0 & -1\\\\3 & 2 & 0 & 3\\\\6 & 1 & -1 & 7\\end{matrix}\\right]$"
      ],
      "text/plain": [
       "⎡0  1  2   3 ⎤\n",
       "⎢            ⎥\n",
       "⎢5  4  0   -1⎥\n",
       "⎢            ⎥\n",
       "⎢3  2  0   3 ⎥\n",
       "⎢            ⎥\n",
       "⎣6  1  -1  7 ⎦"
      ]
     },
     "execution_count": 2,
     "metadata": {},
     "output_type": "execute_result"
    }
   ],
   "source": [
    "A = Matrix([[0, 1, 2, 3],\n",
    "            [5, 4, 0, -1],\n",
    "            [3, 2, 0, 3],\n",
    "            [6, 1, -1, 7]])\n",
    "A"
   ]
  },
  {
   "cell_type": "code",
   "execution_count": 5,
   "metadata": {},
   "outputs": [
    {
     "data": {
      "text/latex": [
       "$\\displaystyle \\left[\\begin{matrix}1 & 1 & 1 & 1\\\\0 & 1 & 1 & 1\\\\0 & 0 & 1 & 1\\\\0 & 0 & 0 & 1\\end{matrix}\\right]$"
      ],
      "text/plain": [
       "⎡1  1  1  1⎤\n",
       "⎢          ⎥\n",
       "⎢0  1  1  1⎥\n",
       "⎢          ⎥\n",
       "⎢0  0  1  1⎥\n",
       "⎢          ⎥\n",
       "⎣0  0  0  1⎦"
      ]
     },
     "execution_count": 5,
     "metadata": {},
     "output_type": "execute_result"
    }
   ],
   "source": [
    "T = Matrix([[1, 1, 1, 1],\n",
    "              [0, 1, 1, 1],\n",
    "              [0, 0, 1, 1],\n",
    "              [0, 0, 0, 1]])\n",
    "T"
   ]
  },
  {
   "cell_type": "code",
   "execution_count": 7,
   "metadata": {},
   "outputs": [
    {
     "data": {
      "text/latex": [
       "$\\displaystyle \\left[\\begin{matrix}1 & 0 & 0 & 0\\\\1 & 1 & 0 & 0\\\\1 & 1 & 1 & 0\\\\1 & 1 & 1 & 1\\end{matrix}\\right]$"
      ],
      "text/plain": [
       "⎡1  0  0  0⎤\n",
       "⎢          ⎥\n",
       "⎢1  1  0  0⎥\n",
       "⎢          ⎥\n",
       "⎢1  1  1  0⎥\n",
       "⎢          ⎥\n",
       "⎣1  1  1  1⎦"
      ]
     },
     "execution_count": 7,
     "metadata": {},
     "output_type": "execute_result"
    }
   ],
   "source": [
    "T_inv = T.T\n",
    "T_inv"
   ]
  },
  {
   "cell_type": "code",
   "execution_count": 9,
   "metadata": {},
   "outputs": [
    {
     "data": {
      "text/latex": [
       "$\\displaystyle \\left[\\begin{matrix}0 & 1 & 3 & 6\\\\5 & 10 & 12 & 14\\\\8 & 15 & 17 & 22\\\\14 & 22 & 23 & 35\\end{matrix}\\right]$"
      ],
      "text/plain": [
       "⎡0   1   3   6 ⎤\n",
       "⎢              ⎥\n",
       "⎢5   10  12  14⎥\n",
       "⎢              ⎥\n",
       "⎢8   15  17  22⎥\n",
       "⎢              ⎥\n",
       "⎣14  22  23  35⎦"
      ]
     },
     "execution_count": 9,
     "metadata": {},
     "output_type": "execute_result"
    }
   ],
   "source": [
    "A_prime = T_inv * A * T\n",
    "A_prime"
   ]
  },
  {
   "cell_type": "code",
   "execution_count": 11,
   "metadata": {},
   "outputs": [
    {
     "data": {
      "text/latex": [
       "$\\displaystyle \\left[\\begin{matrix}1 & 2 & 2\\\\3 & -1 & -2\\\\2 & -3 & 1\\end{matrix}\\right]$"
      ],
      "text/plain": [
       "⎡1  2   2 ⎤\n",
       "⎢         ⎥\n",
       "⎢3  -1  -2⎥\n",
       "⎢         ⎥\n",
       "⎣2  -3  1 ⎦"
      ]
     },
     "execution_count": 11,
     "metadata": {},
     "output_type": "execute_result"
    }
   ],
   "source": [
    "from sympy import Matrix\n",
    "\n",
    "# Задаём старый базис e' и новый базис e'' в стандартном базисе R^3\n",
    "E_prime = Matrix([[8, -16, 9], \n",
    "                  [-6, 7, -3], \n",
    "                  [7, -13, 7]])\n",
    "\n",
    "E_double_prime = Matrix([[1, 3, 2],\n",
    "                         [-2, -1, 1],\n",
    "                         [1, 2, 2]])\n",
    "\n",
    "# Находим матрицу перехода T от старого базиса (e') к новому базису (e'')\n",
    "T = E_prime.inv() * E_double_prime\n",
    "\n",
    "# Матрица оператора в старом базисе A'\n",
    "A_prime = Matrix([[1, -18, 15], \n",
    "                  [-1, -22, 20], \n",
    "                  [1, -25, 22]])\n",
    "\n",
    "# Найдём матрицу оператора в новом базисе: A'' = T^(-1) * A' * T\n",
    "A_double_prime = T.inv() * A_prime * T\n",
    "\n",
    "A_double_prime\n"
   ]
  },
  {
   "cell_type": "code",
   "execution_count": null,
   "metadata": {},
   "outputs": [],
   "source": []
  },
  {
   "cell_type": "markdown",
   "metadata": {},
   "source": [
    "Чтобы найти собственные значения матрицы \n",
    "𝐴\n",
    "A, необходимо решить характеристическое уравнение:\n",
    "\n",
    "det\n",
    "⁡\n",
    "(\n",
    "𝐴\n",
    "-\n",
    "𝜆\n",
    "𝐼\n",
    ") = 0\n",
    "\n",
    "где:\n",
    "\n",
    "𝐴 — исходная матрица,\n",
    "𝜆 — собственное значение (неизвестное),\n",
    "𝐼 — единичная матрица того же порядка, что и \n",
    "A."
   ]
  },
  {
   "cell_type": "markdown",
   "metadata": {},
   "source": [
    "(A-λI)v=0,\n",
    "где \n",
    "A — матрица оператора, \n",
    "λ — собственное значение, \n",
    "𝐼 — единичная матрица, \n",
    "𝑣  — искомый собственный вектор."
   ]
  },
  {
   "cell_type": "markdown",
   "metadata": {},
   "source": [
    "# 11.3"
   ]
  },
  {
   "cell_type": "code",
   "execution_count": 78,
   "metadata": {},
   "outputs": [],
   "source": [
    "from sympy import *\n",
    "init_printing()\n",
    "\n",
    "\n",
    "\n",
    "def eleven_dot_three(matrix: Matrix):\n",
    "\n",
    "    eigenvals = A.eigenvals()\n",
    "        \n",
    "    eigenvects = A.eigenvects()\n",
    "\n",
    "    count = 0\n",
    "    \n",
    "    C = Matrix()\n",
    "    \n",
    "    for val, alg_mult, vects in eigenvects:\n",
    "        all_vects = vects\n",
    "        if alg_mult == len(vects):\n",
    "            count += 1\n",
    "            for vect in vects:\n",
    "                C = C.row_join(vect)\n",
    "                \n",
    "    print(\"\\nВсе собственные значения и их алг. кратность\")\n",
    "    display(eigenvals)\n",
    "    print(\"\\nВсе собственные векторы\")\n",
    "    display(all_vects)\n",
    "    print('Матрица перехода:')\n",
    "    display(C)\n",
    "\n",
    "    if len(eigenvals) == count:\n",
    "        print(\"\\nМатрица диагонализируема.\\n\")\n",
    "        D = C.inv() * A * C\n",
    "        print('Диагональная матрица:')\n",
    "        display(D)        \n",
    "    else:\n",
    "        print(\"\\nМатрица не диагонализируема.\\n\")\n",
    "        \n",
    "    \n",
    "    \n",
    "    \n",
    "\n",
    "# eigenvects"
   ]
  },
  {
   "cell_type": "markdown",
   "metadata": {},
   "source": [
    "## A"
   ]
  },
  {
   "cell_type": "code",
   "execution_count": 79,
   "metadata": {},
   "outputs": [
    {
     "name": "stdout",
     "output_type": "stream",
     "text": [
      "\n",
      "Все собственные значения и их алг. кратность\n"
     ]
    },
    {
     "data": {
      "text/latex": [
       "$\\displaystyle \\left\\{ -1 : 1, \\  1 : 2\\right\\}$"
      ],
      "text/plain": [
       "{-1: 1, 1: 2}"
      ]
     },
     "metadata": {},
     "output_type": "display_data"
    },
    {
     "name": "stdout",
     "output_type": "stream",
     "text": [
      "\n",
      "Все собственные векторы\n"
     ]
    },
    {
     "data": {
      "text/latex": [
       "$\\displaystyle \\left[ \\left[\\begin{matrix}2\\\\1\\\\0\\end{matrix}\\right], \\  \\left[\\begin{matrix}-1\\\\0\\\\1\\end{matrix}\\right]\\right]$"
      ],
      "text/plain": [
       "⎡⎡2⎤  ⎡-1⎤⎤\n",
       "⎢⎢ ⎥  ⎢  ⎥⎥\n",
       "⎢⎢1⎥, ⎢0 ⎥⎥\n",
       "⎢⎢ ⎥  ⎢  ⎥⎥\n",
       "⎣⎣0⎦  ⎣1 ⎦⎦"
      ]
     },
     "metadata": {},
     "output_type": "display_data"
    },
    {
     "name": "stdout",
     "output_type": "stream",
     "text": [
      "Матрица перехода:\n"
     ]
    },
    {
     "data": {
      "text/latex": [
       "$\\displaystyle \\left[\\begin{matrix}\\frac{1}{2} & 2 & -1\\\\\\frac{5}{6} & 1 & 0\\\\1 & 0 & 1\\end{matrix}\\right]$"
      ],
      "text/plain": [
       "⎡1/2  2  -1⎤\n",
       "⎢          ⎥\n",
       "⎢5/6  1  0 ⎥\n",
       "⎢          ⎥\n",
       "⎣ 1   0  1 ⎦"
      ]
     },
     "metadata": {},
     "output_type": "display_data"
    },
    {
     "name": "stdout",
     "output_type": "stream",
     "text": [
      "\n",
      "Матрица диагонализируема.\n",
      "\n",
      "Диагональная матрица:\n"
     ]
    },
    {
     "data": {
      "text/latex": [
       "$\\displaystyle \\left[\\begin{matrix}-1 & 0 & 0\\\\0 & 1 & 0\\\\0 & 0 & 1\\end{matrix}\\right]$"
      ],
      "text/plain": [
       "⎡-1  0  0⎤\n",
       "⎢        ⎥\n",
       "⎢0   1  0⎥\n",
       "⎢        ⎥\n",
       "⎣0   0  1⎦"
      ]
     },
     "metadata": {},
     "output_type": "display_data"
    }
   ],
   "source": [
    "A = Matrix([\n",
    "    [7, -12, 6],\n",
    "    [10, -19, 10],\n",
    "    [12, -24, 13]\n",
    "])\n",
    "\n",
    "eleven_dot_three(A)"
   ]
  },
  {
   "cell_type": "markdown",
   "metadata": {},
   "source": [
    "## B\n"
   ]
  },
  {
   "cell_type": "code",
   "execution_count": 80,
   "metadata": {},
   "outputs": [
    {
     "name": "stdout",
     "output_type": "stream",
     "text": [
      "\n",
      "Все собственные значения и их алг. кратность\n"
     ]
    },
    {
     "data": {
      "text/latex": [
       "$\\displaystyle \\left\\{ 0 : 2, \\  1 : 1\\right\\}$"
      ],
      "text/plain": [
       "{0: 2, 1: 1}"
      ]
     },
     "metadata": {},
     "output_type": "display_data"
    },
    {
     "name": "stdout",
     "output_type": "stream",
     "text": [
      "\n",
      "Все собственные векторы\n"
     ]
    },
    {
     "data": {
      "text/latex": [
       "$\\displaystyle \\left[ \\left[\\begin{matrix}1\\\\1\\\\1\\end{matrix}\\right]\\right]$"
      ],
      "text/plain": [
       "⎡⎡1⎤⎤\n",
       "⎢⎢ ⎥⎥\n",
       "⎢⎢1⎥⎥\n",
       "⎢⎢ ⎥⎥\n",
       "⎣⎣1⎦⎦"
      ]
     },
     "metadata": {},
     "output_type": "display_data"
    },
    {
     "name": "stdout",
     "output_type": "stream",
     "text": [
      "Матрица перехода:\n"
     ]
    },
    {
     "data": {
      "text/latex": [
       "$\\displaystyle \\left[\\begin{matrix}1\\\\1\\\\1\\end{matrix}\\right]$"
      ],
      "text/plain": [
       "⎡1⎤\n",
       "⎢ ⎥\n",
       "⎢1⎥\n",
       "⎢ ⎥\n",
       "⎣1⎦"
      ]
     },
     "metadata": {},
     "output_type": "display_data"
    },
    {
     "name": "stdout",
     "output_type": "stream",
     "text": [
      "\n",
      "Матрица не диагонализируема.\n",
      "\n"
     ]
    }
   ],
   "source": [
    "A = Matrix([[4, 2, -5],\n",
    "            [6, 4, -9],\n",
    "            [5, 3, -7]])\n",
    "eleven_dot_three(A)"
   ]
  },
  {
   "cell_type": "markdown",
   "metadata": {},
   "source": [
    "# C"
   ]
  },
  {
   "cell_type": "code",
   "execution_count": 81,
   "metadata": {},
   "outputs": [
    {
     "name": "stdout",
     "output_type": "stream",
     "text": [
      "\n",
      "Все собственные значения и их алг. кратность\n"
     ]
    },
    {
     "data": {
      "text/latex": [
       "$\\displaystyle \\left\\{ -2 : 1, \\  2 : 3\\right\\}$"
      ],
      "text/plain": [
       "{-2: 1, 2: 3}"
      ]
     },
     "metadata": {},
     "output_type": "display_data"
    },
    {
     "name": "stdout",
     "output_type": "stream",
     "text": [
      "\n",
      "Все собственные векторы\n"
     ]
    },
    {
     "data": {
      "text/latex": [
       "$\\displaystyle \\left[ \\left[\\begin{matrix}1\\\\1\\\\0\\\\0\\end{matrix}\\right], \\  \\left[\\begin{matrix}1\\\\0\\\\1\\\\0\\end{matrix}\\right], \\  \\left[\\begin{matrix}1\\\\0\\\\0\\\\1\\end{matrix}\\right]\\right]$"
      ],
      "text/plain": [
       "⎡⎡1⎤  ⎡1⎤  ⎡1⎤⎤\n",
       "⎢⎢ ⎥  ⎢ ⎥  ⎢ ⎥⎥\n",
       "⎢⎢1⎥  ⎢0⎥  ⎢0⎥⎥\n",
       "⎢⎢ ⎥, ⎢ ⎥, ⎢ ⎥⎥\n",
       "⎢⎢0⎥  ⎢1⎥  ⎢0⎥⎥\n",
       "⎢⎢ ⎥  ⎢ ⎥  ⎢ ⎥⎥\n",
       "⎣⎣0⎦  ⎣0⎦  ⎣1⎦⎦"
      ]
     },
     "metadata": {},
     "output_type": "display_data"
    },
    {
     "name": "stdout",
     "output_type": "stream",
     "text": [
      "Матрица перехода:\n"
     ]
    },
    {
     "data": {
      "text/latex": [
       "$\\displaystyle \\left[\\begin{matrix}-1 & 1 & 1 & 1\\\\1 & 1 & 0 & 0\\\\1 & 0 & 1 & 0\\\\1 & 0 & 0 & 1\\end{matrix}\\right]$"
      ],
      "text/plain": [
       "⎡-1  1  1  1⎤\n",
       "⎢           ⎥\n",
       "⎢1   1  0  0⎥\n",
       "⎢           ⎥\n",
       "⎢1   0  1  0⎥\n",
       "⎢           ⎥\n",
       "⎣1   0  0  1⎦"
      ]
     },
     "metadata": {},
     "output_type": "display_data"
    },
    {
     "name": "stdout",
     "output_type": "stream",
     "text": [
      "\n",
      "Матрица диагонализируема.\n",
      "\n",
      "Диагональная матрица:\n"
     ]
    },
    {
     "data": {
      "text/latex": [
       "$\\displaystyle \\left[\\begin{matrix}-2 & 0 & 0 & 0\\\\0 & 2 & 0 & 0\\\\0 & 0 & 2 & 0\\\\0 & 0 & 0 & 2\\end{matrix}\\right]$"
      ],
      "text/plain": [
       "⎡-2  0  0  0⎤\n",
       "⎢           ⎥\n",
       "⎢0   2  0  0⎥\n",
       "⎢           ⎥\n",
       "⎢0   0  2  0⎥\n",
       "⎢           ⎥\n",
       "⎣0   0  0  2⎦"
      ]
     },
     "metadata": {},
     "output_type": "display_data"
    }
   ],
   "source": [
    "A = Matrix([[1, 1, 1, 1],\n",
    "[1, 1, -1, -1],\n",
    "[1, -1, 1, -1],\n",
    "[1, -1, -1, 1]])\n",
    "eleven_dot_three(A)"
   ]
  },
  {
   "cell_type": "code",
   "execution_count": null,
   "metadata": {},
   "outputs": [],
   "source": []
  }
 ],
 "metadata": {
  "kernelspec": {
   "display_name": "Python 3",
   "language": "python",
   "name": "python3"
  },
  "language_info": {
   "codemirror_mode": {
    "name": "ipython",
    "version": 3
   },
   "file_extension": ".py",
   "mimetype": "text/x-python",
   "name": "python",
   "nbconvert_exporter": "python",
   "pygments_lexer": "ipython3",
   "version": "3.12.0"
  }
 },
 "nbformat": 4,
 "nbformat_minor": 2
}
