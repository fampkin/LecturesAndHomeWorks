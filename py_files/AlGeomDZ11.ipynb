{
 "cells": [
  {
   "cell_type": "code",
   "execution_count": 1,
   "metadata": {},
   "outputs": [],
   "source": [
    "from sympy import *\n",
    "init_printing()"
   ]
  },
  {
   "cell_type": "code",
   "execution_count": 2,
   "metadata": {},
   "outputs": [
    {
     "data": {
      "text/latex": [
       "$\\displaystyle \\left[\\begin{matrix}0 & 1 & 2 & 3\\\\5 & 4 & 0 & -1\\\\3 & 2 & 0 & 3\\\\6 & 1 & -1 & 7\\end{matrix}\\right]$"
      ],
      "text/plain": [
       "⎡0  1  2   3 ⎤\n",
       "⎢            ⎥\n",
       "⎢5  4  0   -1⎥\n",
       "⎢            ⎥\n",
       "⎢3  2  0   3 ⎥\n",
       "⎢            ⎥\n",
       "⎣6  1  -1  7 ⎦"
      ]
     },
     "execution_count": 2,
     "metadata": {},
     "output_type": "execute_result"
    }
   ],
   "source": [
    "A = Matrix([[0, 1, 2, 3],\n",
    "            [5, 4, 0, -1],\n",
    "            [3, 2, 0, 3],\n",
    "            [6, 1, -1, 7]])\n",
    "A"
   ]
  },
  {
   "cell_type": "code",
   "execution_count": 5,
   "metadata": {},
   "outputs": [
    {
     "data": {
      "text/latex": [
       "$\\displaystyle \\left[\\begin{matrix}1 & 1 & 1 & 1\\\\0 & 1 & 1 & 1\\\\0 & 0 & 1 & 1\\\\0 & 0 & 0 & 1\\end{matrix}\\right]$"
      ],
      "text/plain": [
       "⎡1  1  1  1⎤\n",
       "⎢          ⎥\n",
       "⎢0  1  1  1⎥\n",
       "⎢          ⎥\n",
       "⎢0  0  1  1⎥\n",
       "⎢          ⎥\n",
       "⎣0  0  0  1⎦"
      ]
     },
     "execution_count": 5,
     "metadata": {},
     "output_type": "execute_result"
    }
   ],
   "source": [
    "T = Matrix([[1, 1, 1, 1],\n",
    "              [0, 1, 1, 1],\n",
    "              [0, 0, 1, 1],\n",
    "              [0, 0, 0, 1]])\n",
    "T"
   ]
  },
  {
   "cell_type": "code",
   "execution_count": 7,
   "metadata": {},
   "outputs": [
    {
     "data": {
      "text/latex": [
       "$\\displaystyle \\left[\\begin{matrix}1 & 0 & 0 & 0\\\\1 & 1 & 0 & 0\\\\1 & 1 & 1 & 0\\\\1 & 1 & 1 & 1\\end{matrix}\\right]$"
      ],
      "text/plain": [
       "⎡1  0  0  0⎤\n",
       "⎢          ⎥\n",
       "⎢1  1  0  0⎥\n",
       "⎢          ⎥\n",
       "⎢1  1  1  0⎥\n",
       "⎢          ⎥\n",
       "⎣1  1  1  1⎦"
      ]
     },
     "execution_count": 7,
     "metadata": {},
     "output_type": "execute_result"
    }
   ],
   "source": [
    "T_inv = T.T\n",
    "T_inv"
   ]
  },
  {
   "cell_type": "code",
   "execution_count": 9,
   "metadata": {},
   "outputs": [
    {
     "data": {
      "text/latex": [
       "$\\displaystyle \\left[\\begin{matrix}0 & 1 & 3 & 6\\\\5 & 10 & 12 & 14\\\\8 & 15 & 17 & 22\\\\14 & 22 & 23 & 35\\end{matrix}\\right]$"
      ],
      "text/plain": [
       "⎡0   1   3   6 ⎤\n",
       "⎢              ⎥\n",
       "⎢5   10  12  14⎥\n",
       "⎢              ⎥\n",
       "⎢8   15  17  22⎥\n",
       "⎢              ⎥\n",
       "⎣14  22  23  35⎦"
      ]
     },
     "execution_count": 9,
     "metadata": {},
     "output_type": "execute_result"
    }
   ],
   "source": [
    "A_prime = T_inv * A * T\n",
    "A_prime"
   ]
  },
  {
   "cell_type": "code",
   "execution_count": 11,
   "metadata": {},
   "outputs": [
    {
     "data": {
      "text/latex": [
       "$\\displaystyle \\left[\\begin{matrix}1 & 2 & 2\\\\3 & -1 & -2\\\\2 & -3 & 1\\end{matrix}\\right]$"
      ],
      "text/plain": [
       "⎡1  2   2 ⎤\n",
       "⎢         ⎥\n",
       "⎢3  -1  -2⎥\n",
       "⎢         ⎥\n",
       "⎣2  -3  1 ⎦"
      ]
     },
     "execution_count": 11,
     "metadata": {},
     "output_type": "execute_result"
    }
   ],
   "source": [
    "from sympy import Matrix\n",
    "\n",
    "# Задаём старый базис e' и новый базис e'' в стандартном базисе R^3\n",
    "E_prime = Matrix([[8, -16, 9], \n",
    "                  [-6, 7, -3], \n",
    "                  [7, -13, 7]])\n",
    "\n",
    "E_double_prime = Matrix([[1, 3, 2],\n",
    "                         [-2, -1, 1],\n",
    "                         [1, 2, 2]])\n",
    "\n",
    "# Находим матрицу перехода T от старого базиса (e') к новому базису (e'')\n",
    "T = E_prime.inv() * E_double_prime\n",
    "\n",
    "# Матрица оператора в старом базисе A'\n",
    "A_prime = Matrix([[1, -18, 15], \n",
    "                  [-1, -22, 20], \n",
    "                  [1, -25, 22]])\n",
    "\n",
    "# Найдём матрицу оператора в новом базисе: A'' = T^(-1) * A' * T\n",
    "A_double_prime = T.inv() * A_prime * T\n",
    "\n",
    "A_double_prime\n"
   ]
  },
  {
   "cell_type": "code",
   "execution_count": null,
   "metadata": {},
   "outputs": [],
   "source": []
  }
 ],
 "metadata": {
  "kernelspec": {
   "display_name": "Python 3",
   "language": "python",
   "name": "python3"
  },
  "language_info": {
   "codemirror_mode": {
    "name": "ipython",
    "version": 3
   },
   "file_extension": ".py",
   "mimetype": "text/x-python",
   "name": "python",
   "nbconvert_exporter": "python",
   "pygments_lexer": "ipython3",
   "version": "3.12.0"
  }
 },
 "nbformat": 4,
 "nbformat_minor": 2
}
