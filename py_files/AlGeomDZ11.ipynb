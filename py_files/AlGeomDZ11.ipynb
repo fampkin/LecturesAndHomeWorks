{
 "cells": [
  {
   "cell_type": "code",
   "execution_count": 8,
   "metadata": {},
   "outputs": [],
   "source": [
    "from sympy import *\n",
    "init_printing()"
   ]
  },
  {
   "cell_type": "code",
   "execution_count": 9,
   "metadata": {},
   "outputs": [
    {
     "data": {
      "text/latex": [
       "$\\displaystyle \\left[\\begin{matrix}0 & 1 & 2 & 3\\\\5 & 4 & 0 & -1\\\\3 & 2 & 0 & 3\\\\6 & 1 & -1 & 7\\end{matrix}\\right]$"
      ],
      "text/plain": [
       "⎡0  1  2   3 ⎤\n",
       "⎢            ⎥\n",
       "⎢5  4  0   -1⎥\n",
       "⎢            ⎥\n",
       "⎢3  2  0   3 ⎥\n",
       "⎢            ⎥\n",
       "⎣6  1  -1  7 ⎦"
      ]
     },
     "execution_count": 9,
     "metadata": {},
     "output_type": "execute_result"
    }
   ],
   "source": [
    "A = Matrix([[0, 1, 2, 3],\n",
    "            [5, 4, 0, -1],\n",
    "            [3, 2, 0, 3],\n",
    "            [6, 1, -1, 7]])\n",
    "A"
   ]
  },
  {
   "cell_type": "code",
   "execution_count": 15,
   "metadata": {},
   "outputs": [
    {
     "data": {
      "text/latex": [
       "$\\displaystyle \\left[\\begin{matrix}1 & 1 & 1 & 1\\\\0 & 1 & 1 & 1\\\\0 & 0 & 1 & 1\\\\0 & 0 & 0 & 1\\end{matrix}\\right]$"
      ],
      "text/plain": [
       "⎡1  1  1  1⎤\n",
       "⎢          ⎥\n",
       "⎢0  1  1  1⎥\n",
       "⎢          ⎥\n",
       "⎢0  0  1  1⎥\n",
       "⎢          ⎥\n",
       "⎣0  0  0  1⎦"
      ]
     },
     "execution_count": 15,
     "metadata": {},
     "output_type": "execute_result"
    }
   ],
   "source": [
    "C = Matrix([[1, 1, 1, 1],\n",
    "              [0, 1, 1, 1],\n",
    "              [0, 0, 1, 1],\n",
    "              [0, 0, 0, 1]])\n",
    "C"
   ]
  },
  {
   "cell_type": "code",
   "execution_count": 17,
   "metadata": {},
   "outputs": [
    {
     "data": {
      "text/latex": [
       "$\\displaystyle \\left[\\begin{matrix}1 & -1 & 0 & 0\\\\0 & 1 & -1 & 0\\\\0 & 0 & 1 & -1\\\\0 & 0 & 0 & 1\\end{matrix}\\right]$"
      ],
      "text/plain": [
       "⎡1  -1  0   0 ⎤\n",
       "⎢             ⎥\n",
       "⎢0  1   -1  0 ⎥\n",
       "⎢             ⎥\n",
       "⎢0  0   1   -1⎥\n",
       "⎢             ⎥\n",
       "⎣0  0   0   1 ⎦"
      ]
     },
     "execution_count": 17,
     "metadata": {},
     "output_type": "execute_result"
    }
   ],
   "source": [
    "C_inv = C.inv()\n",
    "C_inv"
   ]
  },
  {
   "cell_type": "code",
   "execution_count": 18,
   "metadata": {},
   "outputs": [
    {
     "data": {
      "text/latex": [
       "$\\displaystyle \\left[\\begin{matrix}-5 & -8 & -6 & -2\\\\2 & 4 & 4 & 0\\\\-3 & -2 & -1 & -5\\\\6 & 7 & 6 & 13\\end{matrix}\\right]$"
      ],
      "text/plain": [
       "⎡-5  -8  -6  -2⎤\n",
       "⎢              ⎥\n",
       "⎢2   4   4   0 ⎥\n",
       "⎢              ⎥\n",
       "⎢-3  -2  -1  -5⎥\n",
       "⎢              ⎥\n",
       "⎣6   7   6   13⎦"
      ]
     },
     "execution_count": 18,
     "metadata": {},
     "output_type": "execute_result"
    }
   ],
   "source": [
    "A_prime = C_inv * A * C\n",
    "A_prime"
   ]
  },
  {
   "cell_type": "code",
   "execution_count": null,
   "metadata": {},
   "outputs": [
    {
     "data": {
      "text/latex": [
       "$\\displaystyle \\left[\\begin{matrix}1 & 2 & 2\\\\3 & -1 & -2\\\\2 & -3 & 1\\end{matrix}\\right]$"
      ],
      "text/plain": [
       "⎡1  2   2 ⎤\n",
       "⎢         ⎥\n",
       "⎢3  -1  -2⎥\n",
       "⎢         ⎥\n",
       "⎣2  -3  1 ⎦"
      ]
     },
     "execution_count": 13,
     "metadata": {},
     "output_type": "execute_result"
    }
   ],
   "source": [
    "from sympy import Matrix\n",
    "\n",
    "E_prime = Matrix([[8, -16, 9], \n",
    "                  [-6, 7, -3], \n",
    "                  [7, -13, 7]])\n",
    "\n",
    "E_double_prime = Matrix([[1, 3, 2],\n",
    "                         [-2, -1, 1],\n",
    "                         [1, 2, 2]])\n",
    "\n",
    "C = E_prime.inv() * E_double_prime\n",
    "\n",
    "A_prime = Matrix([[1, -18, 15], \n",
    "                  [-1, -22, 20], \n",
    "                  [1, -25, 22]])\n",
    "\n",
    "A_double_prime = C.inv() * A_prime * C\n",
    "\n",
    "A_double_prime\n"
   ]
  },
  {
   "cell_type": "code",
   "execution_count": null,
   "metadata": {},
   "outputs": [],
   "source": []
  },
  {
   "cell_type": "markdown",
   "metadata": {},
   "source": [
    "Чтобы найти собственные значения матрицы \n",
    "𝐴\n",
    "A, необходимо решить характеристическое уравнение:\n",
    "\n",
    "det\n",
    "⁡\n",
    "(\n",
    "𝐴\n",
    "-\n",
    "𝜆\n",
    "𝐼\n",
    ") = 0\n",
    "\n",
    "где:\n",
    "\n",
    "𝐴 — исходная матрица,\n",
    "𝜆 — собственное значение (неизвестное),\n",
    "𝐼 — единичная матрица того же порядка, что и \n",
    "A."
   ]
  },
  {
   "cell_type": "markdown",
   "metadata": {},
   "source": [
    "(A-λI)v=0,\n",
    "где \n",
    "A — матрица оператора, \n",
    "λ — собственное значение, \n",
    "𝐼 — единичная матрица, \n",
    "𝑣  — искомый собственный вектор."
   ]
  },
  {
   "cell_type": "markdown",
   "metadata": {},
   "source": [
    "# 11.3"
   ]
  },
  {
   "cell_type": "code",
   "execution_count": 1,
   "metadata": {},
   "outputs": [],
   "source": [
    "from sympy import *\n",
    "import numpy as np\n",
    "init_printing()\n",
    "\n",
    "\n",
    "\n",
    "def eleven_dot_three(matrix: Matrix):\n",
    "\n",
    "    eigenvals = A.eigenvals()\n",
    "        \n",
    "    eigenvects = A.eigenvects()\n",
    "\n",
    "    count = 0\n",
    "    \n",
    "    C = Matrix()\n",
    "    \n",
    "    for val, alg_mult, vects in eigenvects:\n",
    "        all_vects = vects\n",
    "        if alg_mult == len(vects):\n",
    "            count += 1\n",
    "            for vect in vects:\n",
    "                C = C.row_join(vect)\n",
    "                \n",
    "    print(\"\\nВсе собственные значения и их алг. кратность\")\n",
    "    display(eigenvals)\n",
    "    print(\"\\nВсе собственные векторы\")\n",
    "    display(all_vects)\n",
    "    print('Матрица перехода:')\n",
    "    display(C)\n",
    "\n",
    "    if len(eigenvals) == count:\n",
    "        print(\"\\nМатрица диагонализируема.\\n\")\n",
    "        D = C.inv() * A * C\n",
    "        print('Диагональная матрица:')\n",
    "        display(D)        \n",
    "    else:\n",
    "        print(\"\\nМатрица не диагонализируема.\\n\")\n",
    "        \n",
    "    \n",
    "    \n",
    "    \n",
    "\n",
    "# eigenvects"
   ]
  },
  {
   "cell_type": "markdown",
   "metadata": {},
   "source": [
    "## A"
   ]
  },
  {
   "cell_type": "code",
   "execution_count": 2,
   "metadata": {},
   "outputs": [
    {
     "name": "stdout",
     "output_type": "stream",
     "text": [
      "\n",
      "Все собственные значения и их алг. кратность\n"
     ]
    },
    {
     "name": "stderr",
     "output_type": "stream",
     "text": [
      "/home/fampkin/.local/lib/python3.10/site-packages/matplotlib/projections/__init__.py:63: UserWarning: Unable to import Axes3D. This may be due to multiple versions of Matplotlib being installed (e.g. as a system package and as a pip package). As a result, the 3D projection is not available.\n",
      "  warnings.warn(\"Unable to import Axes3D. This may be due to multiple versions of \"\n"
     ]
    },
    {
     "data": {
      "image/png": "[encoded data removed]",
      "text/latex": [
       "$\\displaystyle \\left\\{ -1 : 1, \\  1 : 2\\right\\}$"
      ],
      "text/plain": [
       "{-1: 1, 1: 2}"
      ]
     },
     "metadata": {},
     "output_type": "display_data"
    },
    {
     "name": "stdout",
     "output_type": "stream",
     "text": [
      "\n",
      "Все собственные векторы\n"
     ]
    },
    {
     "data": {
      "text/latex": [
       "$\\displaystyle \\left[ \\left[\\begin{matrix}2\\\\1\\\\0\\end{matrix}\\right], \\  \\left[\\begin{matrix}-1\\\\0\\\\1\\end{matrix}\\right]\\right]$"
      ],
      "text/plain": [
       "⎡⎡2⎤  ⎡-1⎤⎤\n",
       "⎢⎢ ⎥  ⎢  ⎥⎥\n",
       "⎢⎢1⎥, ⎢0 ⎥⎥\n",
       "⎢⎢ ⎥  ⎢  ⎥⎥\n",
       "⎣⎣0⎦  ⎣1 ⎦⎦"
      ]
     },
     "metadata": {},
     "output_type": "display_data"
    },
    {
     "name": "stdout",
     "output_type": "stream",
     "text": [
      "Матрица перехода:\n"
     ]
    },
    {
     "data": {
      "text/latex": [
       "$\\displaystyle \\left[\\begin{matrix}\\frac{1}{2} & 2 & -1\\\\\\frac{5}{6} & 1 & 0\\\\1 & 0 & 1\\end{matrix}\\right]$"
      ],
      "text/plain": [
       "⎡1/2  2  -1⎤\n",
       "⎢          ⎥\n",
       "⎢5/6  1  0 ⎥\n",
       "⎢          ⎥\n",
       "⎣ 1   0  1 ⎦"
      ]
     },
     "metadata": {},
     "output_type": "display_data"
    },
    {
     "name": "stdout",
     "output_type": "stream",
     "text": [
      "\n",
      "Матрица диагонализируема.\n",
      "\n",
      "Диагональная матрица:\n"
     ]
    },
    {
     "data": {
      "text/latex": [
       "$\\displaystyle \\left[\\begin{matrix}-1 & 0 & 0\\\\0 & 1 & 0\\\\0 & 0 & 1\\end{matrix}\\right]$"
      ],
      "text/plain": [
       "⎡-1  0  0⎤\n",
       "⎢        ⎥\n",
       "⎢0   1  0⎥\n",
       "⎢        ⎥\n",
       "⎣0   0  1⎦"
      ]
     },
     "metadata": {},
     "output_type": "display_data"
    }
   ],
   "source": [
    "A = Matrix([\n",
    "    [7, -12, 6],\n",
    "    [10, -19, 10],\n",
    "    [12, -24, 13]\n",
    "])\n",
    "\n",
    "eleven_dot_three(A)"
   ]
  },
  {
   "cell_type": "markdown",
   "metadata": {},
   "source": [
    "## B\n"
   ]
  },
  {
   "cell_type": "code",
   "execution_count": 3,
   "metadata": {},
   "outputs": [
    {
     "name": "stdout",
     "output_type": "stream",
     "text": [
      "\n",
      "Все собственные значения и их алг. кратность\n"
     ]
    },
    {
     "data": {
      "image/png": "[encoded data removed]",
      "text/latex": [
       "$\\displaystyle \\left\\{ 0 : 2, \\  1 : 1\\right\\}$"
      ],
      "text/plain": [
       "{0: 2, 1: 1}"
      ]
     },
     "metadata": {},
     "output_type": "display_data"
    },
    {
     "name": "stdout",
     "output_type": "stream",
     "text": [
      "\n",
      "Все собственные векторы\n"
     ]
    },
    {
     "data": {
      "text/latex": [
       "$\\displaystyle \\left[ \\left[\\begin{matrix}1\\\\1\\\\1\\end{matrix}\\right]\\right]$"
      ],
      "text/plain": [
       "⎡⎡1⎤⎤\n",
       "⎢⎢ ⎥⎥\n",
       "⎢⎢1⎥⎥\n",
       "⎢⎢ ⎥⎥\n",
       "⎣⎣1⎦⎦"
      ]
     },
     "metadata": {},
     "output_type": "display_data"
    },
    {
     "name": "stdout",
     "output_type": "stream",
     "text": [
      "Матрица перехода:\n"
     ]
    },
    {
     "data": {
      "text/latex": [
       "$\\displaystyle \\left[\\begin{matrix}1\\\\1\\\\1\\end{matrix}\\right]$"
      ],
      "text/plain": [
       "⎡1⎤\n",
       "⎢ ⎥\n",
       "⎢1⎥\n",
       "⎢ ⎥\n",
       "⎣1⎦"
      ]
     },
     "metadata": {},
     "output_type": "display_data"
    },
    {
     "name": "stdout",
     "output_type": "stream",
     "text": [
      "\n",
      "Матрица не диагонализируема.\n",
      "\n"
     ]
    }
   ],
   "source": [
    "A = Matrix([[4, 2, -5],\n",
    "            [6, 4, -9],\n",
    "            [5, 3, -7]])\n",
    "eleven_dot_three(A)"
   ]
  },
  {
   "cell_type": "markdown",
   "metadata": {},
   "source": [
    "# C"
   ]
  },
  {
   "cell_type": "code",
   "execution_count": 4,
   "metadata": {},
   "outputs": [
    {
     "name": "stdout",
     "output_type": "stream",
     "text": [
      "\n",
      "Все собственные значения и их алг. кратность\n"
     ]
    },
    {
     "data": {
      "image/png": "[encoded data removed]",
      "text/latex": [
       "$\\displaystyle \\left\\{ -2 : 1, \\  2 : 3\\right\\}$"
      ],
      "text/plain": [
       "{-2: 1, 2: 3}"
      ]
     },
     "metadata": {},
     "output_type": "display_data"
    },
    {
     "name": "stdout",
     "output_type": "stream",
     "text": [
      "\n",
      "Все собственные векторы\n"
     ]
    },
    {
     "data": {
      "text/latex": [
       "$\\displaystyle \\left[ \\left[\\begin{matrix}1\\\\1\\\\0\\\\0\\end{matrix}\\right], \\  \\left[\\begin{matrix}1\\\\0\\\\1\\\\0\\end{matrix}\\right], \\  \\left[\\begin{matrix}1\\\\0\\\\0\\\\1\\end{matrix}\\right]\\right]$"
      ],
      "text/plain": [
       "⎡⎡1⎤  ⎡1⎤  ⎡1⎤⎤\n",
       "⎢⎢ ⎥  ⎢ ⎥  ⎢ ⎥⎥\n",
       "⎢⎢1⎥  ⎢0⎥  ⎢0⎥⎥\n",
       "⎢⎢ ⎥, ⎢ ⎥, ⎢ ⎥⎥\n",
       "⎢⎢0⎥  ⎢1⎥  ⎢0⎥⎥\n",
       "⎢⎢ ⎥  ⎢ ⎥  ⎢ ⎥⎥\n",
       "⎣⎣0⎦  ⎣0⎦  ⎣1⎦⎦"
      ]
     },
     "metadata": {},
     "output_type": "display_data"
    },
    {
     "name": "stdout",
     "output_type": "stream",
     "text": [
      "Матрица перехода:\n"
     ]
    },
    {
     "data": {
      "text/latex": [
       "$\\displaystyle \\left[\\begin{matrix}-1 & 1 & 1 & 1\\\\1 & 1 & 0 & 0\\\\1 & 0 & 1 & 0\\\\1 & 0 & 0 & 1\\end{matrix}\\right]$"
      ],
      "text/plain": [
       "⎡-1  1  1  1⎤\n",
       "⎢           ⎥\n",
       "⎢1   1  0  0⎥\n",
       "⎢           ⎥\n",
       "⎢1   0  1  0⎥\n",
       "⎢           ⎥\n",
       "⎣1   0  0  1⎦"
      ]
     },
     "metadata": {},
     "output_type": "display_data"
    },
    {
     "name": "stdout",
     "output_type": "stream",
     "text": [
      "\n",
      "Матрица диагонализируема.\n",
      "\n",
      "Диагональная матрица:\n"
     ]
    },
    {
     "data": {
      "text/latex": [
       "$\\displaystyle \\left[\\begin{matrix}-2 & 0 & 0 & 0\\\\0 & 2 & 0 & 0\\\\0 & 0 & 2 & 0\\\\0 & 0 & 0 & 2\\end{matrix}\\right]$"
      ],
      "text/plain": [
       "⎡-2  0  0  0⎤\n",
       "⎢           ⎥\n",
       "⎢0   2  0  0⎥\n",
       "⎢           ⎥\n",
       "⎢0   0  2  0⎥\n",
       "⎢           ⎥\n",
       "⎣0   0  0  2⎦"
      ]
     },
     "metadata": {},
     "output_type": "display_data"
    }
   ],
   "source": [
    "A = Matrix([[1, 1, 1, 1],\n",
    "[1, 1, -1, -1],\n",
    "[1, -1, 1, -1],\n",
    "[1, -1, -1, 1]])\n",
    "eleven_dot_three(A)"
   ]
  },
  {
   "cell_type": "markdown",
   "metadata": {},
   "source": [
    "# 11.4"
   ]
  },
  {
   "cell_type": "code",
   "execution_count": 7,
   "metadata": {},
   "outputs": [
    {
     "data": {
      "text/plain": [
       "'Мнимая часть Z:'"
      ]
     },
     "metadata": {},
     "output_type": "display_data"
    },
    {
     "data": {
      "image/png": "[encoded data removed]",
      "text/latex": [
       "$\\displaystyle 0.344789348427174$"
      ],
      "text/plain": [
       "0.344789348427174"
      ]
     },
     "metadata": {},
     "output_type": "display_data"
    },
    {
     "data": {
      "text/plain": [
       "'Действительная часть Z:'"
      ]
     },
     "metadata": {},
     "output_type": "display_data"
    },
    {
     "data": {
      "image/png": "[encoded data removed]",
      "text/latex": [
       "$\\displaystyle 1.96884033080165$"
      ],
      "text/plain": [
       "1.96884033080165"
      ]
     },
     "metadata": {},
     "output_type": "display_data"
    },
    {
     "data": {
      "text/plain": [
       "'\\nСобственный вектор X ='"
      ]
     },
     "metadata": {},
     "output_type": "display_data"
    },
    {
     "data": {
      "text/latex": [
       "$\\displaystyle \\left[\\begin{matrix}1.0\\\\3.74781972939479 + 1.33084677414373 i\\\\-2.35758842681649 - 0.617318018714768 i\\end{matrix}\\right]$"
      ],
      "text/plain": [
       "⎡                  1.0                  ⎤\n",
       "⎢                                       ⎥\n",
       "⎢ 3.74781972939479 + 1.33084677414373⋅ⅈ ⎥\n",
       "⎢                                       ⎥\n",
       "⎣-2.35758842681649 - 0.617318018714768⋅ⅈ⎦"
      ]
     },
     "metadata": {},
     "output_type": "display_data"
    },
    {
     "data": {
      "text/plain": [
       "'Действительная часть U:'"
      ]
     },
     "metadata": {},
     "output_type": "display_data"
    },
    {
     "data": {
      "image/png": "[encoded data removed]",
      "text/latex": [
       "$\\displaystyle 3.74781972939479$"
      ],
      "text/plain": [
       "3.74781972939479"
      ]
     },
     "metadata": {},
     "output_type": "display_data"
    }
   ],
   "source": [
    "A = Matrix([[14, 10, 21],\n",
    "            [12, 15, 26],\n",
    "            [18, 11, 27]])\n",
    "eigenvals = A.eigenvals()\n",
    "max_val_im = max(eigenvals.keys(), key = lambda x: im(x))\n",
    "display(\"Мнимая часть Z:\", im(max_val_im).evalf())\n",
    "display(\"Действительная часть Z:\", re(max_val_im).evalf())\n",
    "eigenvects = A.eigenvects()\n",
    "for val, alg_mult, vects in eigenvects:\n",
    "    if val == max_val_im:\n",
    "        for vect in vects:\n",
    "            if vect[0] != 0: \n",
    "                scaled_vect = vect / vect[0]\n",
    "                display(\"\\nСобственный вектор X =\", scaled_vect.evalf())\n",
    "                display(\"Действительная часть U:\", re(scaled_vect[1]).evalf())\n",
    "                break\n"
   ]
  },
  {
   "cell_type": "code",
   "execution_count": 111,
   "metadata": {},
   "outputs": [
    {
     "ename": "NotAlgebraic",
     "evalue": "Matrix([[-3, 7, -6, -1, 8, -3, -2], [1, -5, 8, -3, -5, 4, -5], [1, 3, -4, 6, -2, 0, 8], [-1, 11, -12, 9, 3, -3, 9], [-3, 11, -12, 5, 8, -4, 6], [-3, 2, 1, -4, 4, 1, -7], [1, -5, 6, -2, -4, 3, -2]]) does not seem to be an algebraic element",
     "output_type": "error",
     "traceback": [
      "\u001b[1;31m---------------------------------------------------------------------------\u001b[0m",
      "\u001b[1;31mNotAlgebraic\u001b[0m                              Traceback (most recent call last)",
      "Cell \u001b[1;32mIn[111], line 4\u001b[0m\n\u001b[0;32m      1\u001b[0m \u001b[38;5;28;01mfrom\u001b[39;00m \u001b[38;5;21;01msympy\u001b[39;00m \u001b[38;5;28;01mimport\u001b[39;00m minimal_polynomial\n\u001b[0;32m      3\u001b[0m \u001b[38;5;66;03m# Рассчитываем минимальный многочлен через встроенную функцию\u001b[39;00m\n\u001b[1;32m----> 4\u001b[0m min_poly \u001b[38;5;241m=\u001b[39m \u001b[43mminimal_polynomial\u001b[49m\u001b[43m(\u001b[49m\u001b[43mA\u001b[49m\u001b[43m,\u001b[49m\u001b[43m \u001b[49m\u001b[43mx\u001b[49m\u001b[43m)\u001b[49m\n\u001b[0;32m      5\u001b[0m min_poly\n",
      "File \u001b[1;32mc:\\Users\\fedor.FEDOR\\AppData\\Local\\Programs\\Python\\Python312\\Lib\\site-packages\\sympy\\polys\\numberfields\\minpoly.py:704\u001b[0m, in \u001b[0;36mminimal_polynomial\u001b[1;34m(ex, x, compose, polys, domain)\u001b[0m\n\u001b[0;32m    700\u001b[0m     \u001b[38;5;28;01mraise\u001b[39;00m GeneratorsError(\u001b[38;5;124m\"\u001b[39m\u001b[38;5;124mthe variable \u001b[39m\u001b[38;5;132;01m%s\u001b[39;00m\u001b[38;5;124m is an element of the ground \u001b[39m\u001b[38;5;124m\"\u001b[39m\n\u001b[0;32m    701\u001b[0m                           \u001b[38;5;124m\"\u001b[39m\u001b[38;5;124mdomain \u001b[39m\u001b[38;5;132;01m%s\u001b[39;00m\u001b[38;5;124m\"\u001b[39m \u001b[38;5;241m%\u001b[39m (x, domain))\n\u001b[0;32m    703\u001b[0m \u001b[38;5;28;01mif\u001b[39;00m compose:\n\u001b[1;32m--> 704\u001b[0m     result \u001b[38;5;241m=\u001b[39m \u001b[43m_minpoly_compose\u001b[49m\u001b[43m(\u001b[49m\u001b[43mex\u001b[49m\u001b[43m,\u001b[49m\u001b[43m \u001b[49m\u001b[43mx\u001b[49m\u001b[43m,\u001b[49m\u001b[43m \u001b[49m\u001b[43mdomain\u001b[49m\u001b[43m)\u001b[49m\n\u001b[0;32m    705\u001b[0m     result \u001b[38;5;241m=\u001b[39m result\u001b[38;5;241m.\u001b[39mprimitive()[\u001b[38;5;241m1\u001b[39m]\n\u001b[0;32m    706\u001b[0m     c \u001b[38;5;241m=\u001b[39m result\u001b[38;5;241m.\u001b[39mcoeff(x\u001b[38;5;241m*\u001b[39m\u001b[38;5;241m*\u001b[39mdegree(result, x))\n",
      "File \u001b[1;32mc:\\Users\\fedor.FEDOR\\AppData\\Local\\Programs\\Python\\Python312\\Lib\\site-packages\\sympy\\polys\\numberfields\\minpoly.py:621\u001b[0m, in \u001b[0;36m_minpoly_compose\u001b[1;34m(ex, x, dom)\u001b[0m\n\u001b[0;32m    619\u001b[0m     res \u001b[38;5;241m=\u001b[39m _minpoly_rootof(ex, x)\n\u001b[0;32m    620\u001b[0m \u001b[38;5;28;01melse\u001b[39;00m:\n\u001b[1;32m--> 621\u001b[0m     \u001b[38;5;28;01mraise\u001b[39;00m NotAlgebraic(\u001b[38;5;124m\"\u001b[39m\u001b[38;5;132;01m%s\u001b[39;00m\u001b[38;5;124m does not seem to be an algebraic element\u001b[39m\u001b[38;5;124m\"\u001b[39m \u001b[38;5;241m%\u001b[39m ex)\n\u001b[0;32m    622\u001b[0m \u001b[38;5;28;01mreturn\u001b[39;00m res\n",
      "\u001b[1;31mNotAlgebraic\u001b[0m: Matrix([[-3, 7, -6, -1, 8, -3, -2], [1, -5, 8, -3, -5, 4, -5], [1, 3, -4, 6, -2, 0, 8], [-1, 11, -12, 9, 3, -3, 9], [-3, 11, -12, 5, 8, -4, 6], [-3, 2, 1, -4, 4, 1, -7], [1, -5, 6, -2, -4, 3, -2]]) does not seem to be an algebraic element"
     ]
    }
   ],
   "source": [
    "from sympy import minimal_polynomial\n",
    "\n",
    "# Рассчитываем минимальный многочлен через встроенную функцию\n",
    "min_poly = minimal_polynomial(A, x)\n",
    "min_poly\n"
   ]
  },
  {
   "cell_type": "code",
   "execution_count": null,
   "metadata": {},
   "outputs": [],
   "source": []
  }
 ],
 "metadata": {
  "kernelspec": {
   "display_name": "Python 3",
   "language": "python",
   "name": "python3"
  },
  "language_info": {
   "codemirror_mode": {
    "name": "ipython",
    "version": 3
   },
   "file_extension": ".py",
   "mimetype": "text/x-python",
   "name": "python",
   "nbconvert_exporter": "python",
   "pygments_lexer": "ipython3",
   "version": "3.10.12"
  }
 },
 "nbformat": 4,
 "nbformat_minor": 2
}
