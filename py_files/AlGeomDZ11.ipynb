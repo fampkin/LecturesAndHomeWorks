{
 "cells": [
  {
   "cell_type": "code",
   "execution_count": 8,
   "metadata": {},
   "outputs": [],
   "source": [
    "from sympy import *\n",
    "init_printing()"
   ]
  },
  {
   "cell_type": "code",
   "execution_count": 9,
   "metadata": {},
   "outputs": [
    {
     "data": {
      "text/latex": [
       "$\\displaystyle \\left[\\begin{matrix}0 & 1 & 2 & 3\\\\5 & 4 & 0 & -1\\\\3 & 2 & 0 & 3\\\\6 & 1 & -1 & 7\\end{matrix}\\right]$"
      ],
      "text/plain": [
       "⎡0  1  2   3 ⎤\n",
       "⎢            ⎥\n",
       "⎢5  4  0   -1⎥\n",
       "⎢            ⎥\n",
       "⎢3  2  0   3 ⎥\n",
       "⎢            ⎥\n",
       "⎣6  1  -1  7 ⎦"
      ]
     },
     "execution_count": 9,
     "metadata": {},
     "output_type": "execute_result"
    }
   ],
   "source": [
    "A = Matrix([[0, 1, 2, 3],\n",
    "            [5, 4, 0, -1],\n",
    "            [3, 2, 0, 3],\n",
    "            [6, 1, -1, 7]])\n",
    "A"
   ]
  },
  {
   "cell_type": "code",
   "execution_count": 15,
   "metadata": {},
   "outputs": [
    {
     "data": {
      "text/latex": [
       "$\\displaystyle \\left[\\begin{matrix}1 & 1 & 1 & 1\\\\0 & 1 & 1 & 1\\\\0 & 0 & 1 & 1\\\\0 & 0 & 0 & 1\\end{matrix}\\right]$"
      ],
      "text/plain": [
       "⎡1  1  1  1⎤\n",
       "⎢          ⎥\n",
       "⎢0  1  1  1⎥\n",
       "⎢          ⎥\n",
       "⎢0  0  1  1⎥\n",
       "⎢          ⎥\n",
       "⎣0  0  0  1⎦"
      ]
     },
     "execution_count": 15,
     "metadata": {},
     "output_type": "execute_result"
    }
   ],
   "source": [
    "C = Matrix([[1, 1, 1, 1],\n",
    "              [0, 1, 1, 1],\n",
    "              [0, 0, 1, 1],\n",
    "              [0, 0, 0, 1]])\n",
    "C"
   ]
  },
  {
   "cell_type": "code",
   "execution_count": 17,
   "metadata": {},
   "outputs": [
    {
     "data": {
      "text/latex": [
       "$\\displaystyle \\left[\\begin{matrix}1 & -1 & 0 & 0\\\\0 & 1 & -1 & 0\\\\0 & 0 & 1 & -1\\\\0 & 0 & 0 & 1\\end{matrix}\\right]$"
      ],
      "text/plain": [
       "⎡1  -1  0   0 ⎤\n",
       "⎢             ⎥\n",
       "⎢0  1   -1  0 ⎥\n",
       "⎢             ⎥\n",
       "⎢0  0   1   -1⎥\n",
       "⎢             ⎥\n",
       "⎣0  0   0   1 ⎦"
      ]
     },
     "execution_count": 17,
     "metadata": {},
     "output_type": "execute_result"
    }
   ],
   "source": [
    "C_inv = C.inv()\n",
    "C_inv"
   ]
  },
  {
   "cell_type": "code",
   "execution_count": 18,
   "metadata": {},
   "outputs": [
    {
     "data": {
      "text/latex": [
       "$\\displaystyle \\left[\\begin{matrix}-5 & -8 & -6 & -2\\\\2 & 4 & 4 & 0\\\\-3 & -2 & -1 & -5\\\\6 & 7 & 6 & 13\\end{matrix}\\right]$"
      ],
      "text/plain": [
       "⎡-5  -8  -6  -2⎤\n",
       "⎢              ⎥\n",
       "⎢2   4   4   0 ⎥\n",
       "⎢              ⎥\n",
       "⎢-3  -2  -1  -5⎥\n",
       "⎢              ⎥\n",
       "⎣6   7   6   13⎦"
      ]
     },
     "execution_count": 18,
     "metadata": {},
     "output_type": "execute_result"
    }
   ],
   "source": [
    "A_prime = C_inv * A * C\n",
    "A_prime"
   ]
  },
  {
   "cell_type": "code",
   "execution_count": null,
   "metadata": {},
   "outputs": [
    {
     "data": {
      "text/latex": [
       "$\\displaystyle \\left[\\begin{matrix}1 & 2 & 2\\\\3 & -1 & -2\\\\2 & -3 & 1\\end{matrix}\\right]$"
      ],
      "text/plain": [
       "⎡1  2   2 ⎤\n",
       "⎢         ⎥\n",
       "⎢3  -1  -2⎥\n",
       "⎢         ⎥\n",
       "⎣2  -3  1 ⎦"
      ]
     },
     "execution_count": 13,
     "metadata": {},
     "output_type": "execute_result"
    }
   ],
   "source": [
    "from sympy import Matrix\n",
    "\n",
    "E_prime = Matrix([[8, -16, 9], \n",
    "                  [-6, 7, -3], \n",
    "                  [7, -13, 7]])\n",
    "\n",
    "E_double_prime = Matrix([[1, 3, 2],\n",
    "                         [-2, -1, 1],\n",
    "                         [1, 2, 2]])\n",
    "\n",
    "C = E_prime.inv() * E_double_prime\n",
    "\n",
    "A_prime = Matrix([[1, -18, 15], \n",
    "                  [-1, -22, 20], \n",
    "                  [1, -25, 22]])\n",
    "\n",
    "A_double_prime = C.inv() * A_prime * C\n",
    "\n",
    "A_double_prime\n"
   ]
  },
  {
   "cell_type": "code",
   "execution_count": null,
   "metadata": {},
   "outputs": [],
   "source": []
  },
  {
   "cell_type": "code",
   "execution_count": null,
   "metadata": {},
   "outputs": [],
   "source": []
  },
  {
   "cell_type": "code",
   "execution_count": null,
   "metadata": {},
   "outputs": [],
   "source": []
  }
 ],
 "metadata": {
  "kernelspec": {
   "display_name": "Python 3",
   "language": "python",
   "name": "python3"
  },
  "language_info": {
   "codemirror_mode": {
    "name": "ipython",
    "version": 3
   },
   "file_extension": ".py",
   "mimetype": "text/x-python",
   "name": "python",
   "nbconvert_exporter": "python",
   "pygments_lexer": "ipython3",
   "version": "3.10.12"
  }
 },
 "nbformat": 4,
 "nbformat_minor": 2
}
