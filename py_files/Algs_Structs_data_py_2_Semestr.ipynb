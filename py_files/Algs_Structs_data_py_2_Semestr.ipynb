{
 "cells": [
  {
   "cell_type": "markdown",
   "metadata": {},
   "source": [
    "# 1"
   ]
  },
  {
   "cell_type": "code",
   "execution_count": 10,
   "metadata": {},
   "outputs": [],
   "source": [
    "from math import pi\n",
    "def S(R):\n",
    "    return pi * R **2"
   ]
  },
  {
   "cell_type": "code",
   "execution_count": 12,
   "metadata": {},
   "outputs": [
    {
     "data": {
      "text/plain": [
       "50.26548245743669"
      ]
     },
     "execution_count": 12,
     "metadata": {},
     "output_type": "execute_result"
    }
   ],
   "source": [
    "R1 = 3\n",
    "R2 = 5\n",
    "abs(S(R1)-S(R2))"
   ]
  },
  {
   "cell_type": "markdown",
   "metadata": {},
   "source": [
    "# 2"
   ]
  },
  {
   "cell_type": "code",
   "execution_count": 34,
   "metadata": {},
   "outputs": [
    {
     "name": "stdout",
     "output_type": "stream",
     "text": [
      "1 2 9\n",
      "1 2 3\n",
      "8 2 3\n"
     ]
    }
   ],
   "source": [
    "def show_matrix(matrix):\n",
    "    for i in range(len(matrix)):\n",
    "        print(\" \".join([str(j) for j in matrix[i]]))\n",
    "\n",
    "Matrix = [[1,2,9],\n",
    "          [1,2,3],\n",
    "          [8,2,3]]\n",
    "show_matrix(Matrix)"
   ]
  },
  {
   "cell_type": "code",
   "execution_count": 35,
   "metadata": {},
   "outputs": [
    {
     "name": "stdout",
     "output_type": "stream",
     "text": [
      "1 1 8\n",
      "2 2 2\n",
      "9 3 3\n"
     ]
    }
   ],
   "source": [
    "def Transp(matrix):\n",
    "    t_matrix = [[0]*len(matrix) for _ in range(len(matrix[0]))]\n",
    "    for i in range(len(matrix)):\n",
    "        for j in range(len(matrix[0])):\n",
    "            t_matrix[j][i] = matrix[i][j]\n",
    "    return t_matrix\n",
    "show_matrix(Transp(Matrix))"
   ]
  },
  {
   "cell_type": "code",
   "execution_count": null,
   "metadata": {},
   "outputs": [],
   "source": []
  },
  {
   "cell_type": "code",
   "execution_count": null,
   "metadata": {},
   "outputs": [],
   "source": []
  }
 ],
 "metadata": {
  "kernelspec": {
   "display_name": "Python 3",
   "language": "python",
   "name": "python3"
  },
  "language_info": {
   "codemirror_mode": {
    "name": "ipython",
    "version": 3
   },
   "file_extension": ".py",
   "mimetype": "text/x-python",
   "name": "python",
   "nbconvert_exporter": "python",
   "pygments_lexer": "ipython3",
   "version": "3.12.0"
  }
 },
 "nbformat": 4,
 "nbformat_minor": 2
}
