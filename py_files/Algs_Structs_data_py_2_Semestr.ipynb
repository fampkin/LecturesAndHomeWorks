{
 "cells": [
  {
   "cell_type": "markdown",
   "metadata": {},
   "source": [
    "# 1"
   ]
  },
  {
   "cell_type": "code",
   "execution_count": 10,
   "metadata": {},
   "outputs": [],
   "source": [
    "from math import pi\n",
    "def S(R):\n",
    "    return pi * R **2"
   ]
  },
  {
   "cell_type": "code",
   "execution_count": 12,
   "metadata": {},
   "outputs": [
    {
     "data": {
      "text/plain": [
       "50.26548245743669"
      ]
     },
     "execution_count": 12,
     "metadata": {},
     "output_type": "execute_result"
    }
   ],
   "source": [
    "R1 = 3\n",
    "R2 = 5\n",
    "abs(S(R1)-S(R2))"
   ]
  },
  {
   "cell_type": "markdown",
   "metadata": {},
   "source": [
    "# 2"
   ]
  },
  {
   "cell_type": "code",
   "execution_count": 34,
   "metadata": {},
   "outputs": [
    {
     "name": "stdout",
     "output_type": "stream",
     "text": [
      "1 2 9\n",
      "1 2 3\n",
      "8 2 3\n"
     ]
    }
   ],
   "source": [
    "def show_matrix(matrix):\n",
    "    for i in range(len(matrix)):\n",
    "        print(\" \".join([str(j) for j in matrix[i]]))\n",
    "\n",
    "Matrix = [[1,2,9],\n",
    "          [1,2,3],\n",
    "          [8,2,3]]\n",
    "show_matrix(Matrix)"
   ]
  },
  {
   "cell_type": "code",
   "execution_count": 35,
   "metadata": {},
   "outputs": [
    {
     "name": "stdout",
     "output_type": "stream",
     "text": [
      "1 1 8\n",
      "2 2 2\n",
      "9 3 3\n"
     ]
    }
   ],
   "source": [
    "def Transp(matrix):\n",
    "    t_matrix = [[0]*len(matrix) for _ in range(len(matrix[0]))]\n",
    "    for i in range(len(matrix)):\n",
    "        for j in range(len(matrix[0])):\n",
    "            t_matrix[j][i] = matrix[i][j]\n",
    "    return t_matrix\n",
    "show_matrix(Transp(Matrix))"
   ]
  },
  {
   "cell_type": "code",
   "execution_count": 1,
   "metadata": {},
   "outputs": [
    {
     "data": {
      "text/plain": [
       "True"
      ]
     },
     "execution_count": 1,
     "metadata": {},
     "output_type": "execute_result"
    }
   ],
   "source": [
    "from module18 import *\n",
    "check_dot_on_line('y=2x', [0,0])"
   ]
  },
  {
   "cell_type": "markdown",
   "metadata": {},
   "source": [
    "# 20"
   ]
  },
  {
   "cell_type": "code",
   "execution_count": null,
   "metadata": {},
   "outputs": [],
   "source": []
  },
  {
   "cell_type": "markdown",
   "metadata": {},
   "source": [
    "# 21"
   ]
  },
  {
   "cell_type": "code",
   "execution_count": null,
   "metadata": {},
   "outputs": [],
   "source": []
  },
  {
   "cell_type": "markdown",
   "metadata": {},
   "source": [
    "# 25\n"
   ]
  },
  {
   "cell_type": "code",
   "execution_count": 2,
   "metadata": {},
   "outputs": [],
   "source": [
    "class StringAnalyzer:\n",
    "    def __init__(self, text: str):\n",
    "        self.text = text\n",
    "        self.length = self.calculate_length()\n",
    "        self.word_count = self.calculate_word_count()\n",
    "        \n",
    "    def calculate_length(self) -> int:\n",
    "        return len(self.text)\n",
    "    \n",
    "    def calculate_word_count(self) -> int:\n",
    "        words = self.text.strip().split()\n",
    "        return len(words)\n",
    "    \n",
    "    def __str__(self) -> str:\n",
    "        return f\"Текст: {self.text}\\nДлина: {self.length}\\nКоличество слов: {self.word_count}\"\n"
   ]
  },
  {
   "cell_type": "code",
   "execution_count": 24,
   "metadata": {},
   "outputs": [
    {
     "data": {
      "text/plain": [
       "11"
      ]
     },
     "execution_count": 24,
     "metadata": {},
     "output_type": "execute_result"
    }
   ],
   "source": [
    "text = \"Привет мир!\"\n",
    "string_analyzer = StringAnalyzer(text)\n",
    "string_analyzer.length"
   ]
  },
  {
   "cell_type": "code",
   "execution_count": 25,
   "metadata": {},
   "outputs": [
    {
     "data": {
      "text/plain": [
       "2"
      ]
     },
     "execution_count": 25,
     "metadata": {},
     "output_type": "execute_result"
    }
   ],
   "source": [
    "string_analyzer.word_count"
   ]
  },
  {
   "cell_type": "code",
   "execution_count": 26,
   "metadata": {},
   "outputs": [
    {
     "data": {
      "text/plain": [
       "'Текст: Привет мир!\\nДлина: 11\\nКоличество слов: 2'"
      ]
     },
     "execution_count": 26,
     "metadata": {},
     "output_type": "execute_result"
    }
   ],
   "source": [
    "str(string_analyzer)"
   ]
  },
  {
   "cell_type": "markdown",
   "metadata": {},
   "source": [
    "# 26"
   ]
  },
  {
   "cell_type": "code",
   "execution_count": 18,
   "metadata": {},
   "outputs": [],
   "source": [
    "class Money:\n",
    "    def __init__(self, nominal: int, count: int):\n",
    "        self.nominal = nominal\n",
    "        self.count = count\n",
    "        \n",
    "    @property\n",
    "    def total_sum(self) -> int:\n",
    "        return self.nominal * self.count\n",
    "    \n",
    "    def display_info(self) -> None:\n",
    "        print(f\"Номинал купюры: {self.nominal} руб.\")\n",
    "        print(f\"Количество купюр: {self.count} шт.\")\n",
    "        print(f\"Общая сумма: {self.total_sum} руб.\")\n",
    "    \n",
    "    def can_afford(self, price: int) -> bool:\n",
    "        return self.total_sum >= price\n",
    "    \n",
    "    def calculate_items(self, price: int) -> int:\n",
    "        if price <= 0:\n",
    "            raise ValueError(\"Цена товара должна быть больше 0\")\n",
    "        return self.total_sum // price\n",
    "\n",
    "\n"
   ]
  },
  {
   "cell_type": "code",
   "execution_count": 27,
   "metadata": {},
   "outputs": [
    {
     "name": "stdout",
     "output_type": "stream",
     "text": [
      "Номинал купюры: 100 руб.\n",
      "Количество купюр: 10 шт.\n",
      "Общая сумма: 1000 руб.\n"
     ]
    }
   ],
   "source": [
    "\n",
    "wallet = Money(100, 10)\n",
    "\n",
    "wallet.display_info()"
   ]
  },
  {
   "cell_type": "code",
   "execution_count": 28,
   "metadata": {},
   "outputs": [
    {
     "data": {
      "text/plain": [
       "True"
      ]
     },
     "execution_count": 28,
     "metadata": {},
     "output_type": "execute_result"
    }
   ],
   "source": [
    "wallet.can_afford(500)\n"
   ]
  },
  {
   "cell_type": "code",
   "execution_count": 29,
   "metadata": {},
   "outputs": [
    {
     "data": {
      "text/plain": [
       "10"
      ]
     },
     "execution_count": 29,
     "metadata": {},
     "output_type": "execute_result"
    }
   ],
   "source": [
    "\n",
    "wallet.calculate_items(100)"
   ]
  },
  {
   "cell_type": "code",
   "execution_count": null,
   "metadata": {},
   "outputs": [],
   "source": []
  }
 ],
 "metadata": {
  "kernelspec": {
   "display_name": "Python 3",
   "language": "python",
   "name": "python3"
  },
  "language_info": {
   "codemirror_mode": {
    "name": "ipython",
    "version": 3
   },
   "file_extension": ".py",
   "mimetype": "text/x-python",
   "name": "python",
   "nbconvert_exporter": "python",
   "pygments_lexer": "ipython3",
   "version": "3.10.12"
  }
 },
 "nbformat": 4,
 "nbformat_minor": 2
}
