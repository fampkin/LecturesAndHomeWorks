{
 "cells": [
  {
   "cell_type": "markdown",
   "metadata": {},
   "source": [
    "# 1"
   ]
  },
  {
   "cell_type": "code",
   "execution_count": 10,
   "metadata": {},
   "outputs": [],
   "source": [
    "from math import pi\n",
    "def S(R):\n",
    "    return pi * R **2"
   ]
  },
  {
   "cell_type": "code",
   "execution_count": 12,
   "metadata": {},
   "outputs": [
    {
     "data": {
      "text/plain": [
       "50.26548245743669"
      ]
     },
     "execution_count": 12,
     "metadata": {},
     "output_type": "execute_result"
    }
   ],
   "source": [
    "R1 = 3\n",
    "R2 = 5\n",
    "abs(S(R1)-S(R2))"
   ]
  },
  {
   "cell_type": "markdown",
   "metadata": {},
   "source": [
    "# 2"
   ]
  },
  {
   "cell_type": "code",
   "execution_count": 34,
   "metadata": {},
   "outputs": [
    {
     "name": "stdout",
     "output_type": "stream",
     "text": [
      "1 2 9\n",
      "1 2 3\n",
      "8 2 3\n"
     ]
    }
   ],
   "source": [
    "def show_matrix(matrix):\n",
    "    for i in range(len(matrix)):\n",
    "        print(\" \".join([str(j) for j in matrix[i]]))\n",
    "\n",
    "Matrix = [[1,2,9],\n",
    "          [1,2,3],\n",
    "          [8,2,3]]\n",
    "show_matrix(Matrix)"
   ]
  },
  {
   "cell_type": "code",
   "execution_count": 35,
   "metadata": {},
   "outputs": [
    {
     "name": "stdout",
     "output_type": "stream",
     "text": [
      "1 1 8\n",
      "2 2 2\n",
      "9 3 3\n"
     ]
    }
   ],
   "source": [
    "def Transp(matrix):\n",
    "    t_matrix = [[0]*len(matrix) for _ in range(len(matrix[0]))]\n",
    "    for i in range(len(matrix)):\n",
    "        for j in range(len(matrix[0])):\n",
    "            t_matrix[j][i] = matrix[i][j]\n",
    "    return t_matrix\n",
    "show_matrix(Transp(Matrix))"
   ]
  },
  {
   "cell_type": "code",
   "execution_count": 1,
   "metadata": {},
   "outputs": [
    {
     "data": {
      "text/plain": [
       "True"
      ]
     },
     "execution_count": 1,
     "metadata": {},
     "output_type": "execute_result"
    }
   ],
   "source": [
    "from module18 import *\n",
    "check_dot_on_line('y=2x', [0,0])"
   ]
  },
  {
   "cell_type": "markdown",
   "metadata": {},
   "source": [
    "# 20"
   ]
  },
  {
   "cell_type": "code",
   "execution_count": null,
   "metadata": {},
   "outputs": [],
   "source": []
  },
  {
   "cell_type": "markdown",
   "metadata": {},
   "source": [
    "# 21"
   ]
  },
  {
   "cell_type": "code",
   "execution_count": null,
   "metadata": {},
   "outputs": [],
   "source": []
  },
  {
   "cell_type": "markdown",
   "metadata": {},
   "source": [
    "# 25\n"
   ]
  },
  {
   "cell_type": "code",
   "execution_count": null,
   "metadata": {},
   "outputs": [],
   "source": [
    "class StringAnalyzer:\n",
    "    def __init__(self, text: str):\n",
    "        self.text = text\n",
    "        self.length = self.calculate_length()\n",
    "        self.word_count = self.calculate_word_count()\n",
    "        \n",
    "    def calculate_length(self) -> int:\n",
    "        return len(self.text)\n",
    "    \n",
    "    def calculate_word_count(self) -> int:\n",
    "        words = self.text.strip().split()\n",
    "        return len(words)\n",
    "    \n",
    "    def __str__(self) -> str:\n",
    "        return f\"Текст: {self.text}\\n Длина: {self.length}\\n Количество слов: {self.word_count}\"\n"
   ]
  },
  {
   "cell_type": "code",
   "execution_count": 2,
   "metadata": {},
   "outputs": [
    {
     "data": {
      "text/plain": [
       "11"
      ]
     },
     "execution_count": 2,
     "metadata": {},
     "output_type": "execute_result"
    }
   ],
   "source": [
    "text = \"Привет мир!\"\n",
    "string_analyzer = StringAnalyzer(text)\n",
    "string_analyzer.length"
   ]
  },
  {
   "cell_type": "code",
   "execution_count": 11,
   "metadata": {},
   "outputs": [
    {
     "data": {
      "text/plain": [
       "2"
      ]
     },
     "execution_count": 11,
     "metadata": {},
     "output_type": "execute_result"
    }
   ],
   "source": [
    "string_analyzer.word_count\n"
   ]
  },
  {
   "cell_type": "code",
   "execution_count": 14,
   "metadata": {},
   "outputs": [
    {
     "data": {
      "text/plain": [
       "'Текст: Привет мир!\\nДлина: 11\\nКоличество слов: 2'"
      ]
     },
     "execution_count": 14,
     "metadata": {},
     "output_type": "execute_result"
    }
   ],
   "source": [
    "str(string_analyzer)"
   ]
  },
  {
   "cell_type": "markdown",
   "metadata": {},
   "source": [
    "# 26"
   ]
  },
  {
   "cell_type": "code",
   "execution_count": 7,
   "metadata": {},
   "outputs": [],
   "source": [
    "class Money:\n",
    "    def __init__(self, nominal: int, count: int):\n",
    "        self.nominal = nominal\n",
    "        self.count = count\n",
    "        \n",
    "    @property\n",
    "    def total_sum(self) -> int:\n",
    "        return self.nominal * self.count\n",
    "    \n",
    "    def display_info(self) -> None:\n",
    "        print(f\"Номинал купюры: {self.nominal} руб.\")\n",
    "        print(f\"Количество купюр: {self.count} шт.\")\n",
    "        print(f\"Общая сумма: {self.total_sum} руб.\")\n",
    "    \n",
    "    def can_afford(self, price: int) -> bool:\n",
    "        return self.total_sum >= price\n",
    "    \n",
    "    def calculate_items(self, price: int) -> int:\n",
    "        if price <= 0:\n",
    "            raise ValueError(\"Цена товара должна быть больше 0\")\n",
    "        return self.total_sum // price\n",
    "\n",
    "\n"
   ]
  },
  {
   "cell_type": "code",
   "execution_count": 8,
   "metadata": {},
   "outputs": [
    {
     "name": "stdout",
     "output_type": "stream",
     "text": [
      "Номинал купюры: 100 руб.\n",
      "Количество купюр: 10 шт.\n",
      "Общая сумма: 1000 руб.\n"
     ]
    }
   ],
   "source": [
    "\n",
    "wallet = Money(100, 10)\n",
    "\n",
    "wallet.display_info()"
   ]
  },
  {
   "cell_type": "code",
   "execution_count": 9,
   "metadata": {},
   "outputs": [
    {
     "data": {
      "text/plain": [
       "True"
      ]
     },
     "execution_count": 9,
     "metadata": {},
     "output_type": "execute_result"
    }
   ],
   "source": [
    "wallet.can_afford(500)\n"
   ]
  },
  {
   "cell_type": "code",
   "execution_count": 10,
   "metadata": {},
   "outputs": [
    {
     "data": {
      "text/plain": [
       "10"
      ]
     },
     "execution_count": 10,
     "metadata": {},
     "output_type": "execute_result"
    }
   ],
   "source": [
    "\n",
    "wallet.calculate_items(100)"
   ]
  },
  {
   "cell_type": "markdown",
   "metadata": {},
   "source": [
    "# 27"
   ]
  },
  {
   "cell_type": "markdown",
   "metadata": {},
   "source": [
    "Создайте класс ТОВАР с методами, позволяющими вывести на экран информацию о товаре, а также определить, может ли приобрести товар покупатель, имеющий заданную сумму денег. Создайте дочерние классы ПРОДУКТ (название, цена, дата производства, срок годности), ПАРТИЯ (название, цена за штуку, количество штук, дата производства, срок годности), ТЕЛЕФОН (название, цена) со своими методами вывода информации на экран и определения соответствия заданной цене. Создайте список из  n  товаров, выведите полную информацию из базы на экран, а также организуйте поиск товара, который может приобрести покупатель, имеющий заданную сумму денег."
   ]
  },
  {
   "cell_type": "code",
   "execution_count": 1,
   "metadata": {},
   "outputs": [],
   "source": [
    "from datetime import datetime\n",
    "\n",
    "class Item:\n",
    "    def __init__(self, name: str, price: float):\n",
    "        self.name = name\n",
    "        self.price = price\n",
    "    \n",
    "    def display_info(self) -> None:\n",
    "        print(f\"Название: {self.name}\")\n",
    "        print(f\"Цена: {self.price} руб.\")\n",
    "    \n",
    "    def can_afford(self, money: float) -> bool:\n",
    "        return money >= self.price\n",
    "\n",
    "class Product(Item):\n",
    "    def __init__(self, name: str, price: float, production_date: datetime, expiry_date: datetime):\n",
    "        super().__init__(name, price)\n",
    "        self.production_date = production_date\n",
    "        self.expiry_date = expiry_date\n",
    "    \n",
    "    def display_info(self) -> None:\n",
    "        super().display_info()\n",
    "        print(f\"Дата производства: {self.production_date.strftime('%d.%m.%Y')}\")\n",
    "        print(f\"Срок годности: {self.expiry_date.strftime('%d.%m.%Y')}\")\n",
    "\n",
    "class Batch(Item):\n",
    "    def __init__(self, name: str, price_per_unit: float, quantity: int, \n",
    "                 production_date: datetime, expiry_date: datetime):\n",
    "        super().__init__(name, price_per_unit * quantity)\n",
    "        self.price_per_unit = price_per_unit\n",
    "        self.quantity = quantity\n",
    "        self.production_date = production_date\n",
    "        self.expiry_date = expiry_date\n",
    "    \n",
    "    def display_info(self) -> None:\n",
    "        super().display_info()\n",
    "        print(f\"Цена за штуку: {self.price_per_unit} руб.\")\n",
    "        print(f\"Количество: {self.quantity} шт.\")\n",
    "        print(f\"Дата производства: {self.production_date.strftime('%d.%m.%Y')}\")\n",
    "        print(f\"Срок годности: {self.expiry_date.strftime('%d.%m.%Y')}\")\n",
    "\n",
    "class Phone(Item):\n",
    "    def __init__(self, name: str, price: float):\n",
    "        super().__init__(name, price)\n",
    "\n",
    "def find_affordable_items(items: list[Item], budget: float) -> list[Item]:\n",
    "    return [item for item in items if item.can_afford(budget)]\n",
    "\n"
   ]
  },
  {
   "cell_type": "code",
   "execution_count": 4,
   "metadata": {},
   "outputs": [
    {
     "name": "stdout",
     "output_type": "stream",
     "text": [
      "=== Все товары ===\n",
      "Название: Молоко\n",
      "Цена: 80.0 руб.\n",
      "Дата производства: 01.03.2024\n",
      "Срок годности: 15.03.2024\n",
      "------------------------------\n",
      "Название: Йогурт\n",
      "Цена: 500.0 руб.\n",
      "Цена за штуку: 50.0 руб.\n",
      "Количество: 10 шт.\n",
      "Дата производства: 01.03.2024\n",
      "Срок годности: 10.03.2024\n",
      "------------------------------\n",
      "Название: iPhone 15\n",
      "Цена: 89990.0 руб.\n",
      "------------------------------\n",
      "\n",
      "=== Товары доступные за 1000.0 руб. ===\n",
      "Название: Молоко\n",
      "Цена: 80.0 руб.\n",
      "Дата производства: 01.03.2024\n",
      "Срок годности: 15.03.2024\n",
      "------------------------------\n",
      "Название: Йогурт\n",
      "Цена: 500.0 руб.\n",
      "Цена за штуку: 50.0 руб.\n",
      "Количество: 10 шт.\n",
      "Дата производства: 01.03.2024\n",
      "Срок годности: 10.03.2024\n",
      "------------------------------\n"
     ]
    }
   ],
   "source": [
    "items = [\n",
    "    Product(\"Молоко\", 80.0, \n",
    "            datetime(2025, 3, 1), datetime(2025, 3, 15)),\n",
    "    Batch(\"Йогурт\", 50.0, 10,\n",
    "            datetime(2025, 3, 1), datetime(2025, 3, 10)),\n",
    "    Phone(\"iPhone 15\", 89990.0)\n",
    "]\n",
    "\n",
    "print(\"=== Все товары ===\")\n",
    "for item in items:\n",
    "    item.display_info()\n",
    "    print(\"-\" * 30)\n",
    "\n",
    "budget = 1000.0 \n",
    "affordable_items = find_affordable_items(items, budget)\n",
    "\n",
    "print(f\"\\n=== Товары доступные за {budget} руб. ===\")\n",
    "for item in affordable_items:\n",
    "    item.display_info()\n",
    "    print(\"-\" * 30)"
   ]
  },
  {
   "cell_type": "code",
   "execution_count": 6,
   "metadata": {},
   "outputs": [
    {
     "name": "stdout",
     "output_type": "stream",
     "text": [
      "Отсортированные телефоны:\n",
      "[{'make': 'Mi Max', 'model': '2', 'color': 'Gold'}, {'make': 'Nokia', 'model': 216, 'color': 'Black'}, {'make': 'Samsung', 'model': 7, 'color': 'Blue'}]\n",
      "\n",
      "Найденные анаграммы:\n",
      "['bcda', 'cbda', 'adcb']\n",
      "\n",
      "Отсортированный смешанный список:\n",
      "[1, 10, 12, 19, 'blue', 'green', 'green', 'red', 'white']\n"
     ]
    }
   ],
   "source": [
    "phones = [\n",
    "    {'make': 'Nokia', 'model': 216, 'color': 'Black'}, \n",
    "    {'make': 'Mi Max', 'model': '2', 'color': 'Gold'}, \n",
    "    {'make': 'Samsung', 'model': 7, 'color': 'Blue'}\n",
    "]\n",
    "\n",
    "sorted_phones = sorted(phones, key=lambda x: x['make'])\n",
    "print(\"Отсортированные телефоны:\")\n",
    "print(sorted_phones)\n",
    "\n",
    "def find_anagrams(word: str, word_list: list[str]) -> list[str]:\n",
    "    sorted_word = ''.join(sorted(word))\n",
    "    return list(filter(lambda x: ''.join(sorted(x)) == sorted_word, word_list))\n",
    "\n",
    "word = 'abcd'\n",
    "words = ['bcda', 'abce', 'cbda', 'cbea', 'adcb']\n",
    "anagrams = find_anagrams(word, words)\n",
    "print(\"\\nНайденные анаграммы:\")\n",
    "print(anagrams)\n",
    "\n",
    "mixed_list = [19, 'red', 12, 'green', 'blue', 10, 'white', 'green', 1]\n",
    "\n",
    "sorted_mixed = sorted(filter(lambda x: isinstance(x, int), mixed_list)) + \\\n",
    "               sorted(filter(lambda x: isinstance(x, str), mixed_list))\n",
    "\n",
    "print(\"\\nОтсортированный смешанный список:\")\n",
    "print(sorted_mixed)"
   ]
  },
  {
   "cell_type": "code",
   "execution_count": 1,
   "metadata": {},
   "outputs": [
    {
     "name": "stdout",
     "output_type": "stream",
     "text": [
      "Результат обработки списков:\n",
      "[(6, 6), (6, 4), (10, -4), (16, 2)]\n",
      "\n",
      "Сгенерированный список:\n",
      "[73, 36, 55, 90, 4, 41, 3, 45, 31, 14]\n",
      "\n",
      "Отфильтрованные четные числа:\n",
      "[4, 14, 36, 90]\n",
      "\n",
      "Сумма четных чисел:\n",
      "144\n"
     ]
    }
   ],
   "source": [
    "from functools import reduce\n",
    "import random\n",
    "\n",
    "def process_lists(list1: list[int], list2: list[int]) -> list[tuple[int, int]]:\n",
    "    return list(map(lambda x, y: (x + y, x - y), list1, list2))\n",
    "\n",
    "list1 = [6, 5, 3, 9]\n",
    "list2 = [0, 1, 7, 7]\n",
    "result = process_lists(list1, list2)\n",
    "print(\"Результат обработки списков:\")\n",
    "print(result)\n",
    "\n",
    "numbers = [random.randint(1, 100) for _ in range(10)]\n",
    "print(\"\\nСгенерированный список:\")\n",
    "print(numbers)\n",
    "\n",
    "even_numbers = sorted(filter(lambda x: x % 2 == 0, numbers))\n",
    "print(\"\\nОтфильтрованные четные числа:\")\n",
    "print(even_numbers)\n",
    "\n",
    "sum_even = reduce(lambda x, y: x + y, even_numbers, 0)\n",
    "print(\"\\nСумма четных чисел:\")\n",
    "print(sum_even)"
   ]
  },
  {
   "cell_type": "code",
   "execution_count": 7,
   "metadata": {},
   "outputs": [
    {
     "name": "stdout",
     "output_type": "stream",
     "text": [
      "Тест первого декоратора:\n",
      "Вызвана функция: greet\n",
      "Определена в модуле: __main__\n",
      "Привет, Алиса!\n",
      "\n",
      "Тест второго декоратора:\n",
      "Привет, Боб!\n",
      "Добрый день, Ева!\n"
     ]
    }
   ],
   "source": [
    "import functools\n",
    "import inspect\n",
    "\n",
    "def show_function_info(func):\n",
    "    @functools.wraps(func)\n",
    "    def wrapper(*args, **kwargs):\n",
    "        module_name = inspect.getmodule(func).__name__\n",
    "        print(f\"Вызвана функция: {func.__name__}\")\n",
    "        print(f\"Определена в модуле: {module_name}\")\n",
    "        return func(*args, **kwargs)\n",
    "    return wrapper\n",
    "\n",
    "def default_params(**default_kwargs):\n",
    "    def decorator(func):\n",
    "        @functools.wraps(func)\n",
    "        def wrapper(*args, **kwargs):\n",
    "            final_kwargs = default_kwargs.copy()\n",
    "            final_kwargs.update(kwargs)\n",
    "            return func(*args, **final_kwargs)\n",
    "        return wrapper\n",
    "    return decorator\n",
    "\n",
    "@show_function_info\n",
    "def greet(name):\n",
    "    print(f\"Привет, {name}!\")\n",
    "\n",
    "@default_params(greeting=\"Привет\", punctuation=\"!\")\n",
    "def advanced_greet(name, greeting=\"Здравствуйте\", punctuation=\".\"):\n",
    "    print(f\"{greeting}, {name}{punctuation}\")\n",
    "\n",
    "\n",
    "\n",
    "print(\"Тест первого декоратора:\")\n",
    "greet(\"Алиса\")\n",
    "print(\"\\nТест второго декоратора:\")\n",
    "advanced_greet(\"Боб\") \n",
    "advanced_greet(\"Ева\", greeting=\"Добрый день\") "
   ]
  },
  {
   "cell_type": "code",
   "execution_count": 10,
   "metadata": {},
   "outputs": [],
   "source": [
    "from itertools import permutations\n",
    "from typing import Generator, List\n",
    "\n",
    "def prime_numbers(limit: int) -> Generator[int, None, None]:\n",
    "    \"\"\"Генерирует простые числа до заданного предела\"\"\"\n",
    "    def is_prime(n: int) -> bool:\n",
    "        if n < 2:\n",
    "            return False\n",
    "        for i in range(2, int(n ** 0.5) + 1):\n",
    "            if n % i == 0:\n",
    "                return False\n",
    "        return True\n",
    "    \n",
    "    for num in range(2, limit + 1):\n",
    "        if is_prime(num):\n",
    "            yield num\n",
    "\n",
    "def book_arrangements(books: List[str]) -> Generator[tuple, None, None]:\n",
    "    \"\"\"Генерирует все возможные расположения книг\"\"\"\n",
    "    yield from permutations(books)\n",
    "\n",
    "def even_squares(start: int, end: int) -> list:\n",
    "    \"\"\"Создает список квадратов четных чисел в диапазоне\"\"\"\n",
    "    return [x**2 for x in range(start, end + 1) if x % 2 == 0]\n",
    "\n",
    "def is_palindrome(num: int) -> bool:\n",
    "    \"\"\"Проверяет, является ли число палиндромом\"\"\"\n",
    "    return str(num) == str(num)[::-1]\n",
    "\n",
    "def filter_palindromes(numbers: List[int]) -> list:\n",
    "    \"\"\"Фильтрует список, оставляя только числа-палиндромы\"\"\"\n",
    "    return [num for num in numbers if is_palindrome(num)]\n",
    "\n"
   ]
  },
  {
   "cell_type": "code",
   "execution_count": 15,
   "metadata": {},
   "outputs": [
    {
     "name": "stdout",
     "output_type": "stream",
     "text": [
      "Простые числа до 20:\n",
      "2 3 5 7 11 13 17 19 \n",
      "\n",
      "Варианты расположения книг:\n",
      "('Книга1', 'Книга2', 'Книга3')\n",
      "('Книга1', 'Книга3', 'Книга2')\n",
      "('Книга2', 'Книга1', 'Книга3')\n",
      "('Книга2', 'Книга3', 'Книга1')\n",
      "('Книга3', 'Книга1', 'Книга2')\n",
      "('Книга3', 'Книга2', 'Книга1')\n",
      "\n",
      "Квадраты четных чисел от 1 до 10:\n",
      "[4, 16, 36, 64, 100]\n",
      "\n",
      "Числа-палиндромы:\n",
      "[121, 555, 999, 1001]\n"
     ]
    }
   ],
   "source": [
    "print(\"Простые числа до 20:\")\n",
    "for prime in prime_numbers(20):\n",
    "    print(prime, end=\" \")\n",
    "print(\"\\n\")\n",
    "\n",
    "books = [\"Книга1\", \"Книга2\", \"Книга3\"]\n",
    "print(\"Варианты расположения книг:\")\n",
    "for arrangement in book_arrangements(books):\n",
    "    print(arrangement)\n",
    "print()\n",
    "\n",
    "# Тест генератора квадратов четных чисел\n",
    "start, end = 1, 10\n",
    "squares = even_squares(start, end)\n",
    "print(f\"Квадраты четных чисел от {start} до {end}:\")\n",
    "print(squares)\n",
    "print()\n",
    "\n",
    "\n",
    "numbers = [121, 123, 555, 999, 1001, 1234]\n",
    "palindromes = filter_palindromes(numbers)\n",
    "print(\"Числа-палиндромы:\")\n",
    "print(palindromes)"
   ]
  },
  {
   "cell_type": "code",
   "execution_count": 16,
   "metadata": {},
   "outputs": [
    {
     "name": "stdout",
     "output_type": "stream",
     "text": [
      "Массив: [10 22 28 29 30 40]\n",
      "Целевое число R: 54\n",
      "Найденная пара: (28, 29)\n",
      "Их сумма: 57\n",
      "\n",
      "Матрица:\n",
      "[[1 2 3 2]\n",
      " [2 2 4 2]\n",
      " [3 2 3 5]\n",
      " [4 2 4 2]]\n",
      "Столбец с наибольшим количеством повторений: 1\n",
      "Элементы этого столбца: [2 2 2 2]\n"
     ]
    }
   ],
   "source": [
    "import numpy as np\n",
    "\n",
    "def find_closest_pair(arr: np.ndarray, R: float) -> tuple[int, int]:\n",
    "    sums = arr[:-1] + arr[1:]\n",
    "    closest_idx = np.abs(sums - R).argmin()\n",
    "    \n",
    "    return arr[closest_idx], arr[closest_idx + 1]\n",
    "\n",
    "def find_column_with_most_duplicates(matrix: np.ndarray) -> int:\n",
    "    max_duplicates = 0\n",
    "    result_column = 0\n",
    "    \n",
    "    for col in range(matrix.shape[1]):\n",
    "        unique, counts = np.unique(matrix[:, col], return_counts=True)\n",
    "        max_count = counts.max()\n",
    "        \n",
    "        if max_count > max_duplicates:\n",
    "            max_duplicates = max_count\n",
    "            result_column = col\n",
    "            \n",
    "    return result_column\n",
    "\n",
    "arr = np.array([10, 22, 28, 29, 30, 40])\n",
    "R = 54\n",
    "pair = find_closest_pair(arr, R)\n",
    "print(f\"Массив: {arr}\")\n",
    "print(f\"Целевое число R: {R}\")\n",
    "print(f\"Найденная пара: {pair}\")\n",
    "print(f\"Их сумма: {sum(pair)}\")\n",
    "print()\n",
    "\n",
    "\n",
    "matrix = np.array([\n",
    "    [1, 2, 3, 2],\n",
    "    [2, 2, 4, 2],\n",
    "    [3, 2, 3, 5],\n",
    "    [4, 2, 4, 2]\n",
    "])\n",
    "print(\"Матрица:\")\n",
    "print(matrix)\n",
    "col_idx = find_column_with_most_duplicates(matrix)\n",
    "print(f\"Столбец с наибольшим количеством повторений: {col_idx}\")\n",
    "print(f\"Элементы этого столбца: {matrix[:, col_idx]}\")"
   ]
  },
  {
   "cell_type": "code",
   "execution_count": null,
   "metadata": {},
   "outputs": [],
   "source": []
  },
  {
   "cell_type": "code",
   "execution_count": null,
   "metadata": {},
   "outputs": [],
   "source": []
  }
 ],
 "metadata": {
  "kernelspec": {
   "display_name": "Python 3",
   "language": "python",
   "name": "python3"
  },
  "language_info": {
   "codemirror_mode": {
    "name": "ipython",
    "version": 3
   },
   "file_extension": ".py",
   "mimetype": "text/x-python",
   "name": "python",
   "nbconvert_exporter": "python",
   "pygments_lexer": "ipython3",
   "version": "3.10.12"
  }
 },
 "nbformat": 4,
 "nbformat_minor": 2
}
