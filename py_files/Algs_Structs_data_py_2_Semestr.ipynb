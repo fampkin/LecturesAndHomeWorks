{
 "cells": [
  {
   "cell_type": "markdown",
   "metadata": {},
   "source": [
    "# 1"
   ]
  },
  {
   "cell_type": "code",
   "execution_count": 10,
   "metadata": {},
   "outputs": [],
   "source": [
    "from math import pi\n",
    "def S(R):\n",
    "    return pi * R **2"
   ]
  },
  {
   "cell_type": "code",
   "execution_count": 12,
   "metadata": {},
   "outputs": [
    {
     "data": {
      "text/plain": [
       "50.26548245743669"
      ]
     },
     "execution_count": 12,
     "metadata": {},
     "output_type": "execute_result"
    }
   ],
   "source": [
    "R1 = 3\n",
    "R2 = 5\n",
    "abs(S(R1)-S(R2))"
   ]
  },
  {
   "cell_type": "markdown",
   "metadata": {},
   "source": [
    "# 2"
   ]
  },
  {
   "cell_type": "code",
   "execution_count": 34,
   "metadata": {},
   "outputs": [
    {
     "name": "stdout",
     "output_type": "stream",
     "text": [
      "1 2 9\n",
      "1 2 3\n",
      "8 2 3\n"
     ]
    }
   ],
   "source": [
    "def show_matrix(matrix):\n",
    "    for i in range(len(matrix)):\n",
    "        print(\" \".join([str(j) for j in matrix[i]]))\n",
    "\n",
    "Matrix = [[1,2,9],\n",
    "          [1,2,3],\n",
    "          [8,2,3]]\n",
    "show_matrix(Matrix)"
   ]
  },
  {
   "cell_type": "code",
   "execution_count": 35,
   "metadata": {},
   "outputs": [
    {
     "name": "stdout",
     "output_type": "stream",
     "text": [
      "1 1 8\n",
      "2 2 2\n",
      "9 3 3\n"
     ]
    }
   ],
   "source": [
    "def Transp(matrix):\n",
    "    t_matrix = [[0]*len(matrix) for _ in range(len(matrix[0]))]\n",
    "    for i in range(len(matrix)):\n",
    "        for j in range(len(matrix[0])):\n",
    "            t_matrix[j][i] = matrix[i][j]\n",
    "    return t_matrix\n",
    "show_matrix(Transp(Matrix))"
   ]
  },
  {
   "cell_type": "code",
   "execution_count": 1,
   "metadata": {},
   "outputs": [
    {
     "data": {
      "text/plain": [
       "True"
      ]
     },
     "execution_count": 1,
     "metadata": {},
     "output_type": "execute_result"
    }
   ],
   "source": [
    "from module18 import *\n",
    "check_dot_on_line('y=2x', [0,0])"
   ]
  },
  {
   "cell_type": "markdown",
   "metadata": {},
   "source": [
    "# 20"
   ]
  },
  {
   "cell_type": "code",
   "execution_count": null,
   "metadata": {},
   "outputs": [],
   "source": []
  },
  {
   "cell_type": "markdown",
   "metadata": {},
   "source": [
    "# 21"
   ]
  },
  {
   "cell_type": "code",
   "execution_count": null,
   "metadata": {},
   "outputs": [],
   "source": []
  },
  {
   "cell_type": "markdown",
   "metadata": {},
   "source": [
    "# 25\n"
   ]
  },
  {
   "cell_type": "code",
   "execution_count": null,
   "metadata": {},
   "outputs": [],
   "source": [
    "class StringAnalyzer:\n",
    "    def __init__(self, text: str):\n",
    "        self.text = text\n",
    "        self.length = self.calculate_length()\n",
    "        self.word_count = self.calculate_word_count()\n",
    "        \n",
    "    def calculate_length(self) -> int:\n",
    "        return len(self.text)\n",
    "    \n",
    "    def calculate_word_count(self) -> int:\n",
    "        words = self.text.strip().split()\n",
    "        return len(words)\n",
    "    \n",
    "    def __str__(self) -> str:\n",
    "        return f\"Текст: {self.text}\\n Длина: {self.length}\\n Количество слов: {self.word_count}\"\n"
   ]
  },
  {
   "cell_type": "code",
   "execution_count": 2,
   "metadata": {},
   "outputs": [
    {
     "data": {
      "text/plain": [
       "11"
      ]
     },
     "execution_count": 2,
     "metadata": {},
     "output_type": "execute_result"
    }
   ],
   "source": [
    "text = \"Привет мир!\"\n",
    "string_analyzer = StringAnalyzer(text)\n",
    "string_analyzer.length"
   ]
  },
  {
   "cell_type": "code",
   "execution_count": 11,
   "metadata": {},
   "outputs": [
    {
     "data": {
      "text/plain": [
       "2"
      ]
     },
     "execution_count": 11,
     "metadata": {},
     "output_type": "execute_result"
    }
   ],
   "source": [
    "string_analyzer.word_count\n"
   ]
  },
  {
   "cell_type": "code",
   "execution_count": 14,
   "metadata": {},
   "outputs": [
    {
     "data": {
      "text/plain": [
       "'Текст: Привет мир!\\nДлина: 11\\nКоличество слов: 2'"
      ]
     },
     "execution_count": 14,
     "metadata": {},
     "output_type": "execute_result"
    }
   ],
   "source": [
    "str(string_analyzer)"
   ]
  },
  {
   "cell_type": "markdown",
   "metadata": {},
   "source": [
    "# 26"
   ]
  },
  {
   "cell_type": "code",
   "execution_count": 7,
   "metadata": {},
   "outputs": [],
   "source": [
    "class Money:\n",
    "    def __init__(self, nominal: int, count: int):\n",
    "        self.nominal = nominal\n",
    "        self.count = count\n",
    "        \n",
    "    @property\n",
    "    def total_sum(self) -> int:\n",
    "        return self.nominal * self.count\n",
    "    \n",
    "    def display_info(self) -> None:\n",
    "        print(f\"Номинал купюры: {self.nominal} руб.\")\n",
    "        print(f\"Количество купюр: {self.count} шт.\")\n",
    "        print(f\"Общая сумма: {self.total_sum} руб.\")\n",
    "    \n",
    "    def can_afford(self, price: int) -> bool:\n",
    "        return self.total_sum >= price\n",
    "    \n",
    "    def calculate_items(self, price: int) -> int:\n",
    "        if price <= 0:\n",
    "            raise ValueError(\"Цена товара должна быть больше 0\")\n",
    "        return self.total_sum // price\n",
    "\n",
    "\n"
   ]
  },
  {
   "cell_type": "code",
   "execution_count": 8,
   "metadata": {},
   "outputs": [
    {
     "name": "stdout",
     "output_type": "stream",
     "text": [
      "Номинал купюры: 100 руб.\n",
      "Количество купюр: 10 шт.\n",
      "Общая сумма: 1000 руб.\n"
     ]
    }
   ],
   "source": [
    "\n",
    "wallet = Money(100, 10)\n",
    "\n",
    "wallet.display_info()"
   ]
  },
  {
   "cell_type": "code",
   "execution_count": 9,
   "metadata": {},
   "outputs": [
    {
     "data": {
      "text/plain": [
       "True"
      ]
     },
     "execution_count": 9,
     "metadata": {},
     "output_type": "execute_result"
    }
   ],
   "source": [
    "wallet.can_afford(500)\n"
   ]
  },
  {
   "cell_type": "code",
   "execution_count": 10,
   "metadata": {},
   "outputs": [
    {
     "data": {
      "text/plain": [
       "10"
      ]
     },
     "execution_count": 10,
     "metadata": {},
     "output_type": "execute_result"
    }
   ],
   "source": [
    "\n",
    "wallet.calculate_items(100)"
   ]
  },
  {
   "cell_type": "markdown",
   "metadata": {},
   "source": [
    "# 27"
   ]
  },
  {
   "cell_type": "markdown",
   "metadata": {},
   "source": [
    "Создайте класс ТОВАР с методами, позволяющими вывести на экран информацию о товаре, а также определить, может ли приобрести товар покупатель, имеющий заданную сумму денег. Создайте дочерние классы ПРОДУКТ (название, цена, дата производства, срок годности), ПАРТИЯ (название, цена за штуку, количество штук, дата производства, срок годности), ТЕЛЕФОН (название, цена) со своими методами вывода информации на экран и определения соответствия заданной цене. Создайте список из  n  товаров, выведите полную информацию из базы на экран, а также организуйте поиск товара, который может приобрести покупатель, имеющий заданную сумму денег."
   ]
  },
  {
   "cell_type": "code",
   "execution_count": 2,
   "metadata": {},
   "outputs": [],
   "source": [
    "# class Item():\n",
    "#     def __init__(self, info, price):\n",
    "#         self.info = info\n",
    "#         self.price = price\n",
    "    \n",
    "#     def check(self, money):\n",
    "#         return self.price <= money\n",
    "    \n",
    "#     def show_info(self):\n",
    "#         print(self.info)\n",
    "\n",
    "class Popa():\n",
    "    @staticmethod\n",
    "    def popa_print(popa_name):\n",
    "        print(popa_name)\n",
    "\n",
    "\n",
    "class Stuff(Popa):\n",
    "    def __init__(self, popa_name):\n",
    "        self.popa_name = popa_name\n",
    "    def print_all(self):\n",
    "        self.popa_print(self.popa_name)\n",
    "\n",
    "\n",
    "st = Stuff('Danial')\n",
    "\n"
   ]
  },
  {
   "cell_type": "code",
   "execution_count": 3,
   "metadata": {},
   "outputs": [
    {
     "name": "stdout",
     "output_type": "stream",
     "text": [
      "Danial\n"
     ]
    }
   ],
   "source": [
    "st.print_all()"
   ]
  },
  {
   "cell_type": "code",
   "execution_count": null,
   "metadata": {},
   "outputs": [],
   "source": []
  }
 ],
 "metadata": {
  "kernelspec": {
   "display_name": "Python 3",
   "language": "python",
   "name": "python3"
  },
  "language_info": {
   "codemirror_mode": {
    "name": "ipython",
    "version": 3
   },
   "file_extension": ".py",
   "mimetype": "text/x-python",
   "name": "python",
   "nbconvert_exporter": "python",
   "pygments_lexer": "ipython3",
   "version": "3.10.12"
  }
 },
 "nbformat": 4,
 "nbformat_minor": 2
}
