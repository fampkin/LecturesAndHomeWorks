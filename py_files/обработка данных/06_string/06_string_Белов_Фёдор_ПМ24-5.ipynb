{
 "cells": [
  {
   "cell_type": "markdown",
   "metadata": {},
   "source": [
    "# Работа со строковыми значениями"
   ]
  },
  {
   "cell_type": "markdown",
   "metadata": {},
   "source": [
    "__Автор задач: Блохин Н.В. (NVBlokhin@fa.ru)__\n",
    "\n",
    "Материалы:\n",
    "* Макрушин С.В. Лекция \"Работа со строковыми значениям\"\n",
    "* https://pyformat.info/\n",
    "* https://docs.python.org/3/library/re.html\n",
    "    * https://docs.python.org/3/library/re.html#flags\n",
    "    * https://docs.python.org/3/library/re.html#functions\n",
    "* https://pythonru.com/primery/primery-primeneniya-regulyarnyh-vyrazheniy-v-python\n",
    "* https://kanoki.org/2019/11/12/how-to-use-regex-in-pandas/\n",
    "* https://realpython.com/nltk-nlp-python/"
   ]
  },
  {
   "cell_type": "markdown",
   "metadata": {},
   "source": [
    "## Задачи для совместного разбора"
   ]
  },
  {
   "cell_type": "markdown",
   "metadata": {},
   "source": [
    "1. Вывести на экран данные из словаря `obj` построчно в виде `k = v`, задав формат таким образом, чтобы знак равенства оказался на одной и той же позиции во всех строках. Строковые литералы обернуть в кавычки."
   ]
  },
  {
   "cell_type": "code",
   "execution_count": 1,
   "metadata": {},
   "outputs": [],
   "source": [
    "obj = {\n",
    "    \"home_page\": \"https://github.com/pypa/sampleproject\",\n",
    "    \"keywords\": \"sample setuptools development\",\n",
    "    \"license\": \"MIT\",\n",
    "}"
   ]
  },
  {
   "cell_type": "markdown",
   "metadata": {},
   "source": [
    "2. Написать регулярное выражение,которое позволит найти номера групп студентов."
   ]
  },
  {
   "cell_type": "code",
   "execution_count": 4,
   "metadata": {},
   "outputs": [
    {
     "data": {
      "text/plain": [
       "0    Евгения гр.ПМ19-1\n",
       "1         Илья пм 20-4\n",
       "2            Анна 20-3\n",
       "dtype: object"
      ]
     },
     "execution_count": 4,
     "metadata": {},
     "output_type": "execute_result"
    }
   ],
   "source": [
    "obj = pd.Series([\"Евгения гр.ПМ19-1\", \"Илья пм 20-4\", \"Анна 20-3\"])\n",
    "obj"
   ]
  },
  {
   "cell_type": "markdown",
   "metadata": {},
   "source": [
    "3. Разбейте текст формулировки задачи 2 на слова."
   ]
  },
  {
   "cell_type": "markdown",
   "metadata": {},
   "source": [
    "---\n",
    "## Лабораторная работа 6.1"
   ]
  },
  {
   "cell_type": "markdown",
   "metadata": {},
   "source": [
    "### Форматирование строк"
   ]
  },
  {
   "cell_type": "markdown",
   "metadata": {},
   "source": [
    "6\\.1\\.1\\. Загрузите данные из файла `recipes_sample.csv` (__ЛР2__) в виде `pd.DataFrame` `recipes` При помощи форматирования строк выведите информацию об id рецепта и времени выполнения 5 случайных рецептов в виде таблицы следующего вида:\n",
    "\n",
    "    \n",
    "    |      id      |  minutes  |\n",
    "    |--------------------------|\n",
    "    |    61178     |    65     |\n",
    "    |    202352    |    80     |\n",
    "    |    364322    |    150    |\n",
    "    |    26177     |    20     |\n",
    "    |    224785    |    35     |\n",
    "    \n",
    "Обратите внимание, что ширина столбцов заранее неизвестна и должна рассчитываться динамически, в зависимости от тех данных, которые были выбраны. "
   ]
  },
  {
   "cell_type": "code",
   "execution_count": 3,
   "metadata": {},
   "outputs": [
    {
     "data": {
      "text/html": [
       "<div>\n",
       "<style scoped>\n",
       "    .dataframe tbody tr th:only-of-type {\n",
       "        vertical-align: middle;\n",
       "    }\n",
       "\n",
       "    .dataframe tbody tr th {\n",
       "        vertical-align: top;\n",
       "    }\n",
       "\n",
       "    .dataframe thead th {\n",
       "        text-align: right;\n",
       "    }\n",
       "</style>\n",
       "<table border=\"1\" class=\"dataframe\">\n",
       "  <thead>\n",
       "    <tr style=\"text-align: right;\">\n",
       "      <th></th>\n",
       "      <th>name</th>\n",
       "      <th>id</th>\n",
       "      <th>minutes</th>\n",
       "      <th>contributor_id</th>\n",
       "      <th>submitted</th>\n",
       "      <th>n_steps</th>\n",
       "      <th>description</th>\n",
       "      <th>n_ingredients</th>\n",
       "    </tr>\n",
       "  </thead>\n",
       "  <tbody>\n",
       "    <tr>\n",
       "      <th>0</th>\n",
       "      <td>george s at the cove  black bean soup</td>\n",
       "      <td>44123</td>\n",
       "      <td>90</td>\n",
       "      <td>35193</td>\n",
       "      <td>2002-10-25</td>\n",
       "      <td>NaN</td>\n",
       "      <td>an original recipe created by chef scott meska...</td>\n",
       "      <td>18.0</td>\n",
       "    </tr>\n",
       "    <tr>\n",
       "      <th>1</th>\n",
       "      <td>healthy for them  yogurt popsicles</td>\n",
       "      <td>67664</td>\n",
       "      <td>10</td>\n",
       "      <td>91970</td>\n",
       "      <td>2003-07-26</td>\n",
       "      <td>NaN</td>\n",
       "      <td>my children and their friends ask for my homem...</td>\n",
       "      <td>NaN</td>\n",
       "    </tr>\n",
       "    <tr>\n",
       "      <th>2</th>\n",
       "      <td>i can t believe it s spinach</td>\n",
       "      <td>38798</td>\n",
       "      <td>30</td>\n",
       "      <td>1533</td>\n",
       "      <td>2002-08-29</td>\n",
       "      <td>NaN</td>\n",
       "      <td>these were so go, it surprised even me.</td>\n",
       "      <td>8.0</td>\n",
       "    </tr>\n",
       "    <tr>\n",
       "      <th>3</th>\n",
       "      <td>italian  gut busters</td>\n",
       "      <td>35173</td>\n",
       "      <td>45</td>\n",
       "      <td>22724</td>\n",
       "      <td>2002-07-27</td>\n",
       "      <td>NaN</td>\n",
       "      <td>my sister-in-law made these for us at a family...</td>\n",
       "      <td>NaN</td>\n",
       "    </tr>\n",
       "    <tr>\n",
       "      <th>4</th>\n",
       "      <td>love is in the air  beef fondue   sauces</td>\n",
       "      <td>84797</td>\n",
       "      <td>25</td>\n",
       "      <td>4470</td>\n",
       "      <td>2004-02-23</td>\n",
       "      <td>4.0</td>\n",
       "      <td>i think a fondue is a very romantic casual din...</td>\n",
       "      <td>NaN</td>\n",
       "    </tr>\n",
       "  </tbody>\n",
       "</table>\n",
       "</div>"
      ],
      "text/plain": [
       "                                       name     id  minutes  contributor_id  \\\n",
       "0     george s at the cove  black bean soup  44123       90           35193   \n",
       "1        healthy for them  yogurt popsicles  67664       10           91970   \n",
       "2              i can t believe it s spinach  38798       30            1533   \n",
       "3                      italian  gut busters  35173       45           22724   \n",
       "4  love is in the air  beef fondue   sauces  84797       25            4470   \n",
       "\n",
       "    submitted  n_steps                                        description  \\\n",
       "0  2002-10-25      NaN  an original recipe created by chef scott meska...   \n",
       "1  2003-07-26      NaN  my children and their friends ask for my homem...   \n",
       "2  2002-08-29      NaN            these were so go, it surprised even me.   \n",
       "3  2002-07-27      NaN  my sister-in-law made these for us at a family...   \n",
       "4  2004-02-23      4.0  i think a fondue is a very romantic casual din...   \n",
       "\n",
       "   n_ingredients  \n",
       "0           18.0  \n",
       "1            NaN  \n",
       "2            8.0  \n",
       "3            NaN  \n",
       "4            NaN  "
      ]
     },
     "execution_count": 3,
     "metadata": {},
     "output_type": "execute_result"
    }
   ],
   "source": [
    "import pandas as pd\n",
    "\n",
    "df = pd.read_csv('recipes_sample.csv')\n",
    "df.head()"
   ]
  },
  {
   "cell_type": "code",
   "execution_count": null,
   "metadata": {},
   "outputs": [
    {
     "name": "stdout",
     "output_type": "stream",
     "text": [
      "|     id     |   minutes   |\n",
      "|------------|-------------|\n",
      "|   23842    |     200     |\n",
      "|   200559   |     75      |\n",
      "|   183731   |     30      |\n",
      "|   74392    |     62      |\n",
      "|   477032   |     55      |\n"
     ]
    }
   ],
   "source": [
    "import pandas as pd\n",
    "\n",
    "recipes = pd.read_csv('recipes_sample.csv')\n",
    "\n",
    "random_recipes = recipes.sample(n=5)[['id', 'minutes']]\n",
    "\n",
    "id_width = max(len(str(id_)) for id_ in random_recipes['id'].values)\n",
    "minutes_width = max(len(str(min_)) for min_ in random_recipes['minutes'].values)\n",
    "\n",
    "id_width = max(id_width, len('id'))\n",
    "minutes_width = max(minutes_width, len('minutes'))\n",
    "\n",
    "header_template = f\"|{' id ':^{id_width + 6}}|{'minutes':^{minutes_width + 6}}|\"\n",
    "separator = f\"|{'-' * (id_width + 6)}|{'-' * (minutes_width + 6)}|\"\n",
    "\n",
    "print(header_template)\n",
    "print(separator)\n",
    "for _, row in random_recipes.iterrows():\n",
    "    row_template = f\"|{str(row['id']):^{id_width + 6}}|{str(row['minutes']):^{minutes_width + 6}}|\"\n",
    "    print(row_template)"
   ]
  },
  {
   "cell_type": "markdown",
   "metadata": {},
   "source": [
    "6\\.1\\.2\\. Напишите функцию `show_info`, которая по данным о рецепте создает строку (в смысле объекта python) с описанием следующего вида:\n",
    "\n",
    "```\n",
    "\"Название Из Нескольких Слов\"\n",
    "\n",
    "1. Шаг 1\n",
    "2. Шаг 2\n",
    "----------\n",
    "Автор: contributor_id\n",
    "Среднее время приготовления: minutes минут\n",
    "```\n",
    "\n",
    "    \n",
    "Данные для создания строки получите из файлов `recipes_sample.csv` (__ЛР2__) и `steps_sample.xml` (__ЛР3__). \n",
    "Вызовите данную функцию для рецепта с id `170895` и выведите (через `print`) полученную строку на экран."
   ]
  },
  {
   "cell_type": "code",
   "execution_count": 17,
   "metadata": {},
   "outputs": [
    {
     "name": "stdout",
     "output_type": "stream",
     "text": [
      "\"Leeks And Parsnips Sauteed Or Creamed\"\n",
      "\n",
      "1. Clean the leeks and discard the dark green portions\n",
      "2. Cut the leeks lengthwise then into one-inch pieces\n",
      "3. Melt the butter in a medium skillet , med\n",
      "4. Heat\n",
      "5. Add the garlic and fry 'til fragrant\n",
      "6. Add leeks and fry until the leeks are tender , about 6-minutes\n",
      "7. Meanwhile , peel and chunk the parsnips into one-inch pieces\n",
      "8. Place in a steaming basket and steam 'til they are as tender as you prefer\n",
      "9. I like them fork-tender\n",
      "10. Drain parsnips and add to the skillet with the leeks\n",
      "11. Add salt and pepper\n",
      "12. Gently sautee together for 5-minutes\n",
      "13. At this point you can serve it , or continue on and cream it:\n",
      "14. In a jar with a screw top , add the half-n-half and arrowroot\n",
      "15. Shake 'til blended\n",
      "16. Turn heat to low under the leeks and parsnips\n",
      "17. Pour in the arrowroot mixture , stirring gently as you pour\n",
      "18. If too thick , gradually add the water\n",
      "19. Let simmer for a couple of minutes\n",
      "20. Taste to adjust seasoning , probably an additional 1 / 2 teaspoon salt\n",
      "21. Serve warm\n",
      "----------\n",
      "Автор: 8377\n",
      "Среднее время приготовления: 27 минут\n",
      "\n"
     ]
    }
   ],
   "source": [
    "import pandas as pd\n",
    "import xml.etree.ElementTree as ET\n",
    "\n",
    "def capitalize_title(title):\n",
    "    return ' '.join(word.capitalize() for word in title.split())\n",
    "\n",
    "def show_info(name, steps, minutes, author_id):\n",
    "    formatted_name = f'\"{capitalize_title(name)}\"\\n'\n",
    "    \n",
    "    formatted_steps = '\\n'.join(f\"{i+1}. {step.capitalize()}\" \n",
    "                              for i, step in enumerate(steps))\n",
    "    separator = \"----------\"\n",
    "    author_info = f\"Автор: {author_id}\"\n",
    "    time_info = f\"Среднее время приготовления: {minutes} минут\"\n",
    "    \n",
    "    result = f\"{formatted_name}\\n{formatted_steps}\\n{separator}\\n{author_info}\\n{time_info}\\n\"\n",
    "    \n",
    "    return result\n",
    "\n",
    "recipes = pd.read_csv('recipes_sample.csv')\n",
    "\n",
    "tree = ET.parse('steps_sample.xml')\n",
    "root = tree.getroot()\n",
    "\n",
    "recipe_data = recipes[recipes['id'] == 170895].iloc[0]\n",
    "\n",
    "steps = []\n",
    "target_id = '170895'\n",
    "\n",
    "for recipe in root.findall('recipe'):\n",
    "    recipe_id = recipe.find('id')\n",
    "    if recipe_id is not None and recipe_id.text == target_id:\n",
    "        steps_element = recipe.find('steps')\n",
    "        if steps_element is not None:\n",
    "            steps = [step.text for step in steps_element.findall('step')]\n",
    "        break\n",
    "\n",
    "\n",
    "result = show_info(\n",
    "    name=recipe_data['name'],\n",
    "    steps=steps,\n",
    "    minutes=recipe_data['minutes'],\n",
    "    author_id=recipe_data['contributor_id']\n",
    ")\n",
    "print(result)\n"
   ]
  },
  {
   "cell_type": "code",
   "execution_count": 18,
   "metadata": {},
   "outputs": [],
   "source": [
    "assert (\n",
    "    show_info(\n",
    "        name=\"george s at the cove black bean soup\",\n",
    "        steps=[\n",
    "            \"clean the leeks and discard the dark green portions\",\n",
    "            \"cut the leeks lengthwise then into one-inch pieces\",\n",
    "            \"melt the butter in a medium skillet , med\",\n",
    "        ],\n",
    "        minutes=90,\n",
    "        author_id=35193,\n",
    "    )\n",
    "    == '\"George S At The Cove Black Bean Soup\"\\n\\n1. Clean the leeks and discard the dark green portions\\n2. Cut the leeks lengthwise then into one-inch pieces\\n3. Melt the butter in a medium skillet , med\\n----------\\nАвтор: 35193\\nСреднее время приготовления: 90 минут\\n'\n",
    ")"
   ]
  },
  {
   "cell_type": "markdown",
   "metadata": {},
   "source": [
    "## Работа с регулярными выражениями"
   ]
  },
  {
   "cell_type": "markdown",
   "metadata": {},
   "source": [
    "6\\.1\\.3\\. Напишите регулярное выражение, которое ищет следующий паттерн в строке: число (1 цифра или более), затем пробел, затем слова: hour или hours или minute или minutes. Произведите поиск по данному регулярному выражению в каждом шаге рецепта с id 25082. Выведите на экран все непустые результаты, найденные по данному шаблону."
   ]
  },
  {
   "cell_type": "code",
   "execution_count": 19,
   "metadata": {},
   "outputs": [
    {
     "name": "stdout",
     "output_type": "stream",
     "text": [
      "Найденные упоминания времени в рецепте 25082:\n",
      "В шаге 'turn out onto a lightly floured board and knead for about 20 minutes , adding flour as nescessary to keep the dough from sticking to the board':\n",
      "Найдено: 20 minute\n",
      "В шаге 'when it has been sufficiently kneaded , cover it with a damp cloth for about 10 minutes and wash and grease the bowl lightly':\n",
      "Найдено: 10 minute\n",
      "В шаге 'let the dough rise until it springs back when you stick your finger in it , and it is about twice the size as it was before (this takes about 2 hours':\n",
      "Найдено: 2 hour\n",
      "В шаге 'when the dough has risen twice , deflate it again and cover it with the damp cloth again for about 10 minutes , then divide it into and shape it into loaves , buns , etc':\n",
      "Найдено: 10 minute\n",
      "В шаге 'bake at 400 for 20 minutes , and then turn the oven down to 350 and bake for 20-30 minutes longer , until the loaf is a lovely brown and sounds hollow when you thump it on the bottom':\n",
      "Найдено: 20 minute\n",
      "Найдено: 30 minute\n"
     ]
    }
   ],
   "source": [
    "import xml.etree.ElementTree as ET\n",
    "import re\n",
    "tree = ET.parse('steps_sample.xml')\n",
    "root = tree.getroot()\n",
    "time_pattern = r'\\d+\\s(?:hour|hours|minute|minutes)'\n",
    "\n",
    "steps = []\n",
    "target_id = '25082'\n",
    "\n",
    "for recipe in root.findall('recipe'):\n",
    "    recipe_id = recipe.find('id')\n",
    "    if recipe_id is not None and recipe_id.text == target_id:\n",
    "        steps_element = recipe.find('steps')\n",
    "        if steps_element is not None:\n",
    "            steps = [step.text for step in steps_element.findall('step')]\n",
    "        break\n",
    "\n",
    "print(f\"Найденные упоминания времени в рецепте {target_id}:\")\n",
    "for step in steps:\n",
    "    matches = re.findall(time_pattern, step)\n",
    "    if matches: \n",
    "        print(f\"В шаге '{step}':\")\n",
    "        for match in matches:\n",
    "            print(f\"Найдено: {match}\")"
   ]
  },
  {
   "cell_type": "markdown",
   "metadata": {},
   "source": [
    "6\\.1\\.4\\. Напишите регулярное выражение, которое ищет шаблон вида \"this..., but\" _в начале строки_ . Между словом \"this\" и частью \", but\" может находиться произвольное число букв, цифр, знаков подчеркивания и пробелов. Никаких других символов вместо многоточия быть не может. Пробел между запятой и словом \"but\" может присутствовать или отсутствовать.\n",
    "\n",
    "Используя строковые методы `pd.Series`, выясните, для каких рецептов данный шаблон содержится в тексте описания. Выведите на экран количество таких рецептов и 3 примера подходящих описаний (текст описания должен быть виден на экране полностью)."
   ]
  },
  {
   "cell_type": "code",
   "execution_count": 21,
   "metadata": {},
   "outputs": [
    {
     "name": "stdout",
     "output_type": "stream",
     "text": [
      "Количество рецептов с подходящим шаблоном: 133\n",
      "\n",
      "Примеры описаний:\n",
      "--------------------------------------------------------------------------------\n",
      "this is a great meal eaten the same day ,but even better the next day , if you can wait! add your favourite spices, but try it first as it is and i think that you will enjoy the 'vegetable' taste. good for freezing.\n",
      "--------------------------------------------------------------------------------\n",
      "this was adapted from a recipe i found on the net, but i added julienne onion to the peppers.  this is a meal in itself, or you could have a small slice with a meat dish.  for those that like to have brunch, it's a bit different to your traditional quiche recipes.  if you love cheese, you could add 1/2 cup of your favorite to the egg mixture, then pour over peppers.\n",
      "--------------------------------------------------------------------------------\n",
      "this is kind of similar to some of the other versions out there, but it is the best and easiest i have found\n",
      "--------------------------------------------------------------------------------\n"
     ]
    }
   ],
   "source": [
    "import pandas as pd\n",
    "\n",
    "recipes = pd.read_csv('recipes_sample.csv')\n",
    "\n",
    "pattern = r'^this[a-zA-Z0-9_\\s]*,\\s*but'\n",
    "\n",
    "matching_recipes = recipes[recipes['description'].str.contains(pattern, regex=True, na=False)]\n",
    "\n",
    "print(f\"Количество рецептов с подходящим шаблоном: {len(matching_recipes)}\")\n",
    "print(\"\\nПримеры описаний:\")\n",
    "print(\"-\" * 80)\n",
    "for desc in matching_recipes['description'].head(3):\n",
    "    print(desc)\n",
    "    print(\"-\" * 80)"
   ]
  },
  {
   "cell_type": "markdown",
   "metadata": {},
   "source": [
    "## Лабораторная работа 6.2"
   ]
  },
  {
   "cell_type": "markdown",
   "metadata": {},
   "source": [
    "6\\.2\\.1\\. В текстах шагов рецептов обыкновенные дроби имеют вид \"a / b\". Используя регулярные выражения, уберите в тексте шагов рецепта с id 72367 пробелы до и после символа дроби. Выведите на экран шаги этого рецепта после их изменения."
   ]
  },
  {
   "cell_type": "code",
   "execution_count": null,
   "metadata": {},
   "outputs": [
    {
     "name": "stdout",
     "output_type": "stream",
     "text": [
      "Шаги рецепта 72367 после обработки:\n",
      "--------------------------------------------------\n",
      "1. mix butter , flour , 1/3 c\n",
      "2. sugar and 1-1/4 t\n",
      "3. vanilla\n",
      "4. press into greased 9\" springform pan\n",
      "5. mix cream cheese , 1/4 c\n",
      "6. sugar , eggs and 1/2 t\n",
      "7. vanilla beating until fluffy\n",
      "8. pour over dough\n",
      "9. combine apples , 1/3 c\n",
      "10. sugar and cinnamon\n",
      "11. arrange on top of cream cheese mixture and sprinkle with almonds\n",
      "12. bake at 350 for 45-55 minutes , or until tester comes out clean\n"
     ]
    }
   ],
   "source": [
    "import xml.etree.ElementTree as ET\n",
    "import re\n",
    "\n",
    "tree = ET.parse('steps_sample.xml')\n",
    "root = tree.getroot()\n",
    "\n",
    "steps = []\n",
    "target_id = '72367'\n",
    "\n",
    "for recipe in root.findall('recipe'):\n",
    "    recipe_id = recipe.find('id')\n",
    "    if recipe_id is not None and recipe_id.text == target_id:\n",
    "        steps_element = recipe.find('steps')\n",
    "        if steps_element is not None:\n",
    "            steps = [step.text for step in steps_element.findall('step')]\n",
    "        break\n",
    "\n",
    "fraction_pattern = r'(\\d+)\\s*/\\s*(\\d+)'\n",
    "\n",
    "print(f\"Шаги рецепта {target_id} после обработки:\")\n",
    "print(\"-\" * 50)\n",
    "\n",
    "for i, step in enumerate(steps, 1):\n",
    "    modified_step = re.sub(fraction_pattern, r'\\1/\\2', step)\n",
    "    print(f\"{i}. {modified_step}\")"
   ]
  },
  {
   "cell_type": "markdown",
   "metadata": {},
   "source": [
    "### Сегментация текста"
   ]
  },
  {
   "cell_type": "markdown",
   "metadata": {},
   "source": [
    "6\\.2\\.2\\. Разбейте тексты шагов рецептов на слова при помощи пакета `nltk`. Посчитайте и выведите на экран кол-во уникальных слов среди всех рецептов. Словом называется любая последовательность алфавитных символов (для проверки можно воспользоваться `str.isalpha`). При подсчете количества уникальных слов не учитывайте регистр."
   ]
  },
  {
   "cell_type": "code",
   "execution_count": 35,
   "metadata": {},
   "outputs": [
    {
     "name": "stdout",
     "output_type": "stream",
     "text": [
      "Количество уникальных слов в рецептах: 14926\n"
     ]
    }
   ],
   "source": [
    "import pandas as pd\n",
    "import xml.etree.ElementTree as ET\n",
    "import nltk\n",
    "from nltk.tokenize import word_tokenize\n",
    "\n",
    "try:\n",
    "    nltk.data.find('tokenizers/punkt')\n",
    "except LookupError:\n",
    "    nltk.download('punkt')\n",
    "\n",
    "tree = ET.parse('steps_sample.xml')\n",
    "root = tree.getroot()\n",
    "\n",
    "all_steps = []\n",
    "for recipe in root.findall('recipe'):\n",
    "    steps_element = recipe.find('steps')\n",
    "    if steps_element is not None:\n",
    "        steps = [step.text for step in steps_element.findall('step')]\n",
    "        all_steps.extend(steps)\n",
    "all_text = ' '.join(step for step in all_steps if step is not None)\n",
    "\n",
    "words = word_tokenize(all_text)\n",
    "\n",
    "unique_words = set(word.lower() for word in words if word.isalpha())\n",
    "\n",
    "print(f\"Количество уникальных слов в рецептах: {len(unique_words)}\")"
   ]
  },
  {
   "cell_type": "markdown",
   "metadata": {},
   "source": [
    "6\\.2\\.3\\. Разбейте описания рецептов из `recipes` на предложения при помощи пакета `nltk`. Найдите 5 самых длинных описаний (по количеству _предложений_) рецептов в датасете и выведите строки фрейма, соответствующие этим рецептами, в порядке убывания длины."
   ]
  },
  {
   "cell_type": "code",
   "execution_count": 36,
   "metadata": {},
   "outputs": [
    {
     "name": "stdout",
     "output_type": "stream",
     "text": [
      "5 рецептов с самыми длинными описаниями (по количеству предложений):\n",
      "\n",
      "Количество предложений в каждом описании:\n",
      "\n",
      "ID рецепта: 334113\n",
      "Количество предложений: 76\n",
      "Описание: this wonderful icing is used for icing cakes and cookies as well as for borders and art work on cakes.  it makes a delicious filling also between the layers of cakes and under fondant icing.  you can make roses but it takes 3 or more days to dry them depending on the humidity. \n",
      "\n",
      "there are many versions of “buttercream” icing. some are made with eggs and all butter.  some varieties, you have to cook your sugar to a softball stage.  others are 100% shortening or a combination of shortening and butter.\n",
      "\n",
      "each decorator has his or her favorite.  i personally think that the best taste and textured recipe is the one that has you cook your sugar, add to whipped eggs and use pounds of butter per batch. but…. i live in a state that can easily be a 100 degrees for days on end during the summer and you know what butter does on hot days.  it melts!  a greasy puddle of melted icing on a cake plate is not something i want to look at or eat.  \n",
      "\n",
      "your top notch decorators have a few options we don’t.  they have huge refrigerators to store their cakes in, and refrigerated vehicles that they can use to deliver decorated cakes. i even know a few that refuse to deliver at all. if you want their cake, you come and get it and it’s your responsibility if it melts.  these decorators don’t even turn on their ovens for a wedding cake for less than $2000.  \n",
      "\n",
      "the following recipes for buttercream icing hold up pretty well in the heat and humidity, but if you know that your cake will be out in very high temperatures, then don’t use any butter and use only a high quality shortening.  \n",
      "\n",
      "shortening:  \n",
      "\n",
      "solid shortenings definitely have their place in baking. so i’m going to talk taste tests. crisco is the hands down winner. it has a clean taste with the melting point of 106 degrees. butter melts somewhere between 88 and 98 degrees f. depending on the amount of fat in the brand.  you can see that if you need to serve a pure buttercream decorated cake, on a hot august afternoon, you could have melted roses (and i do mean greasy puddles) on the tablecloth. this is when a good quality shortening will be a great blessing. i have been told by decorator friends that some of the warehouse brand shortenings leave a grainy consistency to the icing no matter what you do.  \n",
      "\n",
      "powdered (confectioner's) sugar:  \n",
      "\n",
      "regarding powdered sugar. please use a cane sugar. i prefer c&h powdered (confectioners) sugar.  many of the cheaper brands use sugar beets for their base.  i don’t know the chemistry behind it but you definitely get different textures to your icing that can vary from batch to batch.  i spent a few months being very frustrated with the quality of my icing until a kind lady did a bit of trouble shooting for me. she recommended the cane sugar and i’ve been blessing her ever since.\n",
      "\n",
      "top-quality brands:  \n",
      "\n",
      "please be safe, buy a quality brands and then stick with it for the best results. a friend of mine, who is a wonderful cook and baker, travels a lot and she often prepares treats for her hosts. she’s learned to ask the host to have her favorite shortening and flour on hand. she has even made up a little makeup type case that carries her favorite extracts and precious spices. that way she knows what she is working with, how it handles, and what tastes she can expect for the finished product. some surprises are not pleasant. \n",
      "\n",
      "storing buttercream icing: \n",
      "\n",
      "if you are not going to be using the icing right away, place it in a clean, sealable bowl. store it in the refrigerator but please don’t place it next to the marinating salmon, garlic or broccoli.  you do not want those flavors in your icing!  i like to use my icing within a few days but it will hold in the cold refrigerator for a couple of weeks if necessary.  \n",
      "\n",
      "i often make a double batch of icing the night before i have a baking project.  that way i know that i have plenty of icing, it’s fresh and i don’t have to make it while i’m in the middle of baking the cakes.  the extra can always be used for a batch of cupcakes.\n",
      "\n",
      "when you remove the icing from the refrigerator, you might notice that the icing has taken on a sponge like texture. do yourself a favor and place the icing in a bowl and mix by hand using a back and forth, smashing motion with a spoon or icing spatula. what you want to do is to smash the bubbles out of the icing. this extra step will help to give you the smoothest icing for a pretty top and sides of the cake. i have found that you will get an even better texture of icing if it is at room temperature before you try to do your icing.\n",
      "\n",
      "bad buttercream icing days:  \n",
      "\n",
      "one thing that seems very silly but is true. there are bad buttercream days! i’ve asked quite a few decorators about this and every one says “yes, there are lousy days”. i’m not sure what causes the problem. \n",
      "\n",
      "it could be that every human has bad days so they blame the buttercream. \n",
      "\n",
      "it may be the humidity or that there is a low pressure system hanging over your town. \n",
      "\n",
      "i just know why but it is a perceived fact. the way i have handled the problem is that i changed the decoration on the cake.  i couldn’t get the smooth top or sides as i originally planned. writing a greeting on a messy top would look awful so i changed the design idea and put flowers everywhere. i could have also done a basket weave technique around the sides. just go with the flow, and don’t get frustrated. aunt martha won’t chuck the cake at you if you don’t write her name on the top this time. remember that you are creating something that is to be eaten so have fun with it.  \n",
      "\n",
      "different mixers:\n",
      "\n",
      "if you have a heavy duty counter mixer, you can prepare a whole batch at one time.  if you are using a hand mixer, divide the recipe in half.  if you notice the mixer getting hot, please stop and let the machine cool off.\n",
      "\n",
      "i also prefer to mix the buttercream on a low setting. it seems that the higher setting do the job faster but you also will get a spongy texture to the icing. i don’t want that quality in my final ice coating or flowers on the cake. \n",
      "\n",
      "using weight scales:\n",
      "\n",
      "1 cup of crisco weighs 6 ounces.  \n",
      "\n",
      "i put a piece of wax paper on my scale and start plopping spoons of shortening on until i get the desired weight. it really saves on the cleanup.  \n",
      "\n",
      "\n",
      "\n",
      "recipe from peggy at whatscookingamerica.net\n",
      "--------------------------------------------------------------------------------\n",
      "\n",
      "ID рецепта: 287008\n",
      "Количество предложений: 27\n",
      "Описание: a translucent golden-brown crust allows the green of the avocado to be seen.  the crispy exterior is a counterpoint to the unctuous interior.  these are a signature dish for me, and the one i most often get requests to make (although my seafood and ricotta stuffed buckwheat pancakes run a close second).\n",
      "\n",
      "these fritters came about ten years ago when i was shopping for a dinner i was making for a friend who is a cia-trained chef.  i was in a vegetable market and saw these gorgeous avocados that i just knew would be ripe in the next two days.  i tried to think of what i could do with them since a) everyone serves cold avocado, and b) i really am not fond of guacamole.  as i tried to think of what i could make with them that was hot, the work 'fritters' jumped into my head.  having never made a fritter before, i was a little surprised to have that thought; but having never known when a vegetable was going to be ripe before i figured i was on a roll and decided to go for it.\n",
      "\n",
      "to serve with my never-before-tried-fritters, i decided to make a crème fraîche-lime-cayenne dipping sauce.  so i made fresh crème fraîche, and used it as a base not only for this dip, but for a tia maria sauce to go with the flourless chocolate cake i made for dessert (another never-before made item, but with the recipe from cook's illustrated it was the only thing i wasn't making up as i went along).\n",
      "\n",
      "the result of the fritters was that i got to taste the test fritter, then had to dive across the couch before the last one was devoured in order to have a second.\n",
      "\n",
      "the one evolution in the recipe is the change from cayenne to chipotle in the dip.  i like the smokiness, and it gives a rough edge to something very smooth - i am all about contrast.  feel free to use whatever chile or combination thereof that you like best.  this dip is easy and stands on it's own at a party for anything you want to dip into it.  i have also made it with vegan sour cream with great results.\n",
      "\n",
      "the name alligator claws comes from an alternate name for the avocado: the alligator pear, as well as the fact that the wedges of avocado look like claws.\n",
      "\n",
      "(for those not familiar with the name alligator pear, it derives from both the tough, textured exterior - reminiscent of an alligator's hide, and the fact that you really can't eat one until it softens - just like a pear.)\n",
      "\n",
      "alligator claws are also a great name to call them if you have kids who either won't eat anything that sounds weird and you want to keep them to yourself, or - if you want your kids to eat them - if you have kids who'll only eat things that will gross other people out.\n",
      "\n",
      "if you are preparing these for kids (and i recommend you do whatever name you choose to call them), protect their palates and tone down the heat of the sauce.  maybe skip the chiles altogether and put in just a hint of finely ground pepper (white pepper won't look like black specks throughout the dip - i'm normally not that fussy, but it's something kids will notice).\n",
      "\n",
      "allow half an avocado per person.  this is so rich that more is too much.\n",
      "\n",
      "note:\n",
      "you can easily cut the recipe in half, all the batter is is a one-to-one mix of flour & water (someone has suggested trying tempura batter which comes in a mix at many supermarkets - i tend to be a from-scratch kind of guy.  or do i just mean itchy?).\n",
      "\n",
      "enjoy.\n",
      "\n",
      "-- text by michael david winter, aka the poker roach\n",
      "--------------------------------------------------------------------------------\n",
      "\n",
      "ID рецепта: 328708\n",
      "Количество предложений: 24\n",
      "Описание: this is one of the best soups i've ever made and it is even worthy of company.  so simple, yet rich in deep, mushroomy flavor.  the inspiration was zaar #26877, a delicious mushroom rice casserole.  i found i couldn't stop eating the liquid before putting the casserole into the oven and that gave me the idea that the base  would make a delicious soup.  and it does! \n",
      "use plenty of fresh mushrooms.  i buy them when they are marked 1/2 price at the grocery, as this is a good way to use your 'shrooms that are starting to get dark.  it is the soy sauce that transforms the broth from ho-hum to yum.  i try to use low sodium or home-made no sodium chicken broth so that i can use the soy for the sodium.  there is no sense of \"asian\" in this soup at all.  ( i would not make this without the soy. )  just a little bit adds the depth of flavor and even color that transforms the soup.\n",
      "\n",
      "notes:\n",
      "1. if you want to make it into \"cream of\" just add some evaporated milk...delicious. \n",
      "\n",
      "2.  once i broke up a leftover ground sirloin burger into my soup bowl and nuked it...was that ever good.\n",
      "\n",
      "3. i did do this recipe with sinewy beef scraps cut from a roast once.  i browned the beef in the bottom of the pan, added the butter and onions and continued as written.  the beef added great color and flavor.  in this case, i threw the beef piece away, because it had too much sinew, but it was a great addition!  i ended up using less soy.\n",
      "\n",
      "4.  i have eye-ball made this soup with amounts i had in the fridge/cupboard and it was great.  so if you don't have that many mushrooms, make it anyway, just keep tasting it until it tastes good to you! \n",
      "\n",
      "5.  i've made it without food-processing the onions, and that worked just as well.\n",
      "\n",
      " lots of flexibility here!  try it, it might be the best barley mushroom soup you've ever had!\n",
      "--------------------------------------------------------------------------------\n",
      "\n",
      "ID рецепта: 205348\n",
      "Количество предложений: 23\n",
      "Описание: i wrote this because there are an astounding lack of chocolate tea recipes on the internet. \n",
      "\n",
      " the first time i heard about chocolate tea was doing a web search on chocolate. there seem to be a few companies out there who sell chocolate tea. i like to stay up late and had run out of coffee. i was in real need for a good tasting caffene beverage. i first thought chocolate tea would be yucky. we are conditioned to accept chocolate with coffee as a rule but not tea. i was very mistaken! \n",
      "\n",
      " tea and chocolate goes very well with each other and it is also very good for your body. both tea and chocolate are loaded with antioxidents. you may however not want to give this to small children because of the caffene. \n",
      "\n",
      " not having a recipe to follow, i created one. (this one) i used these ingredients because i had them on hand and it was quicker than hunting around for my pepermint extract or messing with my powered cocoa.\n",
      "\n",
      " this being said, if you do want to use powered cocoa or pepermint extract instead of the ovaltine and lifesavers please do so. experiment. this recipe is \"opensource\" :-)\n",
      "\n",
      " you will have to adjust the sugar levels to taste. if you like you can even omit the mints. i used them and i find it gives the beverage that spceial something.\n",
      "\n",
      "this recipe makes one large coffee cup of beverage.\n",
      "\n",
      "if you use regular size coffee cups you may get two servings out of this if serving each person one serving each.\n",
      "\n",
      "to serve 1 serving each to 2 or 3 people using large coffee cups, double or tripple the recipie accodingly\n",
      "\n",
      "enjoy !\n",
      "\n",
      "please let me klnow if you like it! :-)\n",
      "--------------------------------------------------------------------------------\n",
      "\n",
      "ID рецепта: 316000\n",
      "Количество предложений: 23\n",
      "Описание: the first time i made this cake i grated a million pounds of carrots on a knucklebuster.  then they invented cuisinarts!  now it is much faster to shred the carrots on a fine shredding disk and no bloody knuckles!  i have baked it in 8\", 9\", 9x13\" pans so if you want to experiment with pan size it works.  one thing i found was baking and stacking the three layers is tricky.  my favorite way is two 8\" pans for a nice layer cake and an 8\" square pan to put into the freezer for unexpected company. i hope you try this wonderful cake.  update:  in the spirit of carrot cake stories, this cake was invented by a bunny named foo-foo.  he is very famous and even has a hit song which goes like this: sing to the tune of 'down by the station'..........     \n",
      "\n",
      "\n",
      " little bunny foo foo,\n",
      "hopping through the forest,\n",
      "scooping up the field mice,\n",
      "and boppin' 'em on the head.\n",
      "\n",
      "down came the good fairy and she said - \n",
      "\n",
      "\"little bunny foo foo,\n",
      "i don't want to see you,\n",
      "scooping up the field mice,\n",
      "and boppin' 'em on the head.\n",
      "i'll give you three chances,\n",
      "and if you don't behave ...\n",
      "i'll turn you into a goon!\"\n",
      "\n",
      "the next day:\n",
      "\n",
      "little bunny foo foo,\n",
      "hopping through the forest,\n",
      "scooping up the field mice,\n",
      "and boppin' 'em on the head.\n",
      "\n",
      "down came the good fairy and she said:\n",
      "\n",
      "\"little bunny foo foo,\n",
      "i don't want to see you.\n",
      "scooping up the field mice.\n",
      "and boppin' 'em on the head.\n",
      "i'll give you two more chances,\n",
      "and if you don't behave...\n",
      "i'll turn you into a goon!\"\n",
      "\n",
      "the next day:\n",
      "\n",
      "little bunny foo foo,\n",
      "hopping through the forest,\n",
      "scooping up the field mice,\n",
      "and boppin' 'em on the head.\n",
      "\n",
      "down came the good fairy and she said:\n",
      "\n",
      "\"little bunny foo foo,\n",
      "i don't want to see you,\n",
      "scooping up the field mice,\n",
      "and boppin' 'em on the head.\n",
      "i'll give you one more chance,\n",
      "and if you don't behave..........\n",
      "i'll turn you into a goon!\"\n",
      "\n",
      "the next day:\n",
      "\n",
      "little bunny foo foo,\n",
      "hopping through the forest,\n",
      "scooping up the field mice,\n",
      "and boppin' 'em on the head,\n",
      "\n",
      "down came the good fairy and she said\n",
      "\n",
      "\"little bunny foo foo,\n",
      "i don't want to see you,\n",
      "scooping up the field mice,\n",
      "and boppin' 'em on the head.\n",
      "i gave you three chances\n",
      "and you didn't behave\n",
      "now you're a goon! poof!!\"\n",
      "\n",
      "the moral of the story is:\n",
      "hare today, goon tomorrow\n",
      "--------------------------------------------------------------------------------\n"
     ]
    }
   ],
   "source": [
    "from nltk.tokenize import sent_tokenize\n",
    "recipes = pd.read_csv('recipes_sample.csv')\n",
    "\n",
    "def count_sentences(text):\n",
    "    if pd.isna(text): \n",
    "        return 0\n",
    "    sentences = sent_tokenize(str(text))\n",
    "    return len(sentences)\n",
    "recipes['sentence_count'] = recipes['description'].apply(count_sentences)\n",
    "longest_descriptions = recipes.nlargest(5, 'sentence_count')\n",
    "\n",
    "print(\"5 рецептов с самыми длинными описаниями (по количеству предложений):\")\n",
    "print(\"\\nКоличество предложений в каждом описании:\")\n",
    "for idx, row in longest_descriptions.iterrows():\n",
    "    print(f\"\\nID рецепта: {row['id']}\")\n",
    "    print(f\"Количество предложений: {row['sentence_count']}\")\n",
    "    print(f\"Описание: {row['description']}\")\n",
    "    print(\"-\" * 80)"
   ]
  },
  {
   "cell_type": "markdown",
   "metadata": {},
   "source": [
    "6\\.2\\.4\\. Напишите функцию, которая для заданного предложения выводит информацию о частях речи слов, входящих в предложение, в следующем виде:\n",
    "```\n",
    "PRP   VBD   DT      NNS     CC   VBD      NNS        RB   \n",
    " I  omitted the raspberries and added strawberries instead\n",
    "``` \n",
    "Для определения части речи слова можно воспользоваться `nltk.pos_tag`.\n",
    "\n",
    "Проверьте работоспособность функции на названии рецепта с id 241106.\n",
    "\n",
    "Обратите внимание, что часть речи должна находиться ровно посередине над соотвествующим словом, а между самими словами должен быть ровно один пробел.\n"
   ]
  },
  {
   "cell_type": "code",
   "execution_count": 38,
   "metadata": {},
   "outputs": [
    {
     "name": "stdout",
     "output_type": "stream",
     "text": [
      "Анализ названия рецепта с id 241106:\n",
      "--------------------------------------------------\n",
      "   JJ     NNS    IN     NNS    VBP    JJ    CC   JJ   NNS\n",
      "eggplant steaks with chickpeas feta cheese and black olives\n"
     ]
    }
   ],
   "source": [
    "import pandas as pd\n",
    "import nltk\n",
    "from nltk.tokenize import word_tokenize\n",
    "\n",
    "try:\n",
    "    nltk.data.find('tokenizers/punkt')\n",
    "    nltk.data.find('taggers/averaged_perceptron_tagger')\n",
    "except LookupError:\n",
    "    nltk.download('punkt')\n",
    "    nltk.download('averaged_perceptron_tagger')\n",
    "\n",
    "def display_pos_tags(sentence):\n",
    "    words = word_tokenize(sentence)\n",
    "\n",
    "    pos_tags = nltk.pos_tag(words)\n",
    "\n",
    "    tags_line = ''\n",
    "    words_line = ''\n",
    "    \n",
    "    for i, (word, (_, tag)) in enumerate(zip(words, pos_tags)):\n",
    "        width = max(len(word), len(tag))\n",
    "\n",
    "        centered_tag = tag.center(width)\n",
    "        centered_word = word.center(width)\n",
    "        tags_line += centered_tag + ' '\n",
    "        words_line += centered_word + ' '\n",
    "\n",
    "    print(tags_line.rstrip())\n",
    "    print(words_line.rstrip())\n",
    "\n",
    "recipes = pd.read_csv('recipes_sample.csv')\n",
    "\n",
    "recipe = recipes[recipes['id'] == 241106].iloc[0]\n",
    "recipe_name = recipe['name']\n",
    "\n",
    "print(\"Анализ названия рецепта с id 241106:\")\n",
    "print(\"-\" * 50)\n",
    "display_pos_tags(recipe_name)"
   ]
  }
 ],
 "metadata": {
  "kernelspec": {
   "display_name": "venv",
   "language": "python",
   "name": "python3"
  },
  "language_info": {
   "codemirror_mode": {
    "name": "ipython",
    "version": 3
   },
   "file_extension": ".py",
   "mimetype": "text/x-python",
   "name": "python",
   "nbconvert_exporter": "python",
   "pygments_lexer": "ipython3",
   "version": "3.13.1"
  }
 },
 "nbformat": 4,
 "nbformat_minor": 4
}
