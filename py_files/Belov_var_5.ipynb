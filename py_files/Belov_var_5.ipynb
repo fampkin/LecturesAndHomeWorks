{
 "cells": [
  {
   "cell_type": "markdown",
   "metadata": {},
   "source": [
    "# 1"
   ]
  },
  {
   "cell_type": "code",
   "execution_count": 1,
   "metadata": {},
   "outputs": [
    {
     "data": {
      "text/plain": [
       "234567898754"
      ]
     },
     "execution_count": 1,
     "metadata": {},
     "output_type": "execute_result"
    }
   ],
   "source": [
    "class BankAccount():\n",
    "    def __init__(self, account_number: int, balance: int):\n",
    "        self.account_number = account_number\n",
    "        self.balance = balance\n",
    "    def get_account_number(self):\n",
    "        return self.account_number\n",
    "    def get_balance(self):\n",
    "        return self.balance\n",
    "    def deposit(self, amount):\n",
    "        self.balance += amount\n",
    "    def withdraw(self, amount):\n",
    "        self.balance -= amount\n",
    "\n",
    "bank_acc = BankAccount(234567898754, 0)\n",
    "bank_acc.get_account_number()"
   ]
  },
  {
   "cell_type": "code",
   "execution_count": 3,
   "metadata": {},
   "outputs": [
    {
     "data": {
      "text/plain": [
       "0"
      ]
     },
     "execution_count": 3,
     "metadata": {},
     "output_type": "execute_result"
    }
   ],
   "source": [
    "bank_acc.get_balance()"
   ]
  },
  {
   "cell_type": "code",
   "execution_count": 4,
   "metadata": {},
   "outputs": [],
   "source": [
    "bank_acc.deposit(50)"
   ]
  },
  {
   "cell_type": "code",
   "execution_count": 5,
   "metadata": {},
   "outputs": [
    {
     "data": {
      "text/plain": [
       "50"
      ]
     },
     "execution_count": 5,
     "metadata": {},
     "output_type": "execute_result"
    }
   ],
   "source": [
    "bank_acc.get_balance()"
   ]
  },
  {
   "cell_type": "code",
   "execution_count": 6,
   "metadata": {},
   "outputs": [],
   "source": [
    "bank_acc.withdraw(25)"
   ]
  },
  {
   "cell_type": "code",
   "execution_count": 7,
   "metadata": {},
   "outputs": [
    {
     "data": {
      "text/plain": [
       "25"
      ]
     },
     "execution_count": 7,
     "metadata": {},
     "output_type": "execute_result"
    }
   ],
   "source": [
    "bank_acc.get_balance()"
   ]
  },
  {
   "cell_type": "markdown",
   "metadata": {},
   "source": [
    "# 2"
   ]
  },
  {
   "cell_type": "code",
   "execution_count": 11,
   "metadata": {},
   "outputs": [
    {
     "name": "stdout",
     "output_type": "stream",
     "text": [
      "=== Информация о всех автомобилях ===\n",
      "Марка: Toyota\n",
      "Модель: Corolla\n",
      "Год: 2020\n",
      "Цвет: Red\n",
      "Тип кузова: Sedan\n",
      "Количество мест: 5\n",
      "\n",
      "------------------------------\n",
      "Марка: Volvo\n",
      "Модель: S60\n",
      "Год: 2010\n",
      "Цвет: Blue\n",
      "Максимальная нагрузка: 25000\n",
      "Объем кузова: 150\n",
      "\n",
      "------------------------------\n",
      "Марка: Mercedes-Benz\n",
      "Модель: Tourismo\n",
      "Год: 2021\n",
      "Цвет: White\n",
      "Количество мест: 45\n",
      "\n",
      "------------------------------\n",
      "Марка: BMW\n",
      "Модель: X5\n",
      "Год: 2019\n",
      "Цвет: Black\n",
      "Тип кузова: SUV\n",
      "Количество мест: 5\n",
      "\n",
      "------------------------------\n",
      "Марка: MAN\n",
      "Модель: TGX\n",
      "Год: 2018\n",
      "Цвет: Red\n",
      "Максимальная нагрузка: 40000\n",
      "Объем кузова: 200\n",
      "\n",
      "------------------------------\n"
     ]
    }
   ],
   "source": [
    "class Car():\n",
    "    def __init__(self, mark, model, year, color):\n",
    "        self.mark = mark\n",
    "        self.model = model\n",
    "        self.year = year\n",
    "        self.color = color\n",
    "    def print_car_info(self):\n",
    "        print(f\"Марка: {self.mark}\\n\"\n",
    "              f\"Модель: {self.model}\\n\"\n",
    "              f\"Год: {self.year}\\n\"\n",
    "              f\"Цвет: {self.color}\")\n",
    "        \n",
    "    def is_match(self, search_mark):\n",
    "        return self.mark.lower() == search_mark.lower()\n",
    "\n",
    "class LightCar(Car):\n",
    "    def __init__(self, mark, model, year, color, body_type, count_seats):\n",
    "        super().__init__(mark, model, year, color)\n",
    "        self.body_type = body_type\n",
    "        self.count_seats = count_seats\n",
    "    def print_car_info(self):\n",
    "        super().print_car_info()\n",
    "        print(f\"Тип кузова: {self.body_type}\\n\"\n",
    "              f\"Количество мест: {self.count_seats}\\n\")\n",
    "\n",
    "class Truck(Car):\n",
    "    def __init__(self, mark, model, year, color, max_load, body_volume):\n",
    "        super().__init__(mark, model, year, color)\n",
    "        self.max_load = max_load\n",
    "        self.body_volume = body_volume\n",
    "    def print_car_info(self):\n",
    "        super().print_car_info()\n",
    "        print(f\"Максимальная нагрузка: {self.max_load}\\n\"\n",
    "              f\"Объем кузова: {self.body_volume}\\n\")\n",
    "\n",
    "class Bus(Car):\n",
    "    def __init__(self, mark, model, year, color, count_seats):\n",
    "        super().__init__(mark, model, year, color)\n",
    "        self.count_seats = count_seats\n",
    "    def print_car_info(self):\n",
    "        super().print_car_info()\n",
    "        print(f\"Количество мест: {self.count_seats}\\n\")\n",
    "\n",
    "\n",
    "cars = [\n",
    "    LightCar(\"Toyota\", \"Corolla\", 2020, \"Red\", \"Sedan\", 5),\n",
    "    Truck(\"Volvo\", \"S60\", 2010, \"Blue\", 25000, 150),\n",
    "    Bus(\"Mercedes-Benz\", \"Tourismo\", 2021, \"White\", 45),\n",
    "    LightCar(\"BMW\", \"X5\", 2019, \"Black\", \"SUV\", 5),\n",
    "    Truck(\"MAN\", \"TGX\", 2018, \"Red\", 40000, 200)\n",
    "]\n",
    "\n",
    "\n",
    "print(\"=== Информация о всех автомобилях ===\")\n",
    "for car in cars:\n",
    "    car.print_car_info()\n",
    "    print(\"-\" * 30)\n",
    "\n"
   ]
  },
  {
   "cell_type": "code",
   "execution_count": 12,
   "metadata": {},
   "outputs": [
    {
     "name": "stdout",
     "output_type": "stream",
     "text": [
      "\n",
      "=== Результаты поиска по марке 'Toyota' ===\n",
      "Марка: Toyota\n",
      "Модель: Corolla\n",
      "Год: 2020\n",
      "Цвет: Red\n",
      "Тип кузова: Sedan\n",
      "Количество мест: 5\n",
      "\n",
      "------------------------------\n"
     ]
    }
   ],
   "source": [
    "def search_car(cars, search_mark):\n",
    "    print(f\"\\n=== Результаты поиска по марке '{search_mark}' ===\")\n",
    "    found = False\n",
    "    for car in cars:    \n",
    "        if car.is_match(search_mark):\n",
    "            car.print_car_info()\n",
    "            print(\"-\" * 30)\n",
    "            found = True\n",
    "    if not found:\n",
    "        print(f\"Автомобили марки '{search_mark}' не найдены.\")\n",
    "\n",
    "search_car(cars, \"Toyota\")"
   ]
  },
  {
   "cell_type": "markdown",
   "metadata": {},
   "source": [
    "# 3"
   ]
  },
  {
   "cell_type": "code",
   "execution_count": 15,
   "metadata": {},
   "outputs": [
    {
     "name": "stdout",
     "output_type": "stream",
     "text": [
      "Строки, начинающиеся с 'ap': ['apple', 'apricot', 'appetizer']\n",
      "Сумма квадратов нечетных чисел: 165\n"
     ]
    }
   ],
   "source": [
    "def filter_strings_by_prefix(strings, prefix):\n",
    "    return [s for s in strings if s.startswith(prefix)]\n",
    "\n",
    "def sum_squares_of_odds(numbers):\n",
    "    return sum(x * x for x in numbers if x % 2 != 0)\n",
    "\n",
    "\n",
    "strings = [\"apple\", \"banana\", \"apricot\", \"orange\", \"appetizer\"]\n",
    "prefix = \"ap\"\n",
    "print(f\"Строки, начинающиеся с '{prefix}': {filter_strings_by_prefix(strings, prefix)}\")\n",
    "\n",
    "numbers = [1, 2, 3, 4, 5, 6, 7, 8, 9]\n",
    "print(f\"Сумма квадратов нечетных чисел: {sum_squares_of_odds(numbers)}\")"
   ]
  }
 ],
 "metadata": {
  "kernelspec": {
   "display_name": ".venv",
   "language": "python",
   "name": "python3"
  },
  "language_info": {
   "codemirror_mode": {
    "name": "ipython",
    "version": 3
   },
   "file_extension": ".py",
   "mimetype": "text/x-python",
   "name": "python",
   "nbconvert_exporter": "python",
   "pygments_lexer": "ipython3",
   "version": "3.12.3"
  }
 },
 "nbformat": 4,
 "nbformat_minor": 2
}
