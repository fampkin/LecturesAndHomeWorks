{
 "cells": [
  {
   "cell_type": "code",
   "execution_count": 2,
   "metadata": {},
   "outputs": [],
   "source": [
    "from sympy import *\n",
    "import numpy as np\n",
    "init_printing()"
   ]
  },
  {
   "cell_type": "code",
   "execution_count": 4,
   "metadata": {},
   "outputs": [
    {
     "data": {
      "text/latex": [
       "$\\displaystyle \\left( 4.39170809764336, \\  4.39181342058623\\right)$"
      ],
      "text/plain": [
       "(4.39170809764336, 4.39181342058623)"
      ]
     },
     "execution_count": 4,
     "metadata": {},
     "output_type": "execute_result"
    }
   ],
   "source": [
    "I = eye(2)\n",
    "gam = 0.068\n",
    "A = Matrix([[3 * gam, 2 * gam],\n",
    "            [9 * gam, 11 * gam]])\n",
    "def S(n, m):\n",
    "    eu = zeros(2)\n",
    "    for i in range(n, m+1):\n",
    "        eu += A ** i\n",
    "    return eu\n",
    "\n",
    "def B(m):\n",
    "    return ((I-A)**(-1) ) * (A ** m)\n",
    "\n",
    "max(S(3, 80)), max(B(3))"
   ]
  },
  {
   "cell_type": "code",
   "execution_count": 5,
   "metadata": {},
   "outputs": [
    {
     "name": "stdout",
     "output_type": "stream",
     "text": [
      "77\n"
     ]
    }
   ],
   "source": [
    "for k in range(2, 1999):\n",
    "    for n in range(k+1, k+50):\n",
    "        if max(S(k,n)) >= 0.0002:\n",
    "            break\n",
    "    else:\n",
    "        print(k)\n",
    "        break"
   ]
  },
  {
   "cell_type": "code",
   "execution_count": null,
   "metadata": {},
   "outputs": [],
   "source": []
  }
 ],
 "metadata": {
  "kernelspec": {
   "display_name": "Python 3",
   "language": "python",
   "name": "python3"
  },
  "language_info": {
   "codemirror_mode": {
    "name": "ipython",
    "version": 3
   },
   "file_extension": ".py",
   "mimetype": "text/x-python",
   "name": "python",
   "nbconvert_exporter": "python",
   "pygments_lexer": "ipython3",
   "version": "3.12.0"
  }
 },
 "nbformat": 4,
 "nbformat_minor": 2
}
