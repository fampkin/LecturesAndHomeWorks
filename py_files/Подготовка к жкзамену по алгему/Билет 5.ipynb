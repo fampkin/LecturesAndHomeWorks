{
 "cells": [
  {
   "cell_type": "code",
   "execution_count": 1,
   "metadata": {},
   "outputs": [],
   "source": [
    "from sympy import *\n",
    "import numpy as np\n",
    "init_printing()"
   ]
  },
  {
   "cell_type": "markdown",
   "metadata": {},
   "source": [
    "# 1"
   ]
  },
  {
   "cell_type": "code",
   "execution_count": 2,
   "metadata": {},
   "outputs": [
    {
     "data": {
      "text/latex": [
       "$\\displaystyle \\left[\\begin{matrix}9 & 4 & 3\\\\0 & 30 & 9 a - 18\\\\0 & 0 & 2646 - 423 a\\end{matrix}\\right]$"
      ],
      "text/plain": [
       "⎡9  4        3      ⎤\n",
       "⎢                   ⎥\n",
       "⎢0  30    9⋅a - 18  ⎥\n",
       "⎢                   ⎥\n",
       "⎣0  0   2646 - 423⋅a⎦"
      ]
     },
     "execution_count": 2,
     "metadata": {},
     "output_type": "execute_result"
    }
   ],
   "source": [
    "a = symbols('a')\n",
    "A = Matrix([[9, 4, 3],\n",
    "            [6, 6, a],\n",
    "            [4, 7, 8]])\n",
    "\n",
    "A.echelon_form()"
   ]
  },
  {
   "cell_type": "code",
   "execution_count": 3,
   "metadata": {},
   "outputs": [
    {
     "data": {
      "text/latex": [
       "$\\displaystyle \\left[ \\frac{294}{47}\\right]$"
      ],
      "text/plain": [
       "⎡294⎤\n",
       "⎢───⎥\n",
       "⎣47 ⎦"
      ]
     },
     "execution_count": 3,
     "metadata": {},
     "output_type": "execute_result"
    }
   ],
   "source": [
    "solve(2646 - 423 * a, a)"
   ]
  },
  {
   "cell_type": "markdown",
   "metadata": {},
   "source": [
    "# 3"
   ]
  },
  {
   "cell_type": "code",
   "execution_count": 4,
   "metadata": {},
   "outputs": [
    {
     "data": {
      "text/latex": [
       "$\\displaystyle \\left[ \\frac{587}{91}\\right]$"
      ],
      "text/plain": [
       "⎡587⎤\n",
       "⎢───⎥\n",
       "⎣91 ⎦"
      ]
     },
     "execution_count": 4,
     "metadata": {},
     "output_type": "execute_result"
    }
   ],
   "source": [
    "t = symbols('t')\n",
    "A  = Matrix(4,4, [8, 9, 7, 9, 7, 8, 2, 5, 1, 8, 5, 0, 9, 1, 5, 7])\n",
    "B = Matrix(4, 4, [1, 0, 3, 9, 3, 8, 5, 1, 8, 6, 1, 7, 0, 6, t, 2])\n",
    "C = A*B\n",
    "\n",
    "solve((C.T).echelon_form()[3::3][4], t)"
   ]
  },
  {
   "cell_type": "markdown",
   "metadata": {},
   "source": [
    "# 4"
   ]
  },
  {
   "cell_type": "code",
   "execution_count": 5,
   "metadata": {},
   "outputs": [
    {
     "data": {
      "text/latex": [
       "$\\displaystyle \\left( -1.0648148148177, \\  -2566.38558298274\\right)$"
      ],
      "text/plain": [
       "(-1.0648148148176972, -2566.385582982737)"
      ]
     },
     "execution_count": 5,
     "metadata": {},
     "output_type": "execute_result"
    }
   ],
   "source": [
    "n = 36000\n",
    "a11 = 1\n",
    "ann = 1.08\n",
    "a1n = 1.15\n",
    "\n",
    "d = (a1n-a11)/(n-1)\n",
    "q = (ann/a11)**(1/(n-1))\n",
    "\n",
    "str1 = np.array([a11 + d*i for i in range(n)])\n",
    "diag = np.array([a11 * q**(i) for i in range(n)])\n",
    "invstr1 = []\n",
    "\n",
    "for i in range(n):\n",
    "    invstr1.append(-str1[i]/(a11*diag[i]))\n",
    "min(min(invstr1), min(1/diag)), sum(1/diag) + sum(invstr1) - 1/a11\n"
   ]
  },
  {
   "cell_type": "code",
   "execution_count": 6,
   "metadata": {},
   "outputs": [
    {
     "data": {
      "text/latex": [
       "$\\displaystyle \\left[\\begin{matrix}\\frac{1}{a_{11}} & \\frac{- a_{11} - d}{a_{11}^{2} q} & \\frac{- a_{11} - 2 d}{a_{11}^{2} q^{2}} & \\frac{- a_{11} - 3 d}{a_{11}^{2} q^{3}} & \\frac{- a_{11} - 4 d}{a_{11}^{2} q^{4}} & \\frac{- a_{11} - 5 d}{a_{11}^{2} q^{5}} & \\frac{- a_{11} - 6 d}{a_{11}^{2} q^{6}} & \\frac{- a_{11} - 7 d}{a_{11}^{2} q^{7}} & \\frac{- a_{11} - 8 d}{a_{11}^{2} q^{8}} & \\frac{- a_{11} - 9 d}{a_{11}^{2} q^{9}}\\\\0 & \\frac{1}{a_{11} q} & 0 & 0 & 0 & 0 & 0 & 0 & 0 & 0\\\\0 & 0 & \\frac{1}{a_{11} q^{2}} & 0 & 0 & 0 & 0 & 0 & 0 & 0\\\\0 & 0 & 0 & \\frac{1}{a_{11} q^{3}} & 0 & 0 & 0 & 0 & 0 & 0\\\\0 & 0 & 0 & 0 & \\frac{1}{a_{11} q^{4}} & 0 & 0 & 0 & 0 & 0\\\\0 & 0 & 0 & 0 & 0 & \\frac{1}{a_{11} q^{5}} & 0 & 0 & 0 & 0\\\\0 & 0 & 0 & 0 & 0 & 0 & \\frac{1}{a_{11} q^{6}} & 0 & 0 & 0\\\\0 & 0 & 0 & 0 & 0 & 0 & 0 & \\frac{1}{a_{11} q^{7}} & 0 & 0\\\\0 & 0 & 0 & 0 & 0 & 0 & 0 & 0 & \\frac{1}{a_{11} q^{8}} & 0\\\\0 & 0 & 0 & 0 & 0 & 0 & 0 & 0 & 0 & \\frac{1}{a_{11} q^{9}}\\end{matrix}\\right]$"
      ],
      "text/plain": [
       "⎡ 1   -a₁₁ - d  -a₁₁ - 2⋅d  -a₁₁ - 3⋅d  -a₁₁ - 4⋅d  -a₁₁ - 5⋅d  -a₁₁ - 6⋅d  -a ↪\n",
       "⎢───  ────────  ──────────  ──────────  ──────────  ──────────  ──────────  ── ↪\n",
       "⎢a₁₁      2         2  2        2  3        2  4        2  5        2  6       ↪\n",
       "⎢      a₁₁ ⋅q    a₁₁ ⋅q      a₁₁ ⋅q      a₁₁ ⋅q      a₁₁ ⋅q      a₁₁ ⋅q      a ↪\n",
       "⎢                                                                              ↪\n",
       "⎢        1                                                                     ↪\n",
       "⎢ 0    ─────        0           0           0           0           0          ↪\n",
       "⎢      a₁₁⋅q                                                                   ↪\n",
       "⎢                                                                              ↪\n",
       "⎢                   1                                                          ↪\n",
       "⎢ 0      0        ──────        0           0           0           0          ↪\n",
       "⎢                      2                                                       ↪\n",
       "⎢                 a₁₁⋅q                                                        ↪\n",
       "⎢                                                                              ↪\n",
       "⎢                               1                                              ↪\n",
       "⎢ 0      0          0         ──────        0           0           0          ↪\n",
       "⎢                                  3                                           ↪\n",
       "⎢                             a₁₁⋅q                                            ↪\n",
       "⎢                                                                              ↪\n",
       "⎢                                           1                                  ↪\n",
       "⎢ 0      0          0           0         ──────        0           0          ↪\n",
       "⎢                                              4                               ↪\n",
       "⎢                                         a₁₁⋅q                                ↪\n",
       "⎢                                                                              ↪\n",
       "⎢                                                       1                      ↪\n",
       "⎢ 0      0          0           0           0         ──────        0          ↪\n",
       "⎢                                                          5                   ↪\n",
       "⎢                                                     a₁₁⋅q                    ↪\n",
       "⎢                                                                              ↪\n",
       "⎢                                                                   1          ↪\n",
       "⎢ 0      0          0           0           0           0         ──────       ↪\n",
       "⎢                                                                      6       ↪\n",
       "⎢                                                                 a₁₁⋅q        ↪\n",
       "⎢                                                                              ↪\n",
       "⎢                                                                              ↪\n",
       "⎢ 0      0          0           0           0           0           0          ↪\n",
       "⎢                                                                              ↪\n",
       "⎢                                                                              ↪\n",
       "⎢                                                                              ↪\n",
       "⎢                                                                              ↪\n",
       "⎢ 0      0          0           0           0           0           0          ↪\n",
       "⎢                                                                              ↪\n",
       "⎢                                                                              ↪\n",
       "⎢                                                                              ↪\n",
       "⎢                                                                              ↪\n",
       "⎢ 0      0          0           0           0           0           0          ↪\n",
       "⎢                                                                              ↪\n",
       "⎣                                                                              ↪\n",
       "\n",
       "↪ ₁₁ - 7⋅d  -a₁₁ - 8⋅d  -a₁₁ - 9⋅d⎤\n",
       "↪ ────────  ──────────  ──────────⎥\n",
       "↪   2  7        2  8        2  9  ⎥\n",
       "↪ ₁₁ ⋅q      a₁₁ ⋅q      a₁₁ ⋅q   ⎥\n",
       "↪                                 ⎥\n",
       "↪                                 ⎥\n",
       "↪   0           0           0     ⎥\n",
       "↪                                 ⎥\n",
       "↪                                 ⎥\n",
       "↪                                 ⎥\n",
       "↪   0           0           0     ⎥\n",
       "↪                                 ⎥\n",
       "↪                                 ⎥\n",
       "↪                                 ⎥\n",
       "↪                                 ⎥\n",
       "↪   0           0           0     ⎥\n",
       "↪                                 ⎥\n",
       "↪                                 ⎥\n",
       "↪                                 ⎥\n",
       "↪                                 ⎥\n",
       "↪   0           0           0     ⎥\n",
       "↪                                 ⎥\n",
       "↪                                 ⎥\n",
       "↪                                 ⎥\n",
       "↪                                 ⎥\n",
       "↪   0           0           0     ⎥\n",
       "↪                                 ⎥\n",
       "↪                                 ⎥\n",
       "↪                                 ⎥\n",
       "↪                                 ⎥\n",
       "↪   0           0           0     ⎥\n",
       "↪                                 ⎥\n",
       "↪                                 ⎥\n",
       "↪                                 ⎥\n",
       "↪   1                             ⎥\n",
       "↪ ──────        0           0     ⎥\n",
       "↪      7                          ⎥\n",
       "↪ a₁₁⋅q                           ⎥\n",
       "↪                                 ⎥\n",
       "↪               1                 ⎥\n",
       "↪   0         ──────        0     ⎥\n",
       "↪                  8              ⎥\n",
       "↪             a₁₁⋅q               ⎥\n",
       "↪                                 ⎥\n",
       "↪                           1     ⎥\n",
       "↪   0           0         ──────  ⎥\n",
       "↪                              9  ⎥\n",
       "↪                         a₁₁⋅q   ⎦"
      ]
     },
     "execution_count": 6,
     "metadata": {},
     "output_type": "execute_result"
    }
   ],
   "source": [
    "a11, d, q= symbols('a11 d q')\n",
    "def f(i,j):\n",
    "    if i == j:\n",
    "        return a11 * q ** i\n",
    "    if i == 0:\n",
    "        return a11 + d * j\n",
    "    return 0\n",
    "\n",
    "Matrix(10, 10, f).inv()\n"
   ]
  },
  {
   "cell_type": "code",
   "execution_count": null,
   "metadata": {},
   "outputs": [],
   "source": []
  },
  {
   "cell_type": "markdown",
   "metadata": {},
   "source": [
    "# 5"
   ]
  },
  {
   "cell_type": "code",
   "execution_count": 9,
   "metadata": {},
   "outputs": [
    {
     "data": {
      "text/plain": [
       "((0.9999999999999978+0j), 0.9047537522133955)"
      ]
     },
     "execution_count": 9,
     "metadata": {},
     "output_type": "execute_result"
    }
   ],
   "source": [
    "koefs = [1, -1, 2, 1, -1, -1, 1, 1, -1, 1, -2, 0, 2]\n",
    "roots = np.roots(koefs)\n",
    "sum(roots), max(roots.real)"
   ]
  },
  {
   "cell_type": "markdown",
   "metadata": {},
   "source": [
    "# 6"
   ]
  },
  {
   "cell_type": "code",
   "execution_count": 12,
   "metadata": {},
   "outputs": [
    {
     "data": {
      "text/latex": [
       "$\\displaystyle 1.12187373236245 - 1.71237169066063 i$"
      ],
      "text/plain": [
       "1.12187373236245 - 1.71237169066063⋅ⅈ"
      ]
     },
     "metadata": {},
     "output_type": "display_data"
    },
    {
     "data": {
      "text/latex": [
       "$\\displaystyle \\left[ 1.0, \\  -1.76855982622967 - 0.836624953516724 i, \\  0.441956484161921 + 0.893589465651691 i\\right]$"
      ],
      "text/plain": [
       "[1.0, -1.76855982622967 - 0.836624953516724⋅ⅈ, 0.441956484161921 + 0.893589465 ↪\n",
       "\n",
       "↪ 651691⋅ⅈ]"
      ]
     },
     "metadata": {},
     "output_type": "display_data"
    },
    {
     "data": {
      "text/latex": [
       "$\\displaystyle 1.12187373236245 + 1.71237169066063 i$"
      ],
      "text/plain": [
       "1.12187373236245 + 1.71237169066063⋅ⅈ"
      ]
     },
     "metadata": {},
     "output_type": "display_data"
    },
    {
     "data": {
      "text/latex": [
       "$\\displaystyle \\left[ 1.0, \\  -1.76855982622967 + 0.836624953516724 i, \\  0.441956484161921 - 0.893589465651691 i\\right]$"
      ],
      "text/plain": [
       "[1.0, -1.76855982622967 + 0.836624953516724⋅ⅈ, 0.441956484161921 - 0.893589465 ↪\n",
       "\n",
       "↪ 651691⋅ⅈ]"
      ]
     },
     "metadata": {},
     "output_type": "display_data"
    },
    {
     "data": {
      "text/latex": [
       "$\\displaystyle 62.7562525352751$"
      ],
      "text/plain": [
       "62.7562525352751"
      ]
     },
     "metadata": {},
     "output_type": "display_data"
    },
    {
     "data": {
      "text/latex": [
       "$\\displaystyle \\left[ 1.0, \\  1.21703810302, \\  1.21904319885251\\right]$"
      ],
      "text/plain": [
       "[1.0, 1.21703810302, 1.21904319885251]"
      ]
     },
     "metadata": {},
     "output_type": "display_data"
    }
   ],
   "source": [
    "A = Matrix(3, 3, [25, 17, 14, 24, 21, 22, 29, 20, 19])\n",
    "\n",
    "eigenvects = A.eigenvects()\n",
    "for val, alg_mult, vects in eigenvects:\n",
    "    vects = [x.evalf() for x in vects][0]\n",
    "    vects = [(x/vects[0]).expand() for x in vects]\n",
    "    val = val.evalf()\n",
    "    display(val)\n",
    "    display(vects)\n",
    "    "
   ]
  },
  {
   "cell_type": "code",
   "execution_count": null,
   "metadata": {},
   "outputs": [],
   "source": []
  }
 ],
 "metadata": {
  "kernelspec": {
   "display_name": "Python 3",
   "language": "python",
   "name": "python3"
  },
  "language_info": {
   "codemirror_mode": {
    "name": "ipython",
    "version": 3
   },
   "file_extension": ".py",
   "mimetype": "text/x-python",
   "name": "python",
   "nbconvert_exporter": "python",
   "pygments_lexer": "ipython3",
   "version": "3.12.0"
  }
 },
 "nbformat": 4,
 "nbformat_minor": 2
}
