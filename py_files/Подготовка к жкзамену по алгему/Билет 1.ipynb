{
 "cells": [
  {
   "cell_type": "markdown",
   "metadata": {},
   "source": [
    "#### 1. (10) Найдите количество решений следующей системы уравнений при различных значениях параметра :\n"
   ]
  },
  {
   "cell_type": "code",
   "execution_count": 1,
   "metadata": {},
   "outputs": [],
   "source": [
    "from sympy import *\n",
    "init_printing()"
   ]
  },
  {
   "cell_type": "code",
   "execution_count": 2,
   "metadata": {},
   "outputs": [
    {
     "data": {
      "text/latex": [
       "$\\displaystyle \\left[ \\frac{17}{2}\\right]$"
      ],
      "text/plain": [
       "[17/2]"
      ]
     },
     "execution_count": 2,
     "metadata": {},
     "output_type": "execute_result"
    }
   ],
   "source": [
    "a = symbols('a')\n",
    "A = Matrix([[6, 6, 6, 3],\n",
    "            [2, 8, 4, a],\n",
    "            [7, 8, 7, 5],\n",
    "            [2, 5, 4, 4]])\n",
    "A.echelon_form()\n",
    "solve(15552*a-132192, a)"
   ]
  },
  {
   "cell_type": "markdown",
   "metadata": {},
   "source": [
    "2. (10) Даны матрицы: A, B, C, D, K найти след матрицы С и след матрицы К"
   ]
  },
  {
   "cell_type": "code",
   "execution_count": 3,
   "metadata": {},
   "outputs": [
    {
     "data": {
      "text/latex": [
       "$\\displaystyle \\left( 73, \\  5329\\right)$"
      ],
      "text/plain": [
       "(73, 5329)"
      ]
     },
     "execution_count": 3,
     "metadata": {},
     "output_type": "execute_result"
    }
   ],
   "source": [
    "A = Matrix([[2, 4, 4],\n",
    "            [8, 6, 3]])\n",
    "B = Matrix([[1, 4, 3],\n",
    "            [2, 2, 5]])\n",
    "C = A.T * B\n",
    "D = A * B.T\n",
    "K = kronecker_product(C, D)\n",
    "C.trace(), K.trace()"
   ]
  },
  {
   "cell_type": "markdown",
   "metadata": {},
   "source": [
    "3. Для каждого к ...."
   ]
  },
  {
   "cell_type": "code",
   "execution_count": null,
   "metadata": {},
   "outputs": [
    {
     "data": {
      "text/latex": [
       "$\\displaystyle \\left[ 0, \\  11, \\  7, \\  3, \\  4, \\  2, \\  5, \\  8, \\  9, \\  6, \\  10, \\  1\\right]$"
      ],
      "text/plain": [
       "[0, 11, 7, 3, 4, 2, 5, 8, 9, 6, 10, 1]"
      ]
     },
     "execution_count": 4,
     "metadata": {},
     "output_type": "execute_result"
    }
   ],
   "source": [
    "from sympy.combinatorics.permutations import Permutation\n",
    "\n",
    "s1 = [1, 12, 8, 4, 5, 3, 6, 9, 10, 7, 11, 2]\n",
    "s0 = [x-1 for x in s1]\n",
    "s0"
   ]
  },
  {
   "cell_type": "code",
   "execution_count": 5,
   "metadata": {},
   "outputs": [
    {
     "data": {
      "text/latex": [
       "$\\displaystyle \\left( 1\\; 11\\right)\\left( 2\\; 7\\; 8\\; 9\\; 6\\; 5\\right)$"
      ],
      "text/plain": [
       "Permutation(1, 11)(2, 7, 8, 9, 6, 5)"
      ]
     },
     "execution_count": 5,
     "metadata": {},
     "output_type": "execute_result"
    }
   ],
   "source": [
    "p = Permutation(s0)\n",
    "p"
   ]
  },
  {
   "cell_type": "code",
   "execution_count": 6,
   "metadata": {},
   "outputs": [
    {
     "data": {
      "text/latex": [
       "$\\displaystyle \\left( 1\\; 11\\right)\\left( 2\\; 7\\; 8\\; 9\\; 6\\; 5\\right)$"
      ],
      "text/plain": [
       "Permutation(1, 11)(2, 7, 8, 9, 6, 5)"
      ]
     },
     "execution_count": 6,
     "metadata": {},
     "output_type": "execute_result"
    }
   ],
   "source": [
    "p7 = p**7\n",
    "p7"
   ]
  },
  {
   "cell_type": "code",
   "execution_count": 7,
   "metadata": {},
   "outputs": [
    {
     "data": {
      "text/latex": [
       "$\\displaystyle 4$"
      ],
      "text/plain": [
       "4"
      ]
     },
     "execution_count": 7,
     "metadata": {},
     "output_type": "execute_result"
    }
   ],
   "source": [
    "c = 0\n",
    "for i in range(12):\n",
    "    if i == p7(i):\n",
    "        c += 1\n",
    "c"
   ]
  },
  {
   "cell_type": "code",
   "execution_count": 8,
   "metadata": {},
   "outputs": [
    {
     "data": {
      "text/latex": [
       "$\\displaystyle 6$"
      ],
      "text/plain": [
       "6"
      ]
     },
     "execution_count": 8,
     "metadata": {},
     "output_type": "execute_result"
    }
   ],
   "source": [
    "p.order()"
   ]
  },
  {
   "cell_type": "code",
   "execution_count": 9,
   "metadata": {},
   "outputs": [
    {
     "data": {
      "text/latex": [
       "$\\displaystyle \\left( 4, \\  6\\right)$"
      ],
      "text/plain": [
       "(4, 6)"
      ]
     },
     "execution_count": 9,
     "metadata": {},
     "output_type": "execute_result"
    }
   ],
   "source": [
    "c, p.order()"
   ]
  },
  {
   "cell_type": "markdown",
   "metadata": {},
   "source": [
    "4."
   ]
  },
  {
   "cell_type": "code",
   "execution_count": 14,
   "metadata": {},
   "outputs": [
    {
     "data": {
      "text/latex": [
       "$\\displaystyle 5.04509924101812$"
      ],
      "text/plain": [
       "5.04509924101812"
      ]
     },
     "execution_count": 14,
     "metadata": {},
     "output_type": "execute_result"
    }
   ],
   "source": [
    "I = eye(2)\n",
    "gam = 0.103\n",
    "A = Matrix([[7*gam, 3*gam],\n",
    "            [2*gam, 5*gam]])\n",
    "\n",
    "def S(m, n):\n",
    "    ou = zeros(2)\n",
    "    for i in range(m, n+1):\n",
    "        ou += A ** i\n",
    "    return ou\n",
    "max(S(2, 70))"
   ]
  },
  {
   "cell_type": "code",
   "execution_count": 15,
   "metadata": {},
   "outputs": [
    {
     "data": {
      "text/latex": [
       "$\\displaystyle 5.04697700283278$"
      ],
      "text/plain": [
       "5.04697700283278"
      ]
     },
     "execution_count": 15,
     "metadata": {},
     "output_type": "execute_result"
    }
   ],
   "source": [
    "B2 = (I-A)**(-1) * A**2\n",
    "max(B2)"
   ]
  },
  {
   "cell_type": "code",
   "execution_count": 16,
   "metadata": {},
   "outputs": [
    {
     "name": "stdout",
     "output_type": "stream",
     "text": [
      "90\n"
     ]
    }
   ],
   "source": [
    "for k in range(2, 1999):\n",
    "    for n in range(k+1, k+50):\n",
    "        if max(S(k,n)) >= 0.0002:\n",
    "            break\n",
    "    else:\n",
    "        print(k)\n",
    "        break\n",
    "\n"
   ]
  },
  {
   "cell_type": "markdown",
   "metadata": {},
   "source": [
    "5."
   ]
  },
  {
   "cell_type": "code",
   "execution_count": 13,
   "metadata": {},
   "outputs": [
    {
     "data": {
      "text/latex": [
       "$\\displaystyle 33.6316760980701 + 5.623984542387 i$"
      ],
      "text/plain": [
       "33.6316760980701 + 5.623984542387⋅ⅈ"
      ]
     },
     "execution_count": 13,
     "metadata": {},
     "output_type": "execute_result"
    }
   ],
   "source": [
    "import numpy as np\n",
    "I = eye(2)\n",
    "A = Matrix([[8, 5],\n",
    "            [2, 4]])\n",
    "phi = 2 * np.pi / 15\n",
    "lam = np.exp(1j*phi)\n",
    "det(A + lam*I)"
   ]
  },
  {
   "cell_type": "code",
   "execution_count": 14,
   "metadata": {},
   "outputs": [
    {
     "data": {
      "text/latex": [
       "$\\displaystyle \\left( 33.6316760980701, \\  5.623984542387\\right)$"
      ],
      "text/plain": [
       "(33.6316760980701, 5.623984542387)"
      ]
     },
     "execution_count": 14,
     "metadata": {},
     "output_type": "execute_result"
    }
   ],
   "source": [
    "re(det(A + lam*I)), im(det(A + lam*I))"
   ]
  },
  {
   "cell_type": "markdown",
   "metadata": {},
   "source": [
    "6."
   ]
  },
  {
   "cell_type": "code",
   "execution_count": 15,
   "metadata": {},
   "outputs": [
    {
     "data": {
      "text/latex": [
       "$\\displaystyle 1.12187373236245 - 1.71237169066063 i$"
      ],
      "text/plain": [
       "1.12187373236245 - 1.71237169066063⋅ⅈ"
      ]
     },
     "metadata": {},
     "output_type": "display_data"
    },
    {
     "data": {
      "text/latex": [
       "$\\displaystyle \\left[ 1.0, \\  -1.76855982622967 - 0.836624953516724 i, \\  0.441956484161921 + 0.893589465651691 i\\right]$"
      ],
      "text/plain": [
       "[1.0, -1.76855982622967 - 0.836624953516724⋅ⅈ, 0.441956484161921 + 0.893589465 ↪\n",
       "\n",
       "↪ 651691⋅ⅈ]"
      ]
     },
     "metadata": {},
     "output_type": "display_data"
    },
    {
     "data": {
      "text/latex": [
       "$\\displaystyle 1.12187373236245 + 1.71237169066063 i$"
      ],
      "text/plain": [
       "1.12187373236245 + 1.71237169066063⋅ⅈ"
      ]
     },
     "metadata": {},
     "output_type": "display_data"
    },
    {
     "data": {
      "text/latex": [
       "$\\displaystyle \\left[ 1.0, \\  -1.76855982622967 + 0.836624953516724 i, \\  0.441956484161921 - 0.893589465651691 i\\right]$"
      ],
      "text/plain": [
       "[1.0, -1.76855982622967 + 0.836624953516724⋅ⅈ, 0.441956484161921 - 0.893589465 ↪\n",
       "\n",
       "↪ 651691⋅ⅈ]"
      ]
     },
     "metadata": {},
     "output_type": "display_data"
    },
    {
     "data": {
      "text/latex": [
       "$\\displaystyle 62.7562525352751$"
      ],
      "text/plain": [
       "62.7562525352751"
      ]
     },
     "metadata": {},
     "output_type": "display_data"
    },
    {
     "data": {
      "text/latex": [
       "$\\displaystyle \\left[ 1.0, \\  1.21703810302, \\  1.21904319885251\\right]$"
      ],
      "text/plain": [
       "[1.0, 1.21703810302, 1.21904319885251]"
      ]
     },
     "metadata": {},
     "output_type": "display_data"
    }
   ],
   "source": [
    "A = Matrix([[25, 17, 14],\n",
    "            [24, 21, 22],\n",
    "            [29, 20, 19]])\n",
    "\n",
    "eigenvects = A.eigenvects()\n",
    "for val, alg_mult, vects in eigenvects:\n",
    "    val = val.evalf()\n",
    "    vects = [x.evalf() for x in vects][0]\n",
    "    vects = [(x/vects[0]).expand() for x in vects]\n",
    "    display(val)\n",
    "    display(vects)"
   ]
  },
  {
   "cell_type": "code",
   "execution_count": 16,
   "metadata": {},
   "outputs": [
    {
     "data": {
      "text/latex": [
       "$\\displaystyle 1.71237169066063$"
      ],
      "text/plain": [
       "1.71237169066063"
      ]
     },
     "metadata": {},
     "output_type": "display_data"
    },
    {
     "data": {
      "text/latex": [
       "$\\displaystyle -1.76855982622967$"
      ],
      "text/plain": [
       "-1.76855982622967"
      ]
     },
     "metadata": {},
     "output_type": "display_data"
    }
   ],
   "source": [
    "display(1.71237169066063)\n",
    "display(-1.76855982622967)"
   ]
  },
  {
   "cell_type": "code",
   "execution_count": null,
   "metadata": {},
   "outputs": [],
   "source": []
  }
 ],
 "metadata": {
  "kernelspec": {
   "display_name": "Python 3",
   "language": "python",
   "name": "python3"
  },
  "language_info": {
   "codemirror_mode": {
    "name": "ipython",
    "version": 3
   },
   "file_extension": ".py",
   "mimetype": "text/x-python",
   "name": "python",
   "nbconvert_exporter": "python",
   "pygments_lexer": "ipython3",
   "version": "3.12.0"
  }
 },
 "nbformat": 4,
 "nbformat_minor": 2
}
