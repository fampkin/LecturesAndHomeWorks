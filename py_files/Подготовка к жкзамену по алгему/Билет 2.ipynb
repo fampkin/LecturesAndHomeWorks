{
 "cells": [
  {
   "cell_type": "markdown",
   "metadata": {},
   "source": [
    "# 1"
   ]
  },
  {
   "cell_type": "code",
   "execution_count": 2,
   "metadata": {},
   "outputs": [],
   "source": [
    "from sympy import *\n",
    "init_printing()"
   ]
  },
  {
   "cell_type": "code",
   "execution_count": 3,
   "metadata": {},
   "outputs": [
    {
     "data": {
      "text/latex": [
       "$\\displaystyle \\left( \\left[\\begin{matrix}1 & 0 & 0 & 6455 & 2337\\\\0 & 1 & 0 & 4174 & 1511\\\\0 & 0 & 1 & -5982 & -2165\\end{matrix}\\right], \\  \\left( 0, \\  1, \\  2\\right)\\right)$"
      ],
      "text/plain": [
       "⎛⎡1  0  0  6455   2337 ⎤           ⎞\n",
       "⎜⎢                     ⎥           ⎟\n",
       "⎜⎢0  1  0  4174   1511 ⎥, (0, 1, 2)⎟\n",
       "⎜⎢                     ⎥           ⎟\n",
       "⎝⎣0  0  1  -5982  -2165⎦           ⎠"
      ]
     },
     "execution_count": 3,
     "metadata": {},
     "output_type": "execute_result"
    }
   ],
   "source": [
    "A = Matrix([[30, 31, 54, 16, 41],\n",
    "            [35, 29, 58, 15, 44],\n",
    "            [13, 10, 21, 33, 26]])\n",
    "A.rref()"
   ]
  },
  {
   "cell_type": "markdown",
   "metadata": {},
   "source": [
    "y = 1511 - 4174*x  \n",
    "a = 1511  \n",
    "b = -4174"
   ]
  },
  {
   "cell_type": "markdown",
   "metadata": {},
   "source": [
    "# 2"
   ]
  },
  {
   "cell_type": "code",
   "execution_count": 4,
   "metadata": {},
   "outputs": [
    {
     "data": {
      "text/latex": [
       "$\\displaystyle \\left( 73, \\  5329\\right)$"
      ],
      "text/plain": [
       "(73, 5329)"
      ]
     },
     "execution_count": 4,
     "metadata": {},
     "output_type": "execute_result"
    }
   ],
   "source": [
    "A = Matrix([[2, 4, 4],\n",
    "            [8, 6, 3]])\n",
    "B = Matrix([[1, 4, 3],\n",
    "            [2, 2, 5]])\n",
    "\n",
    "C = A.T * B\n",
    "D = A * B.T\n",
    "K = kronecker_product(C, D)\n",
    "C.trace(), K.trace()"
   ]
  },
  {
   "cell_type": "markdown",
   "metadata": {},
   "source": [
    "# 3"
   ]
  },
  {
   "cell_type": "code",
   "execution_count": 5,
   "metadata": {},
   "outputs": [
    {
     "data": {
      "text/latex": [
       "$\\displaystyle - 32 x^{2} + 343 x - 783$"
      ],
      "text/plain": [
       "      2              \n",
       "- 32⋅x  + 343⋅x - 783"
      ]
     },
     "execution_count": 5,
     "metadata": {},
     "output_type": "execute_result"
    }
   ],
   "source": [
    "x = symbols('x')\n",
    "M = Matrix(4, 4, [7, 5, 3, 3, 6, 9, x, 6, 6, 1, 6, 7, x, 2, 3, 4])\n",
    "M.det()"
   ]
  },
  {
   "cell_type": "markdown",
   "metadata": {},
   "source": [
    "Ответ: а = -32; b = +343"
   ]
  },
  {
   "cell_type": "markdown",
   "metadata": {},
   "source": [
    "# 4"
   ]
  },
  {
   "cell_type": "code",
   "execution_count": 6,
   "metadata": {},
   "outputs": [
    {
     "data": {
      "text/latex": [
       "$\\displaystyle -2366.4571533245$"
      ],
      "text/plain": [
       "-2366.4571533245035"
      ]
     },
     "metadata": {},
     "output_type": "display_data"
    },
    {
     "data": {
      "text/latex": [
       "$\\displaystyle -1.03636363636714$"
      ],
      "text/plain": [
       "-1.0363636363671371"
      ]
     },
     "metadata": {},
     "output_type": "display_data"
    }
   ],
   "source": [
    "import numpy as np\n",
    "n = 36000\n",
    "a11 = 1\n",
    "a1n = 1.14\n",
    "ann= 1.1\n",
    "d = (a1n-a11)/(n-1)\n",
    "q = (ann/a11)**(1/(n-1))\n",
    "\n",
    "str1 = np.array([a11 + d*i for i in range(n)])\n",
    "diag = np.array([a11 * q ** i for i in range(n)])\n",
    "invstr1 = []\n",
    "for i in range(len(str1)):\n",
    "    invstr1.append(-str1[i]/(a11*diag[i]))\n",
    "\n",
    "display(sum(1/diag) + sum(invstr1) - 1/a11)\n",
    "display(min(min(1/diag), min(invstr1)))\n"
   ]
  },
  {
   "cell_type": "code",
   "execution_count": 7,
   "metadata": {},
   "outputs": [
    {
     "data": {
      "text/latex": [
       "$\\displaystyle \\left[\\begin{matrix}\\frac{1}{a_{11}} & \\frac{- a_{11} - d}{a_{11}^{2} q} & \\frac{- a_{11} - 2 d}{a_{11}^{2} q^{2}} & \\frac{- a_{11} - 3 d}{a_{11}^{2} q^{3}} & \\frac{- a_{11} - 4 d}{a_{11}^{2} q^{4}} & \\frac{- a_{11} - 5 d}{a_{11}^{2} q^{5}} & \\frac{- a_{11} - 6 d}{a_{11}^{2} q^{6}} & \\frac{- a_{11} - 7 d}{a_{11}^{2} q^{7}} & \\frac{- a_{11} - 8 d}{a_{11}^{2} q^{8}} & \\frac{- a_{11} - 9 d}{a_{11}^{2} q^{9}}\\\\0 & \\frac{1}{a_{11} q} & 0 & 0 & 0 & 0 & 0 & 0 & 0 & 0\\\\0 & 0 & \\frac{1}{a_{11} q^{2}} & 0 & 0 & 0 & 0 & 0 & 0 & 0\\\\0 & 0 & 0 & \\frac{1}{a_{11} q^{3}} & 0 & 0 & 0 & 0 & 0 & 0\\\\0 & 0 & 0 & 0 & \\frac{1}{a_{11} q^{4}} & 0 & 0 & 0 & 0 & 0\\\\0 & 0 & 0 & 0 & 0 & \\frac{1}{a_{11} q^{5}} & 0 & 0 & 0 & 0\\\\0 & 0 & 0 & 0 & 0 & 0 & \\frac{1}{a_{11} q^{6}} & 0 & 0 & 0\\\\0 & 0 & 0 & 0 & 0 & 0 & 0 & \\frac{1}{a_{11} q^{7}} & 0 & 0\\\\0 & 0 & 0 & 0 & 0 & 0 & 0 & 0 & \\frac{1}{a_{11} q^{8}} & 0\\\\0 & 0 & 0 & 0 & 0 & 0 & 0 & 0 & 0 & \\frac{1}{a_{11} q^{9}}\\end{matrix}\\right]$"
      ],
      "text/plain": [
       "⎡ 1   -a₁₁ - d  -a₁₁ - 2⋅d  -a₁₁ - 3⋅d  -a₁₁ - 4⋅d  -a₁₁ - 5⋅d  -a₁₁ - 6⋅d  -a ↪\n",
       "⎢───  ────────  ──────────  ──────────  ──────────  ──────────  ──────────  ── ↪\n",
       "⎢a₁₁      2         2  2        2  3        2  4        2  5        2  6       ↪\n",
       "⎢      a₁₁ ⋅q    a₁₁ ⋅q      a₁₁ ⋅q      a₁₁ ⋅q      a₁₁ ⋅q      a₁₁ ⋅q      a ↪\n",
       "⎢                                                                              ↪\n",
       "⎢        1                                                                     ↪\n",
       "⎢ 0    ─────        0           0           0           0           0          ↪\n",
       "⎢      a₁₁⋅q                                                                   ↪\n",
       "⎢                                                                              ↪\n",
       "⎢                   1                                                          ↪\n",
       "⎢ 0      0        ──────        0           0           0           0          ↪\n",
       "⎢                      2                                                       ↪\n",
       "⎢                 a₁₁⋅q                                                        ↪\n",
       "⎢                                                                              ↪\n",
       "⎢                               1                                              ↪\n",
       "⎢ 0      0          0         ──────        0           0           0          ↪\n",
       "⎢                                  3                                           ↪\n",
       "⎢                             a₁₁⋅q                                            ↪\n",
       "⎢                                                                              ↪\n",
       "⎢                                           1                                  ↪\n",
       "⎢ 0      0          0           0         ──────        0           0          ↪\n",
       "⎢                                              4                               ↪\n",
       "⎢                                         a₁₁⋅q                                ↪\n",
       "⎢                                                                              ↪\n",
       "⎢                                                       1                      ↪\n",
       "⎢ 0      0          0           0           0         ──────        0          ↪\n",
       "⎢                                                          5                   ↪\n",
       "⎢                                                     a₁₁⋅q                    ↪\n",
       "⎢                                                                              ↪\n",
       "⎢                                                                   1          ↪\n",
       "⎢ 0      0          0           0           0           0         ──────       ↪\n",
       "⎢                                                                      6       ↪\n",
       "⎢                                                                 a₁₁⋅q        ↪\n",
       "⎢                                                                              ↪\n",
       "⎢                                                                              ↪\n",
       "⎢ 0      0          0           0           0           0           0          ↪\n",
       "⎢                                                                              ↪\n",
       "⎢                                                                              ↪\n",
       "⎢                                                                              ↪\n",
       "⎢                                                                              ↪\n",
       "⎢ 0      0          0           0           0           0           0          ↪\n",
       "⎢                                                                              ↪\n",
       "⎢                                                                              ↪\n",
       "⎢                                                                              ↪\n",
       "⎢                                                                              ↪\n",
       "⎢ 0      0          0           0           0           0           0          ↪\n",
       "⎢                                                                              ↪\n",
       "⎣                                                                              ↪\n",
       "\n",
       "↪ ₁₁ - 7⋅d  -a₁₁ - 8⋅d  -a₁₁ - 9⋅d⎤\n",
       "↪ ────────  ──────────  ──────────⎥\n",
       "↪   2  7        2  8        2  9  ⎥\n",
       "↪ ₁₁ ⋅q      a₁₁ ⋅q      a₁₁ ⋅q   ⎥\n",
       "↪                                 ⎥\n",
       "↪                                 ⎥\n",
       "↪   0           0           0     ⎥\n",
       "↪                                 ⎥\n",
       "↪                                 ⎥\n",
       "↪                                 ⎥\n",
       "↪   0           0           0     ⎥\n",
       "↪                                 ⎥\n",
       "↪                                 ⎥\n",
       "↪                                 ⎥\n",
       "↪                                 ⎥\n",
       "↪   0           0           0     ⎥\n",
       "↪                                 ⎥\n",
       "↪                                 ⎥\n",
       "↪                                 ⎥\n",
       "↪                                 ⎥\n",
       "↪   0           0           0     ⎥\n",
       "↪                                 ⎥\n",
       "↪                                 ⎥\n",
       "↪                                 ⎥\n",
       "↪                                 ⎥\n",
       "↪   0           0           0     ⎥\n",
       "↪                                 ⎥\n",
       "↪                                 ⎥\n",
       "↪                                 ⎥\n",
       "↪                                 ⎥\n",
       "↪   0           0           0     ⎥\n",
       "↪                                 ⎥\n",
       "↪                                 ⎥\n",
       "↪                                 ⎥\n",
       "↪   1                             ⎥\n",
       "↪ ──────        0           0     ⎥\n",
       "↪      7                          ⎥\n",
       "↪ a₁₁⋅q                           ⎥\n",
       "↪                                 ⎥\n",
       "↪               1                 ⎥\n",
       "↪   0         ──────        0     ⎥\n",
       "↪                  8              ⎥\n",
       "↪             a₁₁⋅q               ⎥\n",
       "↪                                 ⎥\n",
       "↪                           1     ⎥\n",
       "↪   0           0         ──────  ⎥\n",
       "↪                              9  ⎥\n",
       "↪                         a₁₁⋅q   ⎦"
      ]
     },
     "execution_count": 7,
     "metadata": {},
     "output_type": "execute_result"
    }
   ],
   "source": [
    "a11, d, q = symbols('a11, d, q')\n",
    "def f(i, j):\n",
    "    if i == j:\n",
    "        return a11 * q ** (i)\n",
    "    if i == 0:\n",
    "        return a11 + d * j\n",
    "    return 0\n",
    "Matrix(10, 10, f).inv()"
   ]
  },
  {
   "cell_type": "code",
   "execution_count": 8,
   "metadata": {},
   "outputs": [
    {
     "data": {
      "text/latex": [
       "$\\displaystyle \\left[\\begin{matrix}a_{11} & a_{11} + d & a_{11} + 2 d & a_{11} + 3 d & a_{11} + 4 d & a_{11} + 5 d & a_{11} + 6 d & a_{11} + 7 d & a_{11} + 8 d & a_{11} + 9 d\\\\0 & a_{11} q & 0 & 0 & 0 & 0 & 0 & 0 & 0 & 0\\\\0 & 0 & a_{11} q^{2} & 0 & 0 & 0 & 0 & 0 & 0 & 0\\\\0 & 0 & 0 & a_{11} q^{3} & 0 & 0 & 0 & 0 & 0 & 0\\\\0 & 0 & 0 & 0 & a_{11} q^{4} & 0 & 0 & 0 & 0 & 0\\\\0 & 0 & 0 & 0 & 0 & a_{11} q^{5} & 0 & 0 & 0 & 0\\\\0 & 0 & 0 & 0 & 0 & 0 & a_{11} q^{6} & 0 & 0 & 0\\\\0 & 0 & 0 & 0 & 0 & 0 & 0 & a_{11} q^{7} & 0 & 0\\\\0 & 0 & 0 & 0 & 0 & 0 & 0 & 0 & a_{11} q^{8} & 0\\\\0 & 0 & 0 & 0 & 0 & 0 & 0 & 0 & 0 & a_{11} q^{9}\\end{matrix}\\right]$"
      ],
      "text/plain": [
       "⎡a₁₁  a₁₁ + d  a₁₁ + 2⋅d  a₁₁ + 3⋅d  a₁₁ + 4⋅d  a₁₁ + 5⋅d  a₁₁ + 6⋅d  a₁₁ + 7⋅ ↪\n",
       "⎢                                                                              ↪\n",
       "⎢ 0    a₁₁⋅q       0          0          0          0          0          0    ↪\n",
       "⎢                                                                              ↪\n",
       "⎢                    2                                                         ↪\n",
       "⎢ 0      0      a₁₁⋅q         0          0          0          0          0    ↪\n",
       "⎢                                                                              ↪\n",
       "⎢                               3                                              ↪\n",
       "⎢ 0      0         0       a₁₁⋅q         0          0          0          0    ↪\n",
       "⎢                                                                              ↪\n",
       "⎢                                          4                                   ↪\n",
       "⎢ 0      0         0          0       a₁₁⋅q         0          0          0    ↪\n",
       "⎢                                                                              ↪\n",
       "⎢                                                     5                        ↪\n",
       "⎢ 0      0         0          0          0       a₁₁⋅q         0          0    ↪\n",
       "⎢                                                                              ↪\n",
       "⎢                                                                6             ↪\n",
       "⎢ 0      0         0          0          0          0       a₁₁⋅q         0    ↪\n",
       "⎢                                                                              ↪\n",
       "⎢                                                                           7  ↪\n",
       "⎢ 0      0         0          0          0          0          0       a₁₁⋅q   ↪\n",
       "⎢                                                                              ↪\n",
       "⎢                                                                              ↪\n",
       "⎢ 0      0         0          0          0          0          0          0    ↪\n",
       "⎢                                                                              ↪\n",
       "⎢                                                                              ↪\n",
       "⎣ 0      0         0          0          0          0          0          0    ↪\n",
       "\n",
       "↪ d  a₁₁ + 8⋅d  a₁₁ + 9⋅d⎤\n",
       "↪                        ⎥\n",
       "↪        0          0    ⎥\n",
       "↪                        ⎥\n",
       "↪                        ⎥\n",
       "↪        0          0    ⎥\n",
       "↪                        ⎥\n",
       "↪                        ⎥\n",
       "↪        0          0    ⎥\n",
       "↪                        ⎥\n",
       "↪                        ⎥\n",
       "↪        0          0    ⎥\n",
       "↪                        ⎥\n",
       "↪                        ⎥\n",
       "↪        0          0    ⎥\n",
       "↪                        ⎥\n",
       "↪                        ⎥\n",
       "↪        0          0    ⎥\n",
       "↪                        ⎥\n",
       "↪                        ⎥\n",
       "↪        0          0    ⎥\n",
       "↪                        ⎥\n",
       "↪          8             ⎥\n",
       "↪     a₁₁⋅q         0    ⎥\n",
       "↪                        ⎥\n",
       "↪                     9  ⎥\n",
       "↪        0       a₁₁⋅q   ⎦"
      ]
     },
     "execution_count": 8,
     "metadata": {},
     "output_type": "execute_result"
    }
   ],
   "source": [
    "Matrix(10, 10, f)"
   ]
  },
  {
   "cell_type": "markdown",
   "metadata": {},
   "source": [
    "# 5"
   ]
  },
  {
   "cell_type": "code",
   "execution_count": 9,
   "metadata": {},
   "outputs": [
    {
     "data": {
      "text/latex": [
       "$\\displaystyle \\left( -49.3049785350193, \\  2.48585355125339\\right)$"
      ],
      "text/plain": [
       "(-49.3049785350193, 2.48585355125339)"
      ]
     },
     "execution_count": 9,
     "metadata": {},
     "output_type": "execute_result"
    }
   ],
   "source": [
    "import numpy as np\n",
    "\n",
    "I = eye(2)\n",
    "A = Matrix([[3, 9],\n",
    "            [9, 7]])\n",
    "\n",
    "phi = 2 * np.pi / 30\n",
    "lam = np.exp(1j * phi)\n",
    "re(det(A+lam*I)), im(det(A+lam*I))"
   ]
  },
  {
   "cell_type": "markdown",
   "metadata": {},
   "source": [
    "# 6"
   ]
  },
  {
   "cell_type": "code",
   "execution_count": 10,
   "metadata": {},
   "outputs": [
    {
     "data": {
      "text/latex": [
       "$\\displaystyle 4.99978355367751 - 2.45372756994455 i$"
      ],
      "text/plain": [
       "4.99978355367751 - 2.45372756994455⋅ⅈ"
      ]
     },
     "metadata": {},
     "output_type": "display_data"
    },
    {
     "data": {
      "text/latex": [
       "$\\displaystyle \\left[ 1.0, \\  0.0345569028311925 - 0.570195108526521 i, \\  -0.599723622857773 + 0.592264440342524 i\\right]$"
      ],
      "text/plain": [
       "[1.0, 0.0345569028311925 - 0.570195108526521⋅ⅈ, -0.599723622857773 + 0.5922644 ↪\n",
       "\n",
       "↪ 40342524⋅ⅈ]"
      ]
     },
     "metadata": {},
     "output_type": "display_data"
    },
    {
     "data": {
      "text/latex": [
       "$\\displaystyle 4.99978355367751 + 2.45372756994455 i$"
      ],
      "text/plain": [
       "4.99978355367751 + 2.45372756994455⋅ⅈ"
      ]
     },
     "metadata": {},
     "output_type": "display_data"
    },
    {
     "data": {
      "text/latex": [
       "$\\displaystyle \\left[ 1.0, \\  0.0345569028311925 + 0.570195108526521 i, \\  -0.599723622857773 - 0.592264440342524 i\\right]$"
      ],
      "text/plain": [
       "[1.0, 0.0345569028311925 + 0.570195108526521⋅ⅈ, -0.599723622857773 - 0.5922644 ↪\n",
       "\n",
       "↪ 40342524⋅ⅈ]"
      ]
     },
     "metadata": {},
     "output_type": "display_data"
    },
    {
     "data": {
      "text/latex": [
       "$\\displaystyle 53.000432892645$"
      ],
      "text/plain": [
       "53.0004328926450"
      ]
     },
     "metadata": {},
     "output_type": "display_data"
    },
    {
     "data": {
      "text/latex": [
       "$\\displaystyle \\left[ 1.0, \\  1.08159110440081, \\  0.729102082857014\\right]$"
      ],
      "text/plain": [
       "[1.0, 1.08159110440081, 0.729102082857014]"
      ]
     },
     "metadata": {},
     "output_type": "display_data"
    }
   ],
   "source": [
    "A = Matrix(3, 3, [15, 23, 18, 11, 28, 22, 10, 13, 20])\n",
    "eigenvects = A.eigenvects()\n",
    "for val, alg_mult, vects in eigenvects:\n",
    "    val = val.evalf()\n",
    "    vects = [x.evalf() for x in vects][0]\n",
    "    vects = [(x/vects[0]).expand() for x in vects]\n",
    "    display(val)\n",
    "    display(vects)"
   ]
  },
  {
   "cell_type": "code",
   "execution_count": null,
   "metadata": {},
   "outputs": [],
   "source": []
  },
  {
   "cell_type": "code",
   "execution_count": null,
   "metadata": {},
   "outputs": [],
   "source": []
  }
 ],
 "metadata": {
  "kernelspec": {
   "display_name": "Python 3",
   "language": "python",
   "name": "python3"
  },
  "language_info": {
   "codemirror_mode": {
    "name": "ipython",
    "version": 3
   },
   "file_extension": ".py",
   "mimetype": "text/x-python",
   "name": "python",
   "nbconvert_exporter": "python",
   "pygments_lexer": "ipython3",
   "version": "3.12.0"
  }
 },
 "nbformat": 4,
 "nbformat_minor": 2
}
