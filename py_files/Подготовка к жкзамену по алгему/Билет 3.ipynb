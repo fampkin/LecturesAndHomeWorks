{
 "cells": [
  {
   "cell_type": "code",
   "execution_count": 1,
   "metadata": {},
   "outputs": [],
   "source": [
    "import numpy as np\n",
    "from sympy import *\n",
    "init_printing()"
   ]
  },
  {
   "cell_type": "markdown",
   "metadata": {},
   "source": [
    "# 1"
   ]
  },
  {
   "cell_type": "code",
   "execution_count": 4,
   "metadata": {},
   "outputs": [
    {
     "data": {
      "text/latex": [
       "$\\displaystyle \\left[\\begin{matrix}9 & 4 & 3\\\\0 & 30 & 9 a - 18\\\\0 & 0 & 2646 - 423 a\\end{matrix}\\right]$"
      ],
      "text/plain": [
       "⎡9  4        3      ⎤\n",
       "⎢                   ⎥\n",
       "⎢0  30    9⋅a - 18  ⎥\n",
       "⎢                   ⎥\n",
       "⎣0  0   2646 - 423⋅a⎦"
      ]
     },
     "execution_count": 4,
     "metadata": {},
     "output_type": "execute_result"
    }
   ],
   "source": [
    "a = symbols('a')\n",
    "A = Matrix([[9, 4, 3],\n",
    "            [6, 6, a],\n",
    "            [4, 7, 8]])\n",
    "A.echelon_form()"
   ]
  },
  {
   "cell_type": "code",
   "execution_count": 5,
   "metadata": {},
   "outputs": [
    {
     "data": {
      "text/latex": [
       "$\\displaystyle \\left[ \\frac{294}{47}\\right]$"
      ],
      "text/plain": [
       "⎡294⎤\n",
       "⎢───⎥\n",
       "⎣47 ⎦"
      ]
     },
     "execution_count": 5,
     "metadata": {},
     "output_type": "execute_result"
    }
   ],
   "source": [
    "solve(2646 - 423*a, a)"
   ]
  },
  {
   "cell_type": "markdown",
   "metadata": {},
   "source": [
    "# 2"
   ]
  },
  {
   "cell_type": "code",
   "execution_count": 6,
   "metadata": {},
   "outputs": [
    {
     "data": {
      "text/latex": [
       "$\\displaystyle \\left( 8199, \\  16473\\right)$"
      ],
      "text/plain": [
       "(8199, 16473)"
      ]
     },
     "execution_count": 6,
     "metadata": {},
     "output_type": "execute_result"
    }
   ],
   "source": [
    "A = Matrix(2, 2, [6, 2, 6, 7])\n",
    "B = Matrix(2, 2, [8, 9, 6, 4])\n",
    "C = Matrix(2, 2, [28, 23, 37, 26])\n",
    "((A*C*B).T).trace(), sum((A*C*B).T)"
   ]
  },
  {
   "cell_type": "markdown",
   "metadata": {},
   "source": [
    "# 3"
   ]
  },
  {
   "cell_type": "code",
   "execution_count": 8,
   "metadata": {},
   "outputs": [
    {
     "data": {
      "text/latex": [
       "$\\displaystyle \\left( 1, \\  18\\right)$"
      ],
      "text/plain": [
       "(1, 18)"
      ]
     },
     "execution_count": 8,
     "metadata": {},
     "output_type": "execute_result"
    }
   ],
   "source": [
    "from sympy.combinatorics.permutations import Permutation\n",
    "\n",
    "s1 = [2, 4, 10, 12, 8, 1, 6, 9, 7, 3, 11, 5]\n",
    "s0 = [x-1 for x in s1]\n",
    "\n",
    "p = Permutation(s0)\n",
    "c = 0\n",
    "p5 = p**5\n",
    "for i in range(len(s0)):\n",
    "    if i == p5(i):\n",
    "        c += 1\n",
    "        \n",
    "c, p.order()"
   ]
  },
  {
   "cell_type": "markdown",
   "metadata": {},
   "source": [
    "# 4"
   ]
  },
  {
   "cell_type": "code",
   "execution_count": 14,
   "metadata": {},
   "outputs": [
    {
     "data": {
      "text/latex": [
       "$\\displaystyle \\left( 5.04530483268067, \\  5.04697700283278\\right)$"
      ],
      "text/plain": [
       "(5.04530483268067, 5.04697700283278)"
      ]
     },
     "execution_count": 14,
     "metadata": {},
     "output_type": "execute_result"
    }
   ],
   "source": [
    "I = eye(2)\n",
    "gam = 0.103\n",
    "A = Matrix(2, 2, [7*gam, 3*gam, 2*gam, 5*gam])\n",
    "def S(m, n):\n",
    "    eu = zeros(2)\n",
    "    for i in range(m, n+1):\n",
    "        eu += A ** i\n",
    "    return eu\n",
    "\n",
    "B2 = (I-A)**(-1) * A**2\n",
    "max(S(2, 70)), max(B2)\n"
   ]
  },
  {
   "cell_type": "code",
   "execution_count": 19,
   "metadata": {},
   "outputs": [
    {
     "data": {
      "text/latex": [
       "$\\displaystyle 90$"
      ],
      "text/plain": [
       "90"
      ]
     },
     "execution_count": 19,
     "metadata": {},
     "output_type": "execute_result"
    }
   ],
   "source": [
    "\n",
    "tolerance = 0.0002\n",
    "found_k = None\n",
    "for k in range(1, 1000):\n",
    "    all_below_tolerance = True\n",
    "    for n in range(k + 1, k + 50): \n",
    "        S_kn = S(k, n)\n",
    "        if np.max(S_kn) >= tolerance:\n",
    "            all_below_tolerance = False\n",
    "            break\n",
    "    if all_below_tolerance:\n",
    "        found_k = k\n",
    "        break\n",
    "\n",
    "found_k\n"
   ]
  },
  {
   "cell_type": "markdown",
   "metadata": {},
   "source": [
    "# 5"
   ]
  },
  {
   "cell_type": "code",
   "execution_count": 20,
   "metadata": {},
   "outputs": [
    {
     "data": {
      "text/latex": [
       "$\\displaystyle \\left( 33.6316760980701, \\  5.623984542387\\right)$"
      ],
      "text/plain": [
       "(33.6316760980701, 5.623984542387)"
      ]
     },
     "execution_count": 20,
     "metadata": {},
     "output_type": "execute_result"
    }
   ],
   "source": [
    "phi = np.pi * 2 / 15\n",
    "lam = np.exp(1j * phi)\n",
    "A = Matrix(2, 2, [8, 5, 2, 4])\n",
    "I = eye(2)\n",
    "re(det(A + lam*I)), im(det(A + lam*I))"
   ]
  },
  {
   "cell_type": "markdown",
   "metadata": {},
   "source": [
    "# 6"
   ]
  },
  {
   "cell_type": "code",
   "execution_count": 21,
   "metadata": {},
   "outputs": [
    {
     "data": {
      "text/latex": [
       "$\\displaystyle 0.58529526566203 - 8.19206430878562 i$"
      ],
      "text/plain": [
       "0.58529526566203 - 8.19206430878562⋅ⅈ"
      ]
     },
     "metadata": {},
     "output_type": "display_data"
    },
    {
     "data": {
      "text/latex": [
       "$\\displaystyle \\left[ 1.0, \\  -0.383868976945749 - 0.702463784131962 i, \\  -0.689610751325978 + 0.724054793295409 i\\right]$"
      ],
      "text/plain": [
       "[1.0, -0.383868976945749 - 0.702463784131962⋅ⅈ, -0.689610751325978 + 0.7240547 ↪\n",
       "\n",
       "↪ 93295409⋅ⅈ]"
      ]
     },
     "metadata": {},
     "output_type": "display_data"
    },
    {
     "data": {
      "text/latex": [
       "$\\displaystyle 0.58529526566203 + 8.19206430878562 i$"
      ],
      "text/plain": [
       "0.58529526566203 + 8.19206430878562⋅ⅈ"
      ]
     },
     "metadata": {},
     "output_type": "display_data"
    },
    {
     "data": {
      "text/latex": [
       "$\\displaystyle \\left[ 1.0, \\  -0.383868976945749 + 0.702463784131962 i, \\  -0.689610751325978 - 0.724054793295409 i\\right]$"
      ],
      "text/plain": [
       "[1.0, -0.383868976945749 + 0.702463784131962⋅ⅈ, -0.689610751325978 - 0.7240547 ↪\n",
       "\n",
       "↪ 93295409⋅ⅈ]"
      ]
     },
     "metadata": {},
     "output_type": "display_data"
    },
    {
     "data": {
      "text/latex": [
       "$\\displaystyle 62.8294094686759$"
      ],
      "text/plain": [
       "62.8294094686759"
      ]
     },
     "metadata": {},
     "output_type": "display_data"
    },
    {
     "data": {
      "text/latex": [
       "$\\displaystyle \\left[ 1.0, \\  1.4858855984568, \\  1.05945824583359\\right]$"
      ],
      "text/plain": [
       "[1.0, 1.4858855984568, 1.05945824583359]"
      ]
     },
     "metadata": {},
     "output_type": "display_data"
    }
   ],
   "source": [
    "A = Matrix(3, 3, [17, 23, 11, 24, 26, 29, 25, 13, 21])\n",
    "eigenvects = A.eigenvects()\n",
    "for val, alg_mult, vects in eigenvects:\n",
    "    vects = [x.evalf() for x in vects][0]\n",
    "    vects = [(x/vects[0]).expand() for x in vects]\n",
    "    val = val.evalf()\n",
    "    display(val)\n",
    "    display(vects)"
   ]
  },
  {
   "cell_type": "code",
   "execution_count": null,
   "metadata": {},
   "outputs": [],
   "source": []
  }
 ],
 "metadata": {
  "kernelspec": {
   "display_name": "Python 3",
   "language": "python",
   "name": "python3"
  },
  "language_info": {
   "codemirror_mode": {
    "name": "ipython",
    "version": 3
   },
   "file_extension": ".py",
   "mimetype": "text/x-python",
   "name": "python",
   "nbconvert_exporter": "python",
   "pygments_lexer": "ipython3",
   "version": "3.12.0"
  }
 },
 "nbformat": 4,
 "nbformat_minor": 2
}
