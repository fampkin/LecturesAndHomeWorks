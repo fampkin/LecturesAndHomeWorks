{
 "cells": [
  {
   "cell_type": "code",
   "execution_count": 2,
   "metadata": {},
   "outputs": [],
   "source": [
    "from sympy import *\n",
    "import numpy as np\n",
    "init_printing()"
   ]
  },
  {
   "cell_type": "markdown",
   "metadata": {},
   "source": [
    "# 1"
   ]
  },
  {
   "cell_type": "code",
   "execution_count": 76,
   "metadata": {},
   "outputs": [
    {
     "data": {
      "text/plain": [
       "array([26.97172557, 22.29272349])"
      ]
     },
     "execution_count": 76,
     "metadata": {},
     "output_type": "execute_result"
    }
   ],
   "source": [
    "A = np.array([6, 48])\n",
    "B = np.array([45, 37])\n",
    "C = np.array([7, 6])\n",
    "BA = A - B\n",
    "BC = C - B\n",
    "BABC = np.dot(BA, BC)\n",
    "BCBC = np.dot(BC, BC)\n",
    "t = BABC/BCBC\n",
    "D = B + t*BC\n",
    "D"
   ]
  },
  {
   "cell_type": "code",
   "execution_count": 77,
   "metadata": {},
   "outputs": [
    {
     "data": {
      "text/latex": [
       "$\\displaystyle 33.1764575998906$"
      ],
      "text/plain": [
       "33.176457599890604"
      ]
     },
     "execution_count": 77,
     "metadata": {},
     "output_type": "execute_result"
    }
   ],
   "source": [
    "R = ((A[0] - D[0])**2 + (A[1] - D[1])**2)**0.5\n",
    "R"
   ]
  },
  {
   "cell_type": "markdown",
   "metadata": {},
   "source": [
    "# 4"
   ]
  },
  {
   "cell_type": "code",
   "execution_count": 69,
   "metadata": {},
   "outputs": [],
   "source": [
    "a11, d = symbols('a11 d')\n",
    "n = 50000\n",
    "a11 = 0.99\n",
    "ann = 1.01\n",
    "d = (ann-a11)/(n-1)\n",
    "def f(i, j):\n",
    "    if i == j:\n",
    "        return a11 + d*i\n",
    "    elif i == 0 and j == 1:\n",
    "        return 0.5\n",
    "    elif i == 1 and j == 0:\n",
    "        return 0.27\n",
    "    else:\n",
    "     return 0\n"
   ]
  },
  {
   "cell_type": "code",
   "execution_count": 74,
   "metadata": {},
   "outputs": [
    {
     "data": {
      "text/latex": [
       "$\\displaystyle 0.374714360082433$"
      ],
      "text/plain": [
       "0.374714360082433"
      ]
     },
     "execution_count": 74,
     "metadata": {},
     "output_type": "execute_result"
    }
   ],
   "source": [
    "diag = np.array([a11 + d*i for i in range(n)])\n",
    "np.product(diag[2:]) * (Matrix(2, 2, [a11, 0.5, 0.27, a11 + d])).det()"
   ]
  },
  {
   "cell_type": "code",
   "execution_count": 75,
   "metadata": {},
   "outputs": [
    {
     "data": {
      "text/latex": [
       "$\\displaystyle 50001.6668333498$"
      ],
      "text/plain": [
       "50001.6668333498"
      ]
     },
     "execution_count": 75,
     "metadata": {},
     "output_type": "execute_result"
    }
   ],
   "source": [
    "np.sum(1/diag)"
   ]
  },
  {
   "cell_type": "code",
   "execution_count": null,
   "metadata": {},
   "outputs": [],
   "source": []
  }
 ],
 "metadata": {
  "kernelspec": {
   "display_name": "Python 3",
   "language": "python",
   "name": "python3"
  },
  "language_info": {
   "codemirror_mode": {
    "name": "ipython",
    "version": 3
   },
   "file_extension": ".py",
   "mimetype": "text/x-python",
   "name": "python",
   "nbconvert_exporter": "python",
   "pygments_lexer": "ipython3",
   "version": "3.12.0"
  }
 },
 "nbformat": 4,
 "nbformat_minor": 2
}
