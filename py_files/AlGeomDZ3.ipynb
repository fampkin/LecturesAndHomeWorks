{
 "cells": [
  {
   "cell_type": "markdown",
   "metadata": {},
   "source": [
    "# **Домашнее задание N3**"
   ]
  },
  {
   "cell_type": "code",
   "execution_count": 42,
   "metadata": {},
   "outputs": [],
   "source": [
    "from sympy import *\n",
    "\n",
    "import numpy as np\n",
    "init_printing()"
   ]
  },
  {
   "cell_type": "markdown",
   "metadata": {},
   "source": [
    "## **Номер 1**"
   ]
  },
  {
   "cell_type": "code",
   "execution_count": 43,
   "metadata": {},
   "outputs": [
    {
     "data": {
      "text/latex": [
       "$\\displaystyle \\left[\\begin{matrix}2 & 1 & 5 & 1\\\\-1 & 2 & -5 & -3\\\\3 & -3 & 12 & 6\\\\4 & 1 & 11 & 3\\\\-1 & 2 & -5 & -3\\end{matrix}\\right]$"
      ],
      "text/plain": [
       "⎡2   1   5   1 ⎤\n",
       "⎢              ⎥\n",
       "⎢-1  2   -5  -3⎥\n",
       "⎢              ⎥\n",
       "⎢3   -3  12  6 ⎥\n",
       "⎢              ⎥\n",
       "⎢4   1   11  3 ⎥\n",
       "⎢              ⎥\n",
       "⎣-1  2   -5  -3⎦"
      ]
     },
     "execution_count": 43,
     "metadata": {},
     "output_type": "execute_result"
    }
   ],
   "source": [
    "A1 = Matrix([2, -1, 3, 4, -1])\n",
    "A2 = Matrix([1, 2, -3, 1, 2])\n",
    "A3 = Matrix([5, -5, 12, 11, -5])\n",
    "A4 = Matrix([1, -3, 6, 3, -3])\n",
    "A = Matrix([[A1, A2, A3, A4]])\n",
    "A"
   ]
  },
  {
   "cell_type": "code",
   "execution_count": 44,
   "metadata": {},
   "outputs": [
    {
     "data": {
      "text/latex": [
       "$\\displaystyle 2$"
      ],
      "text/plain": [
       "2"
      ]
     },
     "execution_count": 44,
     "metadata": {},
     "output_type": "execute_result"
    }
   ],
   "source": [
    "A.rank()"
   ]
  },
  {
   "cell_type": "code",
   "execution_count": 45,
   "metadata": {},
   "outputs": [
    {
     "data": {
      "text/latex": [
       "$\\displaystyle \\left( \\left[\\begin{matrix}1 & 0 & 3 & 1\\\\0 & 1 & -1 & -1\\\\0 & 0 & 0 & 0\\\\0 & 0 & 0 & 0\\\\0 & 0 & 0 & 0\\end{matrix}\\right], \\  \\left( 0, \\  1\\right)\\right)$"
      ],
      "text/plain": [
       "⎛⎡1  0  3   1 ⎤        ⎞\n",
       "⎜⎢            ⎥        ⎟\n",
       "⎜⎢0  1  -1  -1⎥        ⎟\n",
       "⎜⎢            ⎥        ⎟\n",
       "⎜⎢0  0  0   0 ⎥, (0, 1)⎟\n",
       "⎜⎢            ⎥        ⎟\n",
       "⎜⎢0  0  0   0 ⎥        ⎟\n",
       "⎜⎢            ⎥        ⎟\n",
       "⎝⎣0  0  0   0 ⎦        ⎠"
      ]
     },
     "execution_count": 45,
     "metadata": {},
     "output_type": "execute_result"
    }
   ],
   "source": [
    "A.rref()"
   ]
  },
  {
   "cell_type": "markdown",
   "metadata": {},
   "source": [
    "## **Номер 2**"
   ]
  },
  {
   "cell_type": "code",
   "execution_count": 46,
   "metadata": {},
   "outputs": [
    {
     "data": {
      "text/latex": [
       "$\\displaystyle 3$"
      ],
      "text/plain": [
       "3"
      ]
     },
     "execution_count": 46,
     "metadata": {},
     "output_type": "execute_result"
    }
   ],
   "source": [
    "Ab = Matrix([[1, 3, 5, 7, 9, 1],\n",
    "             [1, -2, 3, -4, 5, 2],\n",
    "             [2, 11, 12, 25, 22, 4]])\n",
    "Ab.rank()"
   ]
  },
  {
   "cell_type": "code",
   "execution_count": 47,
   "metadata": {},
   "outputs": [
    {
     "data": {
      "text/latex": [
       "$\\displaystyle 2$"
      ],
      "text/plain": [
       "2"
      ]
     },
     "execution_count": 47,
     "metadata": {},
     "output_type": "execute_result"
    }
   ],
   "source": [
    "A = Matrix([[1, 3, 5, 7, 9],\n",
    "             [1, -2, 3, -4, 5],\n",
    "             [2, 11, 12, 25, 22]])\n",
    "A.rank()"
   ]
  },
  {
   "cell_type": "markdown",
   "metadata": {},
   "source": [
    "## **Номер 3**"
   ]
  },
  {
   "cell_type": "code",
   "execution_count": 48,
   "metadata": {},
   "outputs": [
    {
     "data": {
      "text/latex": [
       "$\\displaystyle \\left[\\begin{matrix}1 & 2 & -1 & 2\\\\2 & -1 & 1 & 2\\\\1 & 3 & -2 & 2\\\\3 & 1 & -2 & 2\\end{matrix}\\right]$"
      ],
      "text/plain": [
       "⎡1  2   -1  2⎤\n",
       "⎢            ⎥\n",
       "⎢2  -1  1   2⎥\n",
       "⎢            ⎥\n",
       "⎢1  3   -2  2⎥\n",
       "⎢            ⎥\n",
       "⎣3  1   -2  2⎦"
      ]
     },
     "execution_count": 48,
     "metadata": {},
     "output_type": "execute_result"
    }
   ],
   "source": [
    "A1 = Matrix([1,2,1,3])\n",
    "A2 = Matrix([2, -1, 3, 1])\n",
    "A3 = Matrix([-1, 1, -2, -2])\n",
    "A = Matrix([[A1, A2, A3]])\n",
    "b = Matrix([2, 2, 2, 2])\n",
    "Ab = Matrix([[A1, A2, A3, b]])\n",
    "Ab"
   ]
  },
  {
   "cell_type": "code",
   "execution_count": 49,
   "metadata": {},
   "outputs": [
    {
     "data": {
      "text/plain": [
       "True"
      ]
     },
     "execution_count": 49,
     "metadata": {},
     "output_type": "execute_result"
    }
   ],
   "source": [
    "b == A1 + A2 + A3"
   ]
  },
  {
   "cell_type": "markdown",
   "metadata": {},
   "source": [
    "## **Номер 4**"
   ]
  },
  {
   "cell_type": "code",
   "execution_count": 50,
   "metadata": {},
   "outputs": [
    {
     "data": {
      "text/latex": [
       "$\\displaystyle \\left( \\left[\\begin{matrix}1 & 0 & -8 & 7\\\\0 & 1 & 6 & -5\\\\0 & 0 & 0 & 0\\\\0 & 0 & 0 & 0\\end{matrix}\\right], \\  \\left( 0, \\  1\\right)\\right)$"
      ],
      "text/plain": [
       "⎛⎡1  0  -8  7 ⎤        ⎞\n",
       "⎜⎢            ⎥        ⎟\n",
       "⎜⎢0  1  6   -5⎥        ⎟\n",
       "⎜⎢            ⎥, (0, 1)⎟\n",
       "⎜⎢0  0  0   0 ⎥        ⎟\n",
       "⎜⎢            ⎥        ⎟\n",
       "⎝⎣0  0  0   0 ⎦        ⎠"
      ]
     },
     "execution_count": 50,
     "metadata": {},
     "output_type": "execute_result"
    }
   ],
   "source": [
    "A = Matrix([[1, 1, -2, 2],\n",
    "             [3, 5, 6, -4],\n",
    "             [4, 5, -2, 3],\n",
    "             [3, 8, 24, -19]])\n",
    "\n",
    "A.rref()"
   ]
  },
  {
   "cell_type": "code",
   "execution_count": 51,
   "metadata": {},
   "outputs": [
    {
     "data": {
      "text/latex": [
       "$\\displaystyle \\left[ \\left[\\begin{matrix}8\\\\-6\\\\1\\\\0\\end{matrix}\\right], \\  \\left[\\begin{matrix}-7\\\\5\\\\0\\\\1\\end{matrix}\\right]\\right]$"
      ],
      "text/plain": [
       "⎡⎡8 ⎤  ⎡-7⎤⎤\n",
       "⎢⎢  ⎥  ⎢  ⎥⎥\n",
       "⎢⎢-6⎥  ⎢5 ⎥⎥\n",
       "⎢⎢  ⎥, ⎢  ⎥⎥\n",
       "⎢⎢1 ⎥  ⎢0 ⎥⎥\n",
       "⎢⎢  ⎥  ⎢  ⎥⎥\n",
       "⎣⎣0 ⎦  ⎣1 ⎦⎦"
      ]
     },
     "execution_count": 51,
     "metadata": {},
     "output_type": "execute_result"
    }
   ],
   "source": [
    "FSR = A.nullspace()\n",
    "FSR"
   ]
  },
  {
   "cell_type": "markdown",
   "metadata": {},
   "source": [
    "## **Номер 5 (Проверка)**"
   ]
  },
  {
   "cell_type": "code",
   "execution_count": 52,
   "metadata": {},
   "outputs": [
    {
     "data": {
      "text/latex": [
       "$\\displaystyle 2$"
      ],
      "text/plain": [
       "2"
      ]
     },
     "execution_count": 52,
     "metadata": {},
     "output_type": "execute_result"
    }
   ],
   "source": [
    "A = Matrix([[1, 0, -2, -3],\n",
    "            [0, 1, -1, -2]])\n",
    "A.rank()"
   ]
  },
  {
   "cell_type": "code",
   "execution_count": 53,
   "metadata": {},
   "outputs": [
    {
     "data": {
      "text/latex": [
       "$\\displaystyle \\left( \\left[\\begin{matrix}1 & 0 & -2 & -3\\\\0 & 1 & -1 & -2\\end{matrix}\\right], \\  \\left( 0, \\  1\\right)\\right)$"
      ],
      "text/plain": [
       "⎛⎡1  0  -2  -3⎤        ⎞\n",
       "⎜⎢            ⎥, (0, 1)⎟\n",
       "⎝⎣0  1  -1  -2⎦        ⎠"
      ]
     },
     "execution_count": 53,
     "metadata": {},
     "output_type": "execute_result"
    }
   ],
   "source": [
    "A.rref()"
   ]
  },
  {
   "cell_type": "code",
   "execution_count": 54,
   "metadata": {},
   "outputs": [
    {
     "data": {
      "text/latex": [
       "$\\displaystyle \\left[ \\left[\\begin{matrix}2\\\\1\\\\1\\\\0\\end{matrix}\\right], \\  \\left[\\begin{matrix}3\\\\2\\\\0\\\\1\\end{matrix}\\right]\\right]$"
      ],
      "text/plain": [
       "⎡⎡2⎤  ⎡3⎤⎤\n",
       "⎢⎢ ⎥  ⎢ ⎥⎥\n",
       "⎢⎢1⎥  ⎢2⎥⎥\n",
       "⎢⎢ ⎥, ⎢ ⎥⎥\n",
       "⎢⎢1⎥  ⎢0⎥⎥\n",
       "⎢⎢ ⎥  ⎢ ⎥⎥\n",
       "⎣⎣0⎦  ⎣1⎦⎦"
      ]
     },
     "execution_count": 54,
     "metadata": {},
     "output_type": "execute_result"
    }
   ],
   "source": [
    "A.nullspace()\n"
   ]
  },
  {
   "cell_type": "markdown",
   "metadata": {},
   "source": [
    "## **Номер 6**"
   ]
  },
  {
   "cell_type": "code",
   "execution_count": 55,
   "metadata": {},
   "outputs": [
    {
     "data": {
      "text/latex": [
       "$\\displaystyle \\left[ \\left[\\begin{matrix}70\\\\-16\\\\4\\\\1\\\\0\\end{matrix}\\right], \\  \\left[\\begin{matrix}-5\\\\1\\\\-1\\\\0\\\\1\\end{matrix}\\right]\\right]$"
      ],
      "text/plain": [
       "⎡⎡70 ⎤  ⎡-5⎤⎤\n",
       "⎢⎢   ⎥  ⎢  ⎥⎥\n",
       "⎢⎢-16⎥  ⎢1 ⎥⎥\n",
       "⎢⎢   ⎥  ⎢  ⎥⎥\n",
       "⎢⎢ 4 ⎥, ⎢-1⎥⎥\n",
       "⎢⎢   ⎥  ⎢  ⎥⎥\n",
       "⎢⎢ 1 ⎥  ⎢0 ⎥⎥\n",
       "⎢⎢   ⎥  ⎢  ⎥⎥\n",
       "⎣⎣ 0 ⎦  ⎣1 ⎦⎦"
      ]
     },
     "execution_count": 55,
     "metadata": {},
     "output_type": "execute_result"
    }
   ],
   "source": [
    "E = Matrix([[1, 4, -2, 2, -1],\n",
    "            [3, 13, -1, 2, 1],\n",
    "            [2, 7, -8, 4, -5]])\n",
    "E.nullspace()"
   ]
  },
  {
   "cell_type": "code",
   "execution_count": 56,
   "metadata": {},
   "outputs": [
    {
     "data": {
      "text/latex": [
       "$\\displaystyle \\left( \\left[\\begin{matrix}0\\\\0\\end{matrix}\\right], \\  2, \\  \\left[ \\left[\\begin{matrix}- \\frac{6}{5}\\\\-5\\\\1\\\\0\\\\0\\end{matrix}\\right], \\  \\left[\\begin{matrix}\\frac{1}{10}\\\\\\frac{1}{2}\\\\0\\\\1\\\\0\\end{matrix}\\right], \\  \\left[\\begin{matrix}\\frac{8}{5}\\\\7\\\\0\\\\0\\\\1\\end{matrix}\\right]\\right]\\right)$"
      ],
      "text/plain": [
       "⎛        ⎡⎡-6/5⎤  ⎡1/10⎤  ⎡8/5⎤⎤⎞\n",
       "⎜        ⎢⎢    ⎥  ⎢    ⎥  ⎢   ⎥⎥⎟\n",
       "⎜        ⎢⎢ -5 ⎥  ⎢1/2 ⎥  ⎢ 7 ⎥⎥⎟\n",
       "⎜⎡0⎤     ⎢⎢    ⎥  ⎢    ⎥  ⎢   ⎥⎥⎟\n",
       "⎜⎢ ⎥, 2, ⎢⎢ 1  ⎥, ⎢ 0  ⎥, ⎢ 0 ⎥⎥⎟\n",
       "⎜⎣0⎦     ⎢⎢    ⎥  ⎢    ⎥  ⎢   ⎥⎥⎟\n",
       "⎜        ⎢⎢ 0  ⎥  ⎢ 1  ⎥  ⎢ 0 ⎥⎥⎟\n",
       "⎜        ⎢⎢    ⎥  ⎢    ⎥  ⎢   ⎥⎥⎟\n",
       "⎝        ⎣⎣ 0  ⎦  ⎣ 0  ⎦  ⎣ 1 ⎦⎦⎠"
      ]
     },
     "execution_count": 56,
     "metadata": {},
     "output_type": "execute_result"
    }
   ],
   "source": [
    "\n",
    "A = Matrix([[70, -16, 4, 1, 0], [-5, 1, -1, 0, 1]])\n",
    "A*Matrix([1, 4, -2, 2, -1]), A.rank(), A.nullspace()\n"
   ]
  },
  {
   "cell_type": "markdown",
   "metadata": {},
   "source": [
    "## **Номер 8**"
   ]
  },
  {
   "cell_type": "code",
   "execution_count": 57,
   "metadata": {},
   "outputs": [
    {
     "data": {
      "text/latex": [
       "$\\displaystyle \\left( \\left[\\begin{matrix}1 & 0 & 0 & 0 & 0 & -1\\\\0 & 1 & 0 & 0 & 0 & 0\\\\0 & 0 & 1 & 0 & 0 & 0\\\\0 & 0 & 0 & 1 & 0 & -1\\\\0 & 0 & 0 & 0 & 1 & 1\\end{matrix}\\right], \\  \\left( 0, \\  1, \\  2, \\  3, \\  4\\right)\\right)$"
      ],
      "text/plain": [
       "⎛⎡1  0  0  0  0  -1⎤                 ⎞\n",
       "⎜⎢                 ⎥                 ⎟\n",
       "⎜⎢0  1  0  0  0  0 ⎥                 ⎟\n",
       "⎜⎢                 ⎥                 ⎟\n",
       "⎜⎢0  0  1  0  0  0 ⎥, (0, 1, 2, 3, 4)⎟\n",
       "⎜⎢                 ⎥                 ⎟\n",
       "⎜⎢0  0  0  1  0  -1⎥                 ⎟\n",
       "⎜⎢                 ⎥                 ⎟\n",
       "⎝⎣0  0  0  0  1  1 ⎦                 ⎠"
      ]
     },
     "execution_count": 57,
     "metadata": {},
     "output_type": "execute_result"
    }
   ],
   "source": [
    "Ab = Matrix([[(-3)**4, (-3)**3, (-3)**2, (-3), 1, -77],\n",
    "             [(-2)**4, (-2)**3, (-2)**2, (-2), 1, -13],\n",
    "             [(-1)**4, (-1)**3, (-1)**2, (-1), 1, 1],\n",
    "             [(1)**4, (1)**3, (1)**2, (1), 1, -1],\n",
    "             [(2)**4, (2)**3, (2)**2, (2), 1, -17]])\n",
    "Ab.rref()"
   ]
  },
  {
   "cell_type": "markdown",
   "metadata": {},
   "source": [
    "## **Номер 7**"
   ]
  },
  {
   "cell_type": "code",
   "execution_count": 58,
   "metadata": {},
   "outputs": [],
   "source": [
    "A = Matrix([[1,-2,-1,-2,-3],\n",
    "            [3, -6, -2, -4, -5],\n",
    "            [3, -6, -4, -8, -13],\n",
    "            [2, -4, -1, -1, -2]])\n",
    "b = Matrix([-2,-3,-9,-1])\n",
    "\n",
    "Ab = Matrix([[A,b]])\n",
    "\n",
    "c1, c2 = symbols('c1 c2')"
   ]
  },
  {
   "cell_type": "code",
   "execution_count": 59,
   "metadata": {},
   "outputs": [
    {
     "data": {
      "text/latex": [
       "$\\displaystyle \\left[\\begin{matrix}2 c_{1} - c_{2}\\\\c_{1}\\\\- 4 c_{2}\\\\0\\\\c_{2}\\end{matrix}\\right]$"
      ],
      "text/plain": [
       "⎡2⋅c₁ - c₂⎤\n",
       "⎢         ⎥\n",
       "⎢   c₁    ⎥\n",
       "⎢         ⎥\n",
       "⎢  -4⋅c₂  ⎥\n",
       "⎢         ⎥\n",
       "⎢    0    ⎥\n",
       "⎢         ⎥\n",
       "⎣   c₂    ⎦"
      ]
     },
     "execution_count": 59,
     "metadata": {},
     "output_type": "execute_result"
    }
   ],
   "source": [
    "E1, E2 = A.nullspace()\n",
    "comA = c1 * E1 + c2 * E2\n",
    "comA"
   ]
  },
  {
   "cell_type": "code",
   "execution_count": null,
   "metadata": {},
   "outputs": [],
   "source": []
  }
 ],
 "metadata": {
  "kernelspec": {
   "display_name": "Python 3",
   "language": "python",
   "name": "python3"
  },
  "language_info": {
   "codemirror_mode": {
    "name": "ipython",
    "version": 3
   },
   "file_extension": ".py",
   "mimetype": "text/x-python",
   "name": "python",
   "nbconvert_exporter": "python",
   "pygments_lexer": "ipython3",
   "version": "3.12.0"
  }
 },
 "nbformat": 4,
 "nbformat_minor": 2
}
