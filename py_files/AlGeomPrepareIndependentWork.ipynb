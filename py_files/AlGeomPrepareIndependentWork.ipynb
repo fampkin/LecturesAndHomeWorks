{
 "cells": [
  {
   "cell_type": "code",
   "execution_count": 4,
   "metadata": {},
   "outputs": [],
   "source": [
    "from sympy import *\n",
    "import numpy as np\n",
    "init_printing()"
   ]
  },
  {
   "cell_type": "markdown",
   "metadata": {},
   "source": [
    "# Operation with matrix"
   ]
  },
  {
   "cell_type": "markdown",
   "metadata": {},
   "source": [
    "## 1"
   ]
  },
  {
   "cell_type": "code",
   "execution_count": 5,
   "metadata": {},
   "outputs": [
    {
     "data": {
      "text/latex": [
       "$\\displaystyle \\left[\\begin{matrix}1449 & 1008 & 2691 & 1872 & 3588 & 2496\\\\1197 & 819 & 2223 & 1521 & 2964 & 2028\\\\1656 & 1152 & 1863 & 1296 & 2484 & 1728\\\\1368 & 936 & 1539 & 1053 & 2052 & 1404\\\\1242 & 864 & 3105 & 2160 & 4140 & 2880\\\\1026 & 702 & 2565 & 1755 & 3420 & 2340\\end{matrix}\\right]$"
      ],
      "text/plain": [
       "⎡1449  1008  2691  1872  3588  2496⎤\n",
       "⎢                                  ⎥\n",
       "⎢1197  819   2223  1521  2964  2028⎥\n",
       "⎢                                  ⎥\n",
       "⎢1656  1152  1863  1296  2484  1728⎥\n",
       "⎢                                  ⎥\n",
       "⎢1368  936   1539  1053  2052  1404⎥\n",
       "⎢                                  ⎥\n",
       "⎢1242  864   3105  2160  4140  2880⎥\n",
       "⎢                                  ⎥\n",
       "⎣1026  702   2565  1755  3420  2340⎦"
      ]
     },
     "execution_count": 5,
     "metadata": {},
     "output_type": "execute_result"
    }
   ],
   "source": [
    "A = Matrix([[7, 8, 6],\n",
    "            [6, 1, 9]])\n",
    "B = Matrix([[3, 3, 4],\n",
    "            [0, 3, 4]])\n",
    "D = A * B.T\n",
    "C = A.T * B\n",
    "K = kronecker_product(C, D)\n",
    "K"
   ]
  },
  {
   "cell_type": "code",
   "execution_count": 6,
   "metadata": {},
   "outputs": [
    {
     "data": {
      "text/latex": [
       "$\\displaystyle 108$"
      ],
      "text/plain": [
       "108"
      ]
     },
     "execution_count": 6,
     "metadata": {},
     "output_type": "execute_result"
    }
   ],
   "source": [
    "trace(C)"
   ]
  },
  {
   "cell_type": "code",
   "execution_count": 7,
   "metadata": {},
   "outputs": [
    {
     "data": {
      "text/latex": [
       "$\\displaystyle 11664$"
      ],
      "text/plain": [
       "11664"
      ]
     },
     "execution_count": 7,
     "metadata": {},
     "output_type": "execute_result"
    }
   ],
   "source": [
    "trace(K)"
   ]
  },
  {
   "cell_type": "markdown",
   "metadata": {},
   "source": [
    "# 2"
   ]
  },
  {
   "cell_type": "code",
   "execution_count": 8,
   "metadata": {},
   "outputs": [],
   "source": [
    "A = Matrix([[8, 9, 7, 7],\n",
    "            [1, 8, 2, 7]])\n",
    "B = Matrix([[0, 9, 4, 7],\n",
    "            [7, 2, 2, 6]])\n",
    "\n",
    "C = A * B.T\n",
    "D = A.T * B"
   ]
  },
  {
   "cell_type": "code",
   "execution_count": 9,
   "metadata": {},
   "outputs": [
    {
     "data": {
      "text/latex": [
       "$\\displaystyle 158$"
      ],
      "text/plain": [
       "158"
      ]
     },
     "execution_count": 9,
     "metadata": {},
     "output_type": "execute_result"
    }
   ],
   "source": [
    "max(C)"
   ]
  },
  {
   "cell_type": "code",
   "execution_count": 10,
   "metadata": {},
   "outputs": [
    {
     "data": {
      "text/latex": [
       "$\\displaystyle 926$"
      ],
      "text/plain": [
       "926"
      ]
     },
     "execution_count": 10,
     "metadata": {},
     "output_type": "execute_result"
    }
   ],
   "source": [
    "sum(D)"
   ]
  },
  {
   "cell_type": "markdown",
   "metadata": {},
   "source": [
    "# Matrix equations"
   ]
  },
  {
   "cell_type": "code",
   "execution_count": 11,
   "metadata": {},
   "outputs": [
    {
     "data": {
      "text/latex": [
       "$\\displaystyle \\left[\\begin{matrix}- \\frac{27}{44} & \\frac{23}{12}\\\\\\frac{9}{44} & \\frac{1}{4}\\end{matrix}\\right]$"
      ],
      "text/plain": [
       "⎡-27   23 ⎤\n",
       "⎢────  ── ⎥\n",
       "⎢ 44   12 ⎥\n",
       "⎢         ⎥\n",
       "⎣9/44  1/4⎦"
      ]
     },
     "execution_count": 11,
     "metadata": {},
     "output_type": "execute_result"
    }
   ],
   "source": [
    "A = Matrix(2, 2, [3,9,6,7])\n",
    "B = Matrix(2, 2, [7, 2, 3, 2])\n",
    "C = Matrix(2, 2, [24, 16, 24, 22])\n",
    "\n",
    "X = (A**-1)*C*(B**-1)\n",
    "X"
   ]
  },
  {
   "cell_type": "code",
   "execution_count": 12,
   "metadata": {},
   "outputs": [
    {
     "data": {
      "text/latex": [
       "$\\displaystyle - \\frac{4}{11}$"
      ],
      "text/plain": [
       "-4/11"
      ]
     },
     "execution_count": 12,
     "metadata": {},
     "output_type": "execute_result"
    }
   ],
   "source": [
    "X.trace()"
   ]
  },
  {
   "cell_type": "code",
   "execution_count": 13,
   "metadata": {},
   "outputs": [
    {
     "data": {
      "text/latex": [
       "$\\displaystyle -0.363636363636364$"
      ],
      "text/plain": [
       "-0.36363636363636365"
      ]
     },
     "execution_count": 13,
     "metadata": {},
     "output_type": "execute_result"
    }
   ],
   "source": [
    "-4/11"
   ]
  },
  {
   "cell_type": "code",
   "execution_count": 14,
   "metadata": {},
   "outputs": [],
   "source": [
    "t = Symbol('t')\n",
    "A = Matrix([[5, 8, 1, 7],\n",
    "            [3, 8, 7, 8],\n",
    "            [8, 7, 5, 7],\n",
    "            [2, 9, 8, t]])\n",
    "B = Matrix([[6, 9, 3, 4],\n",
    "            [9, 6, 0, 4],\n",
    "            [8, 1, 5, 6],\n",
    "            [7, 5, 4, 9]])\n",
    "\n",
    "C = A*B\n",
    "det_C = C.det()"
   ]
  },
  {
   "cell_type": "code",
   "execution_count": 15,
   "metadata": {},
   "outputs": [
    {
     "data": {
      "text/latex": [
       "$\\displaystyle \\left[ \\frac{2153}{240}\\right]$"
      ],
      "text/plain": [
       "⎡2153⎤\n",
       "⎢────⎥\n",
       "⎣240 ⎦"
      ]
     },
     "execution_count": 15,
     "metadata": {},
     "output_type": "execute_result"
    }
   ],
   "source": [
    "solve(det_C, t)"
   ]
  },
  {
   "cell_type": "code",
   "execution_count": 16,
   "metadata": {},
   "outputs": [
    {
     "data": {
      "text/latex": [
       "$\\displaystyle 8.97$"
      ],
      "text/plain": [
       "8.97"
      ]
     },
     "execution_count": 16,
     "metadata": {},
     "output_type": "execute_result"
    }
   ],
   "source": [
    "round(2152/240, 2)"
   ]
  },
  {
   "cell_type": "code",
   "execution_count": 42,
   "metadata": {},
   "outputs": [
    {
     "data": {
      "text/latex": [
       "$\\displaystyle \\left[\\begin{matrix}0.513 & 0.285\\\\0.342 & 0.627\\end{matrix}\\right]$"
      ],
      "text/plain": [
       "⎡0.513  0.285⎤\n",
       "⎢            ⎥\n",
       "⎣0.342  0.627⎦"
      ]
     },
     "execution_count": 42,
     "metadata": {},
     "output_type": "execute_result"
    }
   ],
   "source": [
    "gamma = 0.057\n",
    "I = eye(2)\n",
    "A = Matrix([[9*gamma, 5*gamma],\n",
    "            [6*gamma, 11*gamma]])\n",
    "A"
   ]
  },
  {
   "cell_type": "code",
   "execution_count": 71,
   "metadata": {},
   "outputs": [],
   "source": [
    "def S(m, n):\n",
    "    return A**m * (I-A)**-1 * (I-A**(n-m+1))"
   ]
  },
  {
   "cell_type": "code",
   "execution_count": 73,
   "metadata": {},
   "outputs": [
    {
     "data": {
      "text/latex": [
       "$\\displaystyle 4.15458$"
      ],
      "text/plain": [
       "4.15458"
      ]
     },
     "execution_count": 73,
     "metadata": {},
     "output_type": "execute_result"
    }
   ],
   "source": [
    "round(max(S(2, 60)), 5)"
   ]
  },
  {
   "cell_type": "code",
   "execution_count": 79,
   "metadata": {},
   "outputs": [
    {
     "data": {
      "text/latex": [
       "$\\displaystyle 9.96433346548963 \\cdot 10^{-5}$"
      ],
      "text/plain": [
       "9.96433346548963e-5"
      ]
     },
     "execution_count": 79,
     "metadata": {},
     "output_type": "execute_result"
    }
   ],
   "source": [
    "max(S(78, 79))"
   ]
  },
  {
   "cell_type": "code",
   "execution_count": 75,
   "metadata": {},
   "outputs": [
    {
     "data": {
      "text/latex": [
       "$\\displaystyle 4.15458$"
      ],
      "text/plain": [
       "4.15458"
      ]
     },
     "execution_count": 75,
     "metadata": {},
     "output_type": "execute_result"
    }
   ],
   "source": [
    "\n",
    "summa = Matrix([[0, 0],\n",
    "                [0, 0]])\n",
    "\n",
    "for i in range(2, 61):\n",
    "    summa += A**i\n",
    "\n",
    "round(max(summa), 5)\n"
   ]
  },
  {
   "cell_type": "code",
   "execution_count": 58,
   "metadata": {},
   "outputs": [
    {
     "data": {
      "text/latex": [
       "$\\displaystyle 4.15815$"
      ],
      "text/plain": [
       "4.15815"
      ]
     },
     "execution_count": 58,
     "metadata": {},
     "output_type": "execute_result"
    }
   ],
   "source": [
    "B = (I-A)**-1 * A**2\n",
    "round(max(B),5)"
   ]
  },
  {
   "cell_type": "code",
   "execution_count": null,
   "metadata": {},
   "outputs": [
    {
     "data": {
      "text/latex": [
       "$\\displaystyle 0.000468640171572728$"
      ],
      "text/plain": [
       "0.000468640171572728"
      ]
     },
     "execution_count": 87,
     "metadata": {},
     "output_type": "execute_result"
    }
   ],
   "source": []
  },
  {
   "cell_type": "code",
   "execution_count": 90,
   "metadata": {},
   "outputs": [
    {
     "name": "stdout",
     "output_type": "stream",
     "text": [
      "91\n"
     ]
    }
   ],
   "source": [
    "for k in range(2, 1000):\n",
    "    for n in range(k+1, k+100):\n",
    "        summa = Matrix([[0, 0],\n",
    "                        [0, 0]])\n",
    "        summa = S(k,n)\n",
    "        if max(summa) >= 0.0001:\n",
    "            break\n",
    "    else:\n",
    "        print(k)\n",
    "        break\n",
    "\n"
   ]
  },
  {
   "cell_type": "code",
   "execution_count": 109,
   "metadata": {},
   "outputs": [
    {
     "data": {
      "text/latex": [
       "$\\displaystyle 7$"
      ],
      "text/plain": [
       "7"
      ]
     },
     "execution_count": 109,
     "metadata": {},
     "output_type": "execute_result"
    }
   ],
   "source": [
    "d = [8, 4, 7, 5, 9, 2, 12, 6, 1, 11, 10, 3]\n",
    "A = Matrix([    [0, 0, 0 ,0 ,0 ,0 ,0 ,0 ,1, 0, 0, 0],\n",
    "                [0, 0, 0 ,0 ,0 ,1 ,0 ,0 ,0, 0, 0, 0],\n",
    "                [0, 0, 0 ,0 ,0 ,0 ,0 ,0 ,0, 0, 0, 1],\n",
    "                [0, 1, 0 ,0 ,0 ,0 ,0 ,0 ,0, 0, 0, 0],\n",
    "                [0, 0, 0 ,1 ,0 ,0 ,0 ,0 ,0, 0, 0, 0],\n",
    "                [0, 0, 0 ,0 ,0 ,0 ,0 ,1 ,0, 0, 0, 0],\n",
    "                [0, 0, 1 ,0 ,0 ,0 ,0 ,0 ,0, 0, 0, 0],\n",
    "                [1, 0, 0 ,0 ,0 ,0 ,0 ,0 ,0, 0, 0, 0],\n",
    "                [0, 0, 0 ,0 ,1 ,0 ,0 ,0 ,0, 0, 0, 0],\n",
    "                [0, 0, 0 ,0 ,0 ,0 ,0 ,0 ,0, 0, 1, 0],\n",
    "                [0, 0, 0 ,0 ,0 ,0 ,0 ,0 ,0, 1, 0, 0],\n",
    "                [0, 0, 0 ,0 ,0 ,0 ,1 ,0 ,0, 0, 0, 0]])\n",
    "\n",
    "(A**7).trace()"
   ]
  },
  {
   "cell_type": "code",
   "execution_count": 110,
   "metadata": {},
   "outputs": [
    {
     "name": "stdout",
     "output_type": "stream",
     "text": [
      "0\n",
      "2\n",
      "3\n",
      "2\n",
      "0\n",
      "5\n",
      "7\n",
      "2\n",
      "3\n",
      "2\n",
      "0\n",
      "5\n",
      "0\n",
      "9\n",
      "3\n",
      "2\n",
      "0\n",
      "5\n",
      "0\n",
      "2\n",
      "10\n",
      "2\n",
      "0\n",
      "5\n",
      "0\n",
      "2\n",
      "3\n",
      "9\n",
      "0\n",
      "5\n",
      "0\n",
      "2\n",
      "3\n",
      "2\n",
      "7\n",
      "5\n",
      "0\n",
      "2\n",
      "3\n",
      "2\n",
      "0\n",
      "12\n"
     ]
    },
    {
     "data": {
      "text/latex": [
       "$\\displaystyle 42$"
      ],
      "text/plain": [
       "42"
      ]
     },
     "execution_count": 110,
     "metadata": {},
     "output_type": "execute_result"
    }
   ],
   "source": [
    "for i in range(1, 10000):\n",
    "    tr = (A**i).trace()\n",
    "    print(tr)\n",
    "    if tr == 12:\n",
    "       break\n",
    "i\n"
   ]
  },
  {
   "cell_type": "code",
   "execution_count": 1,
   "metadata": {},
   "outputs": [],
   "source": [
    "from sympy import *\n"
   ]
  },
  {
   "cell_type": "code",
   "execution_count": 3,
   "metadata": {},
   "outputs": [
    {
     "data": {
      "text/plain": [
       "(Matrix([\n",
       " [1, 0, 0, 12],\n",
       " [0, 1, 0, 29],\n",
       " [0, 0, 1, 16]]),\n",
       " (0, 1, 2))"
      ]
     },
     "execution_count": 3,
     "metadata": {},
     "output_type": "execute_result"
    }
   ],
   "source": [
    "A = Matrix([[8, 7, 9],\n",
    "            [8, 7, 8],\n",
    "            [6, 8, 5]])\n",
    "b = Matrix([443, 427, 384])\n",
    "A_b = Matrix([[A, b]])\n",
    "A_b.rref()"
   ]
  },
  {
   "cell_type": "code",
   "execution_count": 5,
   "metadata": {},
   "outputs": [
    {
     "data": {
      "text/plain": [
       "(Matrix([\n",
       " [1, 0, 0, 0, 0, 0,  7],\n",
       " [0, 1, 0, 0, 0, 0,  8],\n",
       " [0, 0, 1, 0, 0, 0, 15],\n",
       " [0, 0, 0, 1, 0, 0, 21],\n",
       " [0, 0, 0, 0, 1, 0, 31],\n",
       " [0, 0, 0, 0, 0, 1, 39]]),\n",
       " (0, 1, 2, 3, 4, 5))"
      ]
     },
     "execution_count": 5,
     "metadata": {},
     "output_type": "execute_result"
    }
   ],
   "source": [
    "# x y z u v w\n",
    "            #x  y  z  u   v  w  b\n",
    "A = Matrix([[4, 6, 8, -1, 0, 0, 175],\n",
    "            [2, 6, 5, 0, -1, 0, 106],\n",
    "            [9, 6, 2, 0, 0, -1, 102],\n",
    "            [1, 0, 0, 1, 1, 0, 59],\n",
    "            [0, 1, 0, 1, 0, 1, 68],\n",
    "            [0, 0, 1, 0, 1, 1, 85]])\n",
    "\n",
    "A.rref()"
   ]
  },
  {
   "cell_type": "code",
   "execution_count": 13,
   "metadata": {},
   "outputs": [
    {
     "data": {
      "text/plain": [
       "(Matrix([\n",
       " [1, 0, 0,  2954,   6154],\n",
       " [0, 1, 0, -6839, -14250],\n",
       " [0, 0, 1,  7109,  14814]]),\n",
       " (0, 1, 2))"
      ]
     },
     "execution_count": 13,
     "metadata": {},
     "output_type": "execute_result"
    }
   ],
   "source": [
    "A = Matrix([[ 67, 57, 27, 38, 46],\n",
    "            [ 62, 59, 31,26, 32],\n",
    "            [ 33, 34, 19,27, 48]])\n",
    "A.rref()"
   ]
  },
  {
   "cell_type": "code",
   "execution_count": 31,
   "metadata": {},
   "outputs": [
    {
     "data": {
      "text/plain": [
       "16.333333333333332"
      ]
     },
     "execution_count": 31,
     "metadata": {},
     "output_type": "execute_result"
    }
   ],
   "source": [
    "a = Symbol('a')\n",
    "\n",
    "A = Matrix([[6, 7, 9],\n",
    "            [8, a, 5],\n",
    "            [6, 8, 8]])\n",
    "\n",
    "A.echelon_form()\n",
    "solve(36*a-588, a)\n",
    "49/3"
   ]
  },
  {
   "cell_type": "code",
   "execution_count": 37,
   "metadata": {},
   "outputs": [
    {
     "data": {
      "text/plain": [
       "2.5"
      ]
     },
     "execution_count": 37,
     "metadata": {},
     "output_type": "execute_result"
    }
   ],
   "source": [
    "A = Matrix([[4, 3, 7, 2],\n",
    "            [3, 7, 5, 6],\n",
    "            [2, 7, 4, 6],\n",
    "            [a, 7, 7, 4]])\n",
    "A.echelon_form()\n",
    "3040/1216"
   ]
  },
  {
   "cell_type": "code",
   "execution_count": null,
   "metadata": {},
   "outputs": [],
   "source": []
  }
 ],
 "metadata": {
  "kernelspec": {
   "display_name": "Python 3",
   "language": "python",
   "name": "python3"
  },
  "language_info": {
   "codemirror_mode": {
    "name": "ipython",
    "version": 3
   },
   "file_extension": ".py",
   "mimetype": "text/x-python",
   "name": "python",
   "nbconvert_exporter": "python",
   "pygments_lexer": "ipython3",
   "version": "3.12.0"
  }
 },
 "nbformat": 4,
 "nbformat_minor": 2
}
