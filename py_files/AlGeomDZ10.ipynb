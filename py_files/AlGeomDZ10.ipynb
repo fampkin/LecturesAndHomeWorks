{
 "cells": [
  {
   "cell_type": "code",
   "execution_count": 39,
   "metadata": {},
   "outputs": [],
   "source": [
    "from sympy import *\n",
    "init_printing()"
   ]
  },
  {
   "cell_type": "markdown",
   "metadata": {},
   "source": [
    "# Номер 1"
   ]
  },
  {
   "cell_type": "code",
   "execution_count": 40,
   "metadata": {},
   "outputs": [
    {
     "data": {
      "text/latex": [
       "$\\displaystyle \\left( 2 x^{2} + 3 x + 11, \\  25 x - 5\\right)$"
      ],
      "text/plain": [
       "⎛   2                     ⎞\n",
       "⎝2⋅x  + 3⋅x + 11, 25⋅x - 5⎠"
      ]
     },
     "execution_count": 40,
     "metadata": {},
     "output_type": "execute_result"
    }
   ],
   "source": [
    "x = Symbol('x')\n",
    "f = 2*x**4 - 3*x**3 + 4*x**2 - 5*x + 6\n",
    "g = x**2 - 3*x + 1\n",
    "h, r = div(f, g)\n",
    "h, r"
   ]
  },
  {
   "cell_type": "markdown",
   "metadata": {},
   "source": [
    "# Номер 2"
   ]
  },
  {
   "cell_type": "code",
   "execution_count": 41,
   "metadata": {},
   "outputs": [
    {
     "data": {
      "text/latex": [
       "$\\displaystyle \\left( - \\frac{3 x^{2}}{16} + \\frac{3 x}{16} + \\frac{7}{8}, \\  \\frac{3 x^{3}}{16} - \\frac{3 x^{2}}{16} - 2 x - \\frac{9}{8}, \\  x + 3\\right)$"
      ],
      "text/plain": [
       "⎛     2               3      2                 ⎞\n",
       "⎜  3⋅x    3⋅x   7  3⋅x    3⋅x          9       ⎟\n",
       "⎜- ──── + ─── + ─, ──── - ──── - 2⋅x - ─, x + 3⎟\n",
       "⎝   16    16    8   16     16          8       ⎠"
      ]
     },
     "execution_count": 41,
     "metadata": {},
     "output_type": "execute_result"
    }
   ],
   "source": [
    "f = x**5 + 3*x**4 - 12*x**3-52*x**2-52*x - 12\n",
    "g = x**4 + 3*x**3 - 6*x**2-22*x-12\n",
    "d, u, v = gcdex(f,g)\n",
    "d, u, v"
   ]
  },
  {
   "cell_type": "markdown",
   "metadata": {},
   "source": [
    "# Номер 3"
   ]
  },
  {
   "cell_type": "code",
   "execution_count": 48,
   "metadata": {},
   "outputs": [
    {
     "name": "stdout",
     "output_type": "stream",
     "text": [
      "Корень: -1, алгебраическая кратность: 1\n",
      "Корень: -2, алгебраическая кратность: 1\n",
      "Корень: 3, алгебраическая кратность: 3\n",
      "------------------------------------\n",
      "Корень: -2.0 + 2.0*I, алгебраическая кратность: 1\n",
      "Корень: -1.0 + 2.0*I, алгебраическая кратность: 1\n",
      "Корень: 1.0*I, алгебраическая кратность: 1\n",
      "Корень: 3.0*I, алгебраическая кратность: 1\n"
     ]
    }
   ],
   "source": [
    "f1 = x**5 - 6*x**4 + 2*x**3 + 36*x**2 - 27*x - 54\n",
    "f2 = x**4 + (3 - 8j)*x**3 - (21 + 18j)*x**2 - (33 - 20j)*x + (6 + 18j)\n",
    "\n",
    "roots_f1 = roots(f1, x)\n",
    "for root, multiplicity in roots_f1.items():\n",
    "    print(f\"Корень: {root}, алгебраическая кратность: {multiplicity}\")\n",
    "print('------------------------------------')\n",
    "roots_f2 = roots(f2, x)\n",
    "for root, multiplicity in roots_f2.items():\n",
    "    print(f\"Корень: {root}, алгебраическая кратность: {multiplicity}\")"
   ]
  },
  {
   "cell_type": "code",
   "execution_count": null,
   "metadata": {},
   "outputs": [],
   "source": []
  },
  {
   "cell_type": "code",
   "execution_count": null,
   "metadata": {},
   "outputs": [],
   "source": []
  },
  {
   "cell_type": "code",
   "execution_count": null,
   "metadata": {},
   "outputs": [],
   "source": []
  }
 ],
 "metadata": {
  "kernelspec": {
   "display_name": "Python 3",
   "language": "python",
   "name": "python3"
  },
  "language_info": {
   "codemirror_mode": {
    "name": "ipython",
    "version": 3
   },
   "file_extension": ".py",
   "mimetype": "text/x-python",
   "name": "python",
   "nbconvert_exporter": "python",
   "pygments_lexer": "ipython3",
   "version": "3.12.0"
  }
 },
 "nbformat": 4,
 "nbformat_minor": 2
}
