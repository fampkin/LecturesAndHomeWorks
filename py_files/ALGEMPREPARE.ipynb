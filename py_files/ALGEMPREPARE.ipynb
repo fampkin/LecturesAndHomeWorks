{
 "cells": [
  {
   "cell_type": "code",
   "execution_count": 1,
   "metadata": {},
   "outputs": [],
   "source": [
    "from sympy import *\n",
    "from math import cos, sin\n",
    "import numpy as np"
   ]
  },
  {
   "cell_type": "code",
   "execution_count": 2,
   "metadata": {},
   "outputs": [],
   "source": [
    "init_printing()"
   ]
  },
  {
   "cell_type": "markdown",
   "metadata": {},
   "source": [
    "# 1"
   ]
  },
  {
   "cell_type": "code",
   "execution_count": 3,
   "metadata": {},
   "outputs": [
    {
     "data": {
      "text/latex": [
       "$\\displaystyle -18.2566100661767 + 2.49405756166498 i$"
      ],
      "text/plain": [
       "-18.2566100661767 + 2.49405756166498⋅ⅈ"
      ]
     },
     "execution_count": 3,
     "metadata": {},
     "output_type": "execute_result"
    }
   ],
   "source": [
    "I = eye(2)\n",
    "A = Matrix([[8, 7],\n",
    "            [9, 4]])\n",
    "\n",
    "phi  = 2 * np.pi / 35\n",
    "\n",
    "lam = np.exp(1j * phi) \n",
    "\n",
    "new_m = A + lam*I\n",
    "\n",
    "new_m.det()"
   ]
  },
  {
   "cell_type": "markdown",
   "metadata": {},
   "source": [
    "# 2"
   ]
  },
  {
   "cell_type": "code",
   "execution_count": 4,
   "metadata": {},
   "outputs": [
    {
     "data": {
      "text/latex": [
       "$\\displaystyle -5.43786170866982 + 2.96865254575026 i$"
      ],
      "text/plain": [
       "-5.43786170866982 + 2.96865254575026⋅ⅈ"
      ]
     },
     "execution_count": 4,
     "metadata": {},
     "output_type": "execute_result"
    }
   ],
   "source": [
    "I = eye(2)\n",
    "A = Matrix([[4, 5],\n",
    "            [8, 6]])\n",
    "phi = 2 * np.pi / 25\n",
    "lam = np.exp(1j * phi)\n",
    "new_m = A + lam*I\n",
    "new_m.det()"
   ]
  },
  {
   "cell_type": "markdown",
   "metadata": {},
   "source": [
    "# 3"
   ]
  },
  {
   "cell_type": "code",
   "execution_count": 20,
   "metadata": {},
   "outputs": [
    {
     "data": {
      "text/latex": [
       "$\\displaystyle \\left( 15.0853753339117, \\  1.65667188757437\\right)$"
      ],
      "text/plain": [
       "(15.085375333911731, 1.6566718875743724)"
      ]
     },
     "execution_count": 20,
     "metadata": {},
     "output_type": "execute_result"
    }
   ],
   "source": [
    "x = symbols('x')\n",
    "p = x**14 - 2*x**13 - x**12 + 2*x**11 + x**10 + x**9 - x**7 + 2*x**6 - 2*x**5 - 2*x**4 + x**3 + x**2 - 2*x + 2\n",
    "\n",
    "coofs = [1, -2, -1, +2, +1, 1, 0, -1, +2, -2, -2, 1, 1, -2, 2]\n",
    "roots = np.roots(coofs)\n",
    "np.sum(abs(roots)), max(roots.real)\n"
   ]
  },
  {
   "cell_type": "markdown",
   "metadata": {},
   "source": [
    "# 4"
   ]
  },
  {
   "cell_type": "code",
   "execution_count": 22,
   "metadata": {},
   "outputs": [
    {
     "data": {
      "text/latex": [
       "$\\displaystyle \\left( 13.1131921304097, \\  0.999815093493551\\right)$"
      ],
      "text/plain": [
       "(13.113192130409663, 0.9998150934935515)"
      ]
     },
     "execution_count": 22,
     "metadata": {},
     "output_type": "execute_result"
    }
   ],
   "source": [
    "coofs = [1, 0, 2, 0, -2, 1, -1, 0, -2, 0, -1, 2, 2]\n",
    "roots = np.roots(coofs)\n",
    "np.sum(abs(roots)), max(roots.real)"
   ]
  },
  {
   "cell_type": "markdown",
   "metadata": {},
   "source": [
    "# 5"
   ]
  },
  {
   "cell_type": "code",
   "execution_count": 58,
   "metadata": {},
   "outputs": [
    {
     "data": {
      "text/latex": [
       "$\\displaystyle 0.65812797457128 - 2.56691724462564 i$"
      ],
      "text/plain": [
       "0.65812797457128 - 2.56691724462564⋅ⅈ"
      ]
     },
     "metadata": {},
     "output_type": "display_data"
    },
    {
     "data": {
      "text/latex": [
       "$\\displaystyle \\left[ 1.0, \\  0.0224581369746915 + 0.418564577446425 i, \\  -1.198534993036 - 0.714336270656277 i\\right]$"
      ],
      "text/plain": [
       "[1.0, 0.0224581369746915 + 0.418564577446425⋅ⅈ, -1.198534993036 - 0.7143362706 ↪\n",
       "\n",
       "↪ 56277⋅ⅈ]"
      ]
     },
     "metadata": {},
     "output_type": "display_data"
    },
    {
     "data": {
      "text/latex": [
       "$\\displaystyle 0.65812797457128 + 2.56691724462564 i$"
      ],
      "text/plain": [
       "0.65812797457128 + 2.56691724462564⋅ⅈ"
      ]
     },
     "metadata": {},
     "output_type": "display_data"
    },
    {
     "data": {
      "text/latex": [
       "$\\displaystyle \\left[ 1.0, \\  0.0224581369746915 - 0.418564577446425 i, \\  -1.198534993036 + 0.714336270656277 i\\right]$"
      ],
      "text/plain": [
       "[1.0, 0.0224581369746915 - 0.418564577446425⋅ⅈ, -1.198534993036 + 0.7143362706 ↪\n",
       "\n",
       "↪ 56277⋅ⅈ]"
      ]
     },
     "metadata": {},
     "output_type": "display_data"
    },
    {
     "data": {
      "text/latex": [
       "$\\displaystyle 54.6837440508574$"
      ],
      "text/plain": [
       "54.6837440508574"
      ]
     },
     "metadata": {},
     "output_type": "display_data"
    },
    {
     "data": {
      "text/latex": [
       "$\\displaystyle \\left[ 1.0, \\  0.661802072303847, \\  0.607664301317486\\right]$"
      ],
      "text/plain": [
       "[1.0, 0.661802072303847, 0.607664301317486]"
      ]
     },
     "metadata": {},
     "output_type": "display_data"
    }
   ],
   "source": [
    "A = Matrix([[24, 28, 20],\n",
    "            [15, 21, 12],\n",
    "            [10, 25, 11]])\n",
    "eigenvects = A.eigenvects()\n",
    "z_with_max_img_part = - 10000000\n",
    "for val, alg_mult, vects in eigenvects:\n",
    "    val = val.evalf()\n",
    "    vects = [x.evalf() for x in vects][0]\n",
    "    vects = [(x/vects[0]).expand() for x in vects]\n",
    "    display(val)\n",
    "    display(vects)\n"
   ]
  },
  {
   "cell_type": "markdown",
   "metadata": {},
   "source": [
    "# 6"
   ]
  },
  {
   "cell_type": "code",
   "execution_count": 66,
   "metadata": {},
   "outputs": [
    {
     "data": {
      "text/latex": [
       "$\\displaystyle -1.07387738326803 - 5.32211648642222 i$"
      ],
      "text/plain": [
       "-1.07387738326803 - 5.32211648642222⋅ⅈ"
      ]
     },
     "metadata": {},
     "output_type": "display_data"
    },
    {
     "data": {
      "text/latex": [
       "$\\displaystyle \\left[ 1.0, \\  -0.82078362419986 + 0.776462367280823 i, \\  -0.4136752373025 - 0.578306772441205 i\\right]$"
      ],
      "text/plain": [
       "[1.0, -0.82078362419986 + 0.776462367280823⋅ⅈ, -0.4136752373025 - 0.5783067724 ↪\n",
       "\n",
       "↪ 41205⋅ⅈ]"
      ]
     },
     "metadata": {},
     "output_type": "display_data"
    },
    {
     "data": {
      "text/latex": [
       "$\\displaystyle -1.07387738326803 + 5.32211648642222 i$"
      ],
      "text/plain": [
       "-1.07387738326803 + 5.32211648642222⋅ⅈ"
      ]
     },
     "metadata": {},
     "output_type": "display_data"
    },
    {
     "data": {
      "text/latex": [
       "$\\displaystyle \\left[ 1.0, \\  -0.82078362419986 - 0.776462367280823 i, \\  -0.4136752373025 + 0.578306772441205 i\\right]$"
      ],
      "text/plain": [
       "[1.0, -0.82078362419986 - 0.776462367280823⋅ⅈ, -0.4136752373025 + 0.5783067724 ↪\n",
       "\n",
       "↪ 41205⋅ⅈ]"
      ]
     },
     "metadata": {},
     "output_type": "display_data"
    },
    {
     "data": {
      "text/latex": [
       "$\\displaystyle 62.1477547665361$"
      ],
      "text/plain": [
       "62.1477547665361"
      ]
     },
     "metadata": {},
     "output_type": "display_data"
    },
    {
     "data": {
      "text/latex": [
       "$\\displaystyle \\left[ 1.0, \\  0.604530211362683, \\  1.1315832788378\\right]$"
      ],
      "text/plain": [
       "[1.0, 0.604530211362683, 1.1315832788378]"
      ]
     },
     "metadata": {},
     "output_type": "display_data"
    }
   ],
   "source": [
    "A = Matrix([[22, 14, 28],\n",
    "            [19, 12, 10],\n",
    "            [27, 23, 26]])\n",
    "\n",
    "eigenvects = A.eigenvects()\n",
    "for val, alg_mult, vects in eigenvects:\n",
    "    val = val.evalf()\n",
    "    vects = [x.evalf() for x in vects][0]\n",
    "    vects = [(x/vects[0]).expand() for x in vects]\n",
    "    display(val)\n",
    "    display(vects)\n",
    "    "
   ]
  },
  {
   "cell_type": "markdown",
   "metadata": {},
   "source": [
    "# 7"
   ]
  },
  {
   "cell_type": "code",
   "execution_count": 72,
   "metadata": {},
   "outputs": [
    {
     "data": {
      "text/plain": [
       "array([ 5.20630372, 34.05730659])"
      ]
     },
     "execution_count": 72,
     "metadata": {},
     "output_type": "execute_result"
    }
   ],
   "source": [
    "A = np.array([41, 44])\n",
    "B = np.array([13, 6])\n",
    "C = np.array([3, 42])\n",
    "\n",
    "BC = C-B\n",
    "BA = A-B\n",
    "\n",
    "dot_product = np.dot(BA, BC)\n",
    "BC_sqr = np.dot(BC, BC)\n",
    "\n",
    "t = dot_product/BC_sqr\n",
    "D = B + t*BC\n",
    "D"
   ]
  },
  {
   "cell_type": "code",
   "execution_count": 74,
   "metadata": {},
   "outputs": [
    {
     "data": {
      "text/latex": [
       "$\\displaystyle 37.1489682935099$"
      ],
      "text/plain": [
       "37.14896829350993"
      ]
     },
     "execution_count": 74,
     "metadata": {},
     "output_type": "execute_result"
    }
   ],
   "source": [
    "R = np.linalg.norm(A - D)\n",
    "R"
   ]
  },
  {
   "cell_type": "code",
   "execution_count": null,
   "metadata": {},
   "outputs": [],
   "source": []
  }
 ],
 "metadata": {
  "kernelspec": {
   "display_name": "Python 3",
   "language": "python",
   "name": "python3"
  },
  "language_info": {
   "codemirror_mode": {
    "name": "ipython",
    "version": 3
   },
   "file_extension": ".py",
   "mimetype": "text/x-python",
   "name": "python",
   "nbconvert_exporter": "python",
   "pygments_lexer": "ipython3",
   "version": "3.12.0"
  }
 },
 "nbformat": 4,
 "nbformat_minor": 2
}
