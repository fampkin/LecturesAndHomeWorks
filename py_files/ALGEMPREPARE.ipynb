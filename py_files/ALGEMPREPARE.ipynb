{
 "cells": [
  {
   "cell_type": "code",
   "execution_count": 1,
   "metadata": {},
   "outputs": [],
   "source": [
    "from sympy import *\n",
    "from math import cos, sin\n",
    "import numpy as np"
   ]
  },
  {
   "cell_type": "code",
   "execution_count": 2,
   "metadata": {},
   "outputs": [],
   "source": [
    "init_printing()"
   ]
  },
  {
   "cell_type": "markdown",
   "metadata": {},
   "source": [
    "# 1"
   ]
  },
  {
   "cell_type": "code",
   "execution_count": 3,
   "metadata": {},
   "outputs": [
    {
     "data": {
      "text/latex": [
       "$\\displaystyle -18.2566100661767 + 2.49405756166498 i$"
      ],
      "text/plain": [
       "-18.2566100661767 + 2.49405756166498⋅ⅈ"
      ]
     },
     "execution_count": 3,
     "metadata": {},
     "output_type": "execute_result"
    }
   ],
   "source": [
    "I = eye(2)\n",
    "A = Matrix([[8, 7],\n",
    "            [9, 4]])\n",
    "\n",
    "phi  = 2 * np.pi / 35\n",
    "\n",
    "lam = np.exp(1j * phi) \n",
    "\n",
    "new_m = A + lam*I\n",
    "\n",
    "new_m.det()"
   ]
  },
  {
   "cell_type": "markdown",
   "metadata": {},
   "source": [
    "# 2"
   ]
  },
  {
   "cell_type": "code",
   "execution_count": 4,
   "metadata": {},
   "outputs": [
    {
     "data": {
      "text/latex": [
       "$\\displaystyle -5.43786170866982 + 2.96865254575026 i$"
      ],
      "text/plain": [
       "-5.43786170866982 + 2.96865254575026⋅ⅈ"
      ]
     },
     "execution_count": 4,
     "metadata": {},
     "output_type": "execute_result"
    }
   ],
   "source": [
    "I = eye(2)\n",
    "A = Matrix([[4, 5],\n",
    "            [8, 6]])\n",
    "phi = 2 * np.pi / 25\n",
    "lam = np.exp(1j * phi)\n",
    "new_m = A + lam*I\n",
    "new_m.det()"
   ]
  },
  {
   "cell_type": "markdown",
   "metadata": {},
   "source": [
    "# 3"
   ]
  },
  {
   "cell_type": "code",
   "execution_count": 5,
   "metadata": {},
   "outputs": [
    {
     "data": {
      "text/latex": [
       "$\\displaystyle \\left( 15.0853753339117, \\  1.65667188757437\\right)$"
      ],
      "text/plain": [
       "(15.085375333911731, 1.6566718875743724)"
      ]
     },
     "execution_count": 5,
     "metadata": {},
     "output_type": "execute_result"
    }
   ],
   "source": [
    "x = symbols('x')\n",
    "p = x**14 - 2*x**13 - x**12 + 2*x**11 + x**10 + x**9 - x**7 + 2*x**6 - 2*x**5 - 2*x**4 + x**3 + x**2 - 2*x + 2\n",
    "\n",
    "coofs = [1, -2, -1, +2, +1, 1, 0, -1, +2, -2, -2, 1, 1, -2, 2]\n",
    "roots = np.roots(coofs)\n",
    "np.sum(abs(roots)), max(roots.real)\n"
   ]
  },
  {
   "cell_type": "markdown",
   "metadata": {},
   "source": [
    "# 4"
   ]
  },
  {
   "cell_type": "code",
   "execution_count": 6,
   "metadata": {},
   "outputs": [
    {
     "data": {
      "text/latex": [
       "$\\displaystyle \\left( 13.1131921304097, \\  0.999815093493551\\right)$"
      ],
      "text/plain": [
       "(13.113192130409663, 0.9998150934935515)"
      ]
     },
     "execution_count": 6,
     "metadata": {},
     "output_type": "execute_result"
    }
   ],
   "source": [
    "coofs = [1, 0, 2, 0, -2, 1, -1, 0, -2, 0, -1, 2, 2]\n",
    "roots = np.roots(coofs)\n",
    "np.sum(abs(roots)), max(roots.real)"
   ]
  },
  {
   "cell_type": "markdown",
   "metadata": {},
   "source": [
    "# 5"
   ]
  },
  {
   "cell_type": "code",
   "execution_count": 7,
   "metadata": {},
   "outputs": [
    {
     "data": {
      "text/latex": [
       "$\\displaystyle 0.65812797457128 - 2.56691724462564 i$"
      ],
      "text/plain": [
       "0.65812797457128 - 2.56691724462564⋅ⅈ"
      ]
     },
     "metadata": {},
     "output_type": "display_data"
    },
    {
     "data": {
      "text/latex": [
       "$\\displaystyle \\left[ 1.0, \\  0.0224581369746915 + 0.418564577446425 i, \\  -1.198534993036 - 0.714336270656277 i\\right]$"
      ],
      "text/plain": [
       "[1.0, 0.0224581369746915 + 0.418564577446425⋅ⅈ, -1.198534993036 - 0.7143362706 ↪\n",
       "\n",
       "↪ 56277⋅ⅈ]"
      ]
     },
     "metadata": {},
     "output_type": "display_data"
    },
    {
     "data": {
      "text/latex": [
       "$\\displaystyle 0.65812797457128 + 2.56691724462564 i$"
      ],
      "text/plain": [
       "0.65812797457128 + 2.56691724462564⋅ⅈ"
      ]
     },
     "metadata": {},
     "output_type": "display_data"
    },
    {
     "data": {
      "text/latex": [
       "$\\displaystyle \\left[ 1.0, \\  0.0224581369746915 - 0.418564577446425 i, \\  -1.198534993036 + 0.714336270656277 i\\right]$"
      ],
      "text/plain": [
       "[1.0, 0.0224581369746915 - 0.418564577446425⋅ⅈ, -1.198534993036 + 0.7143362706 ↪\n",
       "\n",
       "↪ 56277⋅ⅈ]"
      ]
     },
     "metadata": {},
     "output_type": "display_data"
    },
    {
     "data": {
      "text/latex": [
       "$\\displaystyle 54.6837440508574$"
      ],
      "text/plain": [
       "54.6837440508574"
      ]
     },
     "metadata": {},
     "output_type": "display_data"
    },
    {
     "data": {
      "text/latex": [
       "$\\displaystyle \\left[ 1.0, \\  0.661802072303847, \\  0.607664301317486\\right]$"
      ],
      "text/plain": [
       "[1.0, 0.661802072303847, 0.607664301317486]"
      ]
     },
     "metadata": {},
     "output_type": "display_data"
    }
   ],
   "source": [
    "A = Matrix([[24, 28, 20],\n",
    "            [15, 21, 12],\n",
    "            [10, 25, 11]])\n",
    "eigenvects = A.eigenvects()\n",
    "z_with_max_img_part = - 10000000\n",
    "for val, alg_mult, vects in eigenvects:\n",
    "    val = val.evalf()\n",
    "    vects = [x.evalf() for x in vects][0]\n",
    "    vects = [(x/vects[0]).expand() for x in vects]\n",
    "    display(val)\n",
    "    display(vects)\n"
   ]
  },
  {
   "cell_type": "markdown",
   "metadata": {},
   "source": [
    "# 6"
   ]
  },
  {
   "cell_type": "code",
   "execution_count": 8,
   "metadata": {},
   "outputs": [
    {
     "data": {
      "text/latex": [
       "$\\displaystyle -1.07387738326803 - 5.32211648642222 i$"
      ],
      "text/plain": [
       "-1.07387738326803 - 5.32211648642222⋅ⅈ"
      ]
     },
     "metadata": {},
     "output_type": "display_data"
    },
    {
     "data": {
      "text/latex": [
       "$\\displaystyle \\left[ 1.0, \\  -0.82078362419986 + 0.776462367280823 i, \\  -0.4136752373025 - 0.578306772441205 i\\right]$"
      ],
      "text/plain": [
       "[1.0, -0.82078362419986 + 0.776462367280823⋅ⅈ, -0.4136752373025 - 0.5783067724 ↪\n",
       "\n",
       "↪ 41205⋅ⅈ]"
      ]
     },
     "metadata": {},
     "output_type": "display_data"
    },
    {
     "data": {
      "text/latex": [
       "$\\displaystyle -1.07387738326803 + 5.32211648642222 i$"
      ],
      "text/plain": [
       "-1.07387738326803 + 5.32211648642222⋅ⅈ"
      ]
     },
     "metadata": {},
     "output_type": "display_data"
    },
    {
     "data": {
      "text/latex": [
       "$\\displaystyle \\left[ 1.0, \\  -0.82078362419986 - 0.776462367280823 i, \\  -0.4136752373025 + 0.578306772441205 i\\right]$"
      ],
      "text/plain": [
       "[1.0, -0.82078362419986 - 0.776462367280823⋅ⅈ, -0.4136752373025 + 0.5783067724 ↪\n",
       "\n",
       "↪ 41205⋅ⅈ]"
      ]
     },
     "metadata": {},
     "output_type": "display_data"
    },
    {
     "data": {
      "text/latex": [
       "$\\displaystyle 62.1477547665361$"
      ],
      "text/plain": [
       "62.1477547665361"
      ]
     },
     "metadata": {},
     "output_type": "display_data"
    },
    {
     "data": {
      "text/latex": [
       "$\\displaystyle \\left[ 1.0, \\  0.604530211362683, \\  1.1315832788378\\right]$"
      ],
      "text/plain": [
       "[1.0, 0.604530211362683, 1.1315832788378]"
      ]
     },
     "metadata": {},
     "output_type": "display_data"
    }
   ],
   "source": [
    "A = Matrix([[22, 14, 28],\n",
    "            [19, 12, 10],\n",
    "            [27, 23, 26]])\n",
    "\n",
    "eigenvects = A.eigenvects()\n",
    "for val, alg_mult, vects in eigenvects:\n",
    "    val = val.evalf()\n",
    "    vects = [x.evalf() for x in vects][0]\n",
    "    vects = [(x/vects[0]).expand() for x in vects]\n",
    "    display(val)\n",
    "    display(vects)\n",
    "    "
   ]
  },
  {
   "cell_type": "markdown",
   "metadata": {},
   "source": [
    "# 7"
   ]
  },
  {
   "cell_type": "code",
   "execution_count": 9,
   "metadata": {},
   "outputs": [
    {
     "data": {
      "text/plain": [
       "array([ 5.20630372, 34.05730659])"
      ]
     },
     "execution_count": 9,
     "metadata": {},
     "output_type": "execute_result"
    }
   ],
   "source": [
    "A = np.array([41, 44])\n",
    "B = np.array([13, 6])\n",
    "C = np.array([3, 42])\n",
    "\n",
    "BC = C-B\n",
    "BA = A-B\n",
    "\n",
    "dot_product = np.dot(BA, BC)\n",
    "BC_sqr = np.dot(BC, BC)\n",
    "\n",
    "t = dot_product/BC_sqr\n",
    "D = B + t*BC\n",
    "D"
   ]
  },
  {
   "cell_type": "markdown",
   "metadata": {},
   "source": [
    "# 8"
   ]
  },
  {
   "cell_type": "code",
   "execution_count": 59,
   "metadata": {},
   "outputs": [
    {
     "data": {
      "text/plain": [
       "array([26.79140757, -0.46410401])"
      ]
     },
     "execution_count": 59,
     "metadata": {},
     "output_type": "execute_result"
    }
   ],
   "source": [
    "A = np.array([48, 11])\n",
    "B = np.array([26, 1])\n",
    "C = np.array([6, 38])\n",
    "BC = C-B\n",
    "BA = A-B\n",
    "dp = np.dot(BA, BC)\n",
    "bc2 = np.dot(BC, BC)\n",
    "t = dp/bc2\n",
    "D = B + t * BC\n",
    "D"
   ]
  },
  {
   "cell_type": "code",
   "execution_count": 60,
   "metadata": {},
   "outputs": [
    {
     "data": {
      "text/latex": [
       "$\\displaystyle 24.1087136423295$"
      ],
      "text/plain": [
       "24.108713642329533"
      ]
     },
     "execution_count": 60,
     "metadata": {},
     "output_type": "execute_result"
    }
   ],
   "source": [
    "((A[0]-D[0])**2 + (A[1]-D[1])**2)**0.5"
   ]
  },
  {
   "cell_type": "markdown",
   "metadata": {},
   "source": [
    "# -2"
   ]
  },
  {
   "cell_type": "code",
   "execution_count": null,
   "metadata": {},
   "outputs": [
    {
     "data": {
      "text/latex": [
       "$\\displaystyle \\left[ 7, \\  3, \\  6, \\  4, \\  8, \\  1, \\  11, \\  5, \\  0, \\  10, \\  9, \\  2\\right]$"
      ],
      "text/plain": [
       "[7, 3, 6, 4, 8, 1, 11, 5, 0, 10, 9, 2]"
      ]
     },
     "execution_count": 34,
     "metadata": {},
     "output_type": "execute_result"
    }
   ],
   "source": [
    "\n",
    "from sympy.combinatorics.permutations import Permutation\n",
    "sigma_1based = [8,4,7,5,9,2,12,6,1,11,10,3]  \n",
    "n = 12\n",
    "sigma_0based = [val - 1 for val in sigma_1based]  \n",
    "\n",
    "sigma_0based"
   ]
  },
  {
   "cell_type": "code",
   "execution_count": 35,
   "metadata": {},
   "outputs": [
    {
     "data": {
      "text/latex": [
       "$\\displaystyle \\left( 0\\; 7\\; 5\\; 1\\; 3\\; 4\\; 8\\right)\\left( 2\\; 6\\; 11\\right)\\left( 9\\; 10\\right)$"
      ],
      "text/plain": [
       "Permutation(0, 7, 5, 1, 3, 4, 8)(2, 6, 11)(9, 10)"
      ]
     },
     "execution_count": 35,
     "metadata": {},
     "output_type": "execute_result"
    }
   ],
   "source": [
    "p = Permutation(sigma_0based, size=n)\n",
    "p"
   ]
  },
  {
   "cell_type": "code",
   "execution_count": 37,
   "metadata": {},
   "outputs": [
    {
     "data": {
      "text/latex": [
       "$\\displaystyle \\left( 2\\; 6\\; 11\\right)\\left( 9\\; 10\\right)$"
      ],
      "text/plain": [
       "Permutation(2, 6, 11)(9, 10)"
      ]
     },
     "execution_count": 37,
     "metadata": {},
     "output_type": "execute_result"
    }
   ],
   "source": [
    "p7 = p**7\n",
    "p7"
   ]
  },
  {
   "cell_type": "code",
   "execution_count": 38,
   "metadata": {},
   "outputs": [
    {
     "data": {
      "text/latex": [
       "$\\displaystyle 42$"
      ],
      "text/plain": [
       "42"
      ]
     },
     "execution_count": 38,
     "metadata": {},
     "output_type": "execute_result"
    }
   ],
   "source": [
    "p.order()"
   ]
  },
  {
   "cell_type": "code",
   "execution_count": 40,
   "metadata": {},
   "outputs": [
    {
     "name": "stdout",
     "output_type": "stream",
     "text": [
      "7\n"
     ]
    }
   ],
   "source": [
    "c = 0\n",
    "for i in range(n):\n",
    "    if i == p7(i):\n",
    "        c += 1\n",
    "print(c)"
   ]
  },
  {
   "cell_type": "markdown",
   "metadata": {},
   "source": [
    "# -1"
   ]
  },
  {
   "cell_type": "code",
   "execution_count": 46,
   "metadata": {},
   "outputs": [
    {
     "data": {
      "text/latex": [
       "$\\displaystyle \\left[ 2, \\  7, \\  10, \\  5, \\  3, \\  6, \\  0, \\  11, \\  8, \\  1, \\  4, \\  9\\right]$"
      ],
      "text/plain": [
       "[2, 7, 10, 5, 3, 6, 0, 11, 8, 1, 4, 9]"
      ]
     },
     "execution_count": 46,
     "metadata": {},
     "output_type": "execute_result"
    }
   ],
   "source": [
    "s1 = [3, 8, 11, 6, 4, 7, 1, 12, 9, 2, 5, 10]\n",
    "s0 = [x-1 for x in s1]\n",
    "s0"
   ]
  },
  {
   "cell_type": "code",
   "execution_count": 48,
   "metadata": {},
   "outputs": [
    {
     "data": {
      "text/latex": [
       "$\\displaystyle \\left( 0\\; 2\\; 10\\; 4\\; 3\\; 5\\; 6\\right)\\left( 1\\; 7\\; 11\\; 9\\right)$"
      ],
      "text/plain": [
       "Permutation(0, 2, 10, 4, 3, 5, 6)(1, 7, 11, 9)"
      ]
     },
     "execution_count": 48,
     "metadata": {},
     "output_type": "execute_result"
    }
   ],
   "source": [
    "p = Permutation(s0)\n",
    "p"
   ]
  },
  {
   "cell_type": "code",
   "execution_count": 51,
   "metadata": {},
   "outputs": [
    {
     "data": {
      "text/latex": [
       "$\\displaystyle \\left( 1\\; 9\\; 11\\; 7\\right)$"
      ],
      "text/plain": [
       "Permutation(1, 9, 11, 7)"
      ]
     },
     "execution_count": 51,
     "metadata": {},
     "output_type": "execute_result"
    }
   ],
   "source": [
    "p7 = p**7\n",
    "p7"
   ]
  },
  {
   "cell_type": "code",
   "execution_count": 52,
   "metadata": {},
   "outputs": [
    {
     "data": {
      "text/latex": [
       "$\\displaystyle 8$"
      ],
      "text/plain": [
       "8"
      ]
     },
     "execution_count": 52,
     "metadata": {},
     "output_type": "execute_result"
    }
   ],
   "source": [
    "c = 0\n",
    "for i in range(len(s0)):\n",
    "    if i == p7(i):\n",
    "        c += 1\n",
    "c"
   ]
  },
  {
   "cell_type": "code",
   "execution_count": 53,
   "metadata": {},
   "outputs": [
    {
     "data": {
      "text/latex": [
       "$\\displaystyle 28$"
      ],
      "text/plain": [
       "28"
      ]
     },
     "execution_count": 53,
     "metadata": {},
     "output_type": "execute_result"
    }
   ],
   "source": [
    "p.order()"
   ]
  },
  {
   "cell_type": "code",
   "execution_count": null,
   "metadata": {},
   "outputs": [],
   "source": []
  }
 ],
 "metadata": {
  "kernelspec": {
   "display_name": "Python 3",
   "language": "python",
   "name": "python3"
  },
  "language_info": {
   "codemirror_mode": {
    "name": "ipython",
    "version": 3
   },
   "file_extension": ".py",
   "mimetype": "text/x-python",
   "name": "python",
   "nbconvert_exporter": "python",
   "pygments_lexer": "ipython3",
   "version": "3.12.0"
  }
 },
 "nbformat": 4,
 "nbformat_minor": 2
}
