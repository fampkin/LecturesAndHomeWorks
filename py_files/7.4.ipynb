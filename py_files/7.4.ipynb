{
 "cells": [
  {
   "cell_type": "code",
   "execution_count": null,
   "metadata": {},
   "outputs": [],
   "source": []
  },
  {
   "cell_type": "code",
   "execution_count": 3,
   "metadata": {},
   "outputs": [
    {
     "data": {
      "text/plain": [
       "(0.1974, 70003.5002)"
      ]
     },
     "execution_count": 3,
     "metadata": {},
     "output_type": "execute_result"
    }
   ],
   "source": [
    "import numpy as np\n",
    "from sympy import *\n",
    "n = 70000\n",
    "a11 = 0.99\n",
    "ann = 1.01\n",
    "a12 = 0.46\n",
    "a21 = 0.78\n",
    "\n",
    "d = (ann-a11)/(n-1)\n",
    "\n",
    "small_part_a = Matrix([[a11, a12],\n",
    "                         [a21, a11 + d]]) \n",
    "\n",
    "diag_elements = np.array([a11 + i*d for i in range(n)]) \n",
    "trace_inv_small_part = small_part_a.inv().trace()\n",
    "\n",
    "det_A = small_part_a.det() * np.product(diag_elements[2:]) # внимаение на срез\n",
    "trace_inv_A = sum(1/diag_elements[2:]) + trace_inv_small_part  # внимаение на срез\n",
    "\n",
    "round(det_A, 4), round(trace_inv_A, 4)\n",
    "\n"
   ]
  },
  {
   "cell_type": "code",
   "execution_count": null,
   "metadata": {},
   "outputs": [],
   "source": []
  }
 ],
 "metadata": {
  "kernelspec": {
   "display_name": "Python 3",
   "language": "python",
   "name": "python3"
  },
  "language_info": {
   "codemirror_mode": {
    "name": "ipython",
    "version": 3
   },
   "file_extension": ".py",
   "mimetype": "text/x-python",
   "name": "python",
   "nbconvert_exporter": "python",
   "pygments_lexer": "ipython3",
   "version": "3.12.0"
  }
 },
 "nbformat": 4,
 "nbformat_minor": 2
}
