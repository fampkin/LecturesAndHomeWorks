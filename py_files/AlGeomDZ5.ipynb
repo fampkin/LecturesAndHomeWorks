{
 "cells": [
  {
   "cell_type": "code",
   "execution_count": 1,
   "metadata": {},
   "outputs": [],
   "source": [
    "from sympy import *\n",
    "import numpy as np\n",
    "from sympy.combinatorics import Permutation\n",
    "init_printing()"
   ]
  },
  {
   "cell_type": "markdown",
   "metadata": {},
   "source": [
    "# Номер 1"
   ]
  },
  {
   "cell_type": "code",
   "execution_count": 2,
   "metadata": {},
   "outputs": [
    {
     "data": {
      "text/latex": [
       "$\\displaystyle \\left[\\begin{matrix}1 & 0 & 0 & 0\\\\0 & 1 & 0 & 0\\\\0 & 0 & 1 & 0\\\\0 & 0 & 0 & 1\\end{matrix}\\right]$"
      ],
      "text/plain": [
       "⎡1  0  0  0⎤\n",
       "⎢          ⎥\n",
       "⎢0  1  0  0⎥\n",
       "⎢          ⎥\n",
       "⎢0  0  1  0⎥\n",
       "⎢          ⎥\n",
       "⎣0  0  0  1⎦"
      ]
     },
     "execution_count": 2,
     "metadata": {},
     "output_type": "execute_result"
    }
   ],
   "source": [
    "I4 = Identity(4)\n",
    "I4 = I4.as_explicit()\n",
    "I4"
   ]
  },
  {
   "cell_type": "code",
   "execution_count": 3,
   "metadata": {},
   "outputs": [
    {
     "data": {
      "text/latex": [
       "$\\displaystyle \\left[\\begin{matrix}1 & 0 & 0 & 0\\\\0 & 0 & 1 & 0\\\\0 & 1 & 0 & 0\\\\0 & 0 & 0 & 1\\end{matrix}\\right]$"
      ],
      "text/plain": [
       "⎡1  0  0  0⎤\n",
       "⎢          ⎥\n",
       "⎢0  0  1  0⎥\n",
       "⎢          ⎥\n",
       "⎢0  1  0  0⎥\n",
       "⎢          ⎥\n",
       "⎣0  0  0  1⎦"
      ]
     },
     "execution_count": 3,
     "metadata": {},
     "output_type": "execute_result"
    }
   ],
   "source": [
    "P23 = Permutation([0, 2, 1, 3])\n",
    "P23 = PermutationMatrix(P23)\n",
    "P23 = P23.as_explicit()\n",
    "P23"
   ]
  },
  {
   "cell_type": "code",
   "execution_count": 4,
   "metadata": {},
   "outputs": [
    {
     "data": {
      "text/latex": [
       "$\\displaystyle \\left[\\begin{matrix}1 & 0 & 0 & 0\\\\0 & 1 & 0 & 0\\\\0 & 0 & 1 & -2\\\\0 & 0 & 0 & 1\\end{matrix}\\right]$"
      ],
      "text/plain": [
       "⎡1  0  0  0 ⎤\n",
       "⎢           ⎥\n",
       "⎢0  1  0  0 ⎥\n",
       "⎢           ⎥\n",
       "⎢0  0  1  -2⎥\n",
       "⎢           ⎥\n",
       "⎣0  0  0  1 ⎦"
      ]
     },
     "execution_count": 4,
     "metadata": {},
     "output_type": "execute_result"
    }
   ],
   "source": [
    "A34 = Matrix([[1, 0, 0, 0],\n",
    "             [0, 1, 0, 0],\n",
    "             [0, 0, 1, -2],\n",
    "             [0, 0, 0, 1]])\n",
    "A34"
   ]
  },
  {
   "cell_type": "code",
   "execution_count": 5,
   "metadata": {},
   "outputs": [
    {
     "data": {
      "text/latex": [
       "$\\displaystyle \\left[\\begin{matrix}1 & 0 & 0 & 0\\\\0 & 1 & 0 & 0\\\\0 & 0 & -2 & 0\\\\0 & 0 & 0 & 1\\end{matrix}\\right]$"
      ],
      "text/plain": [
       "⎡1  0  0   0⎤\n",
       "⎢           ⎥\n",
       "⎢0  1  0   0⎥\n",
       "⎢           ⎥\n",
       "⎢0  0  -2  0⎥\n",
       "⎢           ⎥\n",
       "⎣0  0  0   1⎦"
      ]
     },
     "execution_count": 5,
     "metadata": {},
     "output_type": "execute_result"
    }
   ],
   "source": [
    "M3 = Matrix([[1, 0, 0, 0],\n",
    "             [0, 1, 0, 0],\n",
    "             [0 , 0, -2, 0],\n",
    "             [0, 0, 0, 1]])\n",
    "M3"
   ]
  },
  {
   "cell_type": "code",
   "execution_count": 6,
   "metadata": {},
   "outputs": [
    {
     "data": {
      "text/latex": [
       "$\\displaystyle \\left[\\begin{matrix}1 & 0 & 0 & 0\\\\0 & 1 & 0 & 0\\\\0 & 0 & 1 & 0\\\\0 & 1 & 0 & 1\\end{matrix}\\right]$"
      ],
      "text/plain": [
       "⎡1  0  0  0⎤\n",
       "⎢          ⎥\n",
       "⎢0  1  0  0⎥\n",
       "⎢          ⎥\n",
       "⎢0  0  1  0⎥\n",
       "⎢          ⎥\n",
       "⎣0  1  0  1⎦"
      ]
     },
     "execution_count": 6,
     "metadata": {},
     "output_type": "execute_result"
    }
   ],
   "source": [
    "A42 = Matrix([[1, 0, 0, 0],\n",
    "             [0, 1, 0, 0],\n",
    "             [0, 0, 1, 0],\n",
    "             [0, 1, 0, 1]])\n",
    "A42"
   ]
  },
  {
   "cell_type": "code",
   "execution_count": 7,
   "metadata": {},
   "outputs": [
    {
     "data": {
      "text/latex": [
       "$\\displaystyle \\left[\\begin{matrix}0 & 0 & 0 & 1\\\\0 & 1 & 0 & 0\\\\0 & 0 & 1 & 0\\\\1 & 0 & 0 & 0\\end{matrix}\\right]$"
      ],
      "text/plain": [
       "⎡0  0  0  1⎤\n",
       "⎢          ⎥\n",
       "⎢0  1  0  0⎥\n",
       "⎢          ⎥\n",
       "⎢0  0  1  0⎥\n",
       "⎢          ⎥\n",
       "⎣1  0  0  0⎦"
      ]
     },
     "execution_count": 7,
     "metadata": {},
     "output_type": "execute_result"
    }
   ],
   "source": [
    "P14 = Permutation([3, 1, 2, 0])\n",
    "P14 = PermutationMatrix(P14)\n",
    "P14 = P14.as_explicit()\n",
    "P14"
   ]
  },
  {
   "cell_type": "code",
   "execution_count": 8,
   "metadata": {},
   "outputs": [
    {
     "data": {
      "text/latex": [
       "$\\displaystyle \\left[\\begin{matrix}1 & 2 & 3\\\\0 & -1 & 1\\\\-2 & 1 & 0\\\\-1 & 2 & -3\\end{matrix}\\right]$"
      ],
      "text/plain": [
       "⎡1   2   3 ⎤\n",
       "⎢          ⎥\n",
       "⎢0   -1  1 ⎥\n",
       "⎢          ⎥\n",
       "⎢-2  1   0 ⎥\n",
       "⎢          ⎥\n",
       "⎣-1  2   -3⎦"
      ]
     },
     "execution_count": 8,
     "metadata": {},
     "output_type": "execute_result"
    }
   ],
   "source": [
    "A = Matrix([[1, 2, 3],\n",
    "            [0, -1, 1],\n",
    "            [-2, 1, 0],\n",
    "            [-1, 2, -3]])\n",
    "A"
   ]
  },
  {
   "cell_type": "code",
   "execution_count": 9,
   "metadata": {},
   "outputs": [
    {
     "data": {
      "text/latex": [
       "$\\displaystyle \\left[\\begin{matrix}0 & 0 & 0 & 1\\\\-2 & -2 & -2 & 0\\\\0 & 1 & 0 & 0\\\\1 & 1 & 0 & 0\\end{matrix}\\right]$"
      ],
      "text/plain": [
       "⎡0   0   0   1⎤\n",
       "⎢             ⎥\n",
       "⎢-2  -2  -2  0⎥\n",
       "⎢             ⎥\n",
       "⎢0   1   0   0⎥\n",
       "⎢             ⎥\n",
       "⎣1   1   0   0⎦"
      ]
     },
     "execution_count": 9,
     "metadata": {},
     "output_type": "execute_result"
    }
   ],
   "source": [
    "P23 * A34 * M3 * A42 * P14"
   ]
  },
  {
   "cell_type": "code",
   "execution_count": 10,
   "metadata": {},
   "outputs": [
    {
     "data": {
      "text/latex": [
       "$\\displaystyle \\left[\\begin{matrix}-1 & 2 & -3\\\\2 & -4 & -8\\\\0 & -1 & 1\\\\1 & 1 & 4\\end{matrix}\\right]$"
      ],
      "text/plain": [
       "⎡-1  2   -3⎤\n",
       "⎢          ⎥\n",
       "⎢2   -4  -8⎥\n",
       "⎢          ⎥\n",
       "⎢0   -1  1 ⎥\n",
       "⎢          ⎥\n",
       "⎣1   1   4 ⎦"
      ]
     },
     "execution_count": 10,
     "metadata": {},
     "output_type": "execute_result"
    }
   ],
   "source": [
    "B = P23 * A34 * M3 * A42 * P14 * A\n",
    "B"
   ]
  },
  {
   "cell_type": "markdown",
   "metadata": {},
   "source": [
    "### Ответ: b32 = -1, b23 = -8"
   ]
  },
  {
   "cell_type": "markdown",
   "metadata": {},
   "source": [
    "# Номер 2"
   ]
  },
  {
   "cell_type": "code",
   "execution_count": 11,
   "metadata": {},
   "outputs": [],
   "source": [
    "\n",
    "for a in range(100):\n",
    "    P12 = Matrix([[0, 1],\n",
    "                    [1, 0]])\n",
    "    M1 = Matrix([[a, 0],\n",
    "                [0, 1]])\n",
    "\n",
    "    A21 = Matrix([[1, 0],\n",
    "                [a, 1]])\n",
    "    A = Matrix([[8,6],\n",
    "                [11, 12]])\n",
    "    pr = P12 * M1 * A21\n",
    "    if A == pr:\n",
    "        print(a)\n",
    "        break\n",
    "\n"
   ]
  },
  {
   "cell_type": "code",
   "execution_count": 12,
   "metadata": {},
   "outputs": [],
   "source": [
    "for a in range(100):\n",
    "    P21 = Matrix([[0, 1],\n",
    "                    [1, 0]])\n",
    "    M2 = Matrix([[1, 0],\n",
    "                [0, a]])\n",
    "\n",
    "    A12 = Matrix([[1, a],\n",
    "                [0, 1]])\n",
    "    A = Matrix([[8,6],\n",
    "                [11, 12]])\n",
    "    pr = P21 * M2 * A12\n",
    "    if A == pr:\n",
    "        print(a)\n",
    "        break\n"
   ]
  },
  {
   "cell_type": "markdown",
   "metadata": {},
   "source": [
    "# Номер 3"
   ]
  },
  {
   "cell_type": "markdown",
   "metadata": {},
   "source": [
    "## a"
   ]
  },
  {
   "cell_type": "code",
   "execution_count": 13,
   "metadata": {},
   "outputs": [
    {
     "data": {
      "text/latex": [
       "$\\displaystyle \\left[\\begin{matrix}1 & 0 & \\frac{2}{17} & - \\frac{3}{17}\\\\0 & 1 & \\frac{5}{17} & \\frac{1}{17}\\end{matrix}\\right]$"
      ],
      "text/plain": [
       "⎡1  0  2/17  -3/17⎤\n",
       "⎢                 ⎥\n",
       "⎣0  1  5/17  1/17 ⎦"
      ]
     },
     "execution_count": 13,
     "metadata": {},
     "output_type": "execute_result"
    }
   ],
   "source": [
    "A = Matrix([[1, 3],\n",
    "            [-5, 2]])\n",
    "I2 = Matrix([[1, 0],\n",
    "             [0, 1]])\n",
    "A_I2 = Matrix([[A, I2]]).rref()[0]\n",
    "A_I2"
   ]
  },
  {
   "cell_type": "code",
   "execution_count": 14,
   "metadata": {},
   "outputs": [
    {
     "data": {
      "text/latex": [
       "$\\displaystyle \\left[\\begin{matrix}\\frac{2}{17} & - \\frac{3}{17}\\\\\\frac{5}{17} & \\frac{1}{17}\\end{matrix}\\right]$"
      ],
      "text/plain": [
       "⎡2/17  -3/17⎤\n",
       "⎢           ⎥\n",
       "⎣5/17  1/17 ⎦"
      ]
     },
     "execution_count": 14,
     "metadata": {},
     "output_type": "execute_result"
    }
   ],
   "source": [
    "A_obr = Matrix([[Rational(2, 17), -Rational(3, 17)],\n",
    "                [Rational(5, 17), Rational(1, 17)]])\n",
    "A_obr"
   ]
  },
  {
   "cell_type": "code",
   "execution_count": 15,
   "metadata": {},
   "outputs": [
    {
     "data": {
      "text/latex": [
       "$\\displaystyle \\left[\\begin{matrix}1 & 0\\\\0 & 1\\end{matrix}\\right]$"
      ],
      "text/plain": [
       "⎡1  0⎤\n",
       "⎢    ⎥\n",
       "⎣0  1⎦"
      ]
     },
     "execution_count": 15,
     "metadata": {},
     "output_type": "execute_result"
    }
   ],
   "source": [
    "A * A_obr"
   ]
  },
  {
   "cell_type": "markdown",
   "metadata": {},
   "source": [
    "## б"
   ]
  },
  {
   "cell_type": "code",
   "execution_count": 16,
   "metadata": {},
   "outputs": [
    {
     "data": {
      "text/latex": [
       "$\\displaystyle \\left( \\left[\\begin{matrix}1 & 0 & \\frac{3}{7} & - \\frac{2}{7}\\\\0 & 1 & - \\frac{1}{7} & \\frac{3}{7}\\end{matrix}\\right], \\  \\left[\\begin{matrix}1 & 0 & \\frac{2}{19} & \\frac{5}{19}\\\\0 & 1 & \\frac{3}{19} & - \\frac{2}{19}\\end{matrix}\\right]\\right)$"
      ],
      "text/plain": [
       "⎛⎡1  0  3/7   -2/7⎤  ⎡1  0  2/19  5/19 ⎤⎞\n",
       "⎜⎢                ⎥, ⎢                 ⎥⎟\n",
       "⎝⎣0  1  -1/7  3/7 ⎦  ⎣0  1  3/19  -2/19⎦⎠"
      ]
     },
     "execution_count": 16,
     "metadata": {},
     "output_type": "execute_result"
    }
   ],
   "source": [
    "A_obr = Matrix([[3, 2],\n",
    "                [1, 3]])\n",
    "B_obr = Matrix([[2, 5],\n",
    "                [3, -2]])\n",
    "\n",
    "A_obr_I2 = Matrix([[A_obr, I2]])\n",
    "B_obr_I2 = Matrix([[B_obr, I2]])\n",
    "\n",
    "A_obr_I2.rref()[0], B_obr_I2.rref()[0]"
   ]
  },
  {
   "cell_type": "code",
   "execution_count": 17,
   "metadata": {},
   "outputs": [
    {
     "data": {
      "text/latex": [
       "$\\displaystyle \\left( \\left[\\begin{matrix}1 & 0\\\\0 & 1\\end{matrix}\\right], \\  \\left[\\begin{matrix}1 & 0\\\\0 & 1\\end{matrix}\\right]\\right)$"
      ],
      "text/plain": [
       "⎛⎡1  0⎤  ⎡1  0⎤⎞\n",
       "⎜⎢    ⎥, ⎢    ⎥⎟\n",
       "⎝⎣0  1⎦  ⎣0  1⎦⎠"
      ]
     },
     "execution_count": 17,
     "metadata": {},
     "output_type": "execute_result"
    }
   ],
   "source": [
    "A = Matrix([[Rational(3, 7), -Rational(2, 7)],\n",
    "             [-Rational(1, 7), Rational(3, 7)]])\n",
    "B = Matrix([[Rational(2, 19), Rational(5, 19)],\n",
    "             [Rational(3, 19), -Rational(2, 19)]])\n",
    "\n",
    "A*A_obr,B*B_obr"
   ]
  },
  {
   "cell_type": "code",
   "execution_count": 18,
   "metadata": {},
   "outputs": [
    {
     "data": {
      "text/latex": [
       "$\\displaystyle \\left[\\begin{matrix}0 & \\frac{1}{7}\\\\\\frac{1}{19} & - \\frac{11}{133}\\end{matrix}\\right]$"
      ],
      "text/plain": [
       "⎡ 0    1/7 ⎤\n",
       "⎢          ⎥\n",
       "⎢      -11 ⎥\n",
       "⎢1/19  ────⎥\n",
       "⎣      133 ⎦"
      ]
     },
     "execution_count": 18,
     "metadata": {},
     "output_type": "execute_result"
    }
   ],
   "source": [
    "A*B"
   ]
  },
  {
   "cell_type": "code",
   "execution_count": 115,
   "metadata": {},
   "outputs": [
    {
     "data": {
      "text/latex": [
       "$\\displaystyle \\left( \\left[\\begin{matrix}1 & 0 & 11 & 19\\\\0 & 1 & 7 & 0\\end{matrix}\\right], \\  \\left( 0, \\  1\\right)\\right)$"
      ],
      "text/plain": [
       "⎛⎡1  0  11  19⎤        ⎞\n",
       "⎜⎢            ⎥, (0, 1)⎟\n",
       "⎝⎣0  1  7   0 ⎦        ⎠"
      ]
     },
     "execution_count": 115,
     "metadata": {},
     "output_type": "execute_result"
    }
   ],
   "source": [
    "Matrix([[(A*B), I2]]).rref()"
   ]
  },
  {
   "cell_type": "code",
   "execution_count": 116,
   "metadata": {},
   "outputs": [
    {
     "data": {
      "text/latex": [
       "$\\displaystyle \\left[\\begin{matrix}11 & 19\\\\7 & 0\\end{matrix}\\right]$"
      ],
      "text/plain": [
       "⎡11  19⎤\n",
       "⎢      ⎥\n",
       "⎣7   0 ⎦"
      ]
     },
     "execution_count": 116,
     "metadata": {},
     "output_type": "execute_result"
    }
   ],
   "source": [
    "AB_obr = Matrix([[11, 19],\n",
    "                 [7, 0]])\n",
    "AB_obr"
   ]
  },
  {
   "cell_type": "markdown",
   "metadata": {},
   "source": [
    "# Номер 4"
   ]
  },
  {
   "cell_type": "code",
   "execution_count": 20,
   "metadata": {},
   "outputs": [
    {
     "data": {
      "text/latex": [
       "$\\displaystyle \\left( \\left[\\begin{matrix}1 & 0 & -2 & 1\\\\0 & 1 & \\frac{1}{2} & 0\\end{matrix}\\right], \\  \\left( 0, \\  1\\right)\\right)$"
      ],
      "text/plain": [
       "⎛⎡1  0  -2   1⎤        ⎞\n",
       "⎜⎢            ⎥, (0, 1)⎟\n",
       "⎝⎣0  1  1/2  0⎦        ⎠"
      ]
     },
     "execution_count": 20,
     "metadata": {},
     "output_type": "execute_result"
    }
   ],
   "source": [
    "C_obr_I2 = Matrix([[Matrix([[0, 2],\n",
    "                   [1, 4]]), I2]])\n",
    "C_obr_I2.rref()"
   ]
  },
  {
   "cell_type": "code",
   "execution_count": 21,
   "metadata": {},
   "outputs": [
    {
     "data": {
      "text/latex": [
       "$\\displaystyle \\left[\\begin{matrix}-2 & 1\\\\\\frac{1}{2} & 0\\end{matrix}\\right]$"
      ],
      "text/plain": [
       "⎡-2   1⎤\n",
       "⎢      ⎥\n",
       "⎣1/2  0⎦"
      ]
     },
     "execution_count": 21,
     "metadata": {},
     "output_type": "execute_result"
    }
   ],
   "source": [
    "C = Matrix([[-2, 1],\n",
    "            [Rational(1, 2), 0]])\n",
    "C"
   ]
  },
  {
   "cell_type": "code",
   "execution_count": 22,
   "metadata": {},
   "outputs": [
    {
     "data": {
      "text/latex": [
       "$\\displaystyle \\left( \\left[\\begin{matrix}1 & 0 & -1 & 1\\\\0 & 1 & 3 & -2\\end{matrix}\\right], \\  \\left( 0, \\  1\\right)\\right)$"
      ],
      "text/plain": [
       "⎛⎡1  0  -1  1 ⎤        ⎞\n",
       "⎜⎢            ⎥, (0, 1)⎟\n",
       "⎝⎣0  1  3   -2⎦        ⎠"
      ]
     },
     "execution_count": 22,
     "metadata": {},
     "output_type": "execute_result"
    }
   ],
   "source": [
    "A_obr_I2 = Matrix([[Matrix([[2, 1],\n",
    "                   [3, 1]]), I2]])\n",
    "A_obr_I2.rref()"
   ]
  },
  {
   "cell_type": "code",
   "execution_count": 23,
   "metadata": {},
   "outputs": [
    {
     "data": {
      "text/latex": [
       "$\\displaystyle \\left[\\begin{matrix}-1 & 1\\\\3 & -2\\end{matrix}\\right]$"
      ],
      "text/plain": [
       "⎡-1  1 ⎤\n",
       "⎢      ⎥\n",
       "⎣3   -2⎦"
      ]
     },
     "execution_count": 23,
     "metadata": {},
     "output_type": "execute_result"
    }
   ],
   "source": [
    "A = Matrix([[-1, 1],\n",
    "            [3, -2]])\n",
    "A"
   ]
  },
  {
   "cell_type": "code",
   "execution_count": 36,
   "metadata": {},
   "outputs": [
    {
     "data": {
      "text/latex": [
       "$\\displaystyle \\left[\\begin{matrix}1\\\\1\\end{matrix}\\right]$"
      ],
      "text/plain": [
       "⎡1⎤\n",
       "⎢ ⎥\n",
       "⎣1⎦"
      ]
     },
     "execution_count": 36,
     "metadata": {},
     "output_type": "execute_result"
    }
   ],
   "source": [
    "B = Matrix([1, 1])\n",
    "B"
   ]
  },
  {
   "cell_type": "code",
   "execution_count": 33,
   "metadata": {},
   "outputs": [
    {
     "data": {
      "text/latex": [
       "$\\displaystyle \\left[\\begin{matrix}\\frac{7}{2} & -3\\\\-1 & 1\\end{matrix}\\right]$"
      ],
      "text/plain": [
       "⎡7/2  -3⎤\n",
       "⎢       ⎥\n",
       "⎣-1   1 ⎦"
      ]
     },
     "execution_count": 33,
     "metadata": {},
     "output_type": "execute_result"
    }
   ],
   "source": [
    "C.T * A"
   ]
  },
  {
   "cell_type": "code",
   "execution_count": 38,
   "metadata": {},
   "outputs": [
    {
     "data": {
      "text/latex": [
       "$\\displaystyle \\left[\\begin{matrix}1\\\\1\\end{matrix}\\right]$"
      ],
      "text/plain": [
       "⎡1⎤\n",
       "⎢ ⎥\n",
       "⎣1⎦"
      ]
     },
     "execution_count": 38,
     "metadata": {},
     "output_type": "execute_result"
    }
   ],
   "source": [
    "(C.T * A)*Matrix([8, 9])\n",
    "\n"
   ]
  },
  {
   "cell_type": "code",
   "execution_count": 41,
   "metadata": {},
   "outputs": [
    {
     "data": {
      "text/plain": [
       "False"
      ]
     },
     "execution_count": 41,
     "metadata": {},
     "output_type": "execute_result"
    }
   ],
   "source": [
    "(C.T * A)*Matrix([8, 9]) == B"
   ]
  },
  {
   "cell_type": "code",
   "execution_count": 45,
   "metadata": {},
   "outputs": [
    {
     "data": {
      "text/latex": [
       "$\\displaystyle \\left( \\left[\\begin{matrix}1 & 0 & 8\\\\0 & 1 & 9\\end{matrix}\\right], \\  \\left( 0, \\  1\\right)\\right)$"
      ],
      "text/plain": [
       "⎛⎡1  0  8⎤        ⎞\n",
       "⎜⎢       ⎥, (0, 1)⎟\n",
       "⎝⎣0  1  9⎦        ⎠"
      ]
     },
     "execution_count": 45,
     "metadata": {},
     "output_type": "execute_result"
    }
   ],
   "source": [
    "Matrix([[7, -6, 2],\n",
    "        [-1, 1, 1]]).rref()"
   ]
  },
  {
   "cell_type": "markdown",
   "metadata": {},
   "source": [
    "# Номер 5"
   ]
  },
  {
   "cell_type": "code",
   "execution_count": 154,
   "metadata": {},
   "outputs": [
    {
     "data": {
      "text/latex": [
       "$\\displaystyle \\left[\\begin{matrix}3 & -1 & 2\\\\5 & -2 & 3\\\\-1 & 0 & -1\\end{matrix}\\right]$"
      ],
      "text/plain": [
       "⎡3   -1  2 ⎤\n",
       "⎢          ⎥\n",
       "⎢5   -2  3 ⎥\n",
       "⎢          ⎥\n",
       "⎣-1  0   -1⎦"
      ]
     },
     "execution_count": 154,
     "metadata": {},
     "output_type": "execute_result"
    }
   ],
   "source": [
    "A = Matrix([[3, -1 , 2],\n",
    "            [5, -2, 3],\n",
    "            [-1, 0, -1]])\n",
    "A"
   ]
  },
  {
   "cell_type": "code",
   "execution_count": 155,
   "metadata": {},
   "outputs": [
    {
     "data": {
      "text/latex": [
       "$\\displaystyle \\left[\\begin{matrix}0 & 0 & 0\\\\0 & 0 & 0\\\\0 & 0 & 0\\end{matrix}\\right]$"
      ],
      "text/plain": [
       "⎡0  0  0⎤\n",
       "⎢       ⎥\n",
       "⎢0  0  0⎥\n",
       "⎢       ⎥\n",
       "⎣0  0  0⎦"
      ]
     },
     "execution_count": 155,
     "metadata": {},
     "output_type": "execute_result"
    }
   ],
   "source": [
    "A**3"
   ]
  },
  {
   "cell_type": "code",
   "execution_count": 158,
   "metadata": {},
   "outputs": [
    {
     "data": {
      "text/latex": [
       "$\\displaystyle \\left( \\left[\\begin{matrix}1 & 0 & 0 & 0 & 0 & -1\\\\0 & 1 & 0 & -3 & 2 & -2\\\\0 & 0 & 1 & -1 & 1 & 1\\end{matrix}\\right], \\  \\left( 0, \\  1, \\  2\\right)\\right)$"
      ],
      "text/plain": [
       "⎛⎡1  0  0  0   0  -1⎤           ⎞\n",
       "⎜⎢                  ⎥           ⎟\n",
       "⎜⎢0  1  0  -3  2  -2⎥, (0, 1, 2)⎟\n",
       "⎜⎢                  ⎥           ⎟\n",
       "⎝⎣0  0  1  -1  1  1 ⎦           ⎠"
      ]
     },
     "execution_count": 158,
     "metadata": {},
     "output_type": "execute_result"
    }
   ],
   "source": [
    "Matrix([[(A + Matrix([[1, 0, 0],\n",
    "            [0, 1, 0],\n",
    "            [0, 0, 1]])), Matrix([[1, 0, 0],\n",
    "                                  [0, 1, 0],\n",
    "                                  [0, 0, 1]])]]).rref()"
   ]
  },
  {
   "cell_type": "code",
   "execution_count": 159,
   "metadata": {},
   "outputs": [
    {
     "data": {
      "text/latex": [
       "$\\displaystyle \\left[\\begin{matrix}0 & 0 & -1\\\\-3 & 2 & -2\\\\-1 & 1 & 1\\end{matrix}\\right]$"
      ],
      "text/plain": [
       "⎡0   0  -1⎤\n",
       "⎢         ⎥\n",
       "⎢-3  2  -2⎥\n",
       "⎢         ⎥\n",
       "⎣-1  1  1 ⎦"
      ]
     },
     "execution_count": 159,
     "metadata": {},
     "output_type": "execute_result"
    }
   ],
   "source": [
    "ans = Matrix([[0, 0, -1],\n",
    "              [-3, 2, -2],\n",
    "              [-1, 1, 1]])\n",
    "ans"
   ]
  },
  {
   "cell_type": "markdown",
   "metadata": {},
   "source": [
    "# Номер 6"
   ]
  },
  {
   "cell_type": "code",
   "execution_count": 161,
   "metadata": {},
   "outputs": [
    {
     "data": {
      "text/latex": [
       "$\\displaystyle \\left( \\left[\\begin{matrix}1 & 0 & 0 & -1\\\\0 & 1 & 1 & 2\\end{matrix}\\right], \\  \\left( 0, \\  1\\right)\\right)$"
      ],
      "text/plain": [
       "⎛⎡1  0  0  -1⎤        ⎞\n",
       "⎜⎢           ⎥, (0, 1)⎟\n",
       "⎝⎣0  1  1  2 ⎦        ⎠"
      ]
     },
     "execution_count": 161,
     "metadata": {},
     "output_type": "execute_result"
    }
   ],
   "source": [
    "obr = Matrix([[2, 1],\n",
    "              [-1, 0]])\n",
    "Matrix([[obr, I2]]).rref()"
   ]
  },
  {
   "cell_type": "code",
   "execution_count": 162,
   "metadata": {},
   "outputs": [
    {
     "data": {
      "text/latex": [
       "$\\displaystyle \\left[\\begin{matrix}-2 & 1\\\\-1 & 0\\end{matrix}\\right]$"
      ],
      "text/plain": [
       "⎡-2  1⎤\n",
       "⎢     ⎥\n",
       "⎣-1  0⎦"
      ]
     },
     "execution_count": 162,
     "metadata": {},
     "output_type": "execute_result"
    }
   ],
   "source": [
    "prom = Matrix([[0, -1],\n",
    "               [1, 2]])\n",
    "(prom - 2*I2).T"
   ]
  },
  {
   "cell_type": "markdown",
   "metadata": {},
   "source": [
    "# Номер 7"
   ]
  },
  {
   "cell_type": "code",
   "execution_count": 163,
   "metadata": {},
   "outputs": [
    {
     "data": {
      "text/latex": [
       "$\\displaystyle \\left( \\left[\\begin{matrix}1 & 0 & 0 & -8 & 0 & 3\\\\0 & 1 & 0 & -5 & -2 & 3\\\\0 & 0 & 1 & -1 & -1 & 1\\end{matrix}\\right], \\  \\left( 0, \\  1, \\  2\\right)\\right)$"
      ],
      "text/plain": [
       "⎛⎡1  0  0  -8  0   3⎤           ⎞\n",
       "⎜⎢                  ⎥           ⎟\n",
       "⎜⎢0  1  0  -5  -2  3⎥, (0, 1, 2)⎟\n",
       "⎜⎢                  ⎥           ⎟\n",
       "⎝⎣0  0  1  -1  -1  1⎦           ⎠"
      ]
     },
     "execution_count": 163,
     "metadata": {},
     "output_type": "execute_result"
    }
   ],
   "source": [
    "Matrix([[Matrix([[1, -3, 6],\n",
    "                 [2, -5, 9],\n",
    "                 [3, -8, 16]]), Matrix([[1, 0, 0],\n",
    "                                        [0, 1, 0],\n",
    "                                        [0, 0, 1]])]]).rref()"
   ]
  },
  {
   "cell_type": "code",
   "execution_count": 165,
   "metadata": {},
   "outputs": [
    {
     "data": {
      "text/latex": [
       "$\\displaystyle \\left[\\begin{matrix}-8 & 0 & 3\\\\-5 & -2 & 3\\\\-1 & -1 & 1\\end{matrix}\\right]$"
      ],
      "text/plain": [
       "⎡-8  0   3⎤\n",
       "⎢         ⎥\n",
       "⎢-5  -2  3⎥\n",
       "⎢         ⎥\n",
       "⎣-1  -1  1⎦"
      ]
     },
     "execution_count": 165,
     "metadata": {},
     "output_type": "execute_result"
    }
   ],
   "source": [
    "Ans = Matrix([[-8, 0, 3],\n",
    "              [-5, -2, 3],\n",
    "              [-1, -1, 1]])\n",
    "Ans"
   ]
  },
  {
   "cell_type": "markdown",
   "metadata": {},
   "source": [
    "# Номер 8"
   ]
  },
  {
   "cell_type": "code",
   "execution_count": 169,
   "metadata": {},
   "outputs": [
    {
     "data": {
      "text/latex": [
       "$\\displaystyle \\left[\\begin{matrix}0 & 0 & 0\\\\0 & 0 & 0\\\\0 & 0 & 0\\end{matrix}\\right]$"
      ],
      "text/plain": [
       "⎡0  0  0⎤\n",
       "⎢       ⎥\n",
       "⎢0  0  0⎥\n",
       "⎢       ⎥\n",
       "⎣0  0  0⎦"
      ]
     },
     "execution_count": 169,
     "metadata": {},
     "output_type": "execute_result"
    }
   ],
   "source": [
    "A = Matrix([[3, -1 , 2],\n",
    "            [5, -2, 3],\n",
    "            [-1, 0, -1]])\n",
    "A**3"
   ]
  },
  {
   "cell_type": "code",
   "execution_count": 170,
   "metadata": {},
   "outputs": [
    {
     "data": {
      "text/latex": [
       "$\\displaystyle \\left( \\left[\\begin{matrix}1 & 0 & 0 & 5 & -2 & 2\\\\0 & 1 & 0 & 4 & -1 & 2\\\\0 & 0 & 1 & -4 & 2 & -1\\end{matrix}\\right], \\  \\left( 0, \\  1, \\  2\\right)\\right)$"
      ],
      "text/plain": [
       "⎛⎡1  0  0  5   -2  2 ⎤           ⎞\n",
       "⎜⎢                   ⎥           ⎟\n",
       "⎜⎢0  1  0  4   -1  2 ⎥, (0, 1, 2)⎟\n",
       "⎜⎢                   ⎥           ⎟\n",
       "⎝⎣0  0  1  -4  2   -1⎦           ⎠"
      ]
     },
     "execution_count": 170,
     "metadata": {},
     "output_type": "execute_result"
    }
   ],
   "source": [
    "Matrix([[(Matrix([[1, 0, 0],\n",
    "          [0, 1, 0],\n",
    "          [0, 0, 1]]) - (2 * (A **2))), Matrix([[1, 0, 0],\n",
    "                                            [0, 1, 0],\n",
    "                                            [0, 0, 1]])]]).rref()"
   ]
  },
  {
   "cell_type": "code",
   "execution_count": 171,
   "metadata": {},
   "outputs": [
    {
     "data": {
      "text/latex": [
       "$\\displaystyle \\left[\\begin{matrix}5 & -2 & 2\\\\4 & -1 & 2\\\\-4 & 2 & -1\\end{matrix}\\right]$"
      ],
      "text/plain": [
       "⎡5   -2  2 ⎤\n",
       "⎢          ⎥\n",
       "⎢4   -1  2 ⎥\n",
       "⎢          ⎥\n",
       "⎣-4  2   -1⎦"
      ]
     },
     "execution_count": 171,
     "metadata": {},
     "output_type": "execute_result"
    }
   ],
   "source": [
    "obr = Matrix([[5, -2, 2],\n",
    "              [4, -1, 2],\n",
    "              [-4, 2, -1]])\n",
    "obr"
   ]
  },
  {
   "cell_type": "markdown",
   "metadata": {},
   "source": [
    "# Номер 9"
   ]
  },
  {
   "cell_type": "code",
   "execution_count": null,
   "metadata": {},
   "outputs": [],
   "source": []
  }
 ],
 "metadata": {
  "kernelspec": {
   "display_name": "Python 3",
   "language": "python",
   "name": "python3"
  },
  "language_info": {
   "codemirror_mode": {
    "name": "ipython",
    "version": 3
   },
   "file_extension": ".py",
   "mimetype": "text/x-python",
   "name": "python",
   "nbconvert_exporter": "python",
   "pygments_lexer": "ipython3",
   "version": "3.12.0"
  }
 },
 "nbformat": 4,
 "nbformat_minor": 2
}
