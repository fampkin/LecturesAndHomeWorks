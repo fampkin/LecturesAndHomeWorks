{
 "cells": [
  {
   "cell_type": "code",
   "execution_count": 186,
   "metadata": {},
   "outputs": [],
   "source": [
    "from sympy import *\n",
    "import numpy as np\n",
    "from sympy.combinatorics import Permutation\n",
    "init_printing()"
   ]
  },
  {
   "cell_type": "markdown",
   "metadata": {},
   "source": [
    "# Номер 1"
   ]
  },
  {
   "cell_type": "code",
   "execution_count": 187,
   "metadata": {},
   "outputs": [
    {
     "data": {
      "text/latex": [
       "$\\displaystyle \\left[\\begin{matrix}1 & 0 & 0 & 0\\\\0 & 1 & 0 & 0\\\\0 & 0 & 1 & 0\\\\0 & 0 & 0 & 1\\end{matrix}\\right]$"
      ],
      "text/plain": [
       "⎡1  0  0  0⎤\n",
       "⎢          ⎥\n",
       "⎢0  1  0  0⎥\n",
       "⎢          ⎥\n",
       "⎢0  0  1  0⎥\n",
       "⎢          ⎥\n",
       "⎣0  0  0  1⎦"
      ]
     },
     "execution_count": 187,
     "metadata": {},
     "output_type": "execute_result"
    }
   ],
   "source": [
    "I4 = Identity(4)\n",
    "I4 = I4.as_explicit()\n",
    "I4"
   ]
  },
  {
   "cell_type": "code",
   "execution_count": 188,
   "metadata": {},
   "outputs": [],
   "source": [
    "P23 = Permutation([0, 2, 1, 3])\n",
    "P23 = PermutationMatrix(P23)\n",
    "P23 = P23.as_explicit()\n"
   ]
  },
  {
   "cell_type": "code",
   "execution_count": 189,
   "metadata": {},
   "outputs": [
    {
     "data": {
      "text/latex": [
       "$\\displaystyle \\left[\\begin{matrix}1 & 0 & 0 & 0\\\\0 & 1 & 0 & 0\\\\0 & 0 & 1 & -2\\\\0 & 0 & 0 & 1\\end{matrix}\\right]$"
      ],
      "text/plain": [
       "⎡1  0  0  0 ⎤\n",
       "⎢           ⎥\n",
       "⎢0  1  0  0 ⎥\n",
       "⎢           ⎥\n",
       "⎢0  0  1  -2⎥\n",
       "⎢           ⎥\n",
       "⎣0  0  0  1 ⎦"
      ]
     },
     "execution_count": 189,
     "metadata": {},
     "output_type": "execute_result"
    }
   ],
   "source": [
    "A34 = Matrix([[1, 0, 0, 0],\n",
    "             [0, 1, 0, 0],\n",
    "             [0, 0, 1, -2],\n",
    "             [0, 0, 0, 1]])\n",
    "A34"
   ]
  },
  {
   "cell_type": "code",
   "execution_count": 190,
   "metadata": {},
   "outputs": [
    {
     "data": {
      "text/latex": [
       "$\\displaystyle \\left[\\begin{matrix}1 & 0 & 0 & 0\\\\0 & 1 & 0 & 0\\\\0 & 0 & -2 & 0\\\\0 & 0 & 0 & 1\\end{matrix}\\right]$"
      ],
      "text/plain": [
       "⎡1  0  0   0⎤\n",
       "⎢           ⎥\n",
       "⎢0  1  0   0⎥\n",
       "⎢           ⎥\n",
       "⎢0  0  -2  0⎥\n",
       "⎢           ⎥\n",
       "⎣0  0  0   1⎦"
      ]
     },
     "execution_count": 190,
     "metadata": {},
     "output_type": "execute_result"
    }
   ],
   "source": [
    "M3 = Matrix([[1, 0, 0, 0],\n",
    "             [0, 1, 0, 0],\n",
    "             [0 , 0, -2, 0],\n",
    "             [0, 0, 0, 1]])\n",
    "M3"
   ]
  },
  {
   "cell_type": "code",
   "execution_count": 191,
   "metadata": {},
   "outputs": [
    {
     "data": {
      "text/latex": [
       "$\\displaystyle \\left[\\begin{matrix}1 & 0 & 0 & 0\\\\0 & 1 & 0 & 0\\\\0 & 0 & 1 & 0\\\\0 & 1 & 0 & 1\\end{matrix}\\right]$"
      ],
      "text/plain": [
       "⎡1  0  0  0⎤\n",
       "⎢          ⎥\n",
       "⎢0  1  0  0⎥\n",
       "⎢          ⎥\n",
       "⎢0  0  1  0⎥\n",
       "⎢          ⎥\n",
       "⎣0  1  0  1⎦"
      ]
     },
     "execution_count": 191,
     "metadata": {},
     "output_type": "execute_result"
    }
   ],
   "source": [
    "A42 = Matrix([[1, 0, 0, 0],\n",
    "             [0, 1, 0, 0],\n",
    "             [0, 0, 1, 0],\n",
    "             [0, 1, 0, 1]])\n",
    "A42"
   ]
  },
  {
   "cell_type": "code",
   "execution_count": 192,
   "metadata": {},
   "outputs": [
    {
     "data": {
      "text/latex": [
       "$\\displaystyle \\left[\\begin{matrix}0 & 0 & 0 & 1\\\\0 & 1 & 0 & 0\\\\0 & 0 & 1 & 0\\\\1 & 0 & 0 & 0\\end{matrix}\\right]$"
      ],
      "text/plain": [
       "⎡0  0  0  1⎤\n",
       "⎢          ⎥\n",
       "⎢0  1  0  0⎥\n",
       "⎢          ⎥\n",
       "⎢0  0  1  0⎥\n",
       "⎢          ⎥\n",
       "⎣1  0  0  0⎦"
      ]
     },
     "execution_count": 192,
     "metadata": {},
     "output_type": "execute_result"
    }
   ],
   "source": [
    "P14 = Permutation([3, 1, 2, 0])\n",
    "P14 = PermutationMatrix(P14)\n",
    "P14 = P14.as_explicit()\n",
    "P14"
   ]
  },
  {
   "cell_type": "code",
   "execution_count": 193,
   "metadata": {},
   "outputs": [
    {
     "data": {
      "text/latex": [
       "$\\displaystyle \\left[\\begin{matrix}1 & 2 & 3\\\\0 & -1 & 1\\\\-2 & 1 & 0\\\\-1 & 2 & -3\\end{matrix}\\right]$"
      ],
      "text/plain": [
       "⎡1   2   3 ⎤\n",
       "⎢          ⎥\n",
       "⎢0   -1  1 ⎥\n",
       "⎢          ⎥\n",
       "⎢-2  1   0 ⎥\n",
       "⎢          ⎥\n",
       "⎣-1  2   -3⎦"
      ]
     },
     "execution_count": 193,
     "metadata": {},
     "output_type": "execute_result"
    }
   ],
   "source": [
    "A = Matrix([[1, 2, 3],\n",
    "            [0, -1, 1],\n",
    "            [-2, 1, 0],\n",
    "            [-1, 2, -3]])\n",
    "A"
   ]
  },
  {
   "cell_type": "code",
   "execution_count": 194,
   "metadata": {},
   "outputs": [
    {
     "data": {
      "text/latex": [
       "$\\displaystyle \\left[\\begin{matrix}0 & 0 & 0 & 1\\\\-2 & -2 & -2 & 0\\\\0 & 1 & 0 & 0\\\\1 & 1 & 0 & 0\\end{matrix}\\right]$"
      ],
      "text/plain": [
       "⎡0   0   0   1⎤\n",
       "⎢             ⎥\n",
       "⎢-2  -2  -2  0⎥\n",
       "⎢             ⎥\n",
       "⎢0   1   0   0⎥\n",
       "⎢             ⎥\n",
       "⎣1   1   0   0⎦"
      ]
     },
     "execution_count": 194,
     "metadata": {},
     "output_type": "execute_result"
    }
   ],
   "source": [
    "P23 * A34 * M3 * A42 * P14"
   ]
  },
  {
   "cell_type": "code",
   "execution_count": 195,
   "metadata": {},
   "outputs": [
    {
     "data": {
      "text/latex": [
       "$\\displaystyle \\left[\\begin{matrix}-1 & 2 & -3\\\\2 & -4 & -8\\\\0 & -1 & 1\\\\1 & 1 & 4\\end{matrix}\\right]$"
      ],
      "text/plain": [
       "⎡-1  2   -3⎤\n",
       "⎢          ⎥\n",
       "⎢2   -4  -8⎥\n",
       "⎢          ⎥\n",
       "⎢0   -1  1 ⎥\n",
       "⎢          ⎥\n",
       "⎣1   1   4 ⎦"
      ]
     },
     "execution_count": 195,
     "metadata": {},
     "output_type": "execute_result"
    }
   ],
   "source": [
    "B = P23 * A34 * M3 * A42 * P14 * A\n",
    "B"
   ]
  },
  {
   "cell_type": "markdown",
   "metadata": {},
   "source": [
    "### Ответ: b32 = -1, b23 = -8"
   ]
  },
  {
   "cell_type": "markdown",
   "metadata": {},
   "source": [
    "# Номер 2"
   ]
  },
  {
   "cell_type": "code",
   "execution_count": 196,
   "metadata": {},
   "outputs": [],
   "source": [
    "\n",
    "for a in range(100):\n",
    "    P12 = Matrix([[0, 1],\n",
    "                    [1, 0]])\n",
    "    M1 = Matrix([[a, 0],\n",
    "                [0, 1]])\n",
    "\n",
    "    A21 = Matrix([[1, 0],\n",
    "                [a, 1]])\n",
    "    A = Matrix([[8,6],\n",
    "                [11, 12]])\n",
    "    pr = P12 * M1 * A21\n",
    "    if A == pr:\n",
    "        print(a)\n",
    "        break\n",
    "\n"
   ]
  },
  {
   "cell_type": "code",
   "execution_count": 197,
   "metadata": {},
   "outputs": [],
   "source": [
    "for a in range(100):\n",
    "    P21 = Matrix([[0, 1],\n",
    "                    [1, 0]])\n",
    "    M2 = Matrix([[1, 0],\n",
    "                [0, a]])\n",
    "\n",
    "    A12 = Matrix([[1, a],\n",
    "                [0, 1]])\n",
    "    A = Matrix([[8,6],\n",
    "                [11, 12]])\n",
    "    pr = P21 * M2 * A12\n",
    "    if A == pr:\n",
    "        print(a)\n",
    "        break\n"
   ]
  },
  {
   "cell_type": "markdown",
   "metadata": {},
   "source": [
    "# Номер 3"
   ]
  },
  {
   "cell_type": "markdown",
   "metadata": {},
   "source": [
    "## a"
   ]
  },
  {
   "cell_type": "code",
   "execution_count": 198,
   "metadata": {},
   "outputs": [
    {
     "data": {
      "text/latex": [
       "$\\displaystyle \\left[\\begin{matrix}1 & 0 & \\frac{2}{17} & - \\frac{3}{17}\\\\0 & 1 & \\frac{5}{17} & \\frac{1}{17}\\end{matrix}\\right]$"
      ],
      "text/plain": [
       "⎡1  0  2/17  -3/17⎤\n",
       "⎢                 ⎥\n",
       "⎣0  1  5/17  1/17 ⎦"
      ]
     },
     "execution_count": 198,
     "metadata": {},
     "output_type": "execute_result"
    }
   ],
   "source": [
    "A = Matrix([[1, 3],\n",
    "            [-5, 2]])\n",
    "I2 = Matrix([[1, 0],\n",
    "             [0, 1]])\n",
    "A_I2 = Matrix([[A, I2]]).rref()[0]\n",
    "A_I2"
   ]
  },
  {
   "cell_type": "code",
   "execution_count": 199,
   "metadata": {},
   "outputs": [
    {
     "data": {
      "text/latex": [
       "$\\displaystyle \\left[\\begin{matrix}\\frac{2}{17} & - \\frac{3}{17}\\\\\\frac{5}{17} & \\frac{1}{17}\\end{matrix}\\right]$"
      ],
      "text/plain": [
       "⎡2/17  -3/17⎤\n",
       "⎢           ⎥\n",
       "⎣5/17  1/17 ⎦"
      ]
     },
     "execution_count": 199,
     "metadata": {},
     "output_type": "execute_result"
    }
   ],
   "source": [
    "A_obr = Matrix([[Rational(2, 17), -Rational(3, 17)],\n",
    "                [Rational(5, 17), Rational(1, 17)]])\n",
    "A_obr"
   ]
  },
  {
   "cell_type": "code",
   "execution_count": 200,
   "metadata": {},
   "outputs": [
    {
     "data": {
      "text/latex": [
       "$\\displaystyle \\left[\\begin{matrix}1 & 0\\\\0 & 1\\end{matrix}\\right]$"
      ],
      "text/plain": [
       "⎡1  0⎤\n",
       "⎢    ⎥\n",
       "⎣0  1⎦"
      ]
     },
     "execution_count": 200,
     "metadata": {},
     "output_type": "execute_result"
    }
   ],
   "source": [
    "A * A_obr"
   ]
  },
  {
   "cell_type": "markdown",
   "metadata": {},
   "source": [
    "## б"
   ]
  },
  {
   "cell_type": "code",
   "execution_count": 201,
   "metadata": {},
   "outputs": [
    {
     "data": {
      "text/latex": [
       "$\\displaystyle \\left( \\left[\\begin{matrix}1 & 0 & \\frac{3}{7} & - \\frac{2}{7}\\\\0 & 1 & - \\frac{1}{7} & \\frac{3}{7}\\end{matrix}\\right], \\  \\left[\\begin{matrix}1 & 0 & \\frac{2}{19} & \\frac{5}{19}\\\\0 & 1 & \\frac{3}{19} & - \\frac{2}{19}\\end{matrix}\\right]\\right)$"
      ],
      "text/plain": [
       "⎛⎡1  0  3/7   -2/7⎤  ⎡1  0  2/19  5/19 ⎤⎞\n",
       "⎜⎢                ⎥, ⎢                 ⎥⎟\n",
       "⎝⎣0  1  -1/7  3/7 ⎦  ⎣0  1  3/19  -2/19⎦⎠"
      ]
     },
     "execution_count": 201,
     "metadata": {},
     "output_type": "execute_result"
    }
   ],
   "source": [
    "A_obr = Matrix([[3, 2],\n",
    "                [1, 3]])\n",
    "B_obr = Matrix([[2, 5],\n",
    "                [3, -2]])\n",
    "\n",
    "A_obr_I2 = Matrix([[A_obr, I2]])\n",
    "B_obr_I2 = Matrix([[B_obr, I2]])\n",
    "\n",
    "A_obr_I2.rref()[0], B_obr_I2.rref()[0]"
   ]
  },
  {
   "cell_type": "code",
   "execution_count": 202,
   "metadata": {},
   "outputs": [
    {
     "data": {
      "text/latex": [
       "$\\displaystyle \\left( \\left[\\begin{matrix}1 & 0\\\\0 & 1\\end{matrix}\\right], \\  \\left[\\begin{matrix}1 & 0\\\\0 & 1\\end{matrix}\\right]\\right)$"
      ],
      "text/plain": [
       "⎛⎡1  0⎤  ⎡1  0⎤⎞\n",
       "⎜⎢    ⎥, ⎢    ⎥⎟\n",
       "⎝⎣0  1⎦  ⎣0  1⎦⎠"
      ]
     },
     "execution_count": 202,
     "metadata": {},
     "output_type": "execute_result"
    }
   ],
   "source": [
    "A = Matrix([[Rational(3, 7), -Rational(2, 7)],\n",
    "             [-Rational(1, 7), Rational(3, 7)]])\n",
    "B = Matrix([[Rational(2, 19), Rational(5, 19)],\n",
    "             [Rational(3, 19), -Rational(2, 19)]])\n",
    "\n",
    "A*A_obr,B*B_obr"
   ]
  },
  {
   "cell_type": "code",
   "execution_count": 203,
   "metadata": {},
   "outputs": [
    {
     "data": {
      "text/latex": [
       "$\\displaystyle \\left[\\begin{matrix}0 & \\frac{1}{7}\\\\\\frac{1}{19} & - \\frac{11}{133}\\end{matrix}\\right]$"
      ],
      "text/plain": [
       "⎡ 0    1/7 ⎤\n",
       "⎢          ⎥\n",
       "⎢      -11 ⎥\n",
       "⎢1/19  ────⎥\n",
       "⎣      133 ⎦"
      ]
     },
     "execution_count": 203,
     "metadata": {},
     "output_type": "execute_result"
    }
   ],
   "source": [
    "A*B"
   ]
  },
  {
   "cell_type": "code",
   "execution_count": 204,
   "metadata": {},
   "outputs": [
    {
     "data": {
      "text/latex": [
       "$\\displaystyle \\left( \\left[\\begin{matrix}1 & 0 & 11 & 19\\\\0 & 1 & 7 & 0\\end{matrix}\\right], \\  \\left( 0, \\  1\\right)\\right)$"
      ],
      "text/plain": [
       "⎛⎡1  0  11  19⎤        ⎞\n",
       "⎜⎢            ⎥, (0, 1)⎟\n",
       "⎝⎣0  1  7   0 ⎦        ⎠"
      ]
     },
     "execution_count": 204,
     "metadata": {},
     "output_type": "execute_result"
    }
   ],
   "source": [
    "Matrix([[(A*B), I2]]).rref()"
   ]
  },
  {
   "cell_type": "code",
   "execution_count": 205,
   "metadata": {},
   "outputs": [
    {
     "data": {
      "text/latex": [
       "$\\displaystyle \\left[\\begin{matrix}11 & 19\\\\7 & 0\\end{matrix}\\right]$"
      ],
      "text/plain": [
       "⎡11  19⎤\n",
       "⎢      ⎥\n",
       "⎣7   0 ⎦"
      ]
     },
     "execution_count": 205,
     "metadata": {},
     "output_type": "execute_result"
    }
   ],
   "source": [
    "AB_obr = Matrix([[11, 19],\n",
    "                 [7, 0]])\n",
    "AB_obr"
   ]
  },
  {
   "cell_type": "markdown",
   "metadata": {},
   "source": [
    "# Номер 4"
   ]
  },
  {
   "cell_type": "code",
   "execution_count": 206,
   "metadata": {},
   "outputs": [
    {
     "data": {
      "text/latex": [
       "$\\displaystyle \\left( \\left[\\begin{matrix}1 & 0 & -2 & 1\\\\0 & 1 & \\frac{1}{2} & 0\\end{matrix}\\right], \\  \\left( 0, \\  1\\right)\\right)$"
      ],
      "text/plain": [
       "⎛⎡1  0  -2   1⎤        ⎞\n",
       "⎜⎢            ⎥, (0, 1)⎟\n",
       "⎝⎣0  1  1/2  0⎦        ⎠"
      ]
     },
     "execution_count": 206,
     "metadata": {},
     "output_type": "execute_result"
    }
   ],
   "source": [
    "C_obr_I2 = Matrix([[Matrix([[0, 2],\n",
    "                   [1, 4]]), I2]])\n",
    "C_obr_I2.rref()"
   ]
  },
  {
   "cell_type": "code",
   "execution_count": 207,
   "metadata": {},
   "outputs": [
    {
     "data": {
      "text/latex": [
       "$\\displaystyle \\left[\\begin{matrix}-2 & 1\\\\\\frac{1}{2} & 0\\end{matrix}\\right]$"
      ],
      "text/plain": [
       "⎡-2   1⎤\n",
       "⎢      ⎥\n",
       "⎣1/2  0⎦"
      ]
     },
     "execution_count": 207,
     "metadata": {},
     "output_type": "execute_result"
    }
   ],
   "source": [
    "C = Matrix([[-2, 1],\n",
    "            [Rational(1, 2), 0]])\n",
    "C"
   ]
  },
  {
   "cell_type": "code",
   "execution_count": 208,
   "metadata": {},
   "outputs": [
    {
     "data": {
      "text/latex": [
       "$\\displaystyle \\left( \\left[\\begin{matrix}1 & 0 & -1 & 1\\\\0 & 1 & 3 & -2\\end{matrix}\\right], \\  \\left( 0, \\  1\\right)\\right)$"
      ],
      "text/plain": [
       "⎛⎡1  0  -1  1 ⎤        ⎞\n",
       "⎜⎢            ⎥, (0, 1)⎟\n",
       "⎝⎣0  1  3   -2⎦        ⎠"
      ]
     },
     "execution_count": 208,
     "metadata": {},
     "output_type": "execute_result"
    }
   ],
   "source": [
    "A_obr_I2 = Matrix([[Matrix([[2, 1],\n",
    "                   [3, 1]]), I2]])\n",
    "A_obr_I2.rref()"
   ]
  },
  {
   "cell_type": "code",
   "execution_count": 209,
   "metadata": {},
   "outputs": [
    {
     "data": {
      "text/latex": [
       "$\\displaystyle \\left[\\begin{matrix}-1 & 1\\\\3 & -2\\end{matrix}\\right]$"
      ],
      "text/plain": [
       "⎡-1  1 ⎤\n",
       "⎢      ⎥\n",
       "⎣3   -2⎦"
      ]
     },
     "execution_count": 209,
     "metadata": {},
     "output_type": "execute_result"
    }
   ],
   "source": [
    "A = Matrix([[-1, 1],\n",
    "            [3, -2]])\n",
    "A"
   ]
  },
  {
   "cell_type": "code",
   "execution_count": 210,
   "metadata": {},
   "outputs": [
    {
     "data": {
      "text/latex": [
       "$\\displaystyle \\left[\\begin{matrix}1\\\\1\\end{matrix}\\right]$"
      ],
      "text/plain": [
       "⎡1⎤\n",
       "⎢ ⎥\n",
       "⎣1⎦"
      ]
     },
     "execution_count": 210,
     "metadata": {},
     "output_type": "execute_result"
    }
   ],
   "source": [
    "B = Matrix([1, 1])\n",
    "B"
   ]
  },
  {
   "cell_type": "code",
   "execution_count": 211,
   "metadata": {},
   "outputs": [
    {
     "data": {
      "text/latex": [
       "$\\displaystyle \\left[\\begin{matrix}\\frac{7}{2} & -3\\\\-1 & 1\\end{matrix}\\right]$"
      ],
      "text/plain": [
       "⎡7/2  -3⎤\n",
       "⎢       ⎥\n",
       "⎣-1   1 ⎦"
      ]
     },
     "execution_count": 211,
     "metadata": {},
     "output_type": "execute_result"
    }
   ],
   "source": [
    "C.T * A"
   ]
  },
  {
   "cell_type": "code",
   "execution_count": 212,
   "metadata": {},
   "outputs": [
    {
     "data": {
      "text/latex": [
       "$\\displaystyle \\left[\\begin{matrix}1\\\\1\\end{matrix}\\right]$"
      ],
      "text/plain": [
       "⎡1⎤\n",
       "⎢ ⎥\n",
       "⎣1⎦"
      ]
     },
     "execution_count": 212,
     "metadata": {},
     "output_type": "execute_result"
    }
   ],
   "source": [
    "(C.T * A)*Matrix([8, 9])\n",
    "\n"
   ]
  },
  {
   "cell_type": "code",
   "execution_count": 213,
   "metadata": {},
   "outputs": [
    {
     "data": {
      "text/plain": [
       "True"
      ]
     },
     "execution_count": 213,
     "metadata": {},
     "output_type": "execute_result"
    }
   ],
   "source": [
    "(C.T * A)*Matrix([8, 9]) == B"
   ]
  },
  {
   "cell_type": "code",
   "execution_count": 214,
   "metadata": {},
   "outputs": [
    {
     "data": {
      "text/latex": [
       "$\\displaystyle \\left( \\left[\\begin{matrix}1 & 0 & 8\\\\0 & 1 & 9\\end{matrix}\\right], \\  \\left( 0, \\  1\\right)\\right)$"
      ],
      "text/plain": [
       "⎛⎡1  0  8⎤        ⎞\n",
       "⎜⎢       ⎥, (0, 1)⎟\n",
       "⎝⎣0  1  9⎦        ⎠"
      ]
     },
     "execution_count": 214,
     "metadata": {},
     "output_type": "execute_result"
    }
   ],
   "source": [
    "Matrix([[7, -6, 2],\n",
    "        [-1, 1, 1]]).rref()"
   ]
  },
  {
   "cell_type": "markdown",
   "metadata": {},
   "source": [
    "# Номер 5"
   ]
  },
  {
   "cell_type": "code",
   "execution_count": 215,
   "metadata": {},
   "outputs": [
    {
     "data": {
      "text/latex": [
       "$\\displaystyle \\left[\\begin{matrix}3 & -1 & 2\\\\5 & -2 & 3\\\\-1 & 0 & -1\\end{matrix}\\right]$"
      ],
      "text/plain": [
       "⎡3   -1  2 ⎤\n",
       "⎢          ⎥\n",
       "⎢5   -2  3 ⎥\n",
       "⎢          ⎥\n",
       "⎣-1  0   -1⎦"
      ]
     },
     "execution_count": 215,
     "metadata": {},
     "output_type": "execute_result"
    }
   ],
   "source": [
    "A = Matrix([[3, -1 , 2],\n",
    "            [5, -2, 3],\n",
    "            [-1, 0, -1]])\n",
    "A"
   ]
  },
  {
   "cell_type": "code",
   "execution_count": 216,
   "metadata": {},
   "outputs": [
    {
     "data": {
      "text/latex": [
       "$\\displaystyle \\left[\\begin{matrix}0 & 0 & 0\\\\0 & 0 & 0\\\\0 & 0 & 0\\end{matrix}\\right]$"
      ],
      "text/plain": [
       "⎡0  0  0⎤\n",
       "⎢       ⎥\n",
       "⎢0  0  0⎥\n",
       "⎢       ⎥\n",
       "⎣0  0  0⎦"
      ]
     },
     "execution_count": 216,
     "metadata": {},
     "output_type": "execute_result"
    }
   ],
   "source": [
    "A**3"
   ]
  },
  {
   "cell_type": "code",
   "execution_count": 217,
   "metadata": {},
   "outputs": [
    {
     "data": {
      "text/latex": [
       "$\\displaystyle \\left( \\left[\\begin{matrix}1 & 0 & 0 & 0 & 0 & -1\\\\0 & 1 & 0 & -3 & 2 & -2\\\\0 & 0 & 1 & -1 & 1 & 1\\end{matrix}\\right], \\  \\left( 0, \\  1, \\  2\\right)\\right)$"
      ],
      "text/plain": [
       "⎛⎡1  0  0  0   0  -1⎤           ⎞\n",
       "⎜⎢                  ⎥           ⎟\n",
       "⎜⎢0  1  0  -3  2  -2⎥, (0, 1, 2)⎟\n",
       "⎜⎢                  ⎥           ⎟\n",
       "⎝⎣0  0  1  -1  1  1 ⎦           ⎠"
      ]
     },
     "execution_count": 217,
     "metadata": {},
     "output_type": "execute_result"
    }
   ],
   "source": [
    "Matrix([[(A + Matrix([[1, 0, 0],\n",
    "            [0, 1, 0],\n",
    "            [0, 0, 1]])), Matrix([[1, 0, 0],\n",
    "                                  [0, 1, 0],\n",
    "                                  [0, 0, 1]])]]).rref()"
   ]
  },
  {
   "cell_type": "code",
   "execution_count": 218,
   "metadata": {},
   "outputs": [
    {
     "data": {
      "text/latex": [
       "$\\displaystyle \\left[\\begin{matrix}0 & 0 & -1\\\\-3 & 2 & -2\\\\-1 & 1 & 1\\end{matrix}\\right]$"
      ],
      "text/plain": [
       "⎡0   0  -1⎤\n",
       "⎢         ⎥\n",
       "⎢-3  2  -2⎥\n",
       "⎢         ⎥\n",
       "⎣-1  1  1 ⎦"
      ]
     },
     "execution_count": 218,
     "metadata": {},
     "output_type": "execute_result"
    }
   ],
   "source": [
    "ans = Matrix([[0, 0, -1],\n",
    "              [-3, 2, -2],\n",
    "              [-1, 1, 1]])\n",
    "ans"
   ]
  },
  {
   "cell_type": "markdown",
   "metadata": {},
   "source": [
    "# Номер 6"
   ]
  },
  {
   "cell_type": "code",
   "execution_count": 219,
   "metadata": {},
   "outputs": [
    {
     "data": {
      "text/latex": [
       "$\\displaystyle \\left( \\left[\\begin{matrix}1 & 0 & 0 & -1\\\\0 & 1 & 1 & 2\\end{matrix}\\right], \\  \\left( 0, \\  1\\right)\\right)$"
      ],
      "text/plain": [
       "⎛⎡1  0  0  -1⎤        ⎞\n",
       "⎜⎢           ⎥, (0, 1)⎟\n",
       "⎝⎣0  1  1  2 ⎦        ⎠"
      ]
     },
     "execution_count": 219,
     "metadata": {},
     "output_type": "execute_result"
    }
   ],
   "source": [
    "obr = Matrix([[2, 1],\n",
    "              [-1, 0]])\n",
    "Matrix([[obr, I2]]).rref()"
   ]
  },
  {
   "cell_type": "code",
   "execution_count": 220,
   "metadata": {},
   "outputs": [
    {
     "data": {
      "text/latex": [
       "$\\displaystyle \\left[\\begin{matrix}2 & 1\\\\-1 & 4\\end{matrix}\\right]$"
      ],
      "text/plain": [
       "⎡2   1⎤\n",
       "⎢     ⎥\n",
       "⎣-1  4⎦"
      ]
     },
     "execution_count": 220,
     "metadata": {},
     "output_type": "execute_result"
    }
   ],
   "source": [
    "prom = Matrix([[0, -1],\n",
    "               [1, 2]])\n",
    "(prom + 2*I2).T"
   ]
  },
  {
   "cell_type": "markdown",
   "metadata": {},
   "source": [
    "# Номер 7"
   ]
  },
  {
   "cell_type": "code",
   "execution_count": 221,
   "metadata": {},
   "outputs": [
    {
     "data": {
      "text/latex": [
       "$\\displaystyle \\left( \\left[\\begin{matrix}1 & 0 & 0 & -8 & 0 & 3\\\\0 & 1 & 0 & -5 & -2 & 3\\\\0 & 0 & 1 & -1 & -1 & 1\\end{matrix}\\right], \\  \\left( 0, \\  1, \\  2\\right)\\right)$"
      ],
      "text/plain": [
       "⎛⎡1  0  0  -8  0   3⎤           ⎞\n",
       "⎜⎢                  ⎥           ⎟\n",
       "⎜⎢0  1  0  -5  -2  3⎥, (0, 1, 2)⎟\n",
       "⎜⎢                  ⎥           ⎟\n",
       "⎝⎣0  0  1  -1  -1  1⎦           ⎠"
      ]
     },
     "execution_count": 221,
     "metadata": {},
     "output_type": "execute_result"
    }
   ],
   "source": [
    "Matrix([[Matrix([[1, -3, 6],\n",
    "                 [2, -5, 9],\n",
    "                 [3, -8, 16]]), Matrix([[1, 0, 0],\n",
    "                                        [0, 1, 0],\n",
    "                                        [0, 0, 1]])]]).rref()"
   ]
  },
  {
   "cell_type": "code",
   "execution_count": 222,
   "metadata": {},
   "outputs": [
    {
     "data": {
      "text/latex": [
       "$\\displaystyle \\left[\\begin{matrix}-8 & 0 & 3\\\\-5 & -2 & 3\\\\-1 & -1 & 1\\end{matrix}\\right]$"
      ],
      "text/plain": [
       "⎡-8  0   3⎤\n",
       "⎢         ⎥\n",
       "⎢-5  -2  3⎥\n",
       "⎢         ⎥\n",
       "⎣-1  -1  1⎦"
      ]
     },
     "execution_count": 222,
     "metadata": {},
     "output_type": "execute_result"
    }
   ],
   "source": [
    "Ans = Matrix([[-8, 0, 3],\n",
    "              [-5, -2, 3],\n",
    "              [-1, -1, 1]])\n",
    "Ans"
   ]
  },
  {
   "cell_type": "markdown",
   "metadata": {},
   "source": [
    "# Номер 8"
   ]
  },
  {
   "cell_type": "code",
   "execution_count": 223,
   "metadata": {},
   "outputs": [
    {
     "data": {
      "text/latex": [
       "$\\displaystyle \\left[\\begin{matrix}1 & 0\\\\0 & 1\\end{matrix}\\right]$"
      ],
      "text/plain": [
       "⎡1  0⎤\n",
       "⎢    ⎥\n",
       "⎣0  1⎦"
      ]
     },
     "execution_count": 223,
     "metadata": {},
     "output_type": "execute_result"
    }
   ],
   "source": [
    "a, b, c, d = symbols(\"a, b, c, d\")\n",
    "a\n",
    "\n",
    "A = Matrix(2, 2, [1, 0, 0, 1])\n",
    "A"
   ]
  },
  {
   "cell_type": "code",
   "execution_count": 224,
   "metadata": {},
   "outputs": [
    {
     "data": {
      "text/latex": [
       "$\\displaystyle \\left[\\begin{matrix}1 & 0\\\\0 & 1\\end{matrix}\\right]$"
      ],
      "text/plain": [
       "⎡1  0⎤\n",
       "⎢    ⎥\n",
       "⎣0  1⎦"
      ]
     },
     "execution_count": 224,
     "metadata": {},
     "output_type": "execute_result"
    }
   ],
   "source": [
    "A**2"
   ]
  },
  {
   "cell_type": "code",
   "execution_count": 225,
   "metadata": {},
   "outputs": [
    {
     "ename": "ShapeError",
     "evalue": "Matrix size mismatch: (3, 3) + (2, 2).",
     "output_type": "error",
     "traceback": [
      "\u001b[1;31m---------------------------------------------------------------------------\u001b[0m",
      "\u001b[1;31mShapeError\u001b[0m                                Traceback (most recent call last)",
      "Cell \u001b[1;32mIn[225], line 1\u001b[0m\n\u001b[1;32m----> 1\u001b[0m Matrix([[(\u001b[43mMatrix\u001b[49m\u001b[43m(\u001b[49m\u001b[43m[\u001b[49m\u001b[43m[\u001b[49m\u001b[38;5;241;43m1\u001b[39;49m\u001b[43m,\u001b[49m\u001b[43m \u001b[49m\u001b[38;5;241;43m0\u001b[39;49m\u001b[43m,\u001b[49m\u001b[43m \u001b[49m\u001b[38;5;241;43m0\u001b[39;49m\u001b[43m]\u001b[49m\u001b[43m,\u001b[49m\n\u001b[0;32m      2\u001b[0m \u001b[43m          \u001b[49m\u001b[43m[\u001b[49m\u001b[38;5;241;43m0\u001b[39;49m\u001b[43m,\u001b[49m\u001b[43m \u001b[49m\u001b[38;5;241;43m1\u001b[39;49m\u001b[43m,\u001b[49m\u001b[43m \u001b[49m\u001b[38;5;241;43m0\u001b[39;49m\u001b[43m]\u001b[49m\u001b[43m,\u001b[49m\n\u001b[0;32m      3\u001b[0m \u001b[43m          \u001b[49m\u001b[43m[\u001b[49m\u001b[38;5;241;43m0\u001b[39;49m\u001b[43m,\u001b[49m\u001b[43m \u001b[49m\u001b[38;5;241;43m0\u001b[39;49m\u001b[43m,\u001b[49m\u001b[43m \u001b[49m\u001b[38;5;241;43m1\u001b[39;49m\u001b[43m]\u001b[49m\u001b[43m]\u001b[49m\u001b[43m)\u001b[49m\u001b[43m \u001b[49m\u001b[38;5;241;43m-\u001b[39;49m\u001b[43m \u001b[49m\u001b[43m(\u001b[49m\u001b[38;5;241;43m2\u001b[39;49m\u001b[43m \u001b[49m\u001b[38;5;241;43m*\u001b[39;49m\u001b[43m \u001b[49m\u001b[43m(\u001b[49m\u001b[43mA\u001b[49m\u001b[43m \u001b[49m\u001b[38;5;241;43m*\u001b[39;49m\u001b[38;5;241;43m*\u001b[39;49m\u001b[38;5;241;43m2\u001b[39;49m\u001b[43m)\u001b[49m\u001b[43m)\u001b[49m), Matrix([[\u001b[38;5;241m1\u001b[39m, \u001b[38;5;241m0\u001b[39m, \u001b[38;5;241m0\u001b[39m],\n\u001b[0;32m      4\u001b[0m                                             [\u001b[38;5;241m0\u001b[39m, \u001b[38;5;241m1\u001b[39m, \u001b[38;5;241m0\u001b[39m],\n\u001b[0;32m      5\u001b[0m                                             [\u001b[38;5;241m0\u001b[39m, \u001b[38;5;241m0\u001b[39m, \u001b[38;5;241m1\u001b[39m]])]])\u001b[38;5;241m.\u001b[39mrref()\n",
      "File \u001b[1;32mc:\\Users\\fedor.FEDOR\\AppData\\Local\\Programs\\Python\\Python312\\Lib\\site-packages\\sympy\\core\\decorators.py:106\u001b[0m, in \u001b[0;36mcall_highest_priority.<locals>.priority_decorator.<locals>.binary_op_wrapper\u001b[1;34m(self, other)\u001b[0m\n\u001b[0;32m    104\u001b[0m         \u001b[38;5;28;01mif\u001b[39;00m f \u001b[38;5;129;01mis\u001b[39;00m \u001b[38;5;129;01mnot\u001b[39;00m \u001b[38;5;28;01mNone\u001b[39;00m:\n\u001b[0;32m    105\u001b[0m             \u001b[38;5;28;01mreturn\u001b[39;00m f(\u001b[38;5;28mself\u001b[39m)\n\u001b[1;32m--> 106\u001b[0m \u001b[38;5;28;01mreturn\u001b[39;00m \u001b[43mfunc\u001b[49m\u001b[43m(\u001b[49m\u001b[38;5;28;43mself\u001b[39;49m\u001b[43m,\u001b[49m\u001b[43m \u001b[49m\u001b[43mother\u001b[49m\u001b[43m)\u001b[49m\n",
      "File \u001b[1;32mc:\\Users\\fedor.FEDOR\\AppData\\Local\\Programs\\Python\\Python312\\Lib\\site-packages\\sympy\\matrices\\matrixbase.py:3047\u001b[0m, in \u001b[0;36mMatrixBase.__sub__\u001b[1;34m(self, a)\u001b[0m\n\u001b[0;32m   3045\u001b[0m \u001b[38;5;129m@call_highest_priority\u001b[39m(\u001b[38;5;124m'\u001b[39m\u001b[38;5;124m__rsub__\u001b[39m\u001b[38;5;124m'\u001b[39m)\n\u001b[0;32m   3046\u001b[0m \u001b[38;5;28;01mdef\u001b[39;00m \u001b[38;5;21m__sub__\u001b[39m(\u001b[38;5;28mself\u001b[39m, a):\n\u001b[1;32m-> 3047\u001b[0m     \u001b[38;5;28;01mreturn\u001b[39;00m \u001b[38;5;28;43mself\u001b[39;49m\u001b[43m \u001b[49m\u001b[38;5;241;43m+\u001b[39;49m\u001b[43m \u001b[49m\u001b[43m(\u001b[49m\u001b[38;5;241;43m-\u001b[39;49m\u001b[43ma\u001b[49m\u001b[43m)\u001b[49m\n",
      "File \u001b[1;32mc:\\Users\\fedor.FEDOR\\AppData\\Local\\Programs\\Python\\Python312\\Lib\\site-packages\\sympy\\core\\decorators.py:106\u001b[0m, in \u001b[0;36mcall_highest_priority.<locals>.priority_decorator.<locals>.binary_op_wrapper\u001b[1;34m(self, other)\u001b[0m\n\u001b[0;32m    104\u001b[0m         \u001b[38;5;28;01mif\u001b[39;00m f \u001b[38;5;129;01mis\u001b[39;00m \u001b[38;5;129;01mnot\u001b[39;00m \u001b[38;5;28;01mNone\u001b[39;00m:\n\u001b[0;32m    105\u001b[0m             \u001b[38;5;28;01mreturn\u001b[39;00m f(\u001b[38;5;28mself\u001b[39m)\n\u001b[1;32m--> 106\u001b[0m \u001b[38;5;28;01mreturn\u001b[39;00m \u001b[43mfunc\u001b[49m\u001b[43m(\u001b[49m\u001b[38;5;28;43mself\u001b[39;49m\u001b[43m,\u001b[49m\u001b[43m \u001b[49m\u001b[43mother\u001b[49m\u001b[43m)\u001b[49m\n",
      "File \u001b[1;32mc:\\Users\\fedor.FEDOR\\AppData\\Local\\Programs\\Python\\Python312\\Lib\\site-packages\\sympy\\matrices\\matrixbase.py:2767\u001b[0m, in \u001b[0;36mMatrixBase.__add__\u001b[1;34m(self, other)\u001b[0m\n\u001b[0;32m   2764\u001b[0m     \u001b[38;5;28;01mreturn\u001b[39;00m \u001b[38;5;28mNotImplemented\u001b[39m\n\u001b[0;32m   2766\u001b[0m \u001b[38;5;28;01mif\u001b[39;00m \u001b[38;5;28mself\u001b[39m\u001b[38;5;241m.\u001b[39mshape \u001b[38;5;241m!=\u001b[39m other\u001b[38;5;241m.\u001b[39mshape:\n\u001b[1;32m-> 2767\u001b[0m     \u001b[38;5;28;01mraise\u001b[39;00m ShapeError(\u001b[38;5;124mf\u001b[39m\u001b[38;5;124m\"\u001b[39m\u001b[38;5;124mMatrix size mismatch: \u001b[39m\u001b[38;5;132;01m{\u001b[39;00m\u001b[38;5;28mself\u001b[39m\u001b[38;5;241m.\u001b[39mshape\u001b[38;5;132;01m}\u001b[39;00m\u001b[38;5;124m + \u001b[39m\u001b[38;5;132;01m{\u001b[39;00mother\u001b[38;5;241m.\u001b[39mshape\u001b[38;5;132;01m}\u001b[39;00m\u001b[38;5;124m.\u001b[39m\u001b[38;5;124m\"\u001b[39m)\n\u001b[0;32m   2769\u001b[0m \u001b[38;5;66;03m# Unify matrix types\u001b[39;00m\n\u001b[0;32m   2770\u001b[0m a, b \u001b[38;5;241m=\u001b[39m \u001b[38;5;28mself\u001b[39m, other\n",
      "\u001b[1;31mShapeError\u001b[0m: Matrix size mismatch: (3, 3) + (2, 2)."
     ]
    }
   ],
   "source": [
    "Matrix([[(Matrix([[1, 0, 0],\n",
    "          [0, 1, 0],\n",
    "          [0, 0, 1]]) - (2 * (A **2))), Matrix([[1, 0, 0],\n",
    "                                            [0, 1, 0],\n",
    "                                            [0, 0, 1]])]]).rref()"
   ]
  },
  {
   "cell_type": "code",
   "execution_count": 226,
   "metadata": {},
   "outputs": [
    {
     "data": {
      "text/latex": [
       "$\\displaystyle \\left[\\begin{matrix}5 & -2 & 2\\\\4 & -1 & 2\\\\-4 & 2 & -1\\end{matrix}\\right]$"
      ],
      "text/plain": [
       "⎡5   -2  2 ⎤\n",
       "⎢          ⎥\n",
       "⎢4   -1  2 ⎥\n",
       "⎢          ⎥\n",
       "⎣-4  2   -1⎦"
      ]
     },
     "execution_count": 226,
     "metadata": {},
     "output_type": "execute_result"
    }
   ],
   "source": [
    "obr = Matrix([[5, -2, 2],\n",
    "              [4, -1, 2],\n",
    "              [-4, 2, -1]])\n",
    "obr"
   ]
  },
  {
   "cell_type": "markdown",
   "metadata": {},
   "source": [
    "# Номер 10\n"
   ]
  },
  {
   "cell_type": "code",
   "execution_count": 229,
   "metadata": {},
   "outputs": [
    {
     "data": {
      "text/latex": [
       "$\\displaystyle \\left[\\begin{matrix}a & b\\\\c & d\\end{matrix}\\right]$"
      ],
      "text/plain": [
       "⎡a  b⎤\n",
       "⎢    ⎥\n",
       "⎣c  d⎦"
      ]
     },
     "execution_count": 229,
     "metadata": {},
     "output_type": "execute_result"
    }
   ],
   "source": [
    "a, b, c, d = symbols('a b c d')\n",
    "\n",
    "A = Matrix([[a, b],\n",
    "            [c, d]])\n",
    "A"
   ]
  },
  {
   "cell_type": "code",
   "execution_count": 230,
   "metadata": {},
   "outputs": [
    {
     "data": {
      "text/latex": [
       "$\\displaystyle \\left( \\left[\\begin{matrix}1 & 0 & \\frac{d}{a d - b c} & - \\frac{b}{a d - b c}\\\\0 & 1 & - \\frac{c}{a d - b c} & \\frac{a}{a d - b c}\\end{matrix}\\right], \\  \\left( 0, \\  1\\right)\\right)$"
      ],
      "text/plain": [
       "⎛⎡          d         -b    ⎤        ⎞\n",
       "⎜⎢1  0  ─────────  ─────────⎥        ⎟\n",
       "⎜⎢      a⋅d - b⋅c  a⋅d - b⋅c⎥        ⎟\n",
       "⎜⎢                          ⎥, (0, 1)⎟\n",
       "⎜⎢         -c          a    ⎥        ⎟\n",
       "⎜⎢0  1  ─────────  ─────────⎥        ⎟\n",
       "⎝⎣      a⋅d - b⋅c  a⋅d - b⋅c⎦        ⎠"
      ]
     },
     "execution_count": 230,
     "metadata": {},
     "output_type": "execute_result"
    }
   ],
   "source": [
    "I2 = eye(2)\n",
    "Matrix([[A, I2]]).rref()"
   ]
  },
  {
   "cell_type": "code",
   "execution_count": 231,
   "metadata": {},
   "outputs": [
    {
     "data": {
      "text/latex": [
       "$\\displaystyle \\left[\\begin{matrix}\\frac{d}{a d - b c} & - \\frac{b}{a d - b c}\\\\- \\frac{c}{a d - b c} & \\frac{a}{a d - b c}\\end{matrix}\\right]$"
      ],
      "text/plain": [
       "⎡    d         -b    ⎤\n",
       "⎢─────────  ─────────⎥\n",
       "⎢a⋅d - b⋅c  a⋅d - b⋅c⎥\n",
       "⎢                    ⎥\n",
       "⎢   -c          a    ⎥\n",
       "⎢─────────  ─────────⎥\n",
       "⎣a⋅d - b⋅c  a⋅d - b⋅c⎦"
      ]
     },
     "execution_count": 231,
     "metadata": {},
     "output_type": "execute_result"
    }
   ],
   "source": [
    "B = Matrix([[d/(a*d-b*c), -b/(a*d - b*c)],\n",
    "            [-c/(a*d - b*c), a/(a*d-b*c)]])\n",
    "B"
   ]
  },
  {
   "cell_type": "code",
   "execution_count": 232,
   "metadata": {},
   "outputs": [
    {
     "data": {
      "text/latex": [
       "$\\displaystyle \\left[\\begin{matrix}a + \\frac{d}{a d - b c} & b - \\frac{b}{a d - b c}\\\\c - \\frac{c}{a d - b c} & \\frac{a}{a d - b c} + d\\end{matrix}\\right]$"
      ],
      "text/plain": [
       "⎡        d              b    ⎤\n",
       "⎢a + ─────────  b - ─────────⎥\n",
       "⎢    a⋅d - b⋅c      a⋅d - b⋅c⎥\n",
       "⎢                            ⎥\n",
       "⎢        c          a        ⎥\n",
       "⎢c - ─────────  ───────── + d⎥\n",
       "⎣    a⋅d - b⋅c  a⋅d - b⋅c    ⎦"
      ]
     },
     "execution_count": 232,
     "metadata": {},
     "output_type": "execute_result"
    }
   ],
   "source": [
    "A + B"
   ]
  },
  {
   "cell_type": "code",
   "execution_count": 233,
   "metadata": {},
   "outputs": [
    {
     "data": {
      "text/latex": [
       "$\\displaystyle \\left( \\left[\\begin{matrix}1 & 0 & \\frac{1}{a + d}\\\\0 & 1 & \\frac{a d - b c}{a + d}\\\\0 & 0 & 0\\\\0 & 0 & 0\\end{matrix}\\right], \\  \\left( 0, \\  1\\right)\\right)$"
      ],
      "text/plain": [
       "⎛⎡          1    ⎤        ⎞\n",
       "⎜⎢1  0    ─────  ⎥        ⎟\n",
       "⎜⎢        a + d  ⎥        ⎟\n",
       "⎜⎢               ⎥        ⎟\n",
       "⎜⎢      a⋅d - b⋅c⎥        ⎟\n",
       "⎜⎢0  1  ─────────⎥, (0, 1)⎟\n",
       "⎜⎢        a + d  ⎥        ⎟\n",
       "⎜⎢               ⎥        ⎟\n",
       "⎜⎢0  0      0    ⎥        ⎟\n",
       "⎜⎢               ⎥        ⎟\n",
       "⎝⎣0  0      0    ⎦        ⎠"
      ]
     },
     "execution_count": 233,
     "metadata": {},
     "output_type": "execute_result"
    }
   ],
   "source": [
    "rrefM = Matrix([[a, d/(a*d-b*c), 1],\n",
    "        [b, -b/(a*d - b*c), 0],\n",
    "        [c, -c/(a*d - b*c), 0],\n",
    "        [d,  a/(a*d-b*c), 1]]).rref()\n",
    "rrefM"
   ]
  },
  {
   "cell_type": "markdown",
   "metadata": {},
   "source": [
    "# Номер 13"
   ]
  },
  {
   "cell_type": "code",
   "execution_count": 234,
   "metadata": {},
   "outputs": [
    {
     "data": {
      "text/latex": [
       "$\\displaystyle \\left[\\begin{matrix}1 & 1 & 0 & -1\\\\3 & 2 & 1 & 1\\\\1 & 0 & 1 & 3\\end{matrix}\\right]$"
      ],
      "text/plain": [
       "⎡1  1  0  -1⎤\n",
       "⎢           ⎥\n",
       "⎢3  2  1  1 ⎥\n",
       "⎢           ⎥\n",
       "⎣1  0  1  3 ⎦"
      ]
     },
     "execution_count": 234,
     "metadata": {},
     "output_type": "execute_result"
    }
   ],
   "source": [
    "m, n = [3, 4]\n",
    "\n",
    "A = Matrix(3, 4, [1, 1, 0, -1, 3, 2, 1, 1, 1, 0, 1, 3])\n",
    "A"
   ]
  },
  {
   "cell_type": "code",
   "execution_count": 235,
   "metadata": {},
   "outputs": [
    {
     "data": {
      "text/latex": [
       "$\\displaystyle \\left[\\begin{matrix}1 & 0 & 1 & 3\\\\0 & 1 & -1 & -4\\\\0 & 0 & 0 & 0\\end{matrix}\\right]$"
      ],
      "text/plain": [
       "⎡1  0  1   3 ⎤\n",
       "⎢            ⎥\n",
       "⎢0  1  -1  -4⎥\n",
       "⎢            ⎥\n",
       "⎣0  0  0   0 ⎦"
      ]
     },
     "execution_count": 235,
     "metadata": {},
     "output_type": "execute_result"
    }
   ],
   "source": [
    "R = A.rref()[0]\n",
    "R"
   ]
  },
  {
   "cell_type": "code",
   "execution_count": 236,
   "metadata": {},
   "outputs": [
    {
     "data": {
      "text/latex": [
       "$\\displaystyle \\left( \\left[\\begin{matrix}1 & 0 & 1 & 3 & 0 & 0 & 1\\\\0 & 1 & -1 & -4 & 0 & \\frac{1}{2} & - \\frac{3}{2}\\\\0 & 0 & 0 & 0 & 1 & - \\frac{1}{2} & \\frac{1}{2}\\end{matrix}\\right], \\  \\left( 0, \\  1, \\  4\\right)\\right)$"
      ],
      "text/plain": [
       "⎛⎡1  0  1   3   0   0     1  ⎤           ⎞\n",
       "⎜⎢                           ⎥           ⎟\n",
       "⎜⎢0  1  -1  -4  0  1/2   -3/2⎥, (0, 1, 4)⎟\n",
       "⎜⎢                           ⎥           ⎟\n",
       "⎝⎣0  0  0   0   1  -1/2  1/2 ⎦           ⎠"
      ]
     },
     "execution_count": 236,
     "metadata": {},
     "output_type": "execute_result"
    }
   ],
   "source": [
    "Matrix([[A, eye(m)]]).rref()"
   ]
  },
  {
   "cell_type": "code",
   "execution_count": 237,
   "metadata": {},
   "outputs": [
    {
     "data": {
      "text/latex": [
       "$\\displaystyle \\left[\\begin{matrix}0 & 0 & 1\\\\0 & \\frac{1}{2} & - \\frac{3}{2}\\\\1 & - \\frac{1}{2} & \\frac{1}{2}\\end{matrix}\\right]$"
      ],
      "text/plain": [
       "⎡0   0     1  ⎤\n",
       "⎢             ⎥\n",
       "⎢0  1/2   -3/2⎥\n",
       "⎢             ⎥\n",
       "⎣1  -1/2  1/2 ⎦"
      ]
     },
     "execution_count": 237,
     "metadata": {},
     "output_type": "execute_result"
    }
   ],
   "source": [
    "U = Matrix([[0, 0, 1],\n",
    "            [0, Rational(1, 2), -Rational(3, 2)],\n",
    "            [1, -Rational(1, 2), Rational(1, 2)]])\n",
    "U"
   ]
  },
  {
   "cell_type": "code",
   "execution_count": 238,
   "metadata": {},
   "outputs": [
    {
     "data": {
      "text/latex": [
       "$\\displaystyle \\left( \\left[\\begin{matrix}1 & 0 & 0 & 0 & 0 & 4 & -1\\\\0 & 1 & 0 & 0 & 0 & 3 & -1\\\\0 & 0 & 0 & 1 & 0 & -4 & 1\\\\0 & 0 & 0 & 0 & 1 & -3 & 1\\end{matrix}\\right], \\  \\left( 0, \\  1, \\  3, \\  4\\right)\\right)$"
      ],
      "text/plain": [
       "⎛⎡1  0  0  0  0  4   -1⎤              ⎞\n",
       "⎜⎢                     ⎥              ⎟\n",
       "⎜⎢0  1  0  0  0  3   -1⎥              ⎟\n",
       "⎜⎢                     ⎥, (0, 1, 3, 4)⎟\n",
       "⎜⎢0  0  0  1  0  -4  1 ⎥              ⎟\n",
       "⎜⎢                     ⎥              ⎟\n",
       "⎝⎣0  0  0  0  1  -3  1 ⎦              ⎠"
      ]
     },
     "execution_count": 238,
     "metadata": {},
     "output_type": "execute_result"
    }
   ],
   "source": [
    "Matrix([[R.T, eye(n)]]).rref()"
   ]
  },
  {
   "cell_type": "code",
   "execution_count": 239,
   "metadata": {},
   "outputs": [
    {
     "data": {
      "text/latex": [
       "$\\displaystyle \\left[\\begin{matrix}0 & 0 & 1 & 0\\\\0 & 0 & 0 & 1\\\\4 & 3 & -4 & -3\\\\-1 & -1 & 1 & 1\\end{matrix}\\right]$"
      ],
      "text/plain": [
       "⎡0   0   1   0 ⎤\n",
       "⎢              ⎥\n",
       "⎢0   0   0   1 ⎥\n",
       "⎢              ⎥\n",
       "⎢4   3   -4  -3⎥\n",
       "⎢              ⎥\n",
       "⎣-1  -1  1   1 ⎦"
      ]
     },
     "execution_count": 239,
     "metadata": {},
     "output_type": "execute_result"
    }
   ],
   "source": [
    "V = Matrix(4, 4, [0, 0, 4, -1, 0, 0, 3, -1, 1, 0, -4, 1, 0, 1, -3, 1]).T\n",
    "V"
   ]
  },
  {
   "cell_type": "code",
   "execution_count": 240,
   "metadata": {},
   "outputs": [
    {
     "data": {
      "text/latex": [
       "$\\displaystyle 2$"
      ],
      "text/plain": [
       "2"
      ]
     },
     "execution_count": 240,
     "metadata": {},
     "output_type": "execute_result"
    }
   ],
   "source": [
    "A.rank()"
   ]
  },
  {
   "cell_type": "code",
   "execution_count": 241,
   "metadata": {},
   "outputs": [
    {
     "data": {
      "text/latex": [
       "$\\displaystyle \\left[\\begin{matrix}1 & 0 & 0 & 0\\\\0 & 1 & 0 & 0\\\\0 & 0 & 0 & 0\\end{matrix}\\right]$"
      ],
      "text/plain": [
       "⎡1  0  0  0⎤\n",
       "⎢          ⎥\n",
       "⎢0  1  0  0⎥\n",
       "⎢          ⎥\n",
       "⎣0  0  0  0⎦"
      ]
     },
     "execution_count": 241,
     "metadata": {},
     "output_type": "execute_result"
    }
   ],
   "source": [
    "U*A*V"
   ]
  },
  {
   "cell_type": "code",
   "execution_count": 242,
   "metadata": {},
   "outputs": [
    {
     "data": {
      "text/latex": [
       "$\\displaystyle \\left( \\left[\\begin{matrix}0 & 0 & 1\\\\0 & \\frac{1}{2} & - \\frac{3}{2}\\\\1 & - \\frac{1}{2} & \\frac{1}{2}\\end{matrix}\\right], \\  \\left[\\begin{matrix}0 & 0 & 1 & 0\\\\0 & 0 & 0 & 1\\\\4 & 3 & -4 & -3\\\\-1 & -1 & 1 & 1\\end{matrix}\\right]\\right)$"
      ],
      "text/plain": [
       "⎛                 ⎡0   0   1   0 ⎤⎞\n",
       "⎜⎡0   0     1  ⎤  ⎢              ⎥⎟\n",
       "⎜⎢             ⎥  ⎢0   0   0   1 ⎥⎟\n",
       "⎜⎢0  1/2   -3/2⎥, ⎢              ⎥⎟\n",
       "⎜⎢             ⎥  ⎢4   3   -4  -3⎥⎟\n",
       "⎜⎣1  -1/2  1/2 ⎦  ⎢              ⎥⎟\n",
       "⎝                 ⎣-1  -1  1   1 ⎦⎠"
      ]
     },
     "execution_count": 242,
     "metadata": {},
     "output_type": "execute_result"
    }
   ],
   "source": [
    "U, V"
   ]
  },
  {
   "cell_type": "markdown",
   "metadata": {},
   "source": [
    "# Номер 12"
   ]
  },
  {
   "cell_type": "code",
   "execution_count": 243,
   "metadata": {},
   "outputs": [
    {
     "data": {
      "text/latex": [
       "$\\displaystyle \\left[\\begin{matrix}6 & -2 & -4 & 4\\\\3 & -3 & -6 & 1\\\\-12 & 8 & 21 & -8\\\\-6 & 0 & -10 & 7\\end{matrix}\\right]$"
      ],
      "text/plain": [
       "⎡ 6   -2  -4   4 ⎤\n",
       "⎢                ⎥\n",
       "⎢ 3   -3  -6   1 ⎥\n",
       "⎢                ⎥\n",
       "⎢-12  8   21   -8⎥\n",
       "⎢                ⎥\n",
       "⎣-6   0   -10  7 ⎦"
      ]
     },
     "execution_count": 243,
     "metadata": {},
     "output_type": "execute_result"
    }
   ],
   "source": [
    "A = Matrix(4, 4, [6, -2, -4, 4, 3, -3, -6, 1, -12, 8, 21, -8, -6, 0, -10, 7])\n",
    "A"
   ]
  },
  {
   "cell_type": "code",
   "execution_count": 244,
   "metadata": {},
   "outputs": [
    {
     "data": {
      "text/latex": [
       "$\\displaystyle \\left[\\begin{matrix}6 & -2 & -4 & 4\\\\0 & -2.0 & -4.0 & -1.0\\\\-12 & 8 & 21 & -8\\\\-6 & 0 & -10 & 7\\end{matrix}\\right]$"
      ],
      "text/plain": [
       "⎡ 6    -2    -4    4  ⎤\n",
       "⎢                     ⎥\n",
       "⎢ 0   -2.0  -4.0  -1.0⎥\n",
       "⎢                     ⎥\n",
       "⎢-12   8     21    -8 ⎥\n",
       "⎢                     ⎥\n",
       "⎣-6    0    -10    7  ⎦"
      ]
     },
     "execution_count": 244,
     "metadata": {},
     "output_type": "execute_result"
    }
   ],
   "source": [
    "A1 = Matrix([[1, 0, 0,0],\n",
    "        [-0.5, 1, 0,0],\n",
    "        [0, 0, 1, 0],\n",
    "        [0, 0, 0, 1]]) * A\n",
    "a21_m05 = Matrix([[1, 0, 0,0],\n",
    "        [-0.5, 1, 0,0],\n",
    "        [0, 0, 1, 0],\n",
    "        [0, 0, 0, 1]])\n",
    "A1"
   ]
  },
  {
   "cell_type": "code",
   "execution_count": 245,
   "metadata": {},
   "outputs": [
    {
     "data": {
      "text/latex": [
       "$\\displaystyle \\left[\\begin{matrix}6 & -2 & -4 & 4\\\\0 & -2.0 & -4.0 & -1.0\\\\0 & 4 & 13 & 0\\\\-6 & 0 & -10 & 7\\end{matrix}\\right]$"
      ],
      "text/plain": [
       "⎡6    -2    -4    4  ⎤\n",
       "⎢                    ⎥\n",
       "⎢0   -2.0  -4.0  -1.0⎥\n",
       "⎢                    ⎥\n",
       "⎢0    4     13    0  ⎥\n",
       "⎢                    ⎥\n",
       "⎣-6   0    -10    7  ⎦"
      ]
     },
     "execution_count": 245,
     "metadata": {},
     "output_type": "execute_result"
    }
   ],
   "source": [
    "A2 = Matrix([[1, 0, 0,0],\n",
    "        [0, 1, 0,0],\n",
    "        [2, 0, 1, 0],\n",
    "        [0, 0, 0, 1]]) * A1\n",
    "a31_2 = Matrix([[1, 0, 0,0],\n",
    "        [0, 1, 0,0],\n",
    "        [2, 0, 1, 0],\n",
    "        [0, 0, 0, 1]])\n",
    "A2"
   ]
  },
  {
   "cell_type": "code",
   "execution_count": 246,
   "metadata": {},
   "outputs": [
    {
     "data": {
      "text/latex": [
       "$\\displaystyle \\left[\\begin{matrix}6 & -2 & -4 & 4\\\\0 & -2.0 & -4.0 & -1.0\\\\0 & 2 & \\frac{13}{2} & 0\\\\-6 & 0 & -10 & 7\\end{matrix}\\right]$"
      ],
      "text/plain": [
       "⎡6    -2    -4    4  ⎤\n",
       "⎢                    ⎥\n",
       "⎢0   -2.0  -4.0  -1.0⎥\n",
       "⎢                    ⎥\n",
       "⎢0    2    13/2   0  ⎥\n",
       "⎢                    ⎥\n",
       "⎣-6   0    -10    7  ⎦"
      ]
     },
     "execution_count": 246,
     "metadata": {},
     "output_type": "execute_result"
    }
   ],
   "source": [
    "A3 = Matrix([[1, 0, 0,0],\n",
    "        [0, 1, 0,0],\n",
    "        [0, 0, Rational(1, 2), 0],\n",
    "        [0, 0, 0, 1]]) * A2\n",
    "m33_05 = Matrix([[1, 0, 0,0],\n",
    "        [0, 1, 0,0],\n",
    "        [0, 0, Rational(1, 2), 0],\n",
    "        [0, 0, 0, 1]])\n",
    "A3"
   ]
  },
  {
   "cell_type": "code",
   "execution_count": 247,
   "metadata": {},
   "outputs": [
    {
     "data": {
      "text/latex": [
       "$\\displaystyle \\left[\\begin{matrix}6 & -2 & -4 & 4\\\\0 & -2.0 & -4.0 & -1.0\\\\0 & 0 & 2.5 & -1.0\\\\-6 & 0 & -10 & 7\\end{matrix}\\right]$"
      ],
      "text/plain": [
       "⎡6    -2    -4    4  ⎤\n",
       "⎢                    ⎥\n",
       "⎢0   -2.0  -4.0  -1.0⎥\n",
       "⎢                    ⎥\n",
       "⎢0    0    2.5   -1.0⎥\n",
       "⎢                    ⎥\n",
       "⎣-6   0    -10    7  ⎦"
      ]
     },
     "execution_count": 247,
     "metadata": {},
     "output_type": "execute_result"
    }
   ],
   "source": [
    "A4 =  Matrix([[1, 0, 0, 0],\n",
    "            [0, 1, 0, 0],\n",
    "            [0, 1, 1, 0],\n",
    "            [0, 0, 0, 1]]) * A3\n",
    "a32_1 = Matrix([[1, 0, 0, 0],\n",
    "            [0, 1, 0, 0],\n",
    "            [0, 1, 1, 0],\n",
    "            [0, 0, 0, 1]])\n",
    "A4"
   ]
  },
  {
   "cell_type": "code",
   "execution_count": 248,
   "metadata": {},
   "outputs": [
    {
     "data": {
      "text/latex": [
       "$\\displaystyle \\left[\\begin{matrix}6 & -2 & -4 & 4\\\\0 & -2.0 & -4.0 & -1.0\\\\0 & 0 & 2.5 & -1.0\\\\0 & -2 & -14 & 11\\end{matrix}\\right]$"
      ],
      "text/plain": [
       "⎡6   -2    -4    4  ⎤\n",
       "⎢                   ⎥\n",
       "⎢0  -2.0  -4.0  -1.0⎥\n",
       "⎢                   ⎥\n",
       "⎢0   0    2.5   -1.0⎥\n",
       "⎢                   ⎥\n",
       "⎣0   -2   -14    11 ⎦"
      ]
     },
     "execution_count": 248,
     "metadata": {},
     "output_type": "execute_result"
    }
   ],
   "source": [
    "A5 = Matrix([[1, 0, 0,0],\n",
    "        [0, 1, 0,0],\n",
    "        [0, 0, 1, 0],\n",
    "        [1, 0, 0, 1]]) * A4\n",
    "\n",
    "a41_1 = Matrix([[1, 0, 0,0],\n",
    "        [0, 1, 0,0],\n",
    "        [0, 0, 1, 0],\n",
    "        [1, 0, 0, 1]])\n",
    "\n",
    "A5"
   ]
  },
  {
   "cell_type": "code",
   "execution_count": 249,
   "metadata": {},
   "outputs": [
    {
     "data": {
      "text/latex": [
       "$\\displaystyle \\left[\\begin{matrix}6 & -2 & -4 & 4\\\\0 & -2.0 & -4.0 & -1.0\\\\0 & 0 & 2.5 & -1.0\\\\0 & 0 & -10.0 & 12.0\\end{matrix}\\right]$"
      ],
      "text/plain": [
       "⎡6   -2    -4     4  ⎤\n",
       "⎢                    ⎥\n",
       "⎢0  -2.0  -4.0   -1.0⎥\n",
       "⎢                    ⎥\n",
       "⎢0   0     2.5   -1.0⎥\n",
       "⎢                    ⎥\n",
       "⎣0   0    -10.0  12.0⎦"
      ]
     },
     "execution_count": 249,
     "metadata": {},
     "output_type": "execute_result"
    }
   ],
   "source": [
    "A6 =  Matrix([[1, 0, 0,0],\n",
    "        [0, 1, 0,0],\n",
    "        [0, 0, 1, 0],\n",
    "        [0, -1, 0, 1]]) * A5\n",
    "\n",
    "a42_m1 = Matrix([[1, 0, 0,0],\n",
    "        [0, 1, 0,0],\n",
    "        [0, 0, 1, 0],\n",
    "        [0, -1, 0, 1]])\n",
    "\n",
    "A6"
   ]
  },
  {
   "cell_type": "code",
   "execution_count": 250,
   "metadata": {},
   "outputs": [
    {
     "data": {
      "text/latex": [
       "$\\displaystyle \\left[\\begin{matrix}6 & -2 & -4 & 4\\\\0 & -2.0 & -4.0 & -1.0\\\\0 & 0 & 2.5 & -1.0\\\\0 & 0 & 0 & 8.0\\end{matrix}\\right]$"
      ],
      "text/plain": [
       "⎡6   -2    -4    4  ⎤\n",
       "⎢                   ⎥\n",
       "⎢0  -2.0  -4.0  -1.0⎥\n",
       "⎢                   ⎥\n",
       "⎢0   0    2.5   -1.0⎥\n",
       "⎢                   ⎥\n",
       "⎣0   0     0    8.0 ⎦"
      ]
     },
     "execution_count": 250,
     "metadata": {},
     "output_type": "execute_result"
    }
   ],
   "source": [
    "A7 = Matrix([[1, 0, 0,0],\n",
    "        [0, 1, 0,0],\n",
    "        [0, 0, 1, 0],\n",
    "        [0, 0, 4, 1]]) * A6\n",
    "a43_4 = Matrix([[1, 0, 0,0],\n",
    "        [0, 1, 0,0],\n",
    "        [0, 0, 1, 0],\n",
    "        [0, 0, 4, 1]])\n",
    "A7"
   ]
  },
  {
   "cell_type": "code",
   "execution_count": 251,
   "metadata": {},
   "outputs": [
    {
     "data": {
      "text/latex": [
       "$\\displaystyle \\left[\\begin{matrix}6 & -2 & -4 & 4\\\\0 & -2.0 & -4.0 & -1.0\\\\0 & 0 & 2.5 & -1.0\\\\0 & 0 & 0 & 8.0\\end{matrix}\\right]$"
      ],
      "text/plain": [
       "⎡6   -2    -4    4  ⎤\n",
       "⎢                   ⎥\n",
       "⎢0  -2.0  -4.0  -1.0⎥\n",
       "⎢                   ⎥\n",
       "⎢0   0    2.5   -1.0⎥\n",
       "⎢                   ⎥\n",
       "⎣0   0     0    8.0 ⎦"
      ]
     },
     "execution_count": 251,
     "metadata": {},
     "output_type": "execute_result"
    }
   ],
   "source": [
    "U = a43_4*a42_m1*a41_1*a32_1*m33_05*a31_2*a21_m05*A\n",
    "U"
   ]
  },
  {
   "cell_type": "code",
   "execution_count": 252,
   "metadata": {},
   "outputs": [
    {
     "data": {
      "text/latex": [
       "$\\displaystyle \\left[\\begin{matrix}1.0 & 0 & 0 & 0\\\\0.5 & 1.0 & 0 & 0\\\\-2.0 & -2.0 & 2.0 & 0\\\\-1.0 & 1.0 & -4.0 & 1.0\\end{matrix}\\right]$"
      ],
      "text/plain": [
       "⎡1.0    0     0     0 ⎤\n",
       "⎢                     ⎥\n",
       "⎢0.5   1.0    0     0 ⎥\n",
       "⎢                     ⎥\n",
       "⎢-2.0  -2.0  2.0    0 ⎥\n",
       "⎢                     ⎥\n",
       "⎣-1.0  1.0   -4.0  1.0⎦"
      ]
     },
     "execution_count": 252,
     "metadata": {},
     "output_type": "execute_result"
    }
   ],
   "source": [
    "\n",
    "L = a21_m05**-1 * a31_2**-1 * m33_05**-1 * a32_1**-1 * a41_1**-1 * a42_m1**-1 * a43_4 ** -1\n",
    "L\n"
   ]
  },
  {
   "cell_type": "markdown",
   "metadata": {},
   "source": [
    "# Номер 9"
   ]
  },
  {
   "cell_type": "code",
   "execution_count": 271,
   "metadata": {},
   "outputs": [
    {
     "data": {
      "text/latex": [
       "$\\displaystyle \\left[\\begin{matrix}1 & 1 & -2 & 2\\\\3 & 5 & 6 & -4\\\\4 & 5 & -2 & 3\\\\3 & 8 & 24 & -19\\end{matrix}\\right]$"
      ],
      "text/plain": [
       "⎡1  1  -2   2 ⎤\n",
       "⎢             ⎥\n",
       "⎢3  5  6   -4 ⎥\n",
       "⎢             ⎥\n",
       "⎢4  5  -2   3 ⎥\n",
       "⎢             ⎥\n",
       "⎣3  8  24  -19⎦"
      ]
     },
     "execution_count": 271,
     "metadata": {},
     "output_type": "execute_result"
    }
   ],
   "source": [
    "A = Matrix(4, 4, [1, 1, -2, 2, 3, 5, 6, -4, 4, 5, -2, 3, 3, 8, 24, -19])\n",
    "A"
   ]
  },
  {
   "cell_type": "code",
   "execution_count": 278,
   "metadata": {},
   "outputs": [
    {
     "data": {
      "text/latex": [
       "$\\displaystyle \\left( \\left[\\begin{matrix}1 & 0 & -8 & 7\\\\0 & 1 & 6 & -5\\\\0 & 0 & 0 & 0\\\\0 & 0 & 0 & 0\\end{matrix}\\right], \\  \\left( 0, \\  1\\right)\\right)$"
      ],
      "text/plain": [
       "⎛⎡1  0  -8  7 ⎤        ⎞\n",
       "⎜⎢            ⎥        ⎟\n",
       "⎜⎢0  1  6   -5⎥        ⎟\n",
       "⎜⎢            ⎥, (0, 1)⎟\n",
       "⎜⎢0  0  0   0 ⎥        ⎟\n",
       "⎜⎢            ⎥        ⎟\n",
       "⎝⎣0  0  0   0 ⎦        ⎠"
      ]
     },
     "execution_count": 278,
     "metadata": {},
     "output_type": "execute_result"
    }
   ],
   "source": [
    "A.rref()"
   ]
  },
  {
   "cell_type": "code",
   "execution_count": 276,
   "metadata": {},
   "outputs": [],
   "source": [
    "U = Matrix([[]])"
   ]
  },
  {
   "cell_type": "code",
   "execution_count": 277,
   "metadata": {},
   "outputs": [
    {
     "data": {
      "text/latex": [
       "$\\displaystyle \\left[\\begin{matrix}2 & 12 & 56 & -46\\\\24 & -10 & -252 & 218\\\\0 & 0 & 0 & 0\\\\0 & 0 & 0 & 0\\end{matrix}\\right]$"
      ],
      "text/plain": [
       "⎡2   12    56   -46⎤\n",
       "⎢                  ⎥\n",
       "⎢24  -10  -252  218⎥\n",
       "⎢                  ⎥\n",
       "⎢0    0    0     0 ⎥\n",
       "⎢                  ⎥\n",
       "⎣0    0    0     0 ⎦"
      ]
     },
     "execution_count": 277,
     "metadata": {},
     "output_type": "execute_result"
    }
   ],
   "source": [
    "U*A"
   ]
  },
  {
   "cell_type": "markdown",
   "metadata": {},
   "source": [
    "# Номер 10"
   ]
  },
  {
   "cell_type": "code",
   "execution_count": 295,
   "metadata": {},
   "outputs": [
    {
     "data": {
      "text/latex": [
       "$\\displaystyle \\left[\\begin{matrix}1 & 0 & 0\\\\0 & -5 & 0\\\\0 & 0 & 1\\end{matrix}\\right]$"
      ],
      "text/plain": [
       "⎡1  0   0⎤\n",
       "⎢        ⎥\n",
       "⎢0  -5  0⎥\n",
       "⎢        ⎥\n",
       "⎣0  0   1⎦"
      ]
     },
     "execution_count": 295,
     "metadata": {},
     "output_type": "execute_result"
    }
   ],
   "source": [
    "a, b, c = 0, 0, 0\n",
    "A = Matrix([[1, 0, 0],\n",
    "            [0, 0, 0],\n",
    "            [0, 0, 1]])\n",
    "B = Matrix([[0, 0, 0],\n",
    "            [0, -5 , 0],\n",
    "            [0, 0, 0]])\n",
    "(A+B).expand()"
   ]
  },
  {
   "cell_type": "code",
   "execution_count": 296,
   "metadata": {},
   "outputs": [
    {
     "data": {
      "text/latex": [
       "$\\displaystyle \\left[\\begin{matrix}0 & 0 & 0\\\\0 & 25 & 0\\\\0 & 0 & 0\\end{matrix}\\right]$"
      ],
      "text/plain": [
       "⎡0  0   0⎤\n",
       "⎢        ⎥\n",
       "⎢0  25  0⎥\n",
       "⎢        ⎥\n",
       "⎣0  0   0⎦"
      ]
     },
     "execution_count": 296,
     "metadata": {},
     "output_type": "execute_result"
    }
   ],
   "source": [
    "B**2"
   ]
  },
  {
   "cell_type": "code",
   "execution_count": 297,
   "metadata": {},
   "outputs": [
    {
     "data": {
      "text/latex": [
       "$\\displaystyle \\left[\\begin{matrix}1 & 0 & 0\\\\0 & 25 & 0\\\\0 & 0 & 1\\end{matrix}\\right]$"
      ],
      "text/plain": [
       "⎡1  0   0⎤\n",
       "⎢        ⎥\n",
       "⎢0  25  0⎥\n",
       "⎢        ⎥\n",
       "⎣0  0   1⎦"
      ]
     },
     "execution_count": 297,
     "metadata": {},
     "output_type": "execute_result"
    },
    {
     "ename": "",
     "evalue": "",
     "output_type": "error",
     "traceback": [
      "\u001b[1;31mThe Kernel crashed while executing code in the current cell or a previous cell. \n",
      "\u001b[1;31mPlease review the code in the cell(s) to identify a possible cause of the failure. \n",
      "\u001b[1;31mClick <a href='https://aka.ms/vscodeJupyterKernelCrash'>here</a> for more info. \n",
      "\u001b[1;31mView Jupyter <a href='command:jupyter.viewOutput'>log</a> for further details."
     ]
    }
   ],
   "source": [
    "(A**2 + B**2).expand()"
   ]
  },
  {
   "cell_type": "code",
   "execution_count": null,
   "metadata": {},
   "outputs": [],
   "source": []
  }
 ],
 "metadata": {
  "kernelspec": {
   "display_name": "Python 3",
   "language": "python",
   "name": "python3"
  },
  "language_info": {
   "codemirror_mode": {
    "name": "ipython",
    "version": 3
   },
   "file_extension": ".py",
   "mimetype": "text/x-python",
   "name": "python",
   "nbconvert_exporter": "python",
   "pygments_lexer": "ipython3",
   "version": "3.12.0"
  }
 },
 "nbformat": 4,
 "nbformat_minor": 2
}
