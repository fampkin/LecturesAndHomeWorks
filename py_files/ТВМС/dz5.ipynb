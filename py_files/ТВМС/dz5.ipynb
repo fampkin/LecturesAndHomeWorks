{
 "cells": [
  {
   "cell_type": "markdown",
   "metadata": {},
   "source": [
    "# 1"
   ]
  },
  {
   "cell_type": "code",
   "execution_count": 9,
   "metadata": {},
   "outputs": [
    {
     "data": {
      "text/plain": [
       "0.2499999999999991"
      ]
     },
     "execution_count": 9,
     "metadata": {},
     "output_type": "execute_result"
    }
   ],
   "source": [
    "P_0 = 0.2\n",
    "P_1 = 0.2\n",
    "P_4 = 0.6\n",
    "\n",
    "EXi = 0*P_0 + 1*P_1 + 4*P_4\n",
    "\n",
    "P2 = 0.05\n",
    "P5 = 0.22\n",
    "P8 = 0.38\n",
    "\n",
    "EXiXj = 1 * 1 * P2 + 4 * 1 * P5 + 4 * 4 * P8\n",
    "\n",
    "Cov = EXiXj - EXi ** 2\n",
    "Cov"
   ]
  },
  {
   "cell_type": "code",
   "execution_count": 14,
   "metadata": {},
   "outputs": [
    {
     "data": {
      "text/plain": [
       "52.899999999999906"
      ]
     },
     "execution_count": 14,
     "metadata": {},
     "output_type": "execute_result"
    }
   ],
   "source": [
    "EXi_sq = 0 ** 2 * P_0 + 1 ** 2 * P_1 + 4 ** 2 * P_4\n",
    "\n",
    "VarXi = EXi_sq - EXi ** 2\n",
    "\n",
    "VarS = 10 * VarXi + 10 * 9 * Cov\n",
    "VarS\n"
   ]
  },
  {
   "cell_type": "markdown",
   "metadata": {},
   "source": [
    "# 2"
   ]
  },
  {
   "cell_type": "code",
   "execution_count": 12,
   "metadata": {},
   "outputs": [
    {
     "data": {
      "text/plain": [
       "1363.0"
      ]
     },
     "execution_count": 12,
     "metadata": {},
     "output_type": "execute_result"
    }
   ],
   "source": [
    "n = 57\n",
    "k = 47\n",
    "\n",
    "ES = k * (n + 1)/ 2\n",
    "ES"
   ]
  },
  {
   "cell_type": "code",
   "execution_count": 13,
   "metadata": {},
   "outputs": [
    {
     "data": {
      "text/plain": [
       "2271.6666666666665"
      ]
     },
     "execution_count": 13,
     "metadata": {},
     "output_type": "execute_result"
    }
   ],
   "source": [
    "VarS = k * ((n-k)/(n-1)) * ((n**2 - 1)/12)\n",
    "VarS\n",
    "\n"
   ]
  },
  {
   "cell_type": "markdown",
   "metadata": {},
   "source": [
    "# 3"
   ]
  },
  {
   "cell_type": "code",
   "execution_count": 2,
   "metadata": {},
   "outputs": [
    {
     "data": {
      "text/plain": [
       "11.216216216216218"
      ]
     },
     "execution_count": 2,
     "metadata": {},
     "output_type": "execute_result"
    }
   ],
   "source": [
    "# Исходные данные\n",
    "n1 = 15  # количество шаров с цифрой 1\n",
    "n2 = 10  # количество шаров с цифрой 2\n",
    "n4 = 12  # количество шаров с цифрой 4\n",
    "N = n1 + n2 + n4  # общее количество шаров = 37\n",
    "k = 5  # количество извлекаемых шаров\n",
    "\n",
    "# 1) Математическое ожидание\n",
    "# E[Xi] = 1*P(Xi=1) + 2*P(Xi=2) + 4*P(Xi=4)\n",
    "EXi = 1 * (n1/N) + 2 * (n2/N) + 4 * (n4/N)\n",
    "\n",
    "# E[S] = 5 * E[Xi], так как извлекаем 5 шаров\n",
    "ES = k * EXi\n",
    "\n",
    "ES  "
   ]
  },
  {
   "cell_type": "code",
   "execution_count": 5,
   "metadata": {},
   "outputs": [
    {
     "data": {
      "text/plain": [
       "7.304601899196494"
      ]
     },
     "execution_count": 5,
     "metadata": {},
     "output_type": "execute_result"
    }
   ],
   "source": [
    "\n",
    "# 2) Дисперсия\n",
    "# Сначала найдем E[Xi²]\n",
    "EXi_sq = 1**2 * (n1/N) + 2**2 * (n2/N) + 4**2 * (n4/N)\n",
    "\n",
    "# Дисперсия одной величины\n",
    "VarXi = EXi_sq - EXi**2\n",
    "\n",
    "# Для выборки без возвращения используем формулу:\n",
    "# Var(S) = k * VarXi * (N-k)/(N-1)\n",
    "VarS = k * VarXi * (N-k)/(N-1)\n",
    "\n",
    "VarS"
   ]
  },
  {
   "cell_type": "markdown",
   "metadata": {},
   "source": [
    "# 4"
   ]
  },
  {
   "cell_type": "code",
   "execution_count": 6,
   "metadata": {},
   "outputs": [
    {
     "name": "stdout",
     "output_type": "stream",
     "text": [
      "Стандартное отклонение = 5.0123\n",
      "Асимметрия = -0.1732\n"
     ]
    }
   ],
   "source": [
    "# Исходные данные\n",
    "n1 = 250  # количество семян из первой партии\n",
    "n2 = 180  # количество семян из второй партии\n",
    "p1 = 0.95  # вероятность прорастания для первой партии\n",
    "p2 = 0.92  # вероятность прорастания для второй партии\n",
    "\n",
    "# 1) Стандартное отклонение\n",
    "# Для биномиального распределения:\n",
    "# E[X] = np\n",
    "# Var(X) = np(1-p)\n",
    "\n",
    "# Для первой партии\n",
    "E1 = n1 * p1\n",
    "Var1 = n1 * p1 * (1 - p1)\n",
    "\n",
    "# Для второй партии\n",
    "E2 = n2 * p2\n",
    "Var2 = n2 * p2 * (1 - p2)\n",
    "\n",
    "# Для суммы независимых величин:\n",
    "ES = E1 + E2\n",
    "VarS = Var1 + Var2\n",
    "\n",
    "# Стандартное отклонение\n",
    "std_S = VarS ** 0.5\n",
    "\n",
    "# 2) Асимметрия\n",
    "# Для биномиального распределения третий центральный момент:\n",
    "# μ3 = np(1-p)(1-2p)\n",
    "\n",
    "# Для первой партии\n",
    "mu3_1 = n1 * p1 * (1 - p1) * (1 - 2*p1)\n",
    "\n",
    "# Для второй партии\n",
    "mu3_2 = n2 * p2 * (1 - p2) * (1 - 2*p2)\n",
    "\n",
    "# Для суммы (свойство аддитивности)\n",
    "mu3_S = mu3_1 + mu3_2\n",
    "\n",
    "# Асимметрия = μ3 / σ³\n",
    "skewness = mu3_S / (std_S ** 3)\n",
    "\n",
    "print(f\"Стандартное отклонение = {std_S:.4f}\")\n",
    "print(f\"Асимметрия = {skewness:.4f}\")"
   ]
  },
  {
   "cell_type": "code",
   "execution_count": null,
   "metadata": {},
   "outputs": [],
   "source": []
  }
 ],
 "metadata": {
  "kernelspec": {
   "display_name": "Python 3",
   "language": "python",
   "name": "python3"
  },
  "language_info": {
   "codemirror_mode": {
    "name": "ipython",
    "version": 3
   },
   "file_extension": ".py",
   "mimetype": "text/x-python",
   "name": "python",
   "nbconvert_exporter": "python",
   "pygments_lexer": "ipython3",
   "version": "3.10.12"
  }
 },
 "nbformat": 4,
 "nbformat_minor": 2
}
