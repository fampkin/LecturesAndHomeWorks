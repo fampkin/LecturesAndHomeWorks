{
 "cells": [
  {
   "cell_type": "markdown",
   "metadata": {},
   "source": [
    "# 1"
   ]
  },
  {
   "cell_type": "code",
   "execution_count": 9,
   "metadata": {},
   "outputs": [
    {
     "data": {
      "text/plain": [
       "0.2499999999999991"
      ]
     },
     "execution_count": 9,
     "metadata": {},
     "output_type": "execute_result"
    }
   ],
   "source": [
    "P_0 = 0.2\n",
    "P_1 = 0.2\n",
    "P_4 = 0.6\n",
    "\n",
    "EXi = 0*P_0 + 1*P_1 + 4*P_4\n",
    "\n",
    "P2 = 0.05\n",
    "P5 = 0.22\n",
    "P8 = 0.38\n",
    "\n",
    "EXiXj = 1 * 1 * P2 + 4 * 1 * P5 + 4 * 4 * P8\n",
    "\n",
    "Cov = EXiXj - EXi ** 2\n",
    "Cov"
   ]
  },
  {
   "cell_type": "code",
   "execution_count": 14,
   "metadata": {},
   "outputs": [
    {
     "data": {
      "text/plain": [
       "52.899999999999906"
      ]
     },
     "execution_count": 14,
     "metadata": {},
     "output_type": "execute_result"
    }
   ],
   "source": [
    "EXi_sq = 0 ** 2 * P_0 + 1 ** 2 * P_1 + 4 ** 2 * P_4\n",
    "\n",
    "VarXi = EXi_sq - EXi ** 2\n",
    "\n",
    "VarS = 10 * VarXi + 10 * 9 * Cov\n",
    "VarS\n"
   ]
  },
  {
   "cell_type": "markdown",
   "metadata": {},
   "source": [
    "# 2"
   ]
  },
  {
   "cell_type": "code",
   "execution_count": 12,
   "metadata": {},
   "outputs": [
    {
     "data": {
      "text/plain": [
       "1363.0"
      ]
     },
     "execution_count": 12,
     "metadata": {},
     "output_type": "execute_result"
    }
   ],
   "source": [
    "n = 57\n",
    "k = 47\n",
    "\n",
    "ES = k * (n + 1)/ 2\n",
    "ES"
   ]
  },
  {
   "cell_type": "code",
   "execution_count": 13,
   "metadata": {},
   "outputs": [
    {
     "data": {
      "text/plain": [
       "2271.6666666666665"
      ]
     },
     "execution_count": 13,
     "metadata": {},
     "output_type": "execute_result"
    }
   ],
   "source": [
    "VarS = k * ((n-k)/(n-1)) * ((n**2 - 1)/12)\n",
    "VarS\n",
    "\n"
   ]
  },
  {
   "cell_type": "markdown",
   "metadata": {},
   "source": [
    "# 3"
   ]
  },
  {
   "cell_type": "code",
   "execution_count": 2,
   "metadata": {},
   "outputs": [
    {
     "data": {
      "text/plain": [
       "11.216216216216218"
      ]
     },
     "execution_count": 2,
     "metadata": {},
     "output_type": "execute_result"
    }
   ],
   "source": [
    "# Исходные данные\n",
    "n1 = 15  # количество шаров с цифрой 1\n",
    "n2 = 10  # количество шаров с цифрой 2\n",
    "n4 = 12  # количество шаров с цифрой 4\n",
    "N = n1 + n2 + n4  # общее количество шаров = 37\n",
    "k = 5  # количество извлекаемых шаров\n",
    "\n",
    "# 1) Математическое ожидание\n",
    "# E[Xi] = 1*P(Xi=1) + 2*P(Xi=2) + 4*P(Xi=4)\n",
    "EXi = 1 * (n1/N) + 2 * (n2/N) + 4 * (n4/N)\n",
    "\n",
    "# E[S] = 5 * E[Xi], так как извлекаем 5 шаров\n",
    "ES = k * EXi\n",
    "\n",
    "ES  "
   ]
  },
  {
   "cell_type": "code",
   "execution_count": 5,
   "metadata": {},
   "outputs": [
    {
     "data": {
      "text/plain": [
       "7.304601899196494"
      ]
     },
     "execution_count": 5,
     "metadata": {},
     "output_type": "execute_result"
    }
   ],
   "source": [
    "\n",
    "# 2) Дисперсия\n",
    "# Сначала найдем E[Xi²]\n",
    "EXi_sq = 1**2 * (n1/N) + 2**2 * (n2/N) + 4**2 * (n4/N)\n",
    "\n",
    "# Дисперсия одной величины\n",
    "VarXi = EXi_sq - EXi**2\n",
    "\n",
    "# Для выборки без возвращения используем формулу:\n",
    "# Var(S) = k * VarXi * (N-k)/(N-1)\n",
    "VarS = k * VarXi * (N-k)/(N-1)\n",
    "\n",
    "VarS"
   ]
  },
  {
   "cell_type": "markdown",
   "metadata": {},
   "source": [
    "# 4"
   ]
  },
  {
   "cell_type": "code",
   "execution_count": 6,
   "metadata": {},
   "outputs": [
    {
     "name": "stdout",
     "output_type": "stream",
     "text": [
      "Стандартное отклонение = 5.0123\n",
      "Асимметрия = -0.1732\n"
     ]
    }
   ],
   "source": [
    "# Исходные данные\n",
    "n1 = 250  # количество семян из первой партии\n",
    "n2 = 180  # количество семян из второй партии\n",
    "p1 = 0.95  # вероятность прорастания для первой партии\n",
    "p2 = 0.92  # вероятность прорастания для второй партии\n",
    "\n",
    "# 1) Стандартное отклонение\n",
    "# Для биномиального распределения:\n",
    "# E[X] = np\n",
    "# Var(X) = np(1-p)\n",
    "\n",
    "# Для первой партии\n",
    "E1 = n1 * p1\n",
    "Var1 = n1 * p1 * (1 - p1)\n",
    "\n",
    "# Для второй партии\n",
    "E2 = n2 * p2\n",
    "Var2 = n2 * p2 * (1 - p2)\n",
    "\n",
    "# Для суммы независимых величин:\n",
    "ES = E1 + E2\n",
    "VarS = Var1 + Var2\n",
    "\n",
    "# Стандартное отклонение\n",
    "std_S = VarS ** 0.5\n",
    "\n",
    "# 2) Асимметрия\n",
    "# Для биномиального распределения третий центральный момент:\n",
    "# μ3 = np(1-p)(1-2p)\n",
    "\n",
    "# Для первой партии\n",
    "mu3_1 = n1 * p1 * (1 - p1) * (1 - 2*p1)\n",
    "\n",
    "# Для второй партии\n",
    "mu3_2 = n2 * p2 * (1 - p2) * (1 - 2*p2)\n",
    "\n",
    "# Для суммы (свойство аддитивности)\n",
    "mu3_S = mu3_1 + mu3_2\n",
    "\n",
    "# Асимметрия = μ3 / σ³\n",
    "skewness = mu3_S / (std_S ** 3)\n",
    "\n",
    "print(f\"Стандартное отклонение = {std_S:.4f}\")\n",
    "print(f\"Асимметрия = {skewness:.4f}\")"
   ]
  },
  {
   "cell_type": "code",
   "execution_count": 8,
   "metadata": {},
   "outputs": [
    {
     "name": "stdout",
     "output_type": "stream",
     "text": [
      "Вероятность успеха в одном броске: 0.0800\n",
      "1) Математическое ожидание X = 12.5004\n",
      "2) Стандартное отклонение X = 11.9900\n",
      "3) Коэффициент корреляции X и Y = 0.2500\n",
      "4) Математическое ожидание XY = 2643.91\n"
     ]
    }
   ],
   "source": [
    "import numpy as np\n",
    "from scipy.stats import binom, nbinom\n",
    "\n",
    "n_coins = 28  # количество монет\n",
    "k_success = 11  # требуемое число гербов\n",
    "total_successes = 16  # общее число успехов для остановки\n",
    "\n",
    "# Вероятность успеха в одном броске (ровно 11 гербов из 28)\n",
    "p_single = binom.pmf(k_success, n_coins, 0.5)\n",
    "print(f\"Вероятность успеха в одном броске: {p_single:.4f}\")\n",
    "\n",
    "# 1) Математическое ожидание X (геометрическое распределение)\n",
    "E_X = 1 / p_single\n",
    "print(f\"1) Математическое ожидание X = {E_X:.4f}\")\n",
    "\n",
    "# 2) Стандартное отклонение X\n",
    "var_X = (1 - p_single) / (p_single ** 2)\n",
    "std_X = np.sqrt(var_X)\n",
    "print(f\"2) Стандартное отклонение X = {std_X:.4f}\")\n",
    "\n",
    "# 3) Коэффициент корреляции между X и Y\n",
    "# Y = X + Z, где Z ~ NegativeBinomial(r=15, p=p_single)\n",
    "# Cov(X, Y) = Var(X) + Cov(X, Z) = Var(X) (так как X и Z независимы)\n",
    "cov_XY = var_X\n",
    "# Var(Y) = Var(X) + Var(Z)\n",
    "r_Z = total_successes - 1  # 15 успехов после первого\n",
    "var_Z = r_Z * (1 - p_single) / (p_single ** 2)\n",
    "var_Y = var_X + var_Z\n",
    "# Коэффициент корреляции\n",
    "rho_XY = cov_XY / (std_X * np.sqrt(var_Y))\n",
    "print(f\"3) Коэффициент корреляции X и Y = {rho_XY:.4f}\")\n",
    "\n",
    "# 4) Математическое ожидание XY\n",
    "# E[XY] = Cov(X, Y) + E[X] * E[Y]\n",
    "E_Z = r_Z / p_single\n",
    "E_Y = E_X + E_Z\n",
    "E_XY = cov_XY + E_X * E_Y\n",
    "print(f\"4) Математическое ожидание XY = {E_XY:.2f}\")"
   ]
  },
  {
   "cell_type": "code",
   "execution_count": 3,
   "metadata": {},
   "outputs": [
    {
     "name": "stdout",
     "output_type": "stream",
     "text": [
      "Ковариация Cov(X, Y) = -0.093\n"
     ]
    }
   ],
   "source": [
    "import numpy as np\n",
    "\n",
    "# Параметры задачи\n",
    "N = 75  # всего шаров\n",
    "K = 12  # красные шары\n",
    "M = 6   # синие шары\n",
    "n = 8   # размер выборки\n",
    "\n",
    "# Вычисляем ковариацию\n",
    "cov_XY = -n * (K / N) * (M / N) * ((N - n) / (N - 1))\n",
    "\n",
    "print(f\"Ковариация Cov(X, Y) = {cov_XY:.3f}\")"
   ]
  },
  {
   "cell_type": "code",
   "execution_count": 4,
   "metadata": {},
   "outputs": [
    {
     "name": "stdout",
     "output_type": "stream",
     "text": [
      "1) Доля A = 0.786; Доля B = 0.214\n",
      "2) Ожидаемая доходность = 4.21%\n",
      "   Стандартное отклонение = 4.68%\n"
     ]
    }
   ],
   "source": [
    "import numpy as np\n",
    "\n",
    "# Данные\n",
    "E_A = 0.04  # Ожидаемая доходность A\n",
    "E_B = 0.05  # Ожидаемая доходность B\n",
    "sigma_A = 0.05  # Стандартное отклонение A\n",
    "sigma_B = 0.08  # Стандартное отклонение B\n",
    "rho_AB = 0.26   # Коэффициент корреляции\n",
    "\n",
    "# 1) Вычисляем ковариацию\n",
    "cov_AB = rho_AB * sigma_A * sigma_B\n",
    "\n",
    "# 2) Находим доли акций в портфеле с минимальной дисперсией\n",
    "w_A = (sigma_B**2 - cov_AB) / (sigma_A**2 + sigma_B**2 - 2 * cov_AB)\n",
    "w_B = 1 - w_A\n",
    "\n",
    "# 3) Ожидаемая доходность портфеля\n",
    "E_portfolio = w_A * E_A + w_B * E_B\n",
    "\n",
    "# 4) Стандартное отклонение портфеля\n",
    "var_portfolio = (w_A**2 * sigma_A**2) + (w_B**2 * sigma_B**2) + (2 * w_A * w_B * cov_AB)\n",
    "sigma_portfolio = np.sqrt(var_portfolio)\n",
    "\n",
    "# Вывод результатов\n",
    "print(f\"1) Доля A = {w_A:.3f}; Доля B = {w_B:.3f}\")\n",
    "print(f\"2) Ожидаемая доходность = {E_portfolio:.2%}\")\n",
    "print(f\"   Стандартное отклонение = {sigma_portfolio:.2%}\")"
   ]
  },
  {
   "cell_type": "code",
   "execution_count": 5,
   "metadata": {},
   "outputs": [
    {
     "name": "stdout",
     "output_type": "stream",
     "text": [
      "1) Веса портфеля: A = 0.787, B = 0.087, C = 0.126\n",
      "2) Ожидаемая доходность портфеля = 1.427%\n",
      "3) Стандартное отклонение портфеля = 1.774%\n"
     ]
    }
   ],
   "source": [
    "import numpy as np\n",
    "\n",
    "# Данные\n",
    "E = np.array([0.01, 0.03, 0.03])  # Доходности A, B, C\n",
    "sigma = np.array([0.02, 0.06, 0.05])  # Стандартные отклонения\n",
    "\n",
    "# 1) Вычисляем веса для минимальной дисперсии (независимые активы)\n",
    "weights = (1 / sigma**2) / np.sum(1 / sigma**2)\n",
    "\n",
    "# 2) Ожидаемая доходность портфеля\n",
    "E_portfolio = np.sum(weights * E)\n",
    "\n",
    "# 3) Дисперсия портфеля (для проверки)\n",
    "var_portfolio = np.sum(weights**2 * sigma**2)\n",
    "sigma_portfolio = np.sqrt(var_portfolio)\n",
    "\n",
    "# Вывод результатов\n",
    "print(f\"1) Веса портфеля: A = {weights[0]:.3f}, B = {weights[1]:.3f}, C = {weights[2]:.3f}\")\n",
    "print(f\"2) Ожидаемая доходность портфеля = {E_portfolio:.3%}\")\n",
    "print(f\"3) Стандартное отклонение портфеля = {sigma_portfolio:.3%}\")"
   ]
  },
  {
   "cell_type": "code",
   "execution_count": 7,
   "metadata": {},
   "outputs": [
    {
     "name": "stdout",
     "output_type": "stream",
     "text": [
      "Стандартное отклонение доходности портфеля = 3.681%\n"
     ]
    }
   ],
   "source": [
    "import numpy as np\n",
    "\n",
    "# Данные\n",
    "w_A = 7 / (7 + 1)  # Доля A (7:1)\n",
    "w_B = 1 / (7 + 1)   # Доля B\n",
    "sigma_A = 0.04      # Стандартное отклонение A\n",
    "sigma_B = 0.04      # Стандартное отклонение B\n",
    "rho_AB = 0.3        # Коэффициент корреляции\n",
    "\n",
    "# 1) Вычисляем ковариацию\n",
    "cov_AB = rho_AB * sigma_A * sigma_B\n",
    "\n",
    "# 2) Дисперсия портфеля\n",
    "var_portfolio = (w_A**2 * sigma_A**2) + (w_B**2 * sigma_B**2) + (2 * w_A * w_B * cov_AB)\n",
    "\n",
    "# 3) Стандартное отклонение портфеля\n",
    "sigma_portfolio = np.sqrt(var_portfolio)\n",
    "\n",
    "# Вывод результата\n",
    "print(f\"Стандартное отклонение доходности портфеля = {sigma_portfolio:.3%}\")"
   ]
  },
  {
   "cell_type": "code",
   "execution_count": null,
   "metadata": {},
   "outputs": [],
   "source": []
  }
 ],
 "metadata": {
  "kernelspec": {
   "display_name": ".venv",
   "language": "python",
   "name": "python3"
  },
  "language_info": {
   "codemirror_mode": {
    "name": "ipython",
    "version": 3
   },
   "file_extension": ".py",
   "mimetype": "text/x-python",
   "name": "python",
   "nbconvert_exporter": "python",
   "pygments_lexer": "ipython3",
   "version": "3.12.3"
  }
 },
 "nbformat": 4,
 "nbformat_minor": 2
}
