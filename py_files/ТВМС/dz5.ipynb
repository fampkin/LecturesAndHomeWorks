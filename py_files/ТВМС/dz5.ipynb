{
 "cells": [
  {
   "cell_type": "markdown",
   "metadata": {},
   "source": [
    "# 1"
   ]
  },
  {
   "cell_type": "code",
   "execution_count": 9,
   "metadata": {},
   "outputs": [
    {
     "data": {
      "text/plain": [
       "0.2499999999999991"
      ]
     },
     "execution_count": 9,
     "metadata": {},
     "output_type": "execute_result"
    }
   ],
   "source": [
    "P_0 = 0.2\n",
    "P_1 = 0.2\n",
    "P_4 = 0.6\n",
    "\n",
    "EXi = 0*P_0 + 1*P_1 + 4*P_4\n",
    "\n",
    "P2 = 0.05\n",
    "P5 = 0.22\n",
    "P8 = 0.38\n",
    "\n",
    "EXiXj = 1 * 1 * P2 + 4 * 1 * P5 + 4 * 4 * P8\n",
    "\n",
    "Cov = EXiXj - EXi ** 2\n",
    "Cov"
   ]
  },
  {
   "cell_type": "code",
   "execution_count": 14,
   "metadata": {},
   "outputs": [
    {
     "data": {
      "text/plain": [
       "52.899999999999906"
      ]
     },
     "execution_count": 14,
     "metadata": {},
     "output_type": "execute_result"
    }
   ],
   "source": [
    "EXi_sq = 0 ** 2 * P_0 + 1 ** 2 * P_1 + 4 ** 2 * P_4\n",
    "\n",
    "VarXi = EXi_sq - EXi ** 2\n",
    "\n",
    "VarS = 10 * VarXi + 10 * 9 * Cov\n",
    "VarS\n"
   ]
  },
  {
   "cell_type": "markdown",
   "metadata": {},
   "source": [
    "# 2"
   ]
  },
  {
   "cell_type": "code",
   "execution_count": 12,
   "metadata": {},
   "outputs": [
    {
     "data": {
      "text/plain": [
       "1363.0"
      ]
     },
     "execution_count": 12,
     "metadata": {},
     "output_type": "execute_result"
    }
   ],
   "source": [
    "n = 57\n",
    "k = 47\n",
    "\n",
    "ES = k * (n + 1)/ 2\n",
    "ES"
   ]
  },
  {
   "cell_type": "code",
   "execution_count": 13,
   "metadata": {},
   "outputs": [
    {
     "data": {
      "text/plain": [
       "2271.6666666666665"
      ]
     },
     "execution_count": 13,
     "metadata": {},
     "output_type": "execute_result"
    }
   ],
   "source": [
    "VarS = k * ((n-k)/(n-1)) * ((n**2 - 1)/12)\n",
    "VarS\n",
    "\n"
   ]
  },
  {
   "cell_type": "markdown",
   "metadata": {},
   "source": [
    "# 3"
   ]
  },
  {
   "cell_type": "code",
   "execution_count": null,
   "metadata": {},
   "outputs": [],
   "source": []
  }
 ],
 "metadata": {
  "kernelspec": {
   "display_name": "Python 3",
   "language": "python",
   "name": "python3"
  },
  "language_info": {
   "codemirror_mode": {
    "name": "ipython",
    "version": 3
   },
   "file_extension": ".py",
   "mimetype": "text/x-python",
   "name": "python",
   "nbconvert_exporter": "python",
   "pygments_lexer": "ipython3",
   "version": "3.10.12"
  }
 },
 "nbformat": 4,
 "nbformat_minor": 2
}
