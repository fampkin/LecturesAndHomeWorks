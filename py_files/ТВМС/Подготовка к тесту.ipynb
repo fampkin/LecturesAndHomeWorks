{
 "cells": [
  {
   "cell_type": "markdown",
   "metadata": {},
   "source": [
    "# 1"
   ]
  },
  {
   "cell_type": "markdown",
   "metadata": {},
   "source": [
    "#### 1.1"
   ]
  },
  {
   "cell_type": "code",
   "execution_count": 10,
   "metadata": {},
   "outputs": [
    {
     "data": {
      "text/plain": [
       "0.906832298136646"
      ]
     },
     "execution_count": 10,
     "metadata": {},
     "output_type": "execute_result"
    }
   ],
   "source": [
    "import math\n",
    "(1 - (math.comb(11, 3))/math.comb(23, 3)) "
   ]
  },
  {
   "cell_type": "markdown",
   "metadata": {},
   "source": [
    "#### 1.2"
   ]
  },
  {
   "cell_type": "code",
   "execution_count": 11,
   "metadata": {},
   "outputs": [
    {
     "data": {
      "text/plain": [
       "0.9322416713721061"
      ]
     },
     "execution_count": 11,
     "metadata": {},
     "output_type": "execute_result"
    }
   ],
   "source": [
    "1 - math.comb(10, 3)/math.comb(23, 3)"
   ]
  },
  {
   "cell_type": "markdown",
   "metadata": {},
   "source": [
    "# 2"
   ]
  },
  {
   "cell_type": "code",
   "execution_count": 15,
   "metadata": {},
   "outputs": [
    {
     "data": {
      "text/plain": [
       "0.20987654320987656"
      ]
     },
     "execution_count": 15,
     "metadata": {},
     "output_type": "execute_result"
    }
   ],
   "source": [
    "\n",
    "R = 60\n",
    "r = 20\n",
    "S1 = math.pi * R ** 2\n",
    "S2 = math.pi * r ** 2\n",
    "\n",
    "S2/S1 + (1-S2/S1)*S2/S1"
   ]
  },
  {
   "cell_type": "code",
   "execution_count": 16,
   "metadata": {},
   "outputs": [
    {
     "data": {
      "text/plain": [
       "0.20987654320987656"
      ]
     },
     "execution_count": 16,
     "metadata": {},
     "output_type": "execute_result"
    }
   ],
   "source": [
    "\n",
    "R = 30\n",
    "r = 10\n",
    "S1 = math.pi * R ** 2\n",
    "S2 = math.pi * r ** 2\n",
    "\n",
    "S2/S1 + (1-S2/S1)*S2/S1"
   ]
  },
  {
   "cell_type": "markdown",
   "metadata": {},
   "source": [
    "# 3"
   ]
  },
  {
   "cell_type": "code",
   "execution_count": 38,
   "metadata": {},
   "outputs": [
    {
     "name": "stdout",
     "output_type": "stream",
     "text": [
      "P(D) = 0.41800000000000004\n",
      "0.94\n"
     ]
    }
   ],
   "source": [
    "PA = 0.1\n",
    "PB = 0.4\n",
    "PC = 0.9\n",
    "\n",
    "P_A_or_B = PA + PB - PA * PB\n",
    "P_A_or_C = PA + PC - PA * PC\n",
    "P_B_or_C = PB + PC - PB * PC\n",
    "\n",
    "# Вероятности произведений\n",
    "P_AB = PA * PB\n",
    "P_AC = PA * PC\n",
    "P_BC = PB * PC\n",
    "P_ABC = PA * PB * PC\n",
    "\n",
    "# Вероятность D\n",
    "P_D = P_AB + P_AC + P_BC - 2 * P_ABC\n",
    "\n",
    "print(\"P(D) =\", P_D)\n",
    "print(P_B_or_C)"
   ]
  },
  {
   "cell_type": "code",
   "execution_count": 39,
   "metadata": {},
   "outputs": [
    {
     "name": "stdout",
     "output_type": "stream",
     "text": [
      "P(D) = 0.6659999999999999\n",
      "0.96\n"
     ]
    }
   ],
   "source": [
    "PA = 0.3\n",
    "PB = 0.6\n",
    "PC = 0.9\n",
    "\n",
    "# Вероятности объединений\n",
    "P_A_or_B = PA + PB - PA * PB\n",
    "P_A_or_C = PA + PC - PA * PC\n",
    "P_B_or_C = PB + PC - PB * PC\n",
    "\n",
    "# Вероятности произведений\n",
    "P_AB = PA * PB\n",
    "P_AC = PA * PC\n",
    "P_BC = PB * PC\n",
    "P_ABC = PA * PB * PC\n",
    "\n",
    "# Вероятность D\n",
    "P_D = P_AB + P_AC + P_BC - 2 * P_ABC\n",
    "\n",
    "print(\"P(D) =\", P_D)\n",
    "print(P_B_or_C)"
   ]
  },
  {
   "cell_type": "markdown",
   "metadata": {},
   "source": [
    "# 4"
   ]
  },
  {
   "cell_type": "code",
   "execution_count": 64,
   "metadata": {},
   "outputs": [
    {
     "data": {
      "text/plain": [
       "2.338363994246347"
      ]
     },
     "execution_count": 64,
     "metadata": {},
     "output_type": "execute_result"
    }
   ],
   "source": [
    "P_A = 6/37\n",
    "P_B = 31/37\n",
    "P_G_A = 1\n",
    "P_G_B = 1/2\n",
    "43/74 + 42/72 + 41/70 + 40/68"
   ]
  },
  {
   "cell_type": "code",
   "execution_count": 62,
   "metadata": {},
   "outputs": [
    {
     "data": {
      "text/plain": [
       "0.27906976744186046"
      ]
     },
     "execution_count": 62,
     "metadata": {},
     "output_type": "execute_result"
    }
   ],
   "source": [
    "P_A_G = P_A*P_G_A/P_G\n",
    "P_A_G"
   ]
  },
  {
   "cell_type": "code",
   "execution_count": 65,
   "metadata": {},
   "outputs": [
    {
     "data": {
      "text/plain": [
       "5.75"
      ]
     },
     "execution_count": 65,
     "metadata": {},
     "output_type": "execute_result"
    }
   ],
   "source": [
    "46/8"
   ]
  },
  {
   "cell_type": "code",
   "execution_count": 76,
   "metadata": {},
   "outputs": [
    {
     "data": {
      "text/plain": [
       "0.6875"
      ]
     },
     "execution_count": 76,
     "metadata": {},
     "output_type": "execute_result"
    }
   ],
   "source": [
    "math.comb(4,0) * 0.5 ** 4 + \\\n",
    "math.comb(4,1) * 0.5 ** 4 + \\\n",
    "math.comb(4,2) * 0.5 ** 4 "
   ]
  },
  {
   "cell_type": "code",
   "execution_count": 78,
   "metadata": {},
   "outputs": [
    {
     "data": {
      "text/plain": [
       "0.6825600000000001"
      ]
     },
     "execution_count": 78,
     "metadata": {},
     "output_type": "execute_result"
    }
   ],
   "source": [
    "math.comb(5,0) * 0.4 ** 0 * 0.6 ** 5 + \\\n",
    "math.comb(5,1) * 0.4 ** 1 * 0.6 ** 4 + \\\n",
    "math.comb(5,2) * 0.4 ** 2 * 0.6 ** 3 "
   ]
  },
  {
   "cell_type": "code",
   "execution_count": 80,
   "metadata": {},
   "outputs": [
    {
     "data": {
      "text/plain": [
       "0.08907446238776684"
      ]
     },
     "execution_count": 80,
     "metadata": {},
     "output_type": "execute_result"
    }
   ],
   "source": [
    "math.comb(5000, 3) * 0.0012 ** 3 * 0.9988 ** 4998"
   ]
  },
  {
   "cell_type": "code",
   "execution_count": 81,
   "metadata": {},
   "outputs": [
    {
     "ename": "OverflowError",
     "evalue": "int too large to convert to float",
     "output_type": "error",
     "traceback": [
      "\u001b[1;31m---------------------------------------------------------------------------\u001b[0m",
      "\u001b[1;31mOverflowError\u001b[0m                             Traceback (most recent call last)",
      "Cell \u001b[1;32mIn[81], line 4\u001b[0m\n\u001b[0;32m      2\u001b[0m p \u001b[38;5;241m=\u001b[39m \u001b[38;5;241m0.00048\u001b[39m\n\u001b[0;32m      3\u001b[0m \u001b[38;5;28;01mfor\u001b[39;00m i \u001b[38;5;129;01min\u001b[39;00m \u001b[38;5;28mrange\u001b[39m(\u001b[38;5;241m103\u001b[39m):\n\u001b[1;32m----> 4\u001b[0m     P \u001b[38;5;241m+\u001b[39m\u001b[38;5;241m=\u001b[39m \u001b[43mmath\u001b[49m\u001b[38;5;241;43m.\u001b[39;49m\u001b[43mcomb\u001b[49m\u001b[43m(\u001b[49m\u001b[38;5;241;43m179000\u001b[39;49m\u001b[43m,\u001b[49m\u001b[43m \u001b[49m\u001b[43mi\u001b[49m\u001b[43m)\u001b[49m\u001b[43m \u001b[49m\u001b[38;5;241;43m*\u001b[39;49m\u001b[43m \u001b[49m\u001b[43mp\u001b[49m\u001b[43m \u001b[49m\u001b[38;5;241;43m*\u001b[39;49m\u001b[38;5;241;43m*\u001b[39;49m\u001b[43m \u001b[49m\u001b[43mi\u001b[49m \u001b[38;5;241m+\u001b[39m (\u001b[38;5;241m1\u001b[39m\u001b[38;5;241m-\u001b[39mp) \u001b[38;5;241m*\u001b[39m\u001b[38;5;241m*\u001b[39m (\u001b[38;5;241m17900\u001b[39m\u001b[38;5;241m-\u001b[39mi)\n\u001b[0;32m      5\u001b[0m P\n",
      "\u001b[1;31mOverflowError\u001b[0m: int too large to convert to float"
     ]
    }
   ],
   "source": [
    "P = 0\n",
    "p = 0.00048\n",
    "for i in range(103):\n",
    "    P += math.comb(179000, i) * p ** i + (1-p) ** (17900-i)\n",
    "P"
   ]
  },
  {
   "cell_type": "code",
   "execution_count": 92,
   "metadata": {},
   "outputs": [
    {
     "data": {
      "text/plain": [
       "0.37169"
      ]
     },
     "execution_count": 92,
     "metadata": {},
     "output_type": "execute_result"
    }
   ],
   "source": [
    "N = 100_000\n",
    "import random\n",
    "A = 11\n",
    "cA = 0\n",
    "B = 14\n",
    "cB = 0\n",
    "cAB = 0\n",
    "for i in range(N):\n",
    "    x1 = random.uniform(-20, 20)\n",
    "    x2 = random.uniform(-20, 20)\n",
    "    y1 = random.uniform(-8, 8)\n",
    "    y2 = random.uniform(-8, 8)\n",
    "    if abs(x1-x2) < 14:\n",
    "        cB += 1\n",
    "    if ((x1-x2)**2 + (y1-y2)**2)**0.5 < 11:\n",
    "        cA += 1\n",
    "    if abs(x1-x2) < 14 and ((x1-x2)**2 + (y1-y2)**2)**0.5 < 11:\n",
    "        cAB += 1\n",
    "P_A = cA/N\n",
    "P_B = cB/N\n",
    "P_A"
   ]
  },
  {
   "cell_type": "code",
   "execution_count": 94,
   "metadata": {},
   "outputs": [
    {
     "data": {
      "text/plain": [
       "0.6398519538646927"
      ]
     },
     "execution_count": 94,
     "metadata": {},
     "output_type": "execute_result"
    }
   ],
   "source": [
    "(cAB/N)/(cB/N)"
   ]
  },
  {
   "cell_type": "code",
   "execution_count": 96,
   "metadata": {},
   "outputs": [
    {
     "data": {
      "text/plain": [
       "0.85917"
      ]
     },
     "execution_count": 96,
     "metadata": {},
     "output_type": "execute_result"
    }
   ],
   "source": [
    "N = 100_000\n",
    "import random\n",
    "A = 27.3\n",
    "cA = 0\n",
    "B = 15\n",
    "cB = 0\n",
    "cAB = 0\n",
    "for i in range(N):\n",
    "    x1 = random.uniform(-21, 21)\n",
    "    x2 = random.uniform(-21, 21)\n",
    "    y1 = random.uniform(-9, 9)\n",
    "    y2 = random.uniform(-9, 9)\n",
    "    if abs(x1-x2) < B:\n",
    "        cB += 1\n",
    "    if ((x1-x2)**2 + (y1-y2)**2)**0.5 < A:\n",
    "        cA += 1\n",
    "    if abs(x1-x2) < B and ((x1-x2)**2 + (y1-y2)**2)**0.5 < A:\n",
    "        cAB += 1\n",
    "P_A = cA/N\n",
    "P_B = cB/N\n",
    "P_A"
   ]
  },
  {
   "cell_type": "code",
   "execution_count": 101,
   "metadata": {},
   "outputs": [
    {
     "data": {
      "text/plain": [
       "0.8591700000000001"
      ]
     },
     "execution_count": 101,
     "metadata": {},
     "output_type": "execute_result"
    }
   ],
   "source": [
    "(P_A*P_B)/(cB/N)"
   ]
  },
  {
   "cell_type": "code",
   "execution_count": 102,
   "metadata": {},
   "outputs": [
    {
     "data": {
      "text/plain": [
       "0.9747351561333187"
      ]
     },
     "execution_count": 102,
     "metadata": {},
     "output_type": "execute_result"
    }
   ],
   "source": [
    "lam = 179000*0.00048\n",
    "P = 0\n",
    "for i in range(105):\n",
    "    P += lam**i * math.e**(-lam)/math.factorial(i)\n",
    "    \n",
    "P\n",
    "    "
   ]
  },
  {
   "cell_type": "code",
   "execution_count": null,
   "metadata": {},
   "outputs": [],
   "source": []
  }
 ],
 "metadata": {
  "kernelspec": {
   "display_name": "Python 3",
   "language": "python",
   "name": "python3"
  },
  "language_info": {
   "codemirror_mode": {
    "name": "ipython",
    "version": 3
   },
   "file_extension": ".py",
   "mimetype": "text/x-python",
   "name": "python",
   "nbconvert_exporter": "python",
   "pygments_lexer": "ipython3",
   "version": "3.11.6"
  }
 },
 "nbformat": 4,
 "nbformat_minor": 2
}
