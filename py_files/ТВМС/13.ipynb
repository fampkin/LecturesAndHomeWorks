{
 "cells": [
  {
   "cell_type": "code",
   "execution_count": null,
   "metadata": {
    "vscode": {
     "languageId": "plaintext"
    }
   },
   "outputs": [],
   "source": [
    "import numpy as np\n",
    "from scipy.stats import uniform\n",
    "\n",
    "\n",
    "n = 100_000\n",
    "\n",
    "x = uniform.rvs(0, 1, (n, 3))\n",
    "y = uniform.rvs(0, 1, (n, 3))\n",
    "z = uniform.rvs(0, 1, (n, 3))\n",
    "\n",
    "def angles(x, y, z):\n",
    "    ab = np.stack([x[:,1] - x[:,0], y[:,1] - y[:,0], z[:,1] - z[:,0]], axis=1)\n",
    "    bc = np.stack([x[:,2] - x[:,1], y[:,2] - y[:,1], z[:,2] - z[:,1]], axis=1)\n",
    "    ca = np.stack([x[:,0] - x[:,2], y[:,0] - y[:,2], z[:,0] - z[:,2]], axis=1)\n",
    "\n",
    "\n",
    "    ab_len = np.linalg.norm(ab, axis=1)\n",
    "    bc_len = np.linalg.norm(bc, axis=1)\n",
    "    ca_len = np.linalg.norm(ca, axis=1)\n",
    "\n",
    "\n",
    "    cos_A = (bc_len**2 + ca_len**2 - ab_len**2) / (2 * bc_len * ca_len)\n",
    "    cos_B = (ab_len**2 + ca_len**2 - bc_len**2) / (2 * ab_len * ca_len)\n",
    "    cos_C = (ab_len**2 + bc_len**2 - ca_len**2) / (2 * ab_len * bc_len)\n",
    "\n",
    "    A = np.degrees(np.arccos(np.clip(cos_A, -1, 1)))\n",
    "    B = np.degrees(np.arccos(np.clip(cos_B, -1, 1)))\n",
    "    C = np.degrees(np.arccos(np.clip(cos_C, -1, 1)))\n",
    "\n",
    "    return np.stack([A, B, C], axis=1)\n",
    "\n",
    "angles_abc = angles(x, y, z)\n",
    "\n",
    "\n",
    "min_angles = np.min(angles_abc, axis=1)\n",
    "max_angles = np.max(angles_abc, axis=1)\n",
    "\n",
    "T = max_angles < 90  \n",
    "R = min_angles < 26.7\n",
    "S = max_angles < 81.9\n",
    "\n",
    "\n",
    "P_R_T = np.mean(R[T])\n",
    "P_S_T = np.mean(S[T])\n",
    "\n",
    "P_R_T, P_S_T\n"
   ]
  }
 ],
 "metadata": {
  "language_info": {
   "name": "python"
  }
 },
 "nbformat": 4,
 "nbformat_minor": 2
}
