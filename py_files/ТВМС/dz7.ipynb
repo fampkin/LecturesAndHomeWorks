{
 "cells": [
  {
   "cell_type": "markdown",
   "metadata": {},
   "source": [
    "# 1"
   ]
  },
  {
   "cell_type": "markdown",
   "metadata": {},
   "source": [
    "1) Для нормальной случайной величины X имеем:\n",
    "E(X) = 0.7 (математическое ожидание)\n",
    "Var(X) = 49 (дисперсия)\n",
    "σ = √Var(X) = √49 = 7 (среднеквадратическое отклонение)\n",
    "2) Нам нужно найти P(|X| > 4.9)\n",
    "Это эквивалентно P(X < -4.9 или X > 4.9)\n",
    "3) Для решения нужно использовать стандартизацию нормальной случайной величины:\n",
    "Z = (X - μ)/σ, где Z ~ N(0,1)\n",
    "4) Тогда:\n",
    "P(|X| > 4.9) = P(X < -4.9) + P(X > 4.9)\n",
    "= P(Z < (-4.9 - 0.7)/7) + P(Z > (4.9 - 0.7)/7)\n",
    "= P(Z < -0.8) + P(Z > 0.6)\n",
    "= Φ(-0.8) + (1 - Φ(0.6))"
   ]
  },
  {
   "cell_type": "code",
   "execution_count": 1,
   "metadata": {},
   "outputs": [
    {
     "name": "stdout",
     "output_type": "stream",
     "text": [
      "Вероятность P(|X| > 4.9) = 0.4861\n"
     ]
    }
   ],
   "source": [
    "import scipy.stats as stats\n",
    "import numpy as np\n",
    "\n",
    "mu = 0.7  \n",
    "sigma = 7 \n",
    "x = 4.9   \n",
    "\n",
    "\n",
    "z1 = (-x - mu)/sigma \n",
    "z2 = (x - mu)/sigma   \n",
    "\n",
    "prob = stats.norm.cdf(z1) + (1 - stats.norm.cdf(z2))\n",
    "\n",
    "print(f\"Вероятность P(|X| > {x}) = {prob:.4f}\")"
   ]
  },
  {
   "cell_type": "markdown",
   "metadata": {},
   "source": [
    "# 2"
   ]
  },
  {
   "cell_type": "markdown",
   "metadata": {},
   "source": [
    "1) У нас есть 4 независимые нормальные случайные величины X, Y, Z, U с:\n",
    "E(X) = E(Y) = E(Z) = E(U) = 1\n",
    "Var(X) = Var(Y) = Var(Z) = Var(U) = 1\n",
    "2) Нам нужно найти P(1 < 2X − 3Y + 5Z − U < 3)\n",
    "3) Обозначим W = 2X − 3Y + 5Z − U\n",
    "4) Для линейной комбинации независимых нормальных случайных величин:\n",
    "W также имеет нормальное распределение\n",
    "E(W) = 2E(X) − 3E(Y) + 5E(Z) − E(U)\n",
    "Var(W) = 4Var(X) + 9Var(Y) + 25Var(Z) + Var(U) (используем свойство независимости)"
   ]
  },
  {
   "cell_type": "code",
   "execution_count": 2,
   "metadata": {},
   "outputs": [
    {
     "name": "stdout",
     "output_type": "stream",
     "text": [
      "E(W) = 3\n",
      "σ(W) = 6.2450\n",
      "Вероятность P(1 < W < 3) = 0.1256\n"
     ]
    }
   ],
   "source": [
    "import scipy.stats as stats\n",
    "import numpy as np\n",
    "\n",
    "# Вычисление параметров для W\n",
    "# E(W) = 2*1 - 3*1 + 5*1 - 1*1\n",
    "mu_w = 2*1 - 3*1 + 5*1 - 1*1\n",
    "\n",
    "# Var(W) = 4*1 + 9*1 + 25*1 + 1*1\n",
    "sigma_w = np.sqrt(4 + 9 + 25 + 1)\n",
    "\n",
    "# Стандартизация границ\n",
    "z1 = (1 - mu_w)/sigma_w\n",
    "z2 = (3 - mu_w)/sigma_w\n",
    "\n",
    "# Вычисление вероятности\n",
    "prob = stats.norm.cdf(z2) - stats.norm.cdf(z1)\n",
    "\n",
    "print(f\"E(W) = {mu_w}\")\n",
    "print(f\"σ(W) = {sigma_w:.4f}\")\n",
    "print(f\"Вероятность P(1 < W < 3) = {prob:.4f}\")"
   ]
  },
  {
   "cell_type": "markdown",
   "metadata": {},
   "source": [
    "Объяснение решения:\n",
    "Сначала мы нашли математическое ожидание W:\n",
    "E(W) = 2(1) - 3(1) + 5(1) - 1(1) = 3\n",
    "Затем нашли дисперсию W (используя свойство независимости):\n",
    "Var(W) = 4Var(X) + 9Var(Y) + 25Var(Z) + Var(U)\n",
    "Var(W) = 4(1) + 9(1) + 25(1) + 1(1) = 39\n",
    "σ(W) = √39\n",
    "Использовали стандартизацию для перехода к стандартному нормальному распределению:\n",
    "Z = (W - μ)/σ\n",
    "P(1 < W < 3) = P((1 - μ)/σ < Z < (3 - μ)/σ)\n",
    "Вычислили вероятность как разность значений функции распределения в точках z2 и z1.\n",
    "После выполнения кода вы получите точное значение вероятности того, что 2X − 3Y + 5Z − U находится в интервале (1, 3)."
   ]
  },
  {
   "cell_type": "markdown",
   "metadata": {},
   "source": [
    "# 3"
   ]
  },
  {
   "cell_type": "markdown",
   "metadata": {},
   "source": [
    "Объяснение решения:\n",
    "Сначала мы нашли математическое ожидание W:\n",
    "E(W) = 2(1) - 3(1) + 5(1) - 1(1) = 3\n",
    "Затем нашли дисперсию W (используя свойство независимости):\n",
    "Var(W) = 4Var(X) + 9Var(Y) + 25Var(Z) + Var(U)\n",
    "Var(W) = 4(1) + 9(1) + 25(1) + 1(1) = 39\n",
    "σ(W) = √39\n",
    "Использовали стандартизацию для перехода к стандартному нормальному распределению:\n",
    "Z = (W - μ)/σ\n",
    "P(1 < W < 3) = P((1 - μ)/σ < Z < (3 - μ)/σ)\n",
    "Вычислили вероятность как разность значений функции распределения в точках z2 и z1.\n",
    "После выполнения кода вы получите точное значение вероятности того, что 2X − 3Y + 5Z − U находится в интервале (1, 3)."
   ]
  },
  {
   "cell_type": "code",
   "execution_count": 5,
   "metadata": {},
   "outputs": [
    {
     "name": "stdout",
     "output_type": "stream",
     "text": [
      "E(W) = 5.200000000000003\n",
      "σ(W) = 14.8661\n",
      "Вероятность P(3X < 2Y) = 0.3632\n"
     ]
    }
   ],
   "source": [
    "import scipy.stats as stats\n",
    "import numpy as np\n",
    "\n",
    "\n",
    "ex = 15      \n",
    "ey = 19.9    \n",
    "varx = 5     \n",
    "vary = 44 \n",
    "\n",
    "mu_w = 3*ex - 2*ey\n",
    "var_w = 9*varx + 4*vary\n",
    "sigma_w = np.sqrt(var_w)\n",
    "\n",
    "z = (0 - mu_w)/sigma_w\n",
    "prob = stats.norm.cdf(z)\n",
    "\n",
    "print(f\"E(W) = {mu_w}\")\n",
    "print(f\"σ(W) = {sigma_w:.4f}\")\n",
    "print(f\"Вероятность P(3X < 2Y) = {prob:.4f}\")"
   ]
  },
  {
   "cell_type": "markdown",
   "metadata": {},
   "source": [
    "Сначала мы преобразовали неравенство 3X < 2Y в W = 3X - 2Y < 0\n",
    "Нашли математическое ожидание W:\n",
    "E(W) = 3E(X) - 2E(Y) = 3(15) - 2(19.9)\n",
    "E(W) = 45 - 39.8 = 5.2\n",
    "Нашли дисперсию W (используя свойство независимости):\n",
    "Var(W) = 9Var(X) + 4Var(Y)\n",
    "Var(W) = 9(5) + 4(44)\n",
    "Var(W) = 45 + 176 = 221\n",
    "Для нахождения P(3X < 2Y) = P(W < 0) использовали стандартизацию:\n",
    "Z = (W - μ)/σ\n",
    "P(W < 0) = P(Z < (0 - μ)/σ) = Φ((0 - μ)/σ)\n",
    "После выполнения кода вы получите точное значение вероятности того, что 3X < 2Y."
   ]
  },
  {
   "cell_type": "markdown",
   "metadata": {},
   "source": [
    "# 4"
   ]
  },
  {
   "cell_type": "code",
   "execution_count": 9,
   "metadata": {},
   "outputs": [
    {
     "name": "stdout",
     "output_type": "stream",
     "text": [
      "z-значение = 2.3001\n",
      "σ = 8.9994\n",
      "Var(X) = 80.9898\n",
      "\n",
      "Проверка:\n",
      "P(X < 41) = 0.98928\n"
     ]
    }
   ],
   "source": [
    "import scipy.stats as stats\n",
    "import numpy as np\n",
    "\n",
    "mu = 20.3   \n",
    "x = 41       \n",
    "p = 0.98928  \n",
    "z = stats.norm.ppf(p)\n",
    "\n",
    "sigma = (x - mu)/z\n",
    "\n",
    "var = sigma**2\n",
    "\n",
    "print(f\"z-значение = {z:.4f}\")\n",
    "print(f\"σ = {sigma:.4f}\")\n",
    "print(f\"Var(X) = {var:.4f}\")\n",
    "\n",
    "prob = stats.norm.cdf((x - mu)/sigma)\n",
    "print(f\"\\nПроверка:\")\n",
    "print(f\"P(X < {x}) = {prob:.5f}\")"
   ]
  },
  {
   "cell_type": "markdown",
   "metadata": {},
   "source": [
    "1) Для нормального распределения вероятность P(X < x) связана со стандартным нормальным распределением через формулу:\n",
    "P(X < x) = Φ((x - μ)/σ)\n",
    "2) В нашем случае:\n",
    "0.98928 = Φ((41 - 20.3)/σ)\n",
    "3) Применяя обратную функцию нормального распределения (Φ⁻¹), получаем:\n",
    "Φ⁻¹(0.98928) = (41 - 20.3)/σ\n",
    "4) Из этого уравнения находим σ:\n",
    "σ = (41 - 20.3)/Φ⁻¹(0.98928)\n",
    "5) Дисперсия равна квадрату среднеквадратического отклонения:\n",
    "Var(X) = σ²"
   ]
  },
  {
   "cell_type": "markdown",
   "metadata": {},
   "source": [
    "# 5"
   ]
  },
  {
   "cell_type": "code",
   "execution_count": 7,
   "metadata": {},
   "outputs": [
    {
     "name": "stdout",
     "output_type": "stream",
     "text": [
      "z-значение = 0.3000\n",
      "E(X) = μ = 51.3000\n",
      "\n",
      "Проверка:\n",
      "P(X < 54) = 0.61791\n"
     ]
    }
   ],
   "source": [
    "import scipy.stats as stats\n",
    "import numpy as np\n",
    "\n",
    "# Известные параметры\n",
    "var = 81       # Var(X)\n",
    "sigma = np.sqrt(var)  # σ = 9\n",
    "x = 54         # граничное значение\n",
    "p = 0.61791    # вероятность P(X < 54)\n",
    "\n",
    "# Находим z-значение через обратную функцию нормального распределения\n",
    "z = stats.norm.ppf(p)\n",
    "\n",
    "# Из уравнения (54 - μ)/9 = z находим μ\n",
    "mu = x - z*sigma\n",
    "\n",
    "print(f\"z-значение = {z:.4f}\")\n",
    "print(f\"E(X) = μ = {mu:.4f}\")\n",
    "\n",
    "# Проверка правильности решения\n",
    "prob = stats.norm.cdf((x - mu)/sigma)\n",
    "print(f\"\\nПроверка:\")\n",
    "print(f\"P(X < {x}) = {prob:.5f}\")"
   ]
  },
  {
   "cell_type": "code",
   "execution_count": 16,
   "metadata": {},
   "outputs": [
    {
     "ename": "ValueError",
     "evalue": "f(a) and f(b) must have different signs",
     "output_type": "error",
     "traceback": [
      "\u001b[31m---------------------------------------------------------------------------\u001b[39m",
      "\u001b[31mValueError\u001b[39m                                Traceback (most recent call last)",
      "\u001b[36mCell\u001b[39m\u001b[36m \u001b[39m\u001b[32mIn[16]\u001b[39m\u001b[32m, line 9\u001b[39m\n\u001b[32m      6\u001b[39m     \u001b[38;5;28;01mreturn\u001b[39;00m stats.norm.cdf(-\u001b[32m10\u001b[39m/sigma) - stats.norm.cdf(-\u001b[32m15\u001b[39m/sigma) - \u001b[32m0.2\u001b[39m\n\u001b[32m      8\u001b[39m \u001b[38;5;66;03m# Находим σ методом root_scalar\u001b[39;00m\n\u001b[32m----> \u001b[39m\u001b[32m9\u001b[39m result = \u001b[43mroot_scalar\u001b[49m\u001b[43m(\u001b[49m\u001b[43mequation\u001b[49m\u001b[43m,\u001b[49m\u001b[43m \u001b[49m\u001b[43mbracket\u001b[49m\u001b[43m=\u001b[49m\u001b[43m[\u001b[49m\u001b[32;43m1\u001b[39;49m\u001b[43m,\u001b[49m\u001b[43m \u001b[49m\u001b[32;43m50\u001b[39;49m\u001b[43m]\u001b[49m\u001b[43m)\u001b[49m\n\u001b[32m     10\u001b[39m sigma = result.root\n\u001b[32m     12\u001b[39m \u001b[38;5;66;03m# Проверяем P(10 < X < 15)\u001b[39;00m\n",
      "\u001b[36mFile \u001b[39m\u001b[32m~/Desktop/LecturesAndHomeWorks/.venv/lib/python3.12/site-packages/scipy/optimize/_root_scalar.py:286\u001b[39m, in \u001b[36mroot_scalar\u001b[39m\u001b[34m(f, args, method, bracket, fprime, fprime2, x0, x1, xtol, rtol, maxiter, options)\u001b[39m\n\u001b[32m    284\u001b[39m a, b = bracket[:\u001b[32m2\u001b[39m]\n\u001b[32m    285\u001b[39m \u001b[38;5;28;01mtry\u001b[39;00m:\n\u001b[32m--> \u001b[39m\u001b[32m286\u001b[39m     r, sol = \u001b[43mmethodc\u001b[49m\u001b[43m(\u001b[49m\u001b[43mf\u001b[49m\u001b[43m,\u001b[49m\u001b[43m \u001b[49m\u001b[43ma\u001b[49m\u001b[43m,\u001b[49m\u001b[43m \u001b[49m\u001b[43mb\u001b[49m\u001b[43m,\u001b[49m\u001b[43m \u001b[49m\u001b[43margs\u001b[49m\u001b[43m=\u001b[49m\u001b[43margs\u001b[49m\u001b[43m,\u001b[49m\u001b[43m \u001b[49m\u001b[43m*\u001b[49m\u001b[43m*\u001b[49m\u001b[43mkwargs\u001b[49m\u001b[43m)\u001b[49m\n\u001b[32m    287\u001b[39m \u001b[38;5;28;01mexcept\u001b[39;00m \u001b[38;5;167;01mValueError\u001b[39;00m \u001b[38;5;28;01mas\u001b[39;00m e:\n\u001b[32m    288\u001b[39m     \u001b[38;5;66;03m# gh-17622 fixed some bugs in low-level solvers by raising an error\u001b[39;00m\n\u001b[32m    289\u001b[39m     \u001b[38;5;66;03m# (rather than returning incorrect results) when the callable\u001b[39;00m\n\u001b[32m    290\u001b[39m     \u001b[38;5;66;03m# returns a NaN. It did so by wrapping the callable rather than\u001b[39;00m\n\u001b[32m    291\u001b[39m     \u001b[38;5;66;03m# modifying compiled code, so the iteration count is not available.\u001b[39;00m\n\u001b[32m    292\u001b[39m     \u001b[38;5;28;01mif\u001b[39;00m \u001b[38;5;28mhasattr\u001b[39m(e, \u001b[33m\"\u001b[39m\u001b[33m_x\u001b[39m\u001b[33m\"\u001b[39m):\n",
      "\u001b[36mFile \u001b[39m\u001b[32m~/Desktop/LecturesAndHomeWorks/.venv/lib/python3.12/site-packages/scipy/optimize/_zeros_py.py:798\u001b[39m, in \u001b[36mbrentq\u001b[39m\u001b[34m(f, a, b, args, xtol, rtol, maxiter, full_output, disp)\u001b[39m\n\u001b[32m    796\u001b[39m     \u001b[38;5;28;01mraise\u001b[39;00m \u001b[38;5;167;01mValueError\u001b[39;00m(\u001b[33mf\u001b[39m\u001b[33m\"\u001b[39m\u001b[33mrtol too small (\u001b[39m\u001b[38;5;132;01m{\u001b[39;00mrtol\u001b[38;5;132;01m:\u001b[39;00m\u001b[33mg\u001b[39m\u001b[38;5;132;01m}\u001b[39;00m\u001b[33m < \u001b[39m\u001b[38;5;132;01m{\u001b[39;00m_rtol\u001b[38;5;132;01m:\u001b[39;00m\u001b[33mg\u001b[39m\u001b[38;5;132;01m}\u001b[39;00m\u001b[33m)\u001b[39m\u001b[33m\"\u001b[39m)\n\u001b[32m    797\u001b[39m f = _wrap_nan_raise(f)\n\u001b[32m--> \u001b[39m\u001b[32m798\u001b[39m r = \u001b[43m_zeros\u001b[49m\u001b[43m.\u001b[49m\u001b[43m_brentq\u001b[49m\u001b[43m(\u001b[49m\u001b[43mf\u001b[49m\u001b[43m,\u001b[49m\u001b[43m \u001b[49m\u001b[43ma\u001b[49m\u001b[43m,\u001b[49m\u001b[43m \u001b[49m\u001b[43mb\u001b[49m\u001b[43m,\u001b[49m\u001b[43m \u001b[49m\u001b[43mxtol\u001b[49m\u001b[43m,\u001b[49m\u001b[43m \u001b[49m\u001b[43mrtol\u001b[49m\u001b[43m,\u001b[49m\u001b[43m \u001b[49m\u001b[43mmaxiter\u001b[49m\u001b[43m,\u001b[49m\u001b[43m \u001b[49m\u001b[43margs\u001b[49m\u001b[43m,\u001b[49m\u001b[43m \u001b[49m\u001b[43mfull_output\u001b[49m\u001b[43m,\u001b[49m\u001b[43m \u001b[49m\u001b[43mdisp\u001b[49m\u001b[43m)\u001b[49m\n\u001b[32m    799\u001b[39m \u001b[38;5;28;01mreturn\u001b[39;00m results_c(full_output, r, \u001b[33m\"\u001b[39m\u001b[33mbrentq\u001b[39m\u001b[33m\"\u001b[39m)\n",
      "\u001b[31mValueError\u001b[39m: f(a) and f(b) must have different signs"
     ]
    }
   ],
   "source": [
    "import scipy.stats as stats\n",
    "import numpy as np\n",
    "from scipy.optimize import root_scalar\n",
    "\n",
    "def equation(sigma):\n",
    "    return stats.norm.cdf(-10/sigma) - stats.norm.cdf(-15/sigma) - 0.2\n",
    "\n",
    "# Находим σ методом root_scalar\n",
    "result = root_scalar(equation, bracket=[1, 50])\n",
    "sigma = result.root\n",
    "\n",
    "# Проверяем P(10 < X < 15)\n",
    "p_check = stats.norm.cdf(-10/sigma) - stats.norm.cdf(-15/sigma)\n",
    "\n",
    "# Вычисляем P(33 < X < 39)\n",
    "p1 = stats.norm.cdf((39 - 25)/sigma)\n",
    "p2 = stats.norm.cdf((33 - 25)/sigma)\n",
    "prob = p1 - p2\n",
    "\n",
    "print(f\"σ = {sigma:.4f}\")\n",
    "print(f\"Вероятность P(33 < X < 39) = {prob:.4f}\")\n",
    "print(f\"\\nПроверка:\")\n",
    "print(f\"P(10 < X < 15) = {p_check:.4f} (должно быть 0.2)\")"
   ]
  },
  {
   "cell_type": "code",
   "execution_count": null,
   "metadata": {},
   "outputs": [],
   "source": []
  }
 ],
 "metadata": {
  "kernelspec": {
   "display_name": ".venv",
   "language": "python",
   "name": "python3"
  },
  "language_info": {
   "codemirror_mode": {
    "name": "ipython",
    "version": 3
   },
   "file_extension": ".py",
   "mimetype": "text/x-python",
   "name": "python",
   "nbconvert_exporter": "python",
   "pygments_lexer": "ipython3",
   "version": "3.12.3"
  }
 },
 "nbformat": 4,
 "nbformat_minor": 2
}
