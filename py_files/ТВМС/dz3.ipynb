{
 "cells": [
  {
   "cell_type": "code",
   "execution_count": 1,
   "metadata": {},
   "outputs": [],
   "source": [
    "import math"
   ]
  },
  {
   "cell_type": "markdown",
   "metadata": {},
   "source": [
    "# 3.5"
   ]
  },
  {
   "cell_type": "code",
   "execution_count": 3,
   "metadata": {},
   "outputs": [
    {
     "data": {
      "text/plain": [
       "0.9909858319217503"
      ]
     },
     "execution_count": 3,
     "metadata": {},
     "output_type": "execute_result"
    }
   ],
   "source": [
    "lam = 177000*0.00046\n",
    "P = 0\n",
    "for i in range(104):\n",
    "    P += lam**i * math.e**(-lam)/math.factorial(i)\n",
    "    \n",
    "P\n",
    "    "
   ]
  },
  {
   "cell_type": "markdown",
   "metadata": {},
   "source": [
    "# 3.11\n"
   ]
  },
  {
   "cell_type": "code",
   "execution_count": null,
   "metadata": {},
   "outputs": [
    {
     "data": {
      "text/plain": [
       "('0.37', '0.64')"
      ]
     },
     "execution_count": 2,
     "metadata": {},
     "output_type": "execute_result"
    }
   ],
   "source": [
    "from scipy.stats import uniform\n",
    "import numpy as np\n",
    "xl = -20\n",
    "yl = -8\n",
    "n = 100_000\n",
    "x1 = uniform.rvs(xl, 40, n)\n",
    "x2 = uniform.rvs(xl, 40, n)\n",
    "y1 = uniform.rvs(yl, 16, n)\n",
    "y2 = uniform.rvs(yl, 16, n)\n",
    "dist = ((x1-x2)**2 + (y1-y2)**2)**0.5\n",
    "diff = (np.abs(x1-x2))\n",
    "f\"{(len(dist[dist<11])/n):.2f}\", f\"{len(dist[(dist<11)&(diff<14)])/len(diff[diff<14]):.2f}\"\n",
    "\n"
   ]
  },
  {
   "cell_type": "code",
   "execution_count": 3,
   "metadata": {},
   "outputs": [
    {
     "data": {
      "text/plain": [
       "(0.34878963518581657, 0.007127433312227038)"
      ]
     },
     "execution_count": 3,
     "metadata": {},
     "output_type": "execute_result"
    }
   ],
   "source": [
    "a = 23\n",
    "b =6\n",
    "n = 100_000\n",
    "x1 = uniform.rvs(-a, 2*a, n)\n",
    "x2 = uniform.rvs(-a, 2*a, n)\n",
    "y1 = uniform.rvs(-b, 2*b, n)\n",
    "y2 = uniform.rvs(-b, 2*b, n)\n",
    "\n",
    "def inside_elipse(u, v):\n",
    "    return (u / a) ** 2 + (v / b) ** 2 <= 1\n",
    "mask = inside_elipse(x1, y1) & inside_elipse(x2, y2)\n",
    "x1, x2, y1, y2 = x1[mask], x2[mask], y1[mask], y2[mask]\n",
    "dist = ((x1-x2)**2 + (y1+y2)**2)**0.5\n",
    "A = dist < 9.2\n",
    "B = (x1 > 0) & (x2 < 0) & (y1 > 0) & (y2 < 0)\n",
    "np.mean(A), np.mean(A & B)\n"
   ]
  },
  {
   "cell_type": "code",
   "execution_count": 4,
   "metadata": {},
   "outputs": [
    {
     "data": {
      "text/plain": [
       "(0.11371288644015917, 0.650662468844287)"
      ]
     },
     "execution_count": 4,
     "metadata": {},
     "output_type": "execute_result"
    }
   ],
   "source": [
    "import numpy as np\n",
    "from scipy.stats import uniform\n",
    "\n",
    "# Параметры\n",
    "n = 100_000\n",
    "\n",
    "# Случайные точки в кубе [0,1]³\n",
    "x = uniform.rvs(0, 1, (n, 3))\n",
    "y = uniform.rvs(0, 1, (n, 3))\n",
    "z = uniform.rvs(0, 1, (n, 3))\n",
    "\n",
    "# Функция для вычисления углов треугольника по координатам трех точек\n",
    "def angles(x, y, z):\n",
    "    # Векторы сторон\n",
    "    ab = np.stack([x[:,1] - x[:,0], y[:,1] - y[:,0], z[:,1] - z[:,0]], axis=1)\n",
    "    bc = np.stack([x[:,2] - x[:,1], y[:,2] - y[:,1], z[:,2] - z[:,1]], axis=1)\n",
    "    ca = np.stack([x[:,0] - x[:,2], y[:,0] - y[:,2], z[:,0] - z[:,2]], axis=1)\n",
    "\n",
    "    # Длины сторон\n",
    "    ab_len = np.linalg.norm(ab, axis=1)\n",
    "    bc_len = np.linalg.norm(bc, axis=1)\n",
    "    ca_len = np.linalg.norm(ca, axis=1)\n",
    "\n",
    "    # Косинусы углов по теореме косинусов\n",
    "    cos_A = (bc_len**2 + ca_len**2 - ab_len**2) / (2 * bc_len * ca_len)\n",
    "    cos_B = (ab_len**2 + ca_len**2 - bc_len**2) / (2 * ab_len * ca_len)\n",
    "    cos_C = (ab_len**2 + bc_len**2 - ca_len**2) / (2 * ab_len * bc_len)\n",
    "\n",
    "    # Углы в градусах\n",
    "    A = np.degrees(np.arccos(np.clip(cos_A, -1, 1)))\n",
    "    B = np.degrees(np.arccos(np.clip(cos_B, -1, 1)))\n",
    "    C = np.degrees(np.arccos(np.clip(cos_C, -1, 1)))\n",
    "\n",
    "    return np.stack([A, B, C], axis=1)\n",
    "\n",
    "# Вычисляем углы\n",
    "angles_abc = angles(x, y, z)\n",
    "\n",
    "# Наименьший и наибольший углы\n",
    "min_angles = np.min(angles_abc, axis=1)\n",
    "max_angles = np.max(angles_abc, axis=1)\n",
    "\n",
    "# События\n",
    "T = max_angles < 90  # Остроугольные треугольники\n",
    "R = min_angles < 26.7\n",
    "S = max_angles < 81.9\n",
    "\n",
    "# Условные вероятности\n",
    "P_R_T = np.mean(R[T])\n",
    "P_S_T = np.mean(S[T])\n",
    "\n",
    "P_R_T, P_S_T\n"
   ]
  },
  {
   "cell_type": "code",
   "execution_count": null,
   "metadata": {},
   "outputs": [],
   "source": []
  }
 ],
 "metadata": {
  "kernelspec": {
   "display_name": "Python 3",
   "language": "python",
   "name": "python3"
  },
  "language_info": {
   "codemirror_mode": {
    "name": "ipython",
    "version": 3
   },
   "file_extension": ".py",
   "mimetype": "text/x-python",
   "name": "python",
   "nbconvert_exporter": "python",
   "pygments_lexer": "ipython3",
   "version": "3.10.12"
  }
 },
 "nbformat": 4,
 "nbformat_minor": 2
}
