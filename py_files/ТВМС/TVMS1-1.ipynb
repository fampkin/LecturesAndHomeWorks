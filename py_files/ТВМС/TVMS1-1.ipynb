{
 "cells": [
  {
   "cell_type": "markdown",
   "metadata": {},
   "source": [
    "<big>ПМ24-5 Белов Фёдор </big>"
   ]
  },
  {
   "cell_type": "code",
   "execution_count": null,
   "metadata": {},
   "outputs": [],
   "source": [
    "import numpy as np\n",
    "def rrstr(x,n): # округление до n знаков после запятой\n",
    "    fmt = '{:.'+str(n)+'f}'\n",
    "    return fmt.format(x).replace('.',',')"
   ]
  },
  {
   "cell_type": "markdown",
   "metadata": {},
   "source": [
    "1. В группе региональных банков имеется $9$ банков, у которых нет проблем с выполнением\n",
    "нормативных показателей, и $15$ банков, у которых такие проблемы имеются. Для проверки\n",
    "случайным образом отобраны три банка. \n",
    "Найдите: 1) вероятность того, что в число отобранных банков попадет хотя бы один проблемный. <br/>"
   ]
  },
  {
   "cell_type": "code",
   "execution_count": 5,
   "metadata": {},
   "outputs": [
    {
     "data": {
      "text/plain": [
       "0.958498023715415"
      ]
     },
     "execution_count": 5,
     "metadata": {},
     "output_type": "execute_result"
    }
   ],
   "source": [
    "n = 24\n",
    "normal = 9\n",
    "bad = 15\n",
    "\n",
    "import math\n",
    "\n",
    "1 - math.comb(9, 3)/math.comb(24, 3)"
   ]
  },
  {
   "cell_type": "markdown",
   "metadata": {},
   "source": [
    "2. В круг радиуса $60$ наудачу бросаются $2$ точки. \n",
    "Найдите вероятность того, что расстояние от\n",
    "центра круга до ближайшей точки будет не больше $30$.<br/>"
   ]
  },
  {
   "cell_type": "code",
   "execution_count": 10,
   "metadata": {},
   "outputs": [
    {
     "data": {
      "text/plain": [
       "0.4375"
      ]
     },
     "execution_count": 10,
     "metadata": {},
     "output_type": "execute_result"
    }
   ],
   "source": [
    "R = 60\n",
    "r = 30\n",
    "\n",
    "PR = math.pi * R ** 2\n",
    "Pr = math.pi * r ** 2\n",
    "\n",
    "1 - (1 - Pr/PR) ** 2\n"
   ]
  },
  {
   "cell_type": "markdown",
   "metadata": {},
   "source": [
    "3. События $A,B$ и $C$ независимы, $P(A)=0,1$; $P(B)=0,5$ и $P(C)=0,7$. \n",
    "1) Найдите вероятность события $D=(A+B)(A+C)(B+C)$.\n",
    "2) Найдите вероятность события $D$, если известно, что событие $A$ уже наступило.<br/>"
   ]
  },
  {
   "cell_type": "code",
   "execution_count": 13,
   "metadata": {},
   "outputs": [
    {
     "data": {
      "text/plain": [
       "(0.34127499999999994, 0.85)"
      ]
     },
     "execution_count": 13,
     "metadata": {},
     "output_type": "execute_result"
    }
   ],
   "source": [
    "def P_un(p1, p2):\n",
    "    return p1 + p2 - p1*p2\n",
    "\n",
    "P_A = 0.1\n",
    "P_B = 0.5\n",
    "P_C = 0.7\n",
    "\n",
    "P_A_or_B = P_un(P_A, P_B)\n",
    "P_A_or_C = P_un(P_A, P_C)\n",
    "P_B_or_C = P_un(P_B, P_C)\n",
    "\n",
    "P_D = P_A_or_B * P_A_or_C * P_B_or_C\n",
    "P_D, P_B_or_C\n"
   ]
  },
  {
   "cell_type": "markdown",
   "metadata": {},
   "source": [
    "4. В первой корзине имеется 15 шаров, при этом количество белых шаров равно либо 2, либо 10. \n",
    "Оба варианта равновероятны. \n",
    "Во второй корзине имеется 28 шаров, а количество белых шаров равно 4, 8 или 17. \n",
    "Эти три варианта также равновероятны. \n",
    "Из обеих корзин все шары перекладываются в третью корзину. \n",
    "1) Какова вероятность $P(A)$, что случайно вынутый из третьей корзины шар окажется белым (событие $A$)?\n",
    "2) Найдите условную вероятность $P(H|A)$, того, что случайно вынутый из третьей корзины шар \n",
    "первоначально находился в первой корзине (событие $H$), при условии, что он белый (событие $A$)?<br/>"
   ]
  },
  {
   "cell_type": "code",
   "execution_count": 19,
   "metadata": {},
   "outputs": [
    {
     "data": {
      "text/plain": [
       "0.3643410852713178"
      ]
     },
     "execution_count": 19,
     "metadata": {},
     "output_type": "execute_result"
    }
   ],
   "source": [
    "((2+4)/6 + (10+4)/6 + (2+8)/6 + (10+8)/6 + (2+17)/6 + (10+17)/6)/43\n"
   ]
  },
  {
   "cell_type": "code",
   "execution_count": 20,
   "metadata": {},
   "outputs": [
    {
     "data": {
      "text/plain": [
       "0.3829787234042553"
      ]
     },
     "execution_count": 20,
     "metadata": {},
     "output_type": "execute_result"
    }
   ],
   "source": [
    "white1_variants = [2, 10] \n",
    "total1 = 15  \n",
    "p1 = 1/2  \n",
    "white2_variants = [4, 8, 17]  \n",
    "total2 = 28  \n",
    "p2 = 1/3    \n",
    "\n",
    "total3 = total1 + total2\n",
    "\n",
    "E_white1 = sum(w * p1 for w in white1_variants)  \n",
    "E_white2 = sum(w * p2 for w in white2_variants)  \n",
    "\n",
    "P_A = (E_white1 + E_white2) / total3\n",
    "\n",
    "P_HA = E_white1 / total3\n",
    "\n",
    "P_H_given_A = P_HA / P_A\n",
    "P_H_given_A"
   ]
  },
  {
   "cell_type": "markdown",
   "metadata": {},
   "source": [
    "5. Вероятность невозврата кредита равна $\\frac{1}{6}$. \n",
    "Банк выдал кредиты $112$ независимым заемщикам.\n",
    "Найдите: 1) наиболее вероятное число заемщиков, которые не вернут кредит<br/>"
   ]
  },
  {
   "cell_type": "code",
   "execution_count": 21,
   "metadata": {},
   "outputs": [
    {
     "data": {
      "text/plain": [
       "18.666666666666664"
      ]
     },
     "execution_count": 21,
     "metadata": {},
     "output_type": "execute_result"
    }
   ],
   "source": [
    "1/6 * 112"
   ]
  },
  {
   "cell_type": "markdown",
   "metadata": {},
   "source": [
    "6. В области, ограниченной эллипсом\n",
    "$\\left(\\frac{u}{30}\\right)^2+\\left(\\frac{v}{9}\\right)^2 = 1$,\n",
    "случайным образом выбираются две точки. Пусть $A$ и $B$ – события, состоящие в том, что:\n",
    "$A$ – расстояние между выбранными точками меньше 8; \n",
    "$B$ – координаты одной из двух точек больше 0, а координаты другой точки меньше 0.\n",
    "Найдите приближенно, методом Монте-Карло: 1) вероятность $P(A)$; 2) условную вероятность $P(A|B)$. \n",
    "Указание: получите внутри заданного эллипса 100000 пар точек и, используя все эти пары точек, \n",
    "найдите ответы, округляя их до одного знака после запятой.<br/>"
   ]
  },
  {
   "cell_type": "code",
   "execution_count": 32,
   "metadata": {},
   "outputs": [
    {
     "data": {
      "text/plain": [
       "(0.1754860293903115, 0.005587271330344378)"
      ]
     },
     "execution_count": 32,
     "metadata": {},
     "output_type": "execute_result"
    }
   ],
   "source": [
    "from scipy.stats import uniform\n",
    "import numpy as np\n",
    "a = 30\n",
    "b = 9\n",
    "n = 100_0000\n",
    "x1 = uniform.rvs(-a, 2*a, n)\n",
    "x2 = uniform.rvs(-a, 2*a, n)\n",
    "y1 = uniform.rvs(-b, 2*b, n)\n",
    "y2 = uniform.rvs(-b, 2*b, n)\n",
    "\n",
    "def inside_elipse(u, v):\n",
    "    return (u / a) ** 2 + (v / b) ** 2 <= 1\n",
    "mask = inside_elipse(x1, y1) & inside_elipse(x2, y2)\n",
    "x1, x2, y1, y2 = x1[mask], x2[mask], y1[mask], y2[mask]\n",
    "dist = ((x1-x2)**2 + (y1+y2)**2)**0.5\n",
    "A = dist < 8 \n",
    "B = ((x1 > 0) & (x2 < 0) & (y1 > 0) & (y2 < 0)) | ((x1 < 0) & (x2 > 0) & (y1 < 0) & (y2 > 0))\n",
    "np.mean(A), np.mean(A & B)"
   ]
  },
  {
   "cell_type": "code",
   "execution_count": null,
   "metadata": {},
   "outputs": [],
   "source": []
  }
 ],
 "metadata": {
  "kernelspec": {
   "display_name": "Python 3",
   "language": "python",
   "name": "python3"
  },
  "language_info": {
   "codemirror_mode": {
    "name": "ipython",
    "version": 3
   },
   "file_extension": ".py",
   "mimetype": "text/x-python",
   "name": "python",
   "nbconvert_exporter": "python",
   "pygments_lexer": "ipython3",
   "version": "3.12.0"
  }
 },
 "nbformat": 4,
 "nbformat_minor": 4
}
