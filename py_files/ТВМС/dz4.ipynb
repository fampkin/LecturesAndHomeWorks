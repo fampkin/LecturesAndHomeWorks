{
 "cells": [
  {
   "cell_type": "code",
   "execution_count": 7,
   "metadata": {},
   "outputs": [
    {
     "name": "stdout",
     "output_type": "stream",
     "text": [
      "Случай 1 (равновероятные):\n",
      "P(Y2): [0.5 0.5]\n",
      "P(Y3): [0.33333333 0.33333333 0.33333333]\n",
      "Совместное распределение P(Y2,Y3):\n",
      "[[0.16666667 0.16666667 0.16666667]\n",
      " [0.16666667 0.16666667 0.16666667]]\n",
      "Независимы: True\n",
      "\n",
      "Случай 2 (пропорциональные):\n",
      "P(Y2): [0.57142857 0.42857143]\n",
      "P(Y3): [0.42857143 0.23809524 0.33333333]\n",
      "Совместное распределение P(Y2,Y3):\n",
      "[[0.28571429 0.19047619 0.0952381 ]\n",
      " [0.14285714 0.04761905 0.23809524]]\n",
      "Независимы: False\n"
     ]
    }
   ],
   "source": [
    "import numpy as np\n",
    "\n",
    "def check_independence(probs):\n",
    "    Y2 = np.zeros(2)  \n",
    "    Y3 = np.zeros(3) \n",
    "    \n",
    "    Y23 = np.zeros((2, 3))\n",
    "    \n",
    "    for x in range(1, 7):\n",
    "        y2 = x % 2\n",
    "        y3 = x % 3\n",
    "        p = probs[x-1]\n",
    "        \n",
    "        Y2[y2] += p\n",
    "        Y3[y3] += p\n",
    "        Y23[y2, y3] += p\n",
    "    \n",
    "    is_independent = True\n",
    "    for i in range(2):\n",
    "        for j in range(3):\n",
    "            if abs(Y23[i,j] - Y2[i]*Y3[j]) > 1e-10:\n",
    "                is_independent = False\n",
    "                \n",
    "    return Y2, Y3, Y23, is_independent\n",
    "\n",
    "probs1 = np.full(6, 1/6)\n",
    "Y2_1, Y3_1, Y23_1, indep1 = check_independence(probs1)\n",
    "\n",
    "A = 1 / sum(range(1, 7))  \n",
    "probs2 = np.array([k*A for k in range(1, 7)])\n",
    "Y2_2, Y3_2, Y23_2, indep2 = check_independence(probs2)\n",
    "\n",
    "print(\"Случай 1 (равновероятные):\")\n",
    "print(f\"P(Y2): {Y2_1}\")\n",
    "print(f\"P(Y3): {Y3_1}\")\n",
    "print(f\"Совместное распределение P(Y2,Y3):\\n{Y23_1}\")\n",
    "print(f\"Независимы: {indep1}\\n\")\n",
    "\n",
    "print(\"Случай 2 (пропорциональные):\")\n",
    "print(f\"P(Y2): {Y2_2}\")\n",
    "print(f\"P(Y3): {Y3_2}\")\n",
    "print(f\"Совместное распределение P(Y2,Y3):\\n{Y23_2}\")\n",
    "print(f\"Независимы: {indep2}\")"
   ]
  },
  {
   "cell_type": "markdown",
   "metadata": {},
   "source": [
    "# 2"
   ]
  },
  {
   "cell_type": "code",
   "execution_count": 2,
   "metadata": {},
   "outputs": [
    {
     "data": {
      "text/plain": [
       "(0.05274725274725277, (16, 0.0697802197802198))"
      ]
     },
     "execution_count": 2,
     "metadata": {},
     "output_type": "execute_result"
    }
   ],
   "source": [
    "import numpy as np\n",
    "from itertools import product\n",
    "\n",
    "\n",
    "X_values = np.arange(13)  \n",
    "Y_values = np.arange(14)  \n",
    "Z_values = np.array([3, 7])\n",
    "\n",
    "X_prob = np.full(13, 1/13)\n",
    "Y_prob = np.full(14, 1/14)\n",
    "Z_prob = np.array([9/10, 1/10])\n",
    "\n",
    "combinations = list(product(X_values, Y_values, Z_values))\n",
    "probabilities = []\n",
    "\n",
    "for x, y, z in combinations:\n",
    "    prob = X_prob[x] * Y_prob[y] * (Z_prob[0] if z == 3 else Z_prob[1])\n",
    "    probabilities.append((x + y + z, prob))\n",
    "\n",
    "\n",
    "sum_prob = {}\n",
    "for sum_val, prob in probabilities:\n",
    "    sum_prob[sum_val] = sum_prob.get(sum_val, 0) + prob\n",
    "\n",
    " \n",
    "prob_12 = sum_prob.get(12, 0)\n",
    "\n",
    "\n",
    "most_probable_sum = max(sum_prob.items(), key=lambda x: x[1])\n",
    "\n",
    "prob_12, most_probable_sum"
   ]
  },
  {
   "cell_type": "markdown",
   "metadata": {},
   "source": [
    "# 3"
   ]
  },
  {
   "cell_type": "code",
   "execution_count": 3,
   "metadata": {},
   "outputs": [
    {
     "name": "stdout",
     "output_type": "stream",
     "text": [
      "Вероятность того, что X, Y, Z примут разные значения: 0.783647975955668\n"
     ]
    }
   ],
   "source": [
    "import numpy as np\n",
    "\n",
    "X_sum = np.arange(1, 14).sum()  \n",
    "A = 1/X_sum\n",
    "\n",
    "Y_sum = np.arange(1, 13).sum()  \n",
    "B = 1/Y_sum\n",
    "\n",
    "Z_sum = np.arange(1, 9).sum()  \n",
    "C = 1/Z_sum\n",
    "\n",
    "# Создаем массивы вероятностей\n",
    "X_prob = np.arange(1, 14) * A\n",
    "Y_prob = np.arange(1, 13) * B\n",
    "Z_prob = np.arange(1, 9) * C\n",
    "\n",
    "def all_different(x, y, z):\n",
    "    return x != y and x != z and y != z\n",
    "\n",
    "total_prob = 0\n",
    "for x in range(1, 14):\n",
    "    for y in range(1, 13):\n",
    "        for z in range(1, 9):\n",
    "            if all_different(x, y, z):\n",
    "                total_prob += X_prob[x-1] * Y_prob[y-1] * Z_prob[z-1]\n",
    "\n",
    "print(f\"Вероятность того, что X, Y, Z примут разные значения: {total_prob}\")"
   ]
  },
  {
   "cell_type": "markdown",
   "metadata": {},
   "source": [
    "# 4"
   ]
  },
  {
   "cell_type": "code",
   "execution_count": 5,
   "metadata": {},
   "outputs": [
    {
     "name": "stdout",
     "output_type": "stream",
     "text": [
      "P(X1 * X2 * ... * X40 > 0) = 0.59768307577766\n"
     ]
    }
   ],
   "source": [
    "from scipy.stats import binom\n",
    "\n",
    "def calculate_probability():\n",
    "    n = 40  \n",
    "    p_positive = 0.98  \n",
    "    p_negative = 1 - p_positive  \n",
    "    \n",
    "    total_prob = 0\n",
    "    \n",
    "    for k in range(0, n + 1, 2):  \n",
    "        prob = binom.pmf(k, n, p_negative)\n",
    "        total_prob += prob\n",
    "    \n",
    "    return total_prob\n",
    "\n",
    "result = calculate_probability()\n",
    "print(f\"P(X1 * X2 * ... * X40 > 0) = {result}\")"
   ]
  },
  {
   "cell_type": "code",
   "execution_count": null,
   "metadata": {},
   "outputs": [],
   "source": []
  }
 ],
 "metadata": {
  "kernelspec": {
   "display_name": "Python 3",
   "language": "python",
   "name": "python3"
  },
  "language_info": {
   "codemirror_mode": {
    "name": "ipython",
    "version": 3
   },
   "file_extension": ".py",
   "mimetype": "text/x-python",
   "name": "python",
   "nbconvert_exporter": "python",
   "pygments_lexer": "ipython3",
   "version": "3.10.12"
  }
 },
 "nbformat": 4,
 "nbformat_minor": 2
}
