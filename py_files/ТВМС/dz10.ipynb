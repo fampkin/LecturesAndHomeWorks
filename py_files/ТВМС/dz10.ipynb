{
 "cells": [
  {
   "cell_type": "code",
   "execution_count": 1,
   "metadata": {},
   "outputs": [
    {
     "name": "stdout",
     "output_type": "stream",
     "text": [
      "E(Y | X+Y=1) = 1.5 = 3/2\n",
      "Var(E(X|Y)) = 0.00496031746031746 = 5/1008\n",
      "E[Var(X|Y)] = 0.7380952380952381 = 31/42\n"
     ]
    }
   ],
   "source": [
    "import numpy as np\n",
    "from fractions import Fraction\n",
    "\n",
    "P = np.array([\n",
    "    [Fraction(1,6), Fraction(1,12), Fraction(1,6)],\n",
    "    [Fraction(1,6), Fraction(1,6),  Fraction(1,4)]\n",
    "])\n",
    "X = np.array([-2, -1, 0])\n",
    "Y = np.array([1, 2])\n",
    "\n",
    "p1 = P[1,1]\n",
    "p2 = P[0,2] \n",
    "total = p1 + p2\n",
    "EY_given = (2*p1 + 1*p2) / total\n",
    "print(\"E(Y | X+Y=1) =\", float(EY_given), \"=\", EY_given)\n",
    "\n",
    "\n",
    "PY = P.sum(axis=1)\n",
    "\n",
    "PX_given_Y1 = P[0] / PY[0]\n",
    "EX_given_Y1 = sum(X * PX_given_Y1)\n",
    "\n",
    "PX_given_Y2 = P[1] / PY[1]\n",
    "EX_given_Y2 = sum(X * PX_given_Y2)\n",
    "\n",
    "PX = P.sum(axis=0)\n",
    "EX = sum(X * PX)\n",
    "\n",
    "var_EX_given_Y = PY[0]*(EX_given_Y1-EX)**2 + PY[1]*(EX_given_Y2-EX)**2\n",
    "print(\"Var(E(X|Y)) =\", float(var_EX_given_Y), \"=\", Fraction(var_EX_given_Y).limit_denominator())\n",
    "\n",
    "var_X_given_Y1 = sum((X-EX_given_Y1)**2 * PX_given_Y1)\n",
    "\n",
    "var_X_given_Y2 = sum((X-EX_given_Y2)**2 * PX_given_Y2)\n",
    "\n",
    "E_var_X_given_Y = PY[0]*var_X_given_Y1 + PY[1]*var_X_given_Y2\n",
    "print(\"E[Var(X|Y)] =\", float(E_var_X_given_Y), \"=\", Fraction(E_var_X_given_Y).limit_denominator())"
   ]
  },
  {
   "cell_type": "markdown",
   "metadata": {},
   "source": [
    "E(X)= y∑E(X∣Y=y)⋅P(Y=y)"
   ]
  },
  {
   "cell_type": "code",
   "execution_count": 2,
   "metadata": {},
   "outputs": [
    {
     "name": "stdout",
     "output_type": "stream",
     "text": [
      "E(X) = 33.0\n",
      "E(Y) = 2.9000000000000004\n",
      "E(X * E(Y|X)) = 93.0\n",
      "Cov(X, Y) = -2.700000000000017\n",
      "Var(E(Y|X)) = 0.08999999999999808\n"
     ]
    }
   ],
   "source": [
    "import numpy as np\n",
    "\n",
    "PX = {30: 0.9, 60: 0.1}\n",
    "EY_given_X = {30: 3, 60: 2}\n",
    "\n",
    "EX = sum(x * PX[x] for x in PX)\n",
    "\n",
    "EY = sum(PX[x] * EY_given_X[x] for x in PX)\n",
    "\n",
    "EX_EY_given_X = sum(x * EY_given_X[x] * PX[x] for x in PX)\n",
    "\n",
    "Cov_XY = EX_EY_given_X - EX * EY\n",
    "\n",
    "E_EY_given_X2 = sum(PX[x] * EY_given_X[x]**2 for x in PX)\n",
    "Var_EY_given_X = E_EY_given_X2 - EY**2\n",
    "\n",
    "print(f\"E(X) = {EX}\")\n",
    "print(f\"E(Y) = {EY}\")\n",
    "print(f\"E(X * E(Y|X)) = {EX_EY_given_X}\")\n",
    "print(f\"Cov(X, Y) = {Cov_XY}\")\n",
    "print(f\"Var(E(Y|X)) = {Var_EY_given_X}\")"
   ]
  },
  {
   "cell_type": "markdown",
   "metadata": {},
   "source": [
    "Формула полного математического ожидания:\n",
    "\\[\n",
    "\\mathbb{E}(X) = \\sum_{y} \\mathbb{E}(X|Y=y) \\cdot P(Y=y)\n",
    "\\]"
   ]
  },
  {
   "cell_type": "code",
   "execution_count": 3,
   "metadata": {},
   "outputs": [
    {
     "name": "stdout",
     "output_type": "stream",
     "text": [
      "Z при Y=2: 58/9 с вероятностью 3/8\n",
      "Z при Y=3: 11 с вероятностью 5/8\n",
      "E(Z) = 223/24\n"
     ]
    }
   ],
   "source": [
    "from fractions import Fraction\n",
    "\n",
    "\n",
    "P = [\n",
    "    [Fraction(1,12), Fraction(1,12), Fraction(5,24)],  # Y=2, X=0,1,2\n",
    "    [Fraction(1,8),  Fraction(1,4),  Fraction(1,4)]    # Y=3, X=0,1,2\n",
    "]\n",
    "X = [0, 1, 2]\n",
    "Y = [2, 3]\n",
    "\n",
    "# P(Y)\n",
    "PY = [sum(P[0]), sum(P[1])]\n",
    "\n",
    "# P(X|Y)\n",
    "PX_given_Y2 = [p / PY[0] for p in P[0]]\n",
    "PX_given_Y3 = [p / PY[1] for p in P[1]]\n",
    "\n",
    "# Z = E(X^2|Y) + Y^2\n",
    "EX2_given_Y2 = sum(x**2 * px for x, px in zip(X, PX_given_Y2))\n",
    "Z2 = EX2_given_Y2 + Y[0]**2\n",
    "\n",
    "EX2_given_Y3 = sum(x**2 * px for x, px in zip(X, PX_given_Y3))\n",
    "Z3 = EX2_given_Y3 + Y[1]**2\n",
    "\n",
    "print(f\"Z при Y=2: {Z2} с вероятностью {PY[0]}\")\n",
    "print(f\"Z при Y=3: {Z3} с вероятностью {PY[1]}\")\n",
    "\n",
    "# E(Z)\n",
    "EZ = Z2 * PY[0] + Z3 * PY[1]\n",
    "print(f\"E(Z) = {EZ}\")"
   ]
  },
  {
   "cell_type": "code",
   "execution_count": null,
   "metadata": {},
   "outputs": [],
   "source": []
  }
 ],
 "metadata": {
  "kernelspec": {
   "display_name": ".venv",
   "language": "python",
   "name": "python3"
  },
  "language_info": {
   "codemirror_mode": {
    "name": "ipython",
    "version": 3
   },
   "file_extension": ".py",
   "mimetype": "text/x-python",
   "name": "python",
   "nbconvert_exporter": "python",
   "pygments_lexer": "ipython3",
   "version": "3.12.3"
  }
 },
 "nbformat": 4,
 "nbformat_minor": 2
}
