{
 "cells": [
  {
   "cell_type": "markdown",
   "metadata": {},
   "source": [
    "<big>ПМ24-5 Белов Фёдор </big>"
   ]
  },
  {
   "cell_type": "code",
   "execution_count": 2,
   "metadata": {},
   "outputs": [],
   "source": [
    "import numpy as np\n",
    "def rrstr(x,n): # округление до n знаков после запятой\n",
    "    fmt = '{:.'+str(n)+'f}'\n",
    "    return fmt.format(x).replace('.',',')"
   ]
  },
  {
   "cell_type": "markdown",
   "metadata": {},
   "source": [
    "1. Для каждого $k=1,\\dots,n$ обозначим $e_k$ вектор-столбец размерности $n$, такой, что \n",
    "его элемент с номером $k$ равен 1, а все остальные элементы равны 0. \n",
    "Пусть $\\sigma: \\{1,\\dots,n\\}\\rightarrow\\{1,\\dots,n\\}$  – некоторая перестановка первых $n$ натуральных чисел.\n",
    "Матрица $A$ однозначно определяется условиями: $Ae_k=e_{\\sigma(k)}, k=1,\\dots,n$. \n",
    "Известно, что $n=12$ и результатом применения $\\sigma$ к последовательности $1,\\dots,12$ будет следующий ряд чисел:\n",
    "$1$, $7$, $6$, $10$, $12$, $3$, $11$, $5$, $9$, $4$, $8$, $2$. $\\:\\:$\n",
    "Найдите:\n",
    "1) след матрицы $A^{5}$;\n",
    "2) наименьшее натуральное $m$, такое, что след матрицы $A^m$ равен 12.<br/>"
   ]
  },
  {
   "cell_type": "code",
   "execution_count": 3,
   "metadata": {},
   "outputs": [
    {
     "data": {
      "text/plain": [
       "([1, 7, 6, 10, 12, 3, 11, 5, 9, 4, 8, 2],\n",
       " [0, 6, 5, 9, 11, 2, 10, 4, 8, 3, 7, 1])"
      ]
     },
     "execution_count": 3,
     "metadata": {},
     "output_type": "execute_result"
    }
   ],
   "source": [
    "s1 = [1, 7, 6, 10, 12, 3, 11, 5, 9, 4, 8, 2]\n",
    "s0 = [x-1 for x in s1]\n",
    "s1, s0"
   ]
  },
  {
   "cell_type": "code",
   "execution_count": 18,
   "metadata": {},
   "outputs": [
    {
     "data": {
      "text/plain": [
       "2"
      ]
     },
     "execution_count": 18,
     "metadata": {},
     "output_type": "execute_result"
    }
   ],
   "source": [
    "from sympy.combinatorics.permutations import Permutation\n",
    "p = Permutation(s0)\n",
    "p5 = p**5\n",
    "c = 0\n",
    "\n",
    "for i in range(12):\n",
    "    if i == p5(i):\n",
    "        c += 1\n",
    "c"
   ]
  },
  {
   "cell_type": "code",
   "execution_count": 8,
   "metadata": {},
   "outputs": [
    {
     "data": {
      "text/latex": [
       "$\\displaystyle 6$"
      ],
      "text/plain": [
       "6"
      ]
     },
     "execution_count": 8,
     "metadata": {},
     "output_type": "execute_result"
    }
   ],
   "source": [
    "p.order()"
   ]
  },
  {
   "cell_type": "markdown",
   "metadata": {},
   "source": [
    "2. Пусть $\\lambda$ – комплексный корень из 1 степени 37, такой, что его мнимая часть больше 0, \n",
    "а действительная часть максимальна среди подобных корней с положительной мнимой частью.\n",
    "Даны матрицы: $I = \\pmatrix{1 & 0 \\\\ 0 & 1}$,\n",
    "$A = \\pmatrix{4 & 6 & \\\\ 4 & 7}\\!.\\;$\n",
    "Найдите определитель матрицы $A + \\lambda I$ и укажите в ответе:\n",
    "1) действительную часть этого определитля;\n",
    "2) его мнимую часть.<br/>"
   ]
  },
  {
   "cell_type": "code",
   "execution_count": 29,
   "metadata": {},
   "outputs": [
    {
     "data": {
      "text/plain": [
       "('15,785', '2,192')"
      ]
     },
     "execution_count": 29,
     "metadata": {},
     "output_type": "execute_result"
    }
   ],
   "source": [
    "import math\n",
    "from sympy import *\n",
    "import numpy as np\n",
    "tetha = 2 * math.pi / 37\n",
    "lam = np.exp(1j * tetha)\n",
    "I = eye(2)\n",
    "A = Matrix([[4, 6],\n",
    "           [4, 7]])\n",
    "rrstr(re((A + lam * I).det()), 3), rrstr(im((A + lam * I).det()), 3)"
   ]
  },
  {
   "cell_type": "markdown",
   "metadata": {},
   "source": [
    "Ответ: 15,785; 2,192"
   ]
  },
  {
   "cell_type": "markdown",
   "metadata": {},
   "source": [
    "3. Для многочлена $p(x)=x^{14}-x^{12}+x^{11}+x^{10}-x^{9}+x^{7}+2x^{4}+2$ найдите все его $14$ корней: $z_1, \\dots, z_{14} \\in \\Bbb C$.\n",
    "В ответе укажите:\n",
    "1) сумму модулей $|z_1|+ \\ldots +|z_{14}|$;\n",
    "2) действительную часть корня, у которого эта действительная часть максимальна.<br/>"
   ]
  },
  {
   "cell_type": "code",
   "execution_count": 33,
   "metadata": {},
   "outputs": [
    {
     "data": {
      "text/plain": [
       "('14,763', '1,062')"
      ]
     },
     "execution_count": 33,
     "metadata": {},
     "output_type": "execute_result"
    }
   ],
   "source": [
    "coef = [1, 0, -1, 1, 1, -1, 0, 1, 0, 0, 2, 0, 0, 0, 2]\n",
    "roots = np.roots(coef)\n",
    "rrstr(np.sum(abs(roots)), 3), rrstr(max(roots.real), 3)"
   ]
  },
  {
   "cell_type": "markdown",
   "metadata": {},
   "source": [
    "4. Дана матрица: \n",
    "$A = \\pmatrix{18 & 27 & 19\\\\ 20 & 15 & 24 \\\\ 28 & 29 & 25}$.\n",
    "Пусть $Z$ – собственное значение матрицы $A$ с наибольшей мнимой частью.\n",
    "Найдите $Z$ и соответствующий этому собственному значению собственный вектор $X$, \n",
    "первая координата которого равна 1, $X=(1,U,V)$.\n",
    "В ответе укажите:\n",
    "1) мнимую часть $Z$;\n",
    "2) действительную часть $U$.<br/>"
   ]
  },
  {
   "cell_type": "code",
   "execution_count": 39,
   "metadata": {},
   "outputs": [
    {
     "data": {
      "text/latex": [
       "$\\displaystyle -5.13364248554728 - 1.25115300092831 i$"
      ],
      "text/plain": [
       "-5.13364248554728 - 1.25115300092831*I"
      ]
     },
     "metadata": {},
     "output_type": "display_data"
    },
    {
     "data": {
      "text/plain": [
       "[1.00000000000000,\n",
       " -0.644712952763244 - 0.170849065560288*I,\n",
       " -0.301389092681036 + 0.176935356273657*I]"
      ]
     },
     "metadata": {},
     "output_type": "display_data"
    },
    {
     "data": {
      "text/latex": [
       "$\\displaystyle -5.13364248554728 + 1.25115300092831 i$"
      ],
      "text/plain": [
       "-5.13364248554728 + 1.25115300092831*I"
      ]
     },
     "metadata": {},
     "output_type": "display_data"
    },
    {
     "data": {
      "text/plain": [
       "[1.00000000000000,\n",
       " -0.644712952763244 + 0.170849065560288*I,\n",
       " -0.301389092681036 - 0.176935356273657*I]"
      ]
     },
     "metadata": {},
     "output_type": "display_data"
    },
    {
     "data": {
      "text/latex": [
       "$\\displaystyle 68.2672849710946$"
      ],
      "text/plain": [
       "68.2672849710946"
      ]
     },
     "metadata": {},
     "output_type": "display_data"
    },
    {
     "data": {
      "text/plain": [
       "[1.00000000000000, 0.955626448423584, 1.28765109808725]"
      ]
     },
     "metadata": {},
     "output_type": "display_data"
    }
   ],
   "source": [
    "A = Matrix([[18, 27, 19],\n",
    "           [20, 15, 24],\n",
    "           [28, 29, 25]])\n",
    "eigenvects = A.eigenvects()\n",
    "for val, alg, vects in eigenvects:\n",
    "    val = val.evalf()\n",
    "    vects = [x.evalf() for x in vects][0]\n",
    "    vects = [(x/vects[0]).evalf() for x in vects]\n",
    "    display(val)\n",
    "    display(vects)"
   ]
  },
  {
   "cell_type": "markdown",
   "metadata": {},
   "source": [
    "5. На двумерной координатной плоскости заданы точки: \n",
    "$A(37,19)$, $B(19,43)$ и $C(3,4)$.\n",
    "Пусть $D(X,Y)$ – ближайшая к $A$ точка прямой $BC$.\n",
    "Найдите точку $D$ и расстояние $R$ от $A$ до $D$.\n",
    "Укажите в ответе:\n",
    "1) X, первую координату точки D;\n",
    "2) Y, вторую координату точки D;\n",
    "3) R, расстояние от A до D.<br/>"
   ]
  },
  {
   "cell_type": "code",
   "execution_count": 43,
   "metadata": {},
   "outputs": [
    {
     "data": {
      "text/plain": [
       "array([13.16544738, 28.778278  ])"
      ]
     },
     "execution_count": 43,
     "metadata": {},
     "output_type": "execute_result"
    }
   ],
   "source": [
    "A = np.array([37, 19])\n",
    "B = np.array([19, 43])\n",
    "C = np.array([3, 4])\n",
    "BA = A - B\n",
    "BC = C - B\n",
    "BABC = np.dot(BA, BC)\n",
    "BCBC = np.dot(BC, BC)\n",
    "t = BABC/BCBC\n",
    "D = B + t*BC\n",
    "D"
   ]
  },
  {
   "cell_type": "code",
   "execution_count": 45,
   "metadata": {},
   "outputs": [
    {
     "data": {
      "text/plain": [
       "25.762387680896772"
      ]
     },
     "execution_count": 45,
     "metadata": {},
     "output_type": "execute_result"
    }
   ],
   "source": [
    "R = ((A[0] - D[0])**2 + (A[1] - D[1])**2)**0.5\n",
    "R"
   ]
  },
  {
   "cell_type": "code",
   "execution_count": null,
   "metadata": {},
   "outputs": [],
   "source": []
  }
 ],
 "metadata": {
  "kernelspec": {
   "display_name": "Python 3 (ipykernel)",
   "language": "python",
   "name": "python3"
  },
  "language_info": {
   "codemirror_mode": {
    "name": "ipython",
    "version": 3
   },
   "file_extension": ".py",
   "mimetype": "text/x-python",
   "name": "python",
   "nbconvert_exporter": "python",
   "pygments_lexer": "ipython3",
   "version": "3.12.4"
  }
 },
 "nbformat": 4,
 "nbformat_minor": 4
}
