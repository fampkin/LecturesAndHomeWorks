{
 "cells": [
  {
   "cell_type": "code",
   "execution_count": 2,
   "metadata": {},
   "outputs": [],
   "source": [
    "from sympy import *\n",
    "import numpy as np\n",
    "init_printing()"
   ]
  },
  {
   "cell_type": "markdown",
   "metadata": {},
   "source": [
    "# Номер 1"
   ]
  },
  {
   "cell_type": "code",
   "execution_count": 14,
   "metadata": {},
   "outputs": [],
   "source": [
    "A = Matrix([[6, 1, 4, 2],\n",
    "            [1, 3, 7, 9]])\n",
    "\n",
    "B = Matrix([[5, 5, 6, 5],\n",
    "            [9, 9, 3, 3]])"
   ]
  },
  {
   "cell_type": "code",
   "execution_count": 15,
   "metadata": {},
   "outputs": [
    {
     "data": {
      "text/latex": [
       "$\\displaystyle \\left[\\begin{matrix}69 & 81\\\\107 & 84\\end{matrix}\\right]$"
      ],
      "text/plain": [
       "⎡69   81⎤\n",
       "⎢       ⎥\n",
       "⎣107  84⎦"
      ]
     },
     "execution_count": 15,
     "metadata": {},
     "output_type": "execute_result"
    }
   ],
   "source": [
    "C = A*B.T\n",
    "C"
   ]
  },
  {
   "cell_type": "code",
   "execution_count": 16,
   "metadata": {},
   "outputs": [
    {
     "data": {
      "text/latex": [
       "$\\displaystyle \\left[\\begin{matrix}39 & 39 & 39 & 33\\\\32 & 32 & 15 & 14\\\\83 & 83 & 45 & 41\\\\91 & 91 & 39 & 37\\end{matrix}\\right]$"
      ],
      "text/plain": [
       "⎡39  39  39  33⎤\n",
       "⎢              ⎥\n",
       "⎢32  32  15  14⎥\n",
       "⎢              ⎥\n",
       "⎢83  83  45  41⎥\n",
       "⎢              ⎥\n",
       "⎣91  91  39  37⎦"
      ]
     },
     "execution_count": 16,
     "metadata": {},
     "output_type": "execute_result"
    }
   ],
   "source": [
    "D = A.T*B\n",
    "D"
   ]
  },
  {
   "cell_type": "code",
   "execution_count": 17,
   "metadata": {},
   "outputs": [
    {
     "data": {
      "text/latex": [
       "$\\displaystyle \\left[\\begin{matrix}2691 & 2691 & 2691 & 2277 & 3159 & 3159 & 3159 & 2673\\\\2208 & 2208 & 1035 & 966 & 2592 & 2592 & 1215 & 1134\\\\5727 & 5727 & 3105 & 2829 & 6723 & 6723 & 3645 & 3321\\\\6279 & 6279 & 2691 & 2553 & 7371 & 7371 & 3159 & 2997\\\\4173 & 4173 & 4173 & 3531 & 3276 & 3276 & 3276 & 2772\\\\3424 & 3424 & 1605 & 1498 & 2688 & 2688 & 1260 & 1176\\\\8881 & 8881 & 4815 & 4387 & 6972 & 6972 & 3780 & 3444\\\\9737 & 9737 & 4173 & 3959 & 7644 & 7644 & 3276 & 3108\\end{matrix}\\right]$"
      ],
      "text/plain": [
       "⎡2691  2691  2691  2277  3159  3159  3159  2673⎤\n",
       "⎢                                              ⎥\n",
       "⎢2208  2208  1035  966   2592  2592  1215  1134⎥\n",
       "⎢                                              ⎥\n",
       "⎢5727  5727  3105  2829  6723  6723  3645  3321⎥\n",
       "⎢                                              ⎥\n",
       "⎢6279  6279  2691  2553  7371  7371  3159  2997⎥\n",
       "⎢                                              ⎥\n",
       "⎢4173  4173  4173  3531  3276  3276  3276  2772⎥\n",
       "⎢                                              ⎥\n",
       "⎢3424  3424  1605  1498  2688  2688  1260  1176⎥\n",
       "⎢                                              ⎥\n",
       "⎢8881  8881  4815  4387  6972  6972  3780  3444⎥\n",
       "⎢                                              ⎥\n",
       "⎣9737  9737  4173  3959  7644  7644  3276  3108⎦"
      ]
     },
     "execution_count": 17,
     "metadata": {},
     "output_type": "execute_result"
    }
   ],
   "source": [
    "K = kronecker_product(C, D)\n",
    "K"
   ]
  },
  {
   "cell_type": "code",
   "execution_count": 23,
   "metadata": {},
   "outputs": [
    {
     "data": {
      "image/png": "[encoded data removed]",
      "text/latex": [
       "$\\displaystyle 753$"
      ],
      "text/plain": [
       "753"
      ]
     },
     "execution_count": 23,
     "metadata": {},
     "output_type": "execute_result"
    }
   ],
   "source": [
    "np.sum(D)"
   ]
  },
  {
   "cell_type": "code",
   "execution_count": 24,
   "metadata": {},
   "outputs": [
    {
     "data": {
      "image/png": "[encoded data removed]",
      "text/latex": [
       "$\\displaystyle 107$"
      ],
      "text/plain": [
       "107"
      ]
     },
     "execution_count": 24,
     "metadata": {},
     "output_type": "execute_result"
    }
   ],
   "source": [
    "np.max(C)"
   ]
  },
  {
   "cell_type": "code",
   "execution_count": 20,
   "metadata": {},
   "outputs": [
    {
     "data": {
      "image/png": "[encoded data removed]",
      "text/latex": [
       "$\\displaystyle 153$"
      ],
      "text/plain": [
       "153"
      ]
     },
     "execution_count": 20,
     "metadata": {},
     "output_type": "execute_result"
    }
   ],
   "source": [
    "C.trace()"
   ]
  },
  {
   "cell_type": "code",
   "execution_count": 10,
   "metadata": {},
   "outputs": [
    {
     "data": {
      "image/png": "[encoded data removed]",
      "text/latex": [
       "$\\displaystyle 23409$"
      ],
      "text/plain": [
       "23409"
      ]
     },
     "execution_count": 10,
     "metadata": {},
     "output_type": "execute_result"
    }
   ],
   "source": [
    "K.trace()"
   ]
  },
  {
   "cell_type": "markdown",
   "metadata": {},
   "source": [
    "# Номер 2"
   ]
  },
  {
   "cell_type": "code",
   "execution_count": 27,
   "metadata": {},
   "outputs": [
    {
     "data": {
      "text/latex": [
       "$\\displaystyle \\left[\\begin{matrix}\\frac{289}{196} & - \\frac{9}{49}\\\\- \\frac{173}{196} & \\frac{12}{49}\\end{matrix}\\right]$"
      ],
      "text/plain": [
       "⎡ 289        ⎤\n",
       "⎢ ───   -9/49⎥\n",
       "⎢ 196        ⎥\n",
       "⎢            ⎥\n",
       "⎢-173    12  ⎥\n",
       "⎢─────   ──  ⎥\n",
       "⎣ 196    49  ⎦"
      ]
     },
     "execution_count": 27,
     "metadata": {},
     "output_type": "execute_result"
    }
   ],
   "source": [
    "A = Matrix([[6, 5],\n",
    "            [4, 8]])\n",
    "\n",
    "B = Matrix([[6, 7],\n",
    "            [8, 7]])\n",
    "\n",
    "C = Matrix([[15, 27],\n",
    "            [14, 20]])\n",
    "\n",
    "X = (A**-1 * C * B**-1).T\n",
    "X"
   ]
  },
  {
   "cell_type": "code",
   "execution_count": 103,
   "metadata": {},
   "outputs": [
    {
     "data": {
      "image/png": "[encoded data removed]",
      "text/latex": [
       "$\\displaystyle \\frac{337}{196}$"
      ],
      "text/plain": [
       "337\n",
       "───\n",
       "196"
      ]
     },
     "execution_count": 103,
     "metadata": {},
     "output_type": "execute_result"
    }
   ],
   "source": [
    "X.trace()"
   ]
  },
  {
   "cell_type": "code",
   "execution_count": 26,
   "metadata": {},
   "outputs": [
    {
     "data": {
      "image/png": "[encoded data removed]",
      "text/latex": [
       "$\\displaystyle \\frac{32}{49}$"
      ],
      "text/plain": [
       "32\n",
       "──\n",
       "49"
      ]
     },
     "execution_count": 26,
     "metadata": {},
     "output_type": "execute_result"
    }
   ],
   "source": [
    "np.sum(X)"
   ]
  },
  {
   "cell_type": "markdown",
   "metadata": {},
   "source": [
    "# Номер 3"
   ]
  },
  {
   "cell_type": "code",
   "execution_count": 33,
   "metadata": {},
   "outputs": [
    {
     "data": {
      "image/png": "[encoded data removed]",
      "text/latex": [
       "$\\displaystyle \\left[ 14\\right]$"
      ],
      "text/plain": [
       "[14]"
      ]
     },
     "execution_count": 33,
     "metadata": {},
     "output_type": "execute_result"
    }
   ],
   "source": [
    "A = Matrix([[4, 0, 2, 0],\n",
    "            [6, 5, 9, 8],\n",
    "            [5, 7, 4, 3],\n",
    "            [7, 1, 0, 3]])\n",
    "t = Symbol('t')\n",
    "B = Matrix([[9, 2, 5, 1],\n",
    "            [2, 4, 6, 4],\n",
    "            [1, 3, t, 1],\n",
    "            [6, 3, 3, 3]])\n",
    "C = A*B\n",
    "q = det(C)\n",
    "solve(q, t)"
   ]
  },
  {
   "cell_type": "markdown",
   "metadata": {},
   "source": [
    "# Номер 7"
   ]
  },
  {
   "cell_type": "code",
   "execution_count": 106,
   "metadata": {},
   "outputs": [
    {
     "data": {
      "image/png": "[encoded data removed]",
      "text/latex": [
       "$\\displaystyle 16 x^{2} - 116 x + 576$"
      ],
      "text/plain": [
       "    2              \n",
       "16⋅x  - 116⋅x + 576"
      ]
     },
     "execution_count": 106,
     "metadata": {},
     "output_type": "execute_result"
    }
   ],
   "source": [
    "x = symbols('x')\n",
    "M = Matrix([[7, 5, 5, x],\n",
    "            [2, 2, 6, 9],\n",
    "            [3, x, 8, 0],\n",
    "            [3, 1, 1, 0]])\n",
    "\n",
    "\n",
    "det(M)"
   ]
  },
  {
   "cell_type": "markdown",
   "metadata": {},
   "source": [
    "Ответ: 1) 16 2) -116"
   ]
  },
  {
   "cell_type": "markdown",
   "metadata": {},
   "source": [
    "# Номер 4"
   ]
  },
  {
   "cell_type": "code",
   "execution_count": 107,
   "metadata": {},
   "outputs": [
    {
     "data": {
      "image/png": "[encoded data removed]",
      "text/latex": [
       "$\\displaystyle \\left( 0.258979113865226, \\  80002.6668933536\\right)$"
      ],
      "text/plain": [
       "(0.25897911386522593, 80002.66689335361)"
      ]
     },
     "execution_count": 107,
     "metadata": {},
     "output_type": "execute_result"
    }
   ],
   "source": [
    "\n",
    "n = 80000\n",
    "a_11 = 0.99\n",
    "a_nn = 1.01\n",
    "a_12 = 0.57\n",
    "a_21 = 0.03\n",
    "\n",
    "delta = (a_nn - a_11) / (n - 1)\n",
    "\n",
    "diag_elements = np.array([a_11 + i * delta for i in range(n)])\n",
    "\n",
    "det_A = (diag_elements[0] * diag_elements[1] - a_12 * a_21) * np.prod(diag_elements[2:])\n",
    "\n",
    "trace_A_1 = np.sum(1 / diag_elements)\n",
    "\n",
    "det_A, trace_A_1"
   ]
  },
  {
   "cell_type": "markdown",
   "metadata": {},
   "source": [
    "# Номер 5"
   ]
  },
  {
   "cell_type": "code",
   "execution_count": 108,
   "metadata": {},
   "outputs": [
    {
     "ename": "OverflowError",
     "evalue": "(34, 'Numerical result out of range')",
     "output_type": "error",
     "traceback": [
      "\u001b[0;31m---------------------------------------------------------------------------\u001b[0m",
      "\u001b[0;31mOverflowError\u001b[0m                             Traceback (most recent call last)",
      "Cell \u001b[0;32mIn[108], line 6\u001b[0m\n\u001b[1;32m      3\u001b[0m n \u001b[38;5;241m=\u001b[39m \u001b[38;5;241m43000\u001b[39m\n\u001b[1;32m      4\u001b[0m q \u001b[38;5;241m=\u001b[39m (b11\u001b[38;5;241m/\u001b[39mbnn)\u001b[38;5;241m*\u001b[39m\u001b[38;5;241m*\u001b[39m(\u001b[38;5;241m1\u001b[39m\u001b[38;5;241m/\u001b[39mn\u001b[38;5;241m-\u001b[39m\u001b[38;5;241m1\u001b[39m)\n\u001b[0;32m----> 6\u001b[0m diag_elements \u001b[38;5;241m=\u001b[39m np\u001b[38;5;241m.\u001b[39marray([b11\u001b[38;5;241m*\u001b[39m(q\u001b[38;5;241m*\u001b[39m\u001b[38;5;241m*\u001b[39mi) \u001b[38;5;28;01mfor\u001b[39;00m i \u001b[38;5;129;01min\u001b[39;00m \u001b[38;5;28mrange\u001b[39m(n)])\n\u001b[1;32m      7\u001b[0m a1n \u001b[38;5;241m=\u001b[39m \u001b[38;5;241m1.10\u001b[39m\n\u001b[1;32m      8\u001b[0m a11 \u001b[38;5;241m=\u001b[39m b11\n",
      "Cell \u001b[0;32mIn[108], line 6\u001b[0m, in \u001b[0;36m<listcomp>\u001b[0;34m(.0)\u001b[0m\n\u001b[1;32m      3\u001b[0m n \u001b[38;5;241m=\u001b[39m \u001b[38;5;241m43000\u001b[39m\n\u001b[1;32m      4\u001b[0m q \u001b[38;5;241m=\u001b[39m (b11\u001b[38;5;241m/\u001b[39mbnn)\u001b[38;5;241m*\u001b[39m\u001b[38;5;241m*\u001b[39m(\u001b[38;5;241m1\u001b[39m\u001b[38;5;241m/\u001b[39mn\u001b[38;5;241m-\u001b[39m\u001b[38;5;241m1\u001b[39m)\n\u001b[0;32m----> 6\u001b[0m diag_elements \u001b[38;5;241m=\u001b[39m np\u001b[38;5;241m.\u001b[39marray([b11\u001b[38;5;241m*\u001b[39m(\u001b[43mq\u001b[49m\u001b[38;5;241;43m*\u001b[39;49m\u001b[38;5;241;43m*\u001b[39;49m\u001b[43mi\u001b[49m) \u001b[38;5;28;01mfor\u001b[39;00m i \u001b[38;5;129;01min\u001b[39;00m \u001b[38;5;28mrange\u001b[39m(n)])\n\u001b[1;32m      7\u001b[0m a1n \u001b[38;5;241m=\u001b[39m \u001b[38;5;241m1.10\u001b[39m\n\u001b[1;32m      8\u001b[0m a11 \u001b[38;5;241m=\u001b[39m b11\n",
      "\u001b[0;31mOverflowError\u001b[0m: (34, 'Numerical result out of range')"
     ]
    }
   ],
   "source": [
    "b11 = 1\n",
    "bnn = 1.07\n",
    "n = 43000\n",
    "q = (b11/bnn)**(1/n-1)\n",
    "\n",
    "diag_elements = np.array([b11*(q**i) for i in range(n)])\n",
    "a1n = 1.10\n",
    "a11 = b11\n",
    "\n",
    "d = (a1n-a11)/(n-1)\n",
    "first_line = np.array([a11+i*d for i in range(n)])\n",
    "\n",
    "\n"
   ]
  },
  {
   "cell_type": "code",
   "execution_count": 28,
   "metadata": {},
   "outputs": [
    {
     "data": {
      "image/png": "[encoded data removed]",
      "text/plain": [
       "<Figure size 480x480 with 1 Axes>"
      ]
     },
     "metadata": {},
     "output_type": "display_data"
    }
   ],
   "source": [
    "import numpy as np\n",
    "import matplotlib.pyplot as plt\n",
    "import math\n",
    "\n",
    "count=75\n",
    "\n",
    "\n",
    "\n",
    "def Cnk(n,k):\n",
    "    return abs(math.factorial(n)//(math.factorial(k)*math.factorial(n-k)))\n",
    "\n",
    "ar = []\n",
    "n = 101\n",
    "for c in range(count):\n",
    "    line = [0]*count\n",
    "    for i in range(count):\n",
    "        \n",
    "        if c >= i:\n",
    "            res = Cnk(c+1, i+1)%2\n",
    "            line[i]=res\n",
    "        else:\n",
    "            line[i] = -1\n",
    "    ar.append(line)\n",
    "plt.matshow(ar, cmap='pink_r')\n",
    "plt.show()"
   ]
  },
  {
   "cell_type": "markdown",
   "metadata": {},
   "source": [
    "# Номер 9"
   ]
  },
  {
   "cell_type": "code",
   "execution_count": 27,
   "metadata": {},
   "outputs": [
    {
     "ename": "NameError",
     "evalue": "name 'symbols' is not defined",
     "output_type": "error",
     "traceback": [
      "\u001b[0;31m---------------------------------------------------------------------------\u001b[0m",
      "\u001b[0;31mNameError\u001b[0m                                 Traceback (most recent call last)",
      "Cell \u001b[0;32mIn[27], line 1\u001b[0m\n\u001b[0;32m----> 1\u001b[0m x1, x2, y1, y2 \u001b[38;5;241m=\u001b[39m \u001b[43msymbols\u001b[49m(\u001b[38;5;124m'\u001b[39m\u001b[38;5;124mx1 x2 y1 y2\u001b[39m\u001b[38;5;124m'\u001b[39m)\n\u001b[1;32m      2\u001b[0m H \u001b[38;5;241m=\u001b[39m Matrix([[x1, y1],\n\u001b[1;32m      3\u001b[0m             [x2, y2]])\n\u001b[1;32m      4\u001b[0m H\u001b[38;5;241m*\u001b[39mH\u001b[38;5;241m.\u001b[39mT\n",
      "\u001b[0;31mNameError\u001b[0m: name 'symbols' is not defined"
     ]
    }
   ],
   "source": [
    "x1, x2, y1, y2 = symbols('x1 x2 y1 y2')\n",
    "H = Matrix([[x1, y1],\n",
    "            [x2, y2]])\n",
    "H*H.T\n"
   ]
  },
  {
   "cell_type": "code",
   "execution_count": null,
   "metadata": {},
   "outputs": [],
   "source": []
  },
  {
   "cell_type": "code",
   "execution_count": null,
   "metadata": {},
   "outputs": [],
   "source": []
  }
 ],
 "metadata": {
  "kernelspec": {
   "display_name": "Python 3",
   "language": "python",
   "name": "python3"
  },
  "language_info": {
   "codemirror_mode": {
    "name": "ipython",
    "version": 3
   },
   "file_extension": ".py",
   "mimetype": "text/x-python",
   "name": "python",
   "nbconvert_exporter": "python",
   "pygments_lexer": "ipython3",
   "version": "3.10.12"
  }
 },
 "nbformat": 4,
 "nbformat_minor": 2
}
