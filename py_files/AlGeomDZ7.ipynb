{
 "cells": [
  {
   "cell_type": "code",
   "execution_count": 1,
   "metadata": {},
   "outputs": [],
   "source": [
    "from sympy import *\n",
    "init_printing()"
   ]
  },
  {
   "cell_type": "markdown",
   "metadata": {},
   "source": [
    "# Номер 1"
   ]
  },
  {
   "cell_type": "code",
   "execution_count": 2,
   "metadata": {},
   "outputs": [],
   "source": [
    "A = Matrix([[6, 1, 4, 2],\n",
    "            [1, 3, 7, 9]])\n",
    "\n",
    "B = Matrix([[5, 5, 5, 5],\n",
    "            [9, 9, 3, 3]])"
   ]
  },
  {
   "cell_type": "code",
   "execution_count": 9,
   "metadata": {},
   "outputs": [
    {
     "data": {
      "text/latex": [
       "$\\displaystyle \\left[\\begin{matrix}65 & 81\\\\100 & 84\\end{matrix}\\right]$"
      ],
      "text/plain": [
       "⎡65   81⎤\n",
       "⎢       ⎥\n",
       "⎣100  84⎦"
      ]
     },
     "execution_count": 9,
     "metadata": {},
     "output_type": "execute_result"
    }
   ],
   "source": [
    "C = A*B.T\n",
    "C"
   ]
  },
  {
   "cell_type": "code",
   "execution_count": 11,
   "metadata": {},
   "outputs": [
    {
     "data": {
      "text/latex": [
       "$\\displaystyle \\left[\\begin{matrix}39 & 39 & 33 & 33\\\\32 & 32 & 14 & 14\\\\83 & 83 & 41 & 41\\\\91 & 91 & 37 & 37\\end{matrix}\\right]$"
      ],
      "text/plain": [
       "⎡39  39  33  33⎤\n",
       "⎢              ⎥\n",
       "⎢32  32  14  14⎥\n",
       "⎢              ⎥\n",
       "⎢83  83  41  41⎥\n",
       "⎢              ⎥\n",
       "⎣91  91  37  37⎦"
      ]
     },
     "execution_count": 11,
     "metadata": {},
     "output_type": "execute_result"
    }
   ],
   "source": [
    "D = A.T*B\n",
    "D"
   ]
  },
  {
   "cell_type": "code",
   "execution_count": 13,
   "metadata": {},
   "outputs": [
    {
     "data": {
      "text/latex": [
       "$\\displaystyle \\left[\\begin{matrix}2535 & 2535 & 2145 & 2145 & 3159 & 3159 & 2673 & 2673\\\\2080 & 2080 & 910 & 910 & 2592 & 2592 & 1134 & 1134\\\\5395 & 5395 & 2665 & 2665 & 6723 & 6723 & 3321 & 3321\\\\5915 & 5915 & 2405 & 2405 & 7371 & 7371 & 2997 & 2997\\\\3900 & 3900 & 3300 & 3300 & 3276 & 3276 & 2772 & 2772\\\\3200 & 3200 & 1400 & 1400 & 2688 & 2688 & 1176 & 1176\\\\8300 & 8300 & 4100 & 4100 & 6972 & 6972 & 3444 & 3444\\\\9100 & 9100 & 3700 & 3700 & 7644 & 7644 & 3108 & 3108\\end{matrix}\\right]$"
      ],
      "text/plain": [
       "⎡2535  2535  2145  2145  3159  3159  2673  2673⎤\n",
       "⎢                                              ⎥\n",
       "⎢2080  2080  910   910   2592  2592  1134  1134⎥\n",
       "⎢                                              ⎥\n",
       "⎢5395  5395  2665  2665  6723  6723  3321  3321⎥\n",
       "⎢                                              ⎥\n",
       "⎢5915  5915  2405  2405  7371  7371  2997  2997⎥\n",
       "⎢                                              ⎥\n",
       "⎢3900  3900  3300  3300  3276  3276  2772  2772⎥\n",
       "⎢                                              ⎥\n",
       "⎢3200  3200  1400  1400  2688  2688  1176  1176⎥\n",
       "⎢                                              ⎥\n",
       "⎢8300  8300  4100  4100  6972  6972  3444  3444⎥\n",
       "⎢                                              ⎥\n",
       "⎣9100  9100  3700  3700  7644  7644  3108  3108⎦"
      ]
     },
     "execution_count": 13,
     "metadata": {},
     "output_type": "execute_result"
    }
   ],
   "source": [
    "K = kronecker_product(C, D)\n",
    "K"
   ]
  },
  {
   "cell_type": "code",
   "execution_count": 17,
   "metadata": {},
   "outputs": [
    {
     "data": {
      "text/latex": [
       "$\\displaystyle 740$"
      ],
      "text/plain": [
       "740"
      ]
     },
     "execution_count": 17,
     "metadata": {},
     "output_type": "execute_result"
    }
   ],
   "source": [
    "sum = 0\n",
    "for i in D:\n",
    "    sum += i\n",
    "sum"
   ]
  },
  {
   "cell_type": "code",
   "execution_count": 18,
   "metadata": {},
   "outputs": [
    {
     "data": {
      "text/latex": [
       "$\\displaystyle 100$"
      ],
      "text/plain": [
       "100"
      ]
     },
     "execution_count": 18,
     "metadata": {},
     "output_type": "execute_result"
    }
   ],
   "source": [
    "m = max([i for i in C])\n",
    "m"
   ]
  },
  {
   "cell_type": "code",
   "execution_count": 20,
   "metadata": {},
   "outputs": [
    {
     "data": {
      "text/latex": [
       "$\\displaystyle 149$"
      ],
      "text/plain": [
       "149"
      ]
     },
     "execution_count": 20,
     "metadata": {},
     "output_type": "execute_result"
    }
   ],
   "source": [
    "C.trace()"
   ]
  },
  {
   "cell_type": "code",
   "execution_count": 21,
   "metadata": {},
   "outputs": [
    {
     "data": {
      "text/latex": [
       "$\\displaystyle 22201$"
      ],
      "text/plain": [
       "22201"
      ]
     },
     "execution_count": 21,
     "metadata": {},
     "output_type": "execute_result"
    }
   ],
   "source": [
    "K.trace()"
   ]
  },
  {
   "cell_type": "markdown",
   "metadata": {},
   "source": [
    "# Номер 2"
   ]
  },
  {
   "cell_type": "code",
   "execution_count": 23,
   "metadata": {},
   "outputs": [],
   "source": [
    "A = Matrix([[6, 5],\n",
    "            [4, 8]])\n",
    "\n",
    "B = Matrix([[6, 7],\n",
    "            [8, 7]])\n",
    "\n",
    "C = Matrix([[15, 27],\n",
    "            [14, 20]])\n",
    "\n",
    "X = (A**-1 * C * B**-1).T"
   ]
  },
  {
   "cell_type": "code",
   "execution_count": 24,
   "metadata": {},
   "outputs": [
    {
     "data": {
      "text/latex": [
       "$\\displaystyle \\frac{337}{196}$"
      ],
      "text/plain": [
       "337\n",
       "───\n",
       "196"
      ]
     },
     "execution_count": 24,
     "metadata": {},
     "output_type": "execute_result"
    }
   ],
   "source": [
    "X.trace()"
   ]
  },
  {
   "cell_type": "code",
   "execution_count": 25,
   "metadata": {},
   "outputs": [
    {
     "data": {
      "text/latex": [
       "$\\displaystyle \\frac{32}{49}$"
      ],
      "text/plain": [
       "32\n",
       "──\n",
       "49"
      ]
     },
     "execution_count": 25,
     "metadata": {},
     "output_type": "execute_result"
    }
   ],
   "source": [
    "sum = 0\n",
    "for i in X:\n",
    "    sum += i\n",
    "sum"
   ]
  },
  {
   "cell_type": "markdown",
   "metadata": {},
   "source": [
    "# Номер 3"
   ]
  },
  {
   "cell_type": "code",
   "execution_count": 26,
   "metadata": {},
   "outputs": [
    {
     "name": "stdout",
     "output_type": "stream",
     "text": [
      "14\n"
     ]
    }
   ],
   "source": [
    "A = Matrix([[4, 0, 2, 0],\n",
    "            [6, 5, 9, 8],\n",
    "            [5, 7, 4, 3],\n",
    "            [7, 1, 0, 3]])\n",
    "for t in range(-100, 100):\n",
    "    B = Matrix([[9, 2, 5, 1],\n",
    "                [2, 4, 6, 4],\n",
    "                [1, 3, t, 1],\n",
    "                [6, 3, 3, 3]])\n",
    "    C = A*B\n",
    "    if C.rank() == 3:\n",
    "        print(t)\n",
    "        break"
   ]
  },
  {
   "cell_type": "markdown",
   "metadata": {},
   "source": [
    "# Номер 7"
   ]
  },
  {
   "cell_type": "code",
   "execution_count": 37,
   "metadata": {},
   "outputs": [
    {
     "data": {
      "text/latex": [
       "$\\displaystyle 16 x^{2} - 116 x + 576$"
      ],
      "text/plain": [
       "    2              \n",
       "16⋅x  - 116⋅x + 576"
      ]
     },
     "execution_count": 37,
     "metadata": {},
     "output_type": "execute_result"
    }
   ],
   "source": [
    "x = symbols('x')\n",
    "M = Matrix([[7, 5, 5, x],\n",
    "            [2, 2, 6, 9],\n",
    "            [3, x, 8, 0],\n",
    "            [3, 1, 1, 0]])\n",
    "\n",
    "\n",
    "det(M)"
   ]
  },
  {
   "cell_type": "markdown",
   "metadata": {},
   "source": [
    "Ответ: 1) 16 2) -116"
   ]
  },
  {
   "cell_type": "markdown",
   "metadata": {},
   "source": [
    "# Номер 4"
   ]
  },
  {
   "cell_type": "code",
   "execution_count": 88,
   "metadata": {},
   "outputs": [
    {
     "ename": "MemoryError",
     "evalue": "",
     "output_type": "error",
     "traceback": [
      "\u001b[1;31m---------------------------------------------------------------------------\u001b[0m",
      "\u001b[1;31mMemoryError\u001b[0m                               Traceback (most recent call last)",
      "Cell \u001b[1;32mIn[88], line 14\u001b[0m\n\u001b[0;32m     12\u001b[0m l \u001b[38;5;241m=\u001b[39m []\n\u001b[0;32m     13\u001b[0m \u001b[38;5;28;01mfor\u001b[39;00m line \u001b[38;5;129;01min\u001b[39;00m A:\n\u001b[1;32m---> 14\u001b[0m     \u001b[43ml\u001b[49m\u001b[43m \u001b[49m\u001b[38;5;241;43m+\u001b[39;49m\u001b[38;5;241;43m=\u001b[39;49m\u001b[43m \u001b[49m\u001b[43mline\u001b[49m\n\u001b[0;32m     16\u001b[0m \u001b[38;5;28mprint\u001b[39m(\u001b[38;5;124m'\u001b[39m\u001b[38;5;124mStart calc matrix\u001b[39m\u001b[38;5;124m'\u001b[39m)\n\u001b[0;32m     18\u001b[0m Matrix(\u001b[38;5;241m80000\u001b[39m,\u001b[38;5;241m80000\u001b[39m,l)\u001b[38;5;241m.\u001b[39mtrace()\n",
      "\u001b[1;31mMemoryError\u001b[0m: "
     ]
    }
   ],
   "source": [
    "A = [[0]*80000]*80000\n",
    "nel = 0\n",
    "start = 0.99\n",
    "step = 0.02/79999\n",
    "\n",
    "for nline in range(80000):\n",
    "    A[nline][nel]=start\n",
    "    nel += 1\n",
    "    start += step\n",
    "A[0][1]=0.57\n",
    "A[1][0]=0.03\n",
    "l = []\n",
    "for line in A:\n",
    "    l += line\n",
    "\n",
    "print('Start calc matrix')\n",
    "\n",
    "Matrix(80000,80000,l).trace()"
   ]
  },
  {
   "cell_type": "code",
   "execution_count": null,
   "metadata": {},
   "outputs": [],
   "source": []
  }
 ],
 "metadata": {
  "kernelspec": {
   "display_name": "Python 3",
   "language": "python",
   "name": "python3"
  },
  "language_info": {
   "codemirror_mode": {
    "name": "ipython",
    "version": 3
   },
   "file_extension": ".py",
   "mimetype": "text/x-python",
   "name": "python",
   "nbconvert_exporter": "python",
   "pygments_lexer": "ipython3",
   "version": "3.12.0"
  }
 },
 "nbformat": 4,
 "nbformat_minor": 2
}
