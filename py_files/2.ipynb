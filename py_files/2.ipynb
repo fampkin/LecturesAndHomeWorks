{
 "cells": [
  {
   "cell_type": "code",
   "execution_count": 41,
   "metadata": {},
   "outputs": [
    {
     "name": "stdout",
     "output_type": "stream",
     "text": [
      "id\tName\tAge\tGender\tDate\n",
      "1\tJohn\t28.8\tM\t11-11-2024\n",
      "2\tEmily\t23.9\tF\t12-11-2024\n",
      "3\tMike\t35.8\tM\t12-11-2024\n",
      "4\tLisa\t31.5\tF\t12-11-2024\n"
     ]
    }
   ],
   "source": [
    "from csv_module import load_table, save_table\n",
    "from pickle_module import load_table as ld_tb, save_table as sv_tb\n",
    "from ops import Table\n",
    "from datetime import datetime\n",
    "\n",
    "\n",
    "data = load_table(\"test.csv\")\n",
    "table_1 = Table(data[\"headers\"], data[\"rows\"])\n",
    "table_1.print_table()"
   ]
  },
  {
   "cell_type": "code",
   "execution_count": 42,
   "metadata": {},
   "outputs": [],
   "source": [
    "table_1.set_column_types({\"id\": int, \"Name\": str, \"Age\": float, \"Gender\": str, \"Date\": datetime}, by_number=False)"
   ]
  },
  {
   "cell_type": "code",
   "execution_count": 43,
   "metadata": {},
   "outputs": [
    {
     "data": {
      "text/plain": [
       "{0: int, 1: str, 2: float, 3: str, 4: datetime.datetime}"
      ]
     },
     "execution_count": 43,
     "metadata": {},
     "output_type": "execute_result"
    }
   ],
   "source": [
    "table_1.get_column_types(by_number=False)"
   ]
  },
  {
   "cell_type": "code",
   "execution_count": 44,
   "metadata": {},
   "outputs": [
    {
     "data": {
      "text/plain": [
       "['id', 'Name', 'Age', 'Gender', 'Date']"
      ]
     },
     "execution_count": 44,
     "metadata": {},
     "output_type": "execute_result"
    }
   ],
   "source": [
    "table_1.headers"
   ]
  },
  {
   "cell_type": "code",
   "execution_count": null,
   "metadata": {},
   "outputs": [],
   "source": []
  },
  {
   "cell_type": "code",
   "execution_count": null,
   "metadata": {},
   "outputs": [],
   "source": []
  },
  {
   "cell_type": "code",
   "execution_count": null,
   "metadata": {},
   "outputs": [],
   "source": []
  }
 ],
 "metadata": {
  "kernelspec": {
   "display_name": "Python 3",
   "language": "python",
   "name": "python3"
  },
  "language_info": {
   "codemirror_mode": {
    "name": "ipython",
    "version": 3
   },
   "file_extension": ".py",
   "mimetype": "text/x-python",
   "name": "python",
   "nbconvert_exporter": "python",
   "pygments_lexer": "ipython3",
   "version": "3.10.12"
  }
 },
 "nbformat": 4,
 "nbformat_minor": 2
}
