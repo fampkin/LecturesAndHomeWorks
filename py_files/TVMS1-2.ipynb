{
 "cells": [
  {
   "cell_type": "markdown",
   "metadata": {},
   "source": [
    "<big>ПМ24-5 Белов Фёдор </big>"
   ]
  },
  {
   "cell_type": "code",
   "execution_count": null,
   "metadata": {},
   "outputs": [],
   "source": [
    "import numpy as np\n",
    "def rrstr(x,n): # округление до n знаков после запятой\n",
    "    fmt = '{:.'+str(n)+'f}'\n",
    "    return fmt.format(x).replace('.',',')"
   ]
  },
  {
   "cell_type": "markdown",
   "metadata": {},
   "source": [
    "1. События $A$, $B$ и $C$ имеют вероятности: $\\text{P}(A)=0,3$, $\\text{P}(B)=0,4$, $\\text{P}(C)=0,1$. \n",
    "Эти события попарно независимы, но все три одновременно наступить не могут.\n",
    "Пусть $X$ – индикатор $A$, $Y$ – индикатор $B$, $Z$ – индикатор $C$, а $V=3X+6Y+7Z$.\n",
    "Найдите:\n",
    "1) математическое ожидание $\\text{E}(V)$;\n",
    "2) дисперсию $\\text{V}\\!\\text{ar}(V)$.<br/>"
   ]
  },
  {
   "cell_type": "code",
   "execution_count": 1,
   "metadata": {},
   "outputs": [
    {
     "name": "stdout",
     "output_type": "stream",
     "text": [
      "1) Математическое ожидание E(V) = 4.00\n",
      "2) Дисперсия Var(V) = 14.94\n"
     ]
    }
   ],
   "source": [
    "P_A = 0.3\n",
    "P_B = 0.4\n",
    "P_C = 0.1\n",
    "\n",
    "E_V = 3*P_A + 6*P_B + 7*P_C\n",
    "print(f\"1) Математическое ожидание E(V) = {E_V:.2f}\")\n",
    "\n",
    "Var_X = P_A * (1 - P_A)\n",
    "Var_Y = P_B * (1 - P_B)\n",
    "Var_Z = P_C * (1 - P_C)\n",
    "\n",
    "Var_V = 9*Var_X + 36*Var_Y + 49*Var_Z\n",
    "print(f\"2) Дисперсия Var(V) = {Var_V:.2f}\")"
   ]
  },
  {
   "cell_type": "markdown",
   "metadata": {},
   "source": [
    "2. Внутри квадрата площади 100 расположены треугольник и круг.\n",
    "Площади этих фигур даны: треугольник – 43, круг – 54. Также известно, что\n",
    "площадь пересечения треугольника и круга равна 14. В квадрате случайным независимым образом\n",
    "выбираются точки $\\omega_1,...,\\omega_{5}$. Определим случайные величины:\n",
    "$X_i$ – индикатор попадания $\\omega_i$ в треугольник, $Y_i$ – индикатор попадания $\\omega_i$ в круг,\n",
    "$Z_i=X_i+Y_i$, $i=1,...,5$. Определим также сумму $U=Z_1+...+Z_{5}$ и произведение $V=Z_1 ... Z_{5}$.\n",
    "Найдите:\n",
    "1) математическое ожидание $\\text{E}(U)$;\n",
    "2) дисперсию $\\text{V}\\!\\text{ar}(U)$;\n",
    "3) математическое ожидание $\\text{E}(V)$;\n",
    "4) дисперсию $\\text{V}\\!\\text{ar}(V)$.<br/>"
   ]
  },
  {
   "cell_type": "code",
   "execution_count": 5,
   "metadata": {},
   "outputs": [
    {
     "name": "stdout",
     "output_type": "stream",
     "text": [
      "1) E(U) = 4.8500\n",
      "2) Var(U) = 1.5455\n",
      "3) E(V) = 0.8587\n",
      "4) Var(V) = 2.3143\n"
     ]
    }
   ],
   "source": [
    "from scipy.stats import rv_discrete\n",
    "\n",
    "square_area = 100\n",
    "triangle_area = 43\n",
    "circle_area = 54\n",
    "intersection_area = 14\n",
    "\n",
    "p_Z0 = (square_area - triangle_area - circle_area + intersection_area) / square_area\n",
    "p_Z1 = (triangle_area + circle_area - 2 * intersection_area) / square_area\n",
    "p_Z2 = intersection_area / square_area\n",
    "\n",
    "values = [0, 1, 2]\n",
    "probabilities = [p_Z0, p_Z1, p_Z2]\n",
    "Z_dist = rv_discrete(values=(values, probabilities))\n",
    "\n",
    "E_Z = Z_dist.expect()\n",
    "E_U = 5 * E_Z\n",
    "\n",
    "\n",
    "Var_Z = Z_dist.var()\n",
    "Var_U = 5 * Var_Z\n",
    "\n",
    "E_V = E_Z ** 5\n",
    "\n",
    "E_Z2 = (0**2)*p_Z0 + (1**2)*p_Z1 + (2**2)*p_Z2\n",
    "E_V2 = E_Z2 ** 5\n",
    "Var_V = E_V2 - E_V**2\n",
    "\n",
    "print(f\"1) E(U) = {E_U:.4f}\")\n",
    "print(f\"2) Var(U) = {Var_U:.4f}\")\n",
    "print(f\"3) E(V) = {E_V:.4f}\")\n",
    "print(f\"4) Var(V) = {Var_V:.4f}\")"
   ]
  },
  {
   "cell_type": "markdown",
   "metadata": {},
   "source": [
    "3. Доход по типовому контракту (в млн. рублей) описывается дискретной случайной величиной $X$\n",
    "c распределением\n",
    "$$\\begin{array}{|c|c|c|c|c|} \n",
    "\\hline\n",
    "X & 7 & 8 & 9 & 11 & 15 \\\\ \n",
    "\\hline\n",
    "P & 0,1 & ? & 0,2 & 0,3 & 0,1 \\\\  \n",
    "\\hline\n",
    "\\end{array}.$$\n",
    "Фирма заключила $6$ типовых контрактов.\n",
    "Найдите: 1) мат. ожидание и 2) дисперсию среднего арифметического дохода по этим $6$ контрактам, считая\n",
    "доходы независимыми между собой.<br/>"
   ]
  },
  {
   "cell_type": "code",
   "execution_count": 6,
   "metadata": {},
   "outputs": [
    {
     "name": "stdout",
     "output_type": "stream",
     "text": [
      "1) E(Y) = 9.7000\n",
      "2) Var(Y) = 0.8350\n"
     ]
    }
   ],
   "source": [
    "import numpy as np\n",
    "from scipy.stats import rv_discrete\n",
    "\n",
    "values = [7, 8, 9, 11, 15]\n",
    "probabilities = [0.1, 0.3, 0.2, 0.3, 0.1]\n",
    "\n",
    "X = rv_discrete(values=(values, probabilities))\n",
    "\n",
    "E_X = X.expect()\n",
    "\n",
    "E_Y = E_X  \n",
    "Var_X = X.var()\n",
    "\n",
    "Var_Y = Var_X / 6 \n",
    "\n",
    "print(f\"1) E(Y) = {E_Y:.4f}\")\n",
    "print(f\"2) Var(Y) = {Var_Y:.4f}\")"
   ]
  },
  {
   "cell_type": "markdown",
   "metadata": {},
   "source": [
    "4. Случайные величины $X_1,...,X_{14}$ могут принимать только три значения: 0, 1 и 3.\n",
    "Известны вероятности 0 и 1: $\\text{P}(X_i = 0)=0,3$; $\\text{P}(X_i = 1)=0,2$, где $i=1,...,14$.\n",
    "Кроме того, известно, что $\\text{P}(X_i + X_j = 2)=0,06$; $\\text{P}(X_i + X_j = 4)=0,17$ и \n",
    "$\\text{P}(X_i + X_j = 6)=0,28$ для $1 \\le i < j \\le 14$. Пусть $S=X_1+...+X_{14}$.\n",
    "Найдите:\n",
    "1) ковариацию $\\text{Cov}(X_i,X_j)$, для $i \\ne j$;\n",
    "2) дисперсию $\\text{V}\\!\\text{ar}(S)$.<br/>"
   ]
  },
  {
   "cell_type": "code",
   "execution_count": 12,
   "metadata": {},
   "outputs": [
    {
     "data": {
      "text/plain": [
       "(np.float64(0.20000000000000107), np.float64(61.740000000000194))"
      ]
     },
     "execution_count": 12,
     "metadata": {},
     "output_type": "execute_result"
    }
   ],
   "source": [
    "from scipy.stats import rv_discrete\n",
    "\n",
    "vals = [0, 1, 3]\n",
    "probs = [0.3, 0.2, 0.5]\n",
    "\n",
    "X = rv_discrete(name='X', values=(vals, probs))\n",
    "E_X = X.expect()\n",
    "Var_X = X.var()\n",
    "\n",
    "E_Xi_Xj = (1 * 1) * 0.06 + (1 * 3) * 0.17 + (3 * 3) * 0.28 \n",
    "Cov_Xi_Xj = E_Xi_Xj - E_X**2\n",
    "\n",
    "n = 14\n",
    "Var_S = n * Var_X + n * (n - 1) * Cov_Xi_Xj\n",
    "Cov_Xi_Xj, Var_S"
   ]
  },
  {
   "cell_type": "markdown",
   "metadata": {},
   "source": [
    "5. Селекционер отобрал для проращивания семена из двух партий: 110 – из первой партии и 120 – из второй.\n",
    "Известно, что семена из первой партии прорастают с вероятностью 0,92, а семена из второй партии – с вероятностью 0,98.\n",
    "Пусть $S$ – суммарное количество проросших семян в обеих партиях. Предполагая независимость процессов прорастания, найдите:\n",
    "1) стандартное отклонение $S$; 2) асимметрию $S$.\n",
    "Указание: используйте присущее третьему центральному моменту свойство аддитивности\n",
    "(основное свойство <a href=ʺ../A_Data/PLib/Semi-invariants.aspxʺ>семиинвариантов</a>).<br/>"
   ]
  },
  {
   "cell_type": "code",
   "execution_count": 13,
   "metadata": {},
   "outputs": [
    {
     "name": "stdout",
     "output_type": "stream",
     "text": [
      "1) Стандартное отклонение S = 3.2323\n",
      "2) Асимметрия S = -0.2682\n"
     ]
    }
   ],
   "source": [
    "import numpy as np\n",
    "\n",
    "n1 = 110\n",
    "p1 = 0.92\n",
    "\n",
    "n2 = 120\n",
    "p2 = 0.98\n",
    "\n",
    "Var_1 = n1 * p1 * (1 - p1)\n",
    "Var_2 = n2 * p2 * (1 - p2)\n",
    "Var_S = Var_1 + Var_2\n",
    "\n",
    "std_S = np.sqrt(Var_S)\n",
    "\n",
    "mu3_1 = n1 * p1 * (1 - p1) * (1 - 2*p1)\n",
    "mu3_2 = n2 * p2 * (1 - p2) * (1 - 2*p2)\n",
    "mu3_S = mu3_1 + mu3_2\n",
    "\n",
    "skewness = mu3_S / (std_S**3)\n",
    "\n",
    "print(f\"1) Стандартное отклонение S = {std_S:.4f}\")\n",
    "print(f\"2) Асимметрия S = {skewness:.4f}\")"
   ]
  },
  {
   "cell_type": "markdown",
   "metadata": {},
   "source": [
    "6. Инвестор сформировал портфель из акций компаний А и В, затратив на приобретение акций А\n",
    "в $7$  раз больше средств чем на покупку акций В. Ожидаемая доходность за период владения\n",
    "акциями А и В составляет $2$% и $3$%, при этом стандартное отклонение доходности равно $3$% и $6$%, \n",
    "соответственно. 1) Найдите (в %)  стандартное отклонение доходности портфеля инвестора, если известно, что \n",
    "коэффициент корреляции доходностей акций А и В равен $0,3$. <br/>"
   ]
  },
  {
   "cell_type": "code",
   "execution_count": 14,
   "metadata": {},
   "outputs": [
    {
     "name": "stdout",
     "output_type": "stream",
     "text": [
      "Стандартное отклонение портфеля = 2.94%\n"
     ]
    }
   ],
   "source": [
    "import numpy as np\n",
    "\n",
    "w_A = 7/8  \n",
    "w_B = 1/8  \n",
    "\n",
    "sigma_A = 0.03\n",
    "sigma_B = 0.06\n",
    "\n",
    "rho = 0.3\n",
    "\n",
    "var_p = (w_A**2 * sigma_A**2 + \n",
    "         w_B**2 * sigma_B**2 + \n",
    "         2*w_A*w_B*rho*sigma_A*sigma_B)\n",
    "sigma_p = np.sqrt(var_p)\n",
    "\n",
    "sigma_p_percent = round(sigma_p * 100, 2)\n",
    "\n",
    "print(f\"Стандартное отклонение портфеля = {sigma_p_percent}%\")"
   ]
  }
 ],
 "metadata": {
  "kernelspec": {
   "display_name": "venv",
   "language": "python",
   "name": "python3"
  },
  "language_info": {
   "codemirror_mode": {
    "name": "ipython",
    "version": 3
   },
   "file_extension": ".py",
   "mimetype": "text/x-python",
   "name": "python",
   "nbconvert_exporter": "python",
   "pygments_lexer": "ipython3",
   "version": "3.13.1"
  }
 },
 "nbformat": 4,
 "nbformat_minor": 4
}
